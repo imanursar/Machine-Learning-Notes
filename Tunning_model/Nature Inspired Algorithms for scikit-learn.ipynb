{
 "cells": [
  {
   "cell_type": "code",
   "execution_count": 1,
   "metadata": {},
   "outputs": [],
   "source": [
    "from sklearn.ensemble import RandomForestClassifier\n",
    "clf = RandomForestClassifier(random_state=42)"
   ]
  },
  {
   "cell_type": "code",
   "execution_count": 2,
   "metadata": {},
   "outputs": [],
   "source": [
    "param_grid = {\n",
    "   'n_estimators': range(10, 80, 20),\n",
    "   'max_depth': [2, 4, 6, 8, 10, 20],\n",
    "   'min_samples_split': range(2, 8, 2),\n",
    "   'max_features': [\"auto\", \"sqrt\", \"log2\"]\n",
    "}"
   ]
  },
  {
   "cell_type": "code",
   "execution_count": 3,
   "metadata": {},
   "outputs": [
    {
     "name": "stdout",
     "output_type": "stream",
     "text": [
      "train size - 800\n",
      "test size - 200\n"
     ]
    }
   ],
   "source": [
    "from sklearn.model_selection import train_test_split\n",
    "from sklearn.datasets import make_classification\n",
    "\n",
    "X, y = make_classification(n_samples=1000, n_features=10, class_sep=0.8, n_classes=2)\n",
    "X_train, X_test, y_train, y_test = train_test_split(X, y, test_size=0.2, random_state=42)\n",
    "\n",
    "print(f'train size - {len(X_train)}\\ntest size - {len(X_test)}')"
   ]
  },
  {
   "cell_type": "code",
   "execution_count": 4,
   "metadata": {},
   "outputs": [
    {
     "name": "stdout",
     "output_type": "stream",
     "text": [
      "Fitting 5 folds for some of the 216 candidates, which might total in 1080 fits\n",
      "Run 1/5 finished\n",
      "Run 2/5 finished\n",
      "Run 3/5 finished\n",
      "Run 4/5 finished\n",
      "Run 5/5 finished\n",
      "Optimization finished, 153 candidates were fitted (totalling 765 fits)\n"
     ]
    },
    {
     "name": "stderr",
     "output_type": "stream",
     "text": [
      "C:\\Users\\imanursar\\AppData\\Roaming\\Python\\Python37\\site-packages\\sklearn\\base.py:197: FutureWarning: From version 0.24, get_params will raise an AttributeError if a parameter cannot be retrieved as an instance attribute. Previously it would return None.\n",
      "  FutureWarning)\n"
     ]
    },
    {
     "data": {
      "text/plain": [
       "NatureInspiredSearchCV(algorithm=None, cv=5, error_score=nan,\n",
       "                       estimator=RandomForestClassifier(bootstrap=True,\n",
       "                                                        ccp_alpha=0.0,\n",
       "                                                        class_weight=None,\n",
       "                                                        criterion='gini',\n",
       "                                                        max_depth=None,\n",
       "                                                        max_features='auto',\n",
       "                                                        max_leaf_nodes=None,\n",
       "                                                        max_samples=None,\n",
       "                                                        min_impurity_decrease=0.0,\n",
       "                                                        min_impurity_split=None,\n",
       "                                                        min_samples_leaf=1,\n",
       "                                                        min_samples_split=2,\n",
       "                                                        min_weight_fraction_leaf=0.0,\n",
       "                                                        n_estimators=100,\n",
       "                                                        n_jobs=None,\n",
       "                                                        oob_score=False,\n",
       "                                                        random_state=42,\n",
       "                                                        verbose=0,\n",
       "                                                        warm_start=False),\n",
       "                       iid='deprecated', max_n_gen=None,\n",
       "                       max_stagnating_gen=None, n_jobs=None, param_grid=None,\n",
       "                       population_size=None, pre_dispatch='2*n_jobs',\n",
       "                       random_state=None, refit=True, return_train_score=True,\n",
       "                       runs=None, scoring='f1_macro', verbose=0)"
      ]
     },
     "execution_count": 4,
     "metadata": {},
     "output_type": "execute_result"
    }
   ],
   "source": [
    "from sklearn_nature_inspired_algorithms.model_selection import NatureInspiredSearchCV\n",
    "\n",
    "nia_search = NatureInspiredSearchCV(\n",
    "    clf,\n",
    "    param_grid,\n",
    "    cv=5,\n",
    "    verbose=1,\n",
    "    algorithm='ba',\n",
    "    population_size=25,\n",
    "    max_n_gen=100,\n",
    "    max_stagnating_gen=10,    \n",
    "    runs=5,\n",
    "    scoring='f1_macro',\n",
    "    random_state=42,\n",
    ")\n",
    "\n",
    "nia_search.fit(X_train, y_train)"
   ]
  },
  {
   "cell_type": "code",
   "execution_count": 5,
   "metadata": {},
   "outputs": [
    {
     "name": "stdout",
     "output_type": "stream",
     "text": [
      "              precision    recall  f1-score   support\n",
      "\n",
      "           0     0.8609    0.9167    0.8879       108\n",
      "           1     0.8941    0.8261    0.8588        92\n",
      "\n",
      "    accuracy                         0.8750       200\n",
      "   macro avg     0.8775    0.8714    0.8733       200\n",
      "weighted avg     0.8762    0.8750    0.8745       200\n",
      "\n"
     ]
    }
   ],
   "source": [
    "from sklearn.metrics import classification_report\n",
    "\n",
    "clf = RandomForestClassifier(**nia_search.best_params_, random_state=42)\n",
    "clf.fit(X_train, y_train)\n",
    "y_pred = clf.predict(X_test)\n",
    "\n",
    "print(classification_report(y_test, y_pred, digits=4))"
   ]
  },
  {
   "cell_type": "code",
   "execution_count": 9,
   "metadata": {},
   "outputs": [
    {
     "name": "stdout",
     "output_type": "stream",
     "text": [
      "The autoreload extension is already loaded. To reload it, use:\n",
      "  %reload_ext autoreload\n"
     ]
    }
   ],
   "source": [
    "%load_ext autoreload\n",
    "%autoreload 2"
   ]
  },
  {
   "cell_type": "code",
   "execution_count": 6,
   "metadata": {},
   "outputs": [
    {
     "name": "stderr",
     "output_type": "stream",
     "text": [
      "C:\\Users\\imanursar\\AppData\\Roaming\\Python\\Python37\\site-packages\\sklearn\\utils\\deprecation.py:144: FutureWarning: The sklearn.metrics.classification module is  deprecated in version 0.22 and will be removed in version 0.24. The corresponding classes / functions should instead be imported from sklearn.metrics. Anything that cannot be imported from sklearn.metrics is now part of the private API.\n",
      "  warnings.warn(message, FutureWarning)\n",
      "C:\\Users\\imanursar\\AppData\\Roaming\\Python\\Python37\\site-packages\\dask\\dataframe\\utils.py:14: FutureWarning: pandas.util.testing is deprecated. Use the functions in the public API at pandas.testing instead.\n",
      "  import pandas.util.testing as tm\n"
     ]
    }
   ],
   "source": [
    "#import xcode\n",
    "import sys\n",
    "sys.path.append('E:/gitlab/project_on_python/my_own_modul/visualization_and_description')\n",
    "from ursar import visual, describe, model, fe , clustering, scoring\n",
    "\n",
    "import numpy as np"
   ]
  },
  {
   "cell_type": "code",
   "execution_count": 12,
   "metadata": {},
   "outputs": [],
   "source": [
    "%reload_ext autoreload"
   ]
  },
  {
   "cell_type": "code",
   "execution_count": 13,
   "metadata": {},
   "outputs": [
    {
     "name": "stdout",
     "output_type": "stream",
     "text": [
      "comfusion matrix = \n",
      "[[99  9]\n",
      " [16 76]]\n",
      "\n",
      "accuracy_score =  0.875\n",
      "balanced_accuracy_score =  0.8714\n",
      "\n",
      "precision score =  0.8941\n",
      "average precision score =  0.8186\n",
      "recall score =  0.8261\n",
      "\n",
      "F1 score =  0.8588\n",
      "AUC of Precision-Recall Curve on Testing =  0.9001\n",
      "AUC of ROC =  0.8714\n",
      "Gini =  0.8002\n",
      "\n",
      "Expected Approval Rate =  0.425\n",
      "Expected Default Rate =  0.1059\n",
      "\n",
      "classification_report\n",
      "              precision    recall  f1-score   support\n",
      "\n",
      "           0       0.86      0.92      0.89       108\n",
      "           1       0.89      0.83      0.86        92\n",
      "\n",
      "    accuracy                           0.88       200\n",
      "   macro avg       0.88      0.87      0.87       200\n",
      "weighted avg       0.88      0.88      0.87       200\n",
      "\n",
      "\n"
     ]
    },
    {
     "data": {
      "image/png": "[encoded data removed]",
      "text/plain": [
       "<Figure size 576x396 with 1 Axes>"
      ]
     },
     "metadata": {},
     "output_type": "display_data"
    },
    {
     "data": {
      "image/png": "[encoded data removed]",
      "text/plain": [
       "<Figure size 576x396 with 1 Axes>"
      ]
     },
     "metadata": {},
     "output_type": "display_data"
    },
    {
     "name": "stdout",
     "output_type": "stream",
     "text": [
      "\n",
      "time span=  10\n"
     ]
    }
   ],
   "source": [
    "scoring.print_score(y_test,np.round(y_pred,4), y_pred, 10,20)"
   ]
  },
  {
   "cell_type": "code",
   "execution_count": null,
   "metadata": {},
   "outputs": [],
   "source": [
    "from sklearn_nature_inspired_algorithms.helpers import score_by_generation_lineplot, score_by_generation_violinplot\n",
    "\n",
    "# line plot will plot all of the runs, you can specify the metric to be plotted ('min', 'max', 'median', 'mean')\n",
    "score_by_generation_lineplot(nia_search, metric='max')\n",
    "\n",
    "# in violin plot you need to specify the run to be plotted\n",
    "score_by_generation_violinplot(nia_search, run=0)"
   ]
  },
  {
   "cell_type": "code",
   "execution_count": null,
   "metadata": {},
   "outputs": [],
   "source": []
  },
  {
   "cell_type": "code",
   "execution_count": null,
   "metadata": {},
   "outputs": [],
   "source": []
  },
  {
   "cell_type": "code",
   "execution_count": null,
   "metadata": {},
   "outputs": [],
   "source": []
  },
  {
   "cell_type": "code",
   "execution_count": null,
   "metadata": {},
   "outputs": [],
   "source": []
  }
 ],
 "metadata": {
  "kernelspec": {
   "display_name": "Python 3",
   "language": "python",
   "name": "python3"
  },
  "language_info": {
   "codemirror_mode": {
    "name": "ipython",
    "version": 3
   },
   "file_extension": ".py",
   "mimetype": "text/x-python",
   "name": "python",
   "nbconvert_exporter": "python",
   "pygments_lexer": "ipython3",
   "version": "3.7.7"
  }
 },
 "nbformat": 4,
 "nbformat_minor": 4
}
