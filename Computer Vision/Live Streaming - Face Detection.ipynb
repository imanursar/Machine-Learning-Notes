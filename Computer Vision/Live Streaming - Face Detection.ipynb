{
 "cells": [
  {
   "cell_type": "markdown",
   "id": "501db669",
   "metadata": {},
   "source": [
    "# Library"
   ]
  },
  {
   "cell_type": "code",
   "execution_count": null,
   "id": "d8bb1636",
   "metadata": {},
   "outputs": [],
   "source": [
    "%load_ext autoreload\n",
    "%autoreload 2\n",
    "import sys\n",
    "sys.path.append(f'E:\\gitlab\\custom-script\\script')\n",
    "from ursar_image_processing import image_processing\n",
    "%reload_ext autoreload"
   ]
  },
  {
   "cell_type": "markdown",
   "id": "7260683d",
   "metadata": {},
   "source": [
    "# video editing streaming"
   ]
  },
  {
   "cell_type": "code",
   "execution_count": null,
   "id": "ccbefd23",
   "metadata": {},
   "outputs": [],
   "source": [
    "image_processing.video_face_streaming(model='hog',sampling_face=1,blur=True)"
   ]
  },
  {
   "cell_type": "code",
   "execution_count": null,
   "id": "f1388bf3",
   "metadata": {},
   "outputs": [],
   "source": []
  }
 ],
 "metadata": {
  "kernelspec": {
   "display_name": "Python 3",
   "language": "python",
   "name": "python3"
  },
  "language_info": {
   "codemirror_mode": {
    "name": "ipython",
    "version": 3
   },
   "file_extension": ".py",
   "mimetype": "text/x-python",
   "name": "python",
   "nbconvert_exporter": "python",
   "pygments_lexer": "ipython3",
   "version": "3.9.7"
  },
  "toc": {
   "base_numbering": 1,
   "nav_menu": {},
   "number_sections": true,
   "sideBar": true,
   "skip_h1_title": false,
   "title_cell": "Table of Contents",
   "title_sidebar": "Contents",
   "toc_cell": false,
   "toc_position": {},
   "toc_section_display": true,
   "toc_window_display": false
  }
 },
 "nbformat": 4,
 "nbformat_minor": 5
}
