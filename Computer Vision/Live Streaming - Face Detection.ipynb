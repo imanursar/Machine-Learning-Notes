{
 "cells": [
  {
   "cell_type": "markdown",
   "id": "501db669",
   "metadata": {},
   "source": [
    "# Library"
   ]
  },
  {
   "cell_type": "code",
   "execution_count": 1,
   "id": "d8bb1636",
   "metadata": {},
   "outputs": [],
   "source": [
    "%load_ext autoreload\n",
    "%autoreload 2\n",
    "import sys\n",
    "sys.path.append(f'E:\\gitlab\\custom-script\\script')\n",
    "from ursar_image_processing import image_processing\n",
    "%reload_ext autoreload"
   ]
  },
  {
   "cell_type": "markdown",
   "id": "7260683d",
   "metadata": {},
   "source": [
    "# video editing streaming"
   ]
  },
  {
   "cell_type": "markdown",
   "id": "d20bd99a",
   "metadata": {},
   "source": [
    "## version 1"
   ]
  },
  {
   "cell_type": "code",
   "execution_count": null,
   "id": "ccbefd23",
   "metadata": {},
   "outputs": [],
   "source": [
    "image_processing.video_face_streaming(version=1,resolution=[640,360],fps=60,\n",
    "                                      edges=20,sampling_face=1,model='hog',\n",
    "                                      resize=0.25,blur=True)"
   ]
  },
  {
   "cell_type": "markdown",
   "id": "1806731c",
   "metadata": {},
   "source": [
    "## version 2"
   ]
  },
  {
   "cell_type": "code",
   "execution_count": null,
   "id": "c4474731",
   "metadata": {},
   "outputs": [],
   "source": [
    "image_processing.video_face_streaming(version=2,resolution=[640,360],fps=60,\n",
    "                                      edges=20,sampling_face=1,model='hog',\n",
    "                                      resize=0.25,blur=True)"
   ]
  },
  {
   "cell_type": "markdown",
   "id": "6843eb40",
   "metadata": {},
   "source": [
    "## version 3"
   ]
  },
  {
   "cell_type": "code",
   "execution_count": null,
   "id": "e02359e1",
   "metadata": {},
   "outputs": [],
   "source": [
    "image_processing.video_face_streaming(version=3,resolution=[640,360],fps=60,\n",
    "                                      edges=20,sampling_face=1,model='hog',\n",
    "                                      resize=0.25,blur=True)"
   ]
  },
  {
   "cell_type": "markdown",
   "id": "b8181ef6",
   "metadata": {},
   "source": [
    "## version 5"
   ]
  },
  {
   "cell_type": "code",
   "execution_count": null,
   "id": "5bcbf7cb",
   "metadata": {},
   "outputs": [
    {
     "name": "stdout",
     "output_type": "stream",
     "text": [
      "Using virtual camera: OBS Virtual Camera\n"
     ]
    }
   ],
   "source": [
    "image_processing.video_face_streaming(version=5,resolution=[640,360],fps=60,\n",
    "                                      edges=20,sampling_face=1,model='hog',\n",
    "                                      resize=0.25,blur=True,features=True)"
   ]
  },
  {
   "cell_type": "markdown",
   "id": "096145c8",
   "metadata": {},
   "source": [
    "## version 6"
   ]
  },
  {
   "cell_type": "code",
   "execution_count": null,
   "id": "7a10af03",
   "metadata": {},
   "outputs": [],
   "source": [
    "image_processing.video_face_streaming(version=6,resolution=[640,360],fps=60,\n",
    "                                      edges=10,blur=True)"
   ]
  },
  {
   "cell_type": "code",
   "execution_count": null,
   "id": "0c0f59c5",
   "metadata": {},
   "outputs": [],
   "source": []
  }
 ],
 "metadata": {
  "hide_input": false,
  "kernelspec": {
   "display_name": "Python 3",
   "language": "python",
   "name": "python3"
  },
  "language_info": {
   "codemirror_mode": {
    "name": "ipython",
    "version": 3
   },
   "file_extension": ".py",
   "mimetype": "text/x-python",
   "name": "python",
   "nbconvert_exporter": "python",
   "pygments_lexer": "ipython3",
   "version": "3.8.8"
  },
  "toc": {
   "base_numbering": 1,
   "nav_menu": {},
   "number_sections": true,
   "sideBar": true,
   "skip_h1_title": false,
   "title_cell": "Table of Contents",
   "title_sidebar": "Contents",
   "toc_cell": false,
   "toc_position": {},
   "toc_section_display": true,
   "toc_window_display": false
  }
 },
 "nbformat": 4,
 "nbformat_minor": 5
}
