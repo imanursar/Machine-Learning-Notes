{
 "cells": [
  {
   "cell_type": "markdown",
   "id": "501db669",
   "metadata": {},
   "source": [
    "# Library"
   ]
  },
  {
   "cell_type": "code",
   "execution_count": 1,
   "id": "d8bb1636",
   "metadata": {},
   "outputs": [],
   "source": [
    "%load_ext autoreload\n",
    "%autoreload 2\n",
    "import sys\n",
    "sys.path.append(f'E:\\gitlab\\custom-script\\script')\n",
    "from ursar import describe,fe,image_processing\n",
    "%reload_ext autoreload"
   ]
  },
  {
   "cell_type": "markdown",
   "id": "0af20853",
   "metadata": {},
   "source": [
    "# people detection"
   ]
  },
  {
   "cell_type": "code",
   "execution_count": 6,
   "id": "e4517c2e",
   "metadata": {},
   "outputs": [],
   "source": [
    "image_processing.video_people_detection(r'E:\\gitlab\\machine-learning\\dataset\\images\\walking.avi'\n",
    "                                       ,types='people')"
   ]
  },
  {
   "cell_type": "markdown",
   "id": "54fefe74",
   "metadata": {},
   "source": [
    "# Car detection"
   ]
  },
  {
   "cell_type": "code",
   "execution_count": 7,
   "id": "6d46d045",
   "metadata": {},
   "outputs": [],
   "source": [
    "image_processing.video_people_detection(r'E:\\gitlab\\machine-learning\\dataset\\images\\cars.avi'\n",
    "                                       ,types='car')"
   ]
  },
  {
   "cell_type": "code",
   "execution_count": null,
   "id": "307f9f37",
   "metadata": {},
   "outputs": [],
   "source": []
  }
 ],
 "metadata": {
  "kernelspec": {
   "display_name": "Python 3",
   "language": "python",
   "name": "python3"
  },
  "language_info": {
   "codemirror_mode": {
    "name": "ipython",
    "version": 3
   },
   "file_extension": ".py",
   "mimetype": "text/x-python",
   "name": "python",
   "nbconvert_exporter": "python",
   "pygments_lexer": "ipython3",
   "version": "3.9.7"
  },
  "toc": {
   "base_numbering": 1,
   "nav_menu": {},
   "number_sections": true,
   "sideBar": true,
   "skip_h1_title": false,
   "title_cell": "Table of Contents",
   "title_sidebar": "Contents",
   "toc_cell": false,
   "toc_position": {},
   "toc_section_display": true,
   "toc_window_display": false
  }
 },
 "nbformat": 4,
 "nbformat_minor": 5
}
