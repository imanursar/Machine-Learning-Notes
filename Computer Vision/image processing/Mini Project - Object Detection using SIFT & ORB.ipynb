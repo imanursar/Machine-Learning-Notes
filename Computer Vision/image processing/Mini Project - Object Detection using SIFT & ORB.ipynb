{
 "cells": [
  {
   "cell_type": "markdown",
   "id": "d583e09a",
   "metadata": {},
   "source": [
    "# Library"
   ]
  },
  {
   "cell_type": "code",
   "execution_count": 1,
   "id": "b6928696",
   "metadata": {},
   "outputs": [],
   "source": [
    "%load_ext autoreload\n",
    "%autoreload 2\n",
    "import sys\n",
    "sys.path.append(f'E:\\gitlab\\custom-script\\script')\n",
    "from ursar import describe,fe,image_processing\n",
    "%reload_ext autoreload"
   ]
  },
  {
   "cell_type": "markdown",
   "id": "aa7f519b",
   "metadata": {},
   "source": [
    "## Mini Project - Object Detection using SIFT"
   ]
  },
  {
   "cell_type": "code",
   "execution_count": null,
   "id": "d00bc37e",
   "metadata": {},
   "outputs": [],
   "source": [
    "image_processing.video_detection( \n",
    "                                 r'E:\\gitlab\\machine-learning\\dataset\\images\\box_in_scene.png',\n",
    "                                 types=\"sift\",threshold=10)"
   ]
  },
  {
   "cell_type": "markdown",
   "id": "cc77e842",
   "metadata": {},
   "source": [
    "#### Flannbased matching is quite fast, but not the most accurate. Other matching methods include:\n",
    "\n",
    "- BruteForce\n",
    "- BruteForce-SL2 (not in the documentation, BUT this is the one that skeeps the squared root !)\n",
    "- BruteForce-L1\n",
    "- BruteForce-Hamming\n",
    "- BruteForce-Hamming(2)\n"
   ]
  },
  {
   "cell_type": "markdown",
   "id": "8f855a3c",
   "metadata": {},
   "source": [
    "## Object Detection using ORB"
   ]
  },
  {
   "cell_type": "code",
   "execution_count": 2,
   "id": "c99e3358",
   "metadata": {},
   "outputs": [],
   "source": [
    "image_processing.video_detection( \n",
    "                                 r'E:\\gitlab\\machine-learning\\dataset\\images\\box_in_scene.png',\n",
    "                                 types=\"orb\",threshold=200)"
   ]
  },
  {
   "cell_type": "code",
   "execution_count": null,
   "id": "af006b0f",
   "metadata": {},
   "outputs": [],
   "source": []
  }
 ],
 "metadata": {
  "kernelspec": {
   "display_name": "Python 3",
   "language": "python",
   "name": "python3"
  },
  "language_info": {
   "codemirror_mode": {
    "name": "ipython",
    "version": 3
   },
   "file_extension": ".py",
   "mimetype": "text/x-python",
   "name": "python",
   "nbconvert_exporter": "python",
   "pygments_lexer": "ipython3",
   "version": "3.9.7"
  },
  "toc": {
   "base_numbering": 1,
   "nav_menu": {},
   "number_sections": true,
   "sideBar": true,
   "skip_h1_title": false,
   "title_cell": "Table of Contents",
   "title_sidebar": "Contents",
   "toc_cell": false,
   "toc_position": {},
   "toc_section_display": true,
   "toc_window_display": false
  }
 },
 "nbformat": 4,
 "nbformat_minor": 5
}
