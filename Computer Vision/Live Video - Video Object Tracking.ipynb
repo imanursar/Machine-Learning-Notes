{
 "cells": [
  {
   "cell_type": "markdown",
   "id": "8ea165d6",
   "metadata": {},
   "source": [
    "# Library\n"
   ]
  },
  {
   "cell_type": "code",
   "execution_count": 1,
   "id": "e4db55c9",
   "metadata": {},
   "outputs": [],
   "source": [
    "import numpy as np\n",
    "import matplotlib.pyplot as plt"
   ]
  },
  {
   "cell_type": "code",
   "execution_count": 2,
   "id": "068e6beb",
   "metadata": {},
   "outputs": [],
   "source": [
    "%load_ext autoreload\n",
    "%autoreload 2\n",
    "import sys\n",
    "sys.path.append(f'E:\\gitlab\\custom-script\\script')\n",
    "from ursar_image_processing import image_processing\n",
    "%reload_ext autoreload"
   ]
  },
  {
   "cell_type": "markdown",
   "id": "e99527ac",
   "metadata": {},
   "source": [
    "# video object tracking flow"
   ]
  },
  {
   "cell_type": "code",
   "execution_count": 10,
   "id": "ca4391ea",
   "metadata": {},
   "outputs": [],
   "source": [
    "lower = [130,50,50]\n",
    "upper = [145,255,255]"
   ]
  },
  {
   "cell_type": "code",
   "execution_count": 11,
   "id": "8fe461e3",
   "metadata": {},
   "outputs": [],
   "source": [
    "image_processing.video_object_tracking(lower,upper,limit_size=50)"
   ]
  },
  {
   "cell_type": "code",
   "execution_count": null,
   "id": "ec5c9ce9",
   "metadata": {},
   "outputs": [],
   "source": []
  }
 ],
 "metadata": {
  "kernelspec": {
   "display_name": "Python 3",
   "language": "python",
   "name": "python3"
  },
  "language_info": {
   "codemirror_mode": {
    "name": "ipython",
    "version": 3
   },
   "file_extension": ".py",
   "mimetype": "text/x-python",
   "name": "python",
   "nbconvert_exporter": "python",
   "pygments_lexer": "ipython3",
   "version": "3.9.7"
  },
  "toc": {
   "base_numbering": 1,
   "nav_menu": {},
   "number_sections": true,
   "sideBar": true,
   "skip_h1_title": false,
   "title_cell": "Table of Contents",
   "title_sidebar": "Contents",
   "toc_cell": false,
   "toc_position": {},
   "toc_section_display": true,
   "toc_window_display": false
  }
 },
 "nbformat": 4,
 "nbformat_minor": 5
}
