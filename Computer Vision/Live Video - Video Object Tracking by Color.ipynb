{
 "cells": [
  {
   "cell_type": "markdown",
   "id": "8ea165d6",
   "metadata": {},
   "source": [
    "# Library\n"
   ]
  },
  {
   "cell_type": "code",
   "execution_count": 1,
   "id": "e4db55c9",
   "metadata": {},
   "outputs": [],
   "source": [
    "import numpy as np\n",
    "import matplotlib.pyplot as plt"
   ]
  },
  {
   "cell_type": "code",
   "execution_count": 2,
   "id": "068e6beb",
   "metadata": {},
   "outputs": [],
   "source": [
    "%load_ext autoreload\n",
    "%autoreload 2\n",
    "import sys\n",
    "sys.path.append(f'E:\\gitlab\\custom-script\\script')\n",
    "from ursar import describe,model,image_processing,scoring\n",
    "%reload_ext autoreload"
   ]
  },
  {
   "cell_type": "markdown",
   "id": "90075cd6",
   "metadata": {},
   "source": [
    "# video object tracking by color"
   ]
  },
  {
   "cell_type": "markdown",
   "id": "58e73af8",
   "metadata": {},
   "source": [
    "## params"
   ]
  },
  {
   "cell_type": "code",
   "execution_count": 3,
   "id": "96967ff3",
   "metadata": {},
   "outputs": [],
   "source": [
    "lower_color = [125,100,100]\n",
    "upper_color = [175,255,255]\n",
    "position=[0.5,0.5]\n",
    "size=[160,160]"
   ]
  },
  {
   "cell_type": "markdown",
   "id": "e1b06320",
   "metadata": {},
   "source": [
    "## Meanshift Object Tracking"
   ]
  },
  {
   "cell_type": "code",
   "execution_count": 5,
   "id": "f8bf7e91",
   "metadata": {},
   "outputs": [],
   "source": [
    "image_processing.video_object_tracking(types=\"mean\",position=position,size=size,\n",
    "                                       lower=lower_color,upper=upper_color)"
   ]
  },
  {
   "cell_type": "markdown",
   "id": "483d7ca1",
   "metadata": {},
   "source": [
    "## Camshift Object Tracking"
   ]
  },
  {
   "cell_type": "code",
   "execution_count": 4,
   "id": "fcc5bc88",
   "metadata": {},
   "outputs": [],
   "source": [
    "image_processing.video_object_tracking(types=\"cam\",position=position,size=size,\n",
    "                                       lower=lower_color,upper=upper_color)"
   ]
  },
  {
   "cell_type": "code",
   "execution_count": null,
   "id": "81b6ab1e",
   "metadata": {},
   "outputs": [],
   "source": []
  }
 ],
 "metadata": {
  "kernelspec": {
   "display_name": "Python 3",
   "language": "python",
   "name": "python3"
  },
  "language_info": {
   "codemirror_mode": {
    "name": "ipython",
    "version": 3
   },
   "file_extension": ".py",
   "mimetype": "text/x-python",
   "name": "python",
   "nbconvert_exporter": "python",
   "pygments_lexer": "ipython3",
   "version": "3.9.7"
  },
  "toc": {
   "base_numbering": 1,
   "nav_menu": {},
   "number_sections": true,
   "sideBar": true,
   "skip_h1_title": false,
   "title_cell": "Table of Contents",
   "title_sidebar": "Contents",
   "toc_cell": false,
   "toc_position": {},
   "toc_section_display": true,
   "toc_window_display": false
  }
 },
 "nbformat": 4,
 "nbformat_minor": 5
}
