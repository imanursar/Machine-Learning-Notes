{
 "cells": [
  {
   "cell_type": "markdown",
   "id": "501db669",
   "metadata": {},
   "source": [
    "# Library"
   ]
  },
  {
   "cell_type": "code",
   "execution_count": 1,
   "id": "d8bb1636",
   "metadata": {},
   "outputs": [],
   "source": [
    "%load_ext autoreload\n",
    "%autoreload 2\n",
    "import sys\n",
    "sys.path.append(f'E:\\gitlab\\custom-script\\script')\n",
    "from ursar_image_processing import image_processing, setting\n",
    "%reload_ext autoreload"
   ]
  },
  {
   "cell_type": "markdown",
   "id": "78bc5a73",
   "metadata": {},
   "source": [
    "# testing pytorch and cuda"
   ]
  },
  {
   "cell_type": "code",
   "execution_count": 2,
   "id": "7914cc56",
   "metadata": {},
   "outputs": [
    {
     "name": "stdout",
     "output_type": "stream",
     "text": [
      "Using device: cuda\n",
      "\n",
      "total device:\t  1\n",
      "current device:\t  0\n",
      "device name:\t  NVIDIA GeForce GTX 1050\n",
      "Memory Usage:\n",
      "Allocated: 0.0 GB\n",
      "Cached:    0.0 GB\n"
     ]
    }
   ],
   "source": [
    "setting.torch_checking()"
   ]
  },
  {
   "cell_type": "markdown",
   "id": "0af20853",
   "metadata": {},
   "source": [
    "# deep learning single shot detection (SSD)"
   ]
  },
  {
   "cell_type": "code",
   "execution_count": 4,
   "id": "10418b4f",
   "metadata": {},
   "outputs": [
    {
     "name": "stderr",
     "output_type": "stream",
     "text": [
      "IMAGEIO FFMPEG_WRITER WARNING: input image is not divisible by macro_block_size=16, resizing from (1920, 1080) to (1920, 1088) to ensure video compatibility with most codecs and players. To prevent resizing, make your input image divisible by the macro_block_size or set the macro_block_size to 1 (risking incompatibility).\n"
     ]
    }
   ],
   "source": [
    "image_processing.video_dl_object_detection(path = r'E:\\gitlab\\machine-learning\\dataset\\images_template\\dl_object_detection'\n",
    "                                          ,torch_load=r'E:\\gitlab\\machine-learning\\dataset\\images_template\\dl_object_detection\\ssd300_mAP_77.43_v2.pth'\n",
    "                                          ,video_file=r'E:\\gitlab\\machine-learning\\dataset\\images\\funny_dog.mp4'\n",
    "                                          ,output_file='output.mp4')"
   ]
  },
  {
   "cell_type": "markdown",
   "id": "e5ad598b",
   "metadata": {},
   "source": [
    "# output live"
   ]
  },
  {
   "cell_type": "code",
   "execution_count": 3,
   "id": "b2691a09",
   "metadata": {},
   "outputs": [],
   "source": [
    "image_processing.video_dl_object_detection(path = r'E:\\gitlab\\machine-learning\\dataset\\images_template\\dl_object_detection'\n",
    "                                          ,torch_load=r'E:\\gitlab\\machine-learning\\dataset\\images_template\\dl_object_detection\\ssd300_mAP_77.43_v2.pth'\n",
    "                                          ,video_file=r'E:\\gitlab\\machine-learning\\dataset\\images\\funny_dog.mp4'\n",
    "                                          ,output_file=None)"
   ]
  },
  {
   "cell_type": "code",
   "execution_count": null,
   "id": "ded5c4f6",
   "metadata": {},
   "outputs": [],
   "source": []
  }
 ],
 "metadata": {
  "kernelspec": {
   "display_name": "Python 3",
   "language": "python",
   "name": "python3"
  },
  "language_info": {
   "codemirror_mode": {
    "name": "ipython",
    "version": 3
   },
   "file_extension": ".py",
   "mimetype": "text/x-python",
   "name": "python",
   "nbconvert_exporter": "python",
   "pygments_lexer": "ipython3",
   "version": "3.9.7"
  },
  "toc": {
   "base_numbering": 1,
   "nav_menu": {},
   "number_sections": true,
   "sideBar": true,
   "skip_h1_title": false,
   "title_cell": "Table of Contents",
   "title_sidebar": "Contents",
   "toc_cell": false,
   "toc_position": {},
   "toc_section_display": true,
   "toc_window_display": false
  }
 },
 "nbformat": 4,
 "nbformat_minor": 5
}
