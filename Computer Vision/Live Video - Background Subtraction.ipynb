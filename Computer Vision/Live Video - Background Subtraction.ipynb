{
 "cells": [
  {
   "cell_type": "markdown",
   "id": "8ea165d6",
   "metadata": {},
   "source": [
    "# Library\n"
   ]
  },
  {
   "cell_type": "code",
   "execution_count": 1,
   "id": "e4db55c9",
   "metadata": {},
   "outputs": [],
   "source": [
    "import numpy as np\n",
    "import matplotlib.pyplot as plt"
   ]
  },
  {
   "cell_type": "code",
   "execution_count": 2,
   "id": "068e6beb",
   "metadata": {},
   "outputs": [],
   "source": [
    "%load_ext autoreload\n",
    "%autoreload 2\n",
    "import sys\n",
    "sys.path.append(f'E:\\gitlab\\custom-script\\script')\n",
    "from ursar import describe,model,image_processing,scoring\n",
    "%reload_ext autoreload"
   ]
  },
  {
   "cell_type": "markdown",
   "id": "ac823ced",
   "metadata": {},
   "source": [
    "# Background Subtraction"
   ]
  },
  {
   "cell_type": "markdown",
   "id": "a0de1e4d",
   "metadata": {},
   "source": [
    "## from local video"
   ]
  },
  {
   "cell_type": "code",
   "execution_count": null,
   "id": "285f1fa6",
   "metadata": {},
   "outputs": [],
   "source": [
    "image_processing.video_background_sub(video_source=r'E:\\gitlab\\machine-learning\\dataset\\images\\walking.avi',\n",
    "                               types = 'video',version=1)"
   ]
  },
  {
   "cell_type": "code",
   "execution_count": null,
   "id": "fd3cc61c",
   "metadata": {},
   "outputs": [],
   "source": [
    "image_processing.video_background_sub(video_source=r'E:\\gitlab\\machine-learning\\dataset\\images\\walking.avi',\n",
    "                               types = 'video',version=2)"
   ]
  },
  {
   "cell_type": "markdown",
   "id": "65550e80",
   "metadata": {},
   "source": [
    "# Background Subtraction"
   ]
  },
  {
   "cell_type": "markdown",
   "id": "9154842b",
   "metadata": {},
   "source": [
    "## from cam"
   ]
  },
  {
   "cell_type": "code",
   "execution_count": 3,
   "id": "bd9498b3",
   "metadata": {},
   "outputs": [],
   "source": [
    "image_processing.video_background_sub(video_source=r'E:\\gitlab\\machine-learning\\dataset\\images\\walking.avi',\n",
    "                               types = 'cam',version=1)"
   ]
  },
  {
   "cell_type": "code",
   "execution_count": 4,
   "id": "ae29ca99",
   "metadata": {},
   "outputs": [],
   "source": [
    "image_processing.video_background_sub(video_source=r'E:\\gitlab\\machine-learning\\dataset\\images\\walking.avi',\n",
    "                               types = 'cam',version=2)"
   ]
  },
  {
   "cell_type": "markdown",
   "id": "c7e0f8df",
   "metadata": {},
   "source": [
    "# frontground"
   ]
  },
  {
   "cell_type": "markdown",
   "id": "5f36f50a",
   "metadata": {},
   "source": [
    "create weighting image to get unmoving object"
   ]
  },
  {
   "cell_type": "code",
   "execution_count": 3,
   "id": "563dfd7b",
   "metadata": {},
   "outputs": [],
   "source": [
    "image_processing.video_background_sub(video_source=r'E:\\gitlab\\machine-learning\\dataset\\images\\walking.avi',\n",
    "                               types = 'cam_fg',version=2,weight=0.01)"
   ]
  },
  {
   "cell_type": "markdown",
   "id": "ff34a44e",
   "metadata": {},
   "source": [
    "# Background Subtraction KNN"
   ]
  },
  {
   "cell_type": "code",
   "execution_count": 3,
   "id": "a0517351",
   "metadata": {},
   "outputs": [],
   "source": [
    "image_processing.video_background_sub(video_source=r'E:\\gitlab\\machine-learning\\dataset\\images\\walking.avi',\n",
    "                               types = 'knn',version=2,weight=0.01)"
   ]
  },
  {
   "cell_type": "code",
   "execution_count": null,
   "id": "b57dd3cd",
   "metadata": {},
   "outputs": [],
   "source": []
  }
 ],
 "metadata": {
  "kernelspec": {
   "display_name": "Python 3",
   "language": "python",
   "name": "python3"
  },
  "language_info": {
   "codemirror_mode": {
    "name": "ipython",
    "version": 3
   },
   "file_extension": ".py",
   "mimetype": "text/x-python",
   "name": "python",
   "nbconvert_exporter": "python",
   "pygments_lexer": "ipython3",
   "version": "3.9.7"
  },
  "toc": {
   "base_numbering": 1,
   "nav_menu": {},
   "number_sections": true,
   "sideBar": true,
   "skip_h1_title": false,
   "title_cell": "Table of Contents",
   "title_sidebar": "Contents",
   "toc_cell": false,
   "toc_position": {},
   "toc_section_display": true,
   "toc_window_display": false
  }
 },
 "nbformat": 4,
 "nbformat_minor": 5
}
