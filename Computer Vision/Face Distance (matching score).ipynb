{
 "cells": [
  {
   "cell_type": "markdown",
   "id": "8ea165d6",
   "metadata": {},
   "source": [
    "# Library\n"
   ]
  },
  {
   "cell_type": "code",
   "execution_count": 1,
   "id": "e4db55c9",
   "metadata": {},
   "outputs": [],
   "source": [
    "import numpy as np\n",
    "import matplotlib.pyplot as plt"
   ]
  },
  {
   "cell_type": "code",
   "execution_count": 2,
   "id": "068e6beb",
   "metadata": {},
   "outputs": [],
   "source": [
    "%load_ext autoreload\n",
    "%autoreload 2\n",
    "import sys\n",
    "sys.path.append(f'E:\\gitlab\\custom-script\\script')\n",
    "from ursar_image_processing import image_processing\n",
    "%reload_ext autoreload"
   ]
  },
  {
   "cell_type": "markdown",
   "id": "1575c9e3",
   "metadata": {},
   "source": [
    "# Face Distance"
   ]
  },
  {
   "cell_type": "markdown",
   "id": "05debd70",
   "metadata": {},
   "source": [
    "i.e.\n",
    "\n",
    "distance = 0.46\n",
    "\n",
    "percentage matching = (1-0.46)*100 = 54%\n",
    "\n",
    "with 0% unmatch\n",
    "\n",
    "and 100% perfect match"
   ]
  },
  {
   "cell_type": "code",
   "execution_count": 5,
   "id": "0b6188ad",
   "metadata": {},
   "outputs": [
    {
     "name": "stdout",
     "output_type": "stream",
     "text": [
      "The calculated face distance is 0.44 against the sample Trump\n",
      "The matching percentage is 55.8 against the sample Trump\n"
     ]
    }
   ],
   "source": [
    "image_processing.face_distance(image_data=r'E:\\gitlab\\machine-learning\\dataset\\images\\trump-modi-unknown.jpg',\n",
    "                               image_match=r'E:\\gitlab\\machine-learning\\dataset\\images\\trump (3).jpg',\n",
    "                               label=['Trump'])"
   ]
  },
  {
   "cell_type": "code",
   "execution_count": null,
   "id": "48a2861e",
   "metadata": {},
   "outputs": [],
   "source": []
  }
 ],
 "metadata": {
  "hide_input": false,
  "kernelspec": {
   "display_name": "Python 3",
   "language": "python",
   "name": "python3"
  },
  "language_info": {
   "codemirror_mode": {
    "name": "ipython",
    "version": 3
   },
   "file_extension": ".py",
   "mimetype": "text/x-python",
   "name": "python",
   "nbconvert_exporter": "python",
   "pygments_lexer": "ipython3",
   "version": "3.9.7"
  },
  "toc": {
   "base_numbering": 1,
   "nav_menu": {},
   "number_sections": true,
   "sideBar": true,
   "skip_h1_title": false,
   "title_cell": "Table of Contents",
   "title_sidebar": "Contents",
   "toc_cell": false,
   "toc_position": {},
   "toc_section_display": true,
   "toc_window_display": false
  }
 },
 "nbformat": 4,
 "nbformat_minor": 5
}
