{
 "cells": [
  {
   "cell_type": "code",
   "execution_count": 2,
   "metadata": {},
   "outputs": [],
   "source": [
    "import numpy as np\n",
    "import math\n",
    "from scipy import stats\n",
    "from matplotlib import pyplot as plt\n",
    "import pandas as pd"
   ]
  },
  {
   "cell_type": "code",
   "execution_count": 17,
   "metadata": {},
   "outputs": [],
   "source": [
    "# Note for jupyter notebook\n",
    "# use this for reload in jupyter notebook\n",
    "%load_ext autoreload\n",
    "%autoreload 2\n",
    "\n",
    "import sys\n",
    "sys.path.append(f'E:\\gitlab\\custom-script\\script')\n",
    "from ursar import describe,fe,statistic"
   ]
  },
  {
   "cell_type": "code",
   "execution_count": 35,
   "metadata": {},
   "outputs": [],
   "source": [
    "%reload_ext autoreload"
   ]
  },
  {
   "cell_type": "code",
   "execution_count": 3,
   "metadata": {},
   "outputs": [],
   "source": [
    "# Probability of digit (d) occurring in nth position\n",
    "def calc_expected_probability(d: int, n: int) -> float:\n",
    "    # generalization of Benford's Law ~ Summation( log[ 1 + (1/(10k+d)] ) where d = digit, k = (10^(n-2), 10^(n-1))\n",
    "    # source: https://en.wikipedia.org/wiki/Benford%27s_law\n",
    "    prob = 0\n",
    "    if (d == 0) and (n == 1):\n",
    "        prob = 0\n",
    "    elif n == 1:\n",
    "        prob = math.log10(1 + (1 / d))\n",
    "    else:\n",
    "        l_bound = 10 ** (n - 2)\n",
    "        u_bound = 10 ** (n - 1)\n",
    "        for k in range(l_bound, u_bound):\n",
    "            prob += math.log10(1 + (1 / (10 * k + d)))\n",
    "    return round(prob, 3)"
   ]
  },
  {
   "cell_type": "code",
   "execution_count": 4,
   "metadata": {},
   "outputs": [],
   "source": [
    "# populate matrix with Benford's Law (10x10 matrix for r= digit, c=location - 1)\n",
    "expected_prob_matrix = np.zeros((10, 2))\n",
    "for d_i in range(expected_prob_matrix.shape[0]):\n",
    "    for n_i in range(expected_prob_matrix.shape[1]):\n",
    "        expected_prob_matrix[d_i, n_i] = calc_expected_probability(d_i, n_i + 1)"
   ]
  },
  {
   "cell_type": "code",
   "execution_count": 44,
   "metadata": {},
   "outputs": [],
   "source": [
    "# Import data and extract digits\n",
    "data = pd.read_csv('transactions_real.csv', header=None)\n",
    "data.columns = ['original']\n",
    "data['cleaned'] = data.original.str.replace(\"-\", \"\")\n",
    "data['cleaned'] = data.cleaned.str.replace(\",\", \"\")\n",
    "data['first_digit'] = data.cleaned.str[0].astype(int)\n",
    "data['second_digit'] = data.cleaned.str.replace(\",\", \"\").str[1]\n",
    "data['second_digit'] = data['second_digit'].apply(lambda x: int(x) if x.isdigit() else 'NaN')"
   ]
  },
  {
   "cell_type": "code",
   "execution_count": 45,
   "metadata": {},
   "outputs": [
    {
     "data": {
      "text/html": [
       "<div>\n",
       "<style scoped>\n",
       "    .dataframe tbody tr th:only-of-type {\n",
       "        vertical-align: middle;\n",
       "    }\n",
       "\n",
       "    .dataframe tbody tr th {\n",
       "        vertical-align: top;\n",
       "    }\n",
       "\n",
       "    .dataframe thead th {\n",
       "        text-align: right;\n",
       "    }\n",
       "</style>\n",
       "<table border=\"1\" class=\"dataframe\">\n",
       "  <thead>\n",
       "    <tr style=\"text-align: right;\">\n",
       "      <th></th>\n",
       "      <th>original</th>\n",
       "      <th>cleaned</th>\n",
       "      <th>first_digit</th>\n",
       "      <th>second_digit</th>\n",
       "    </tr>\n",
       "  </thead>\n",
       "  <tbody>\n",
       "    <tr>\n",
       "      <th>0</th>\n",
       "      <td>36,233.22</td>\n",
       "      <td>36233.22</td>\n",
       "      <td>3</td>\n",
       "      <td>6</td>\n",
       "    </tr>\n",
       "    <tr>\n",
       "      <th>1</th>\n",
       "      <td>66,627.98</td>\n",
       "      <td>66627.98</td>\n",
       "      <td>6</td>\n",
       "      <td>6</td>\n",
       "    </tr>\n",
       "    <tr>\n",
       "      <th>2</th>\n",
       "      <td>10,781.82</td>\n",
       "      <td>10781.82</td>\n",
       "      <td>1</td>\n",
       "      <td>0</td>\n",
       "    </tr>\n",
       "    <tr>\n",
       "      <th>3</th>\n",
       "      <td>13,570.08</td>\n",
       "      <td>13570.08</td>\n",
       "      <td>1</td>\n",
       "      <td>3</td>\n",
       "    </tr>\n",
       "    <tr>\n",
       "      <th>4</th>\n",
       "      <td>6,337.82</td>\n",
       "      <td>6337.82</td>\n",
       "      <td>6</td>\n",
       "      <td>3</td>\n",
       "    </tr>\n",
       "    <tr>\n",
       "      <th>...</th>\n",
       "      <td>...</td>\n",
       "      <td>...</td>\n",
       "      <td>...</td>\n",
       "      <td>...</td>\n",
       "    </tr>\n",
       "    <tr>\n",
       "      <th>2124</th>\n",
       "      <td>14,973.35</td>\n",
       "      <td>14973.35</td>\n",
       "      <td>1</td>\n",
       "      <td>4</td>\n",
       "    </tr>\n",
       "    <tr>\n",
       "      <th>2125</th>\n",
       "      <td>8,978.05</td>\n",
       "      <td>8978.05</td>\n",
       "      <td>8</td>\n",
       "      <td>9</td>\n",
       "    </tr>\n",
       "    <tr>\n",
       "      <th>2126</th>\n",
       "      <td>2,080.14</td>\n",
       "      <td>2080.14</td>\n",
       "      <td>2</td>\n",
       "      <td>0</td>\n",
       "    </tr>\n",
       "    <tr>\n",
       "      <th>2127</th>\n",
       "      <td>6,552.00</td>\n",
       "      <td>6552.00</td>\n",
       "      <td>6</td>\n",
       "      <td>5</td>\n",
       "    </tr>\n",
       "    <tr>\n",
       "      <th>2128</th>\n",
       "      <td>303.00</td>\n",
       "      <td>303.00</td>\n",
       "      <td>3</td>\n",
       "      <td>0</td>\n",
       "    </tr>\n",
       "  </tbody>\n",
       "</table>\n",
       "<p>2129 rows × 4 columns</p>\n",
       "</div>"
      ],
      "text/plain": [
       "       original   cleaned  first_digit second_digit\n",
       "0     36,233.22  36233.22            3            6\n",
       "1     66,627.98  66627.98            6            6\n",
       "2     10,781.82  10781.82            1            0\n",
       "3     13,570.08  13570.08            1            3\n",
       "4      6,337.82   6337.82            6            3\n",
       "...         ...       ...          ...          ...\n",
       "2124  14,973.35  14973.35            1            4\n",
       "2125   8,978.05   8978.05            8            9\n",
       "2126   2,080.14   2080.14            2            0\n",
       "2127   6,552.00   6552.00            6            5\n",
       "2128     303.00    303.00            3            0\n",
       "\n",
       "[2129 rows x 4 columns]"
      ]
     },
     "execution_count": 45,
     "metadata": {},
     "output_type": "execute_result"
    }
   ],
   "source": [
    "data"
   ]
  },
  {
   "cell_type": "code",
   "execution_count": 7,
   "metadata": {},
   "outputs": [],
   "source": [
    "# Compute observed probability matrix\n",
    "observed_prob_matrix = np.zeros((10, 2))\n",
    "data_cols_length = [data.first_digit.count(), data[data.second_digit != 'NaN'].second_digit.count()]\n",
    "\n",
    "for d_i in range(observed_prob_matrix.shape[0]):\n",
    "    for n_i in range(observed_prob_matrix.shape[1]):\n",
    "        observed_prob_matrix[d_i, n_i] = data[data.iloc[:, n_i + 2] == d_i].iloc[:, n_i + 2].count() / \\\n",
    "                                         data_cols_length[n_i]\n",
    "\n",
    "# store Confidence Intervals\n",
    "u_bound_matrix = np.zeros((10, 2))\n",
    "l_bound_matrix = np.zeros((10, 2))\n",
    "h_length_matrix = np.zeros((10, 2))"
   ]
  },
  {
   "cell_type": "code",
   "execution_count": 8,
   "metadata": {},
   "outputs": [],
   "source": [
    "# Calculate Confidence Intervals for probability matrix\n",
    "def calc_confidence_interval(alpha):\n",
    "    alpha_stat = stats.norm.ppf(1 - (1 - alpha) / 2)\n",
    "\n",
    "    for d_i in range(expected_prob_matrix.shape[0]):\n",
    "        for n_i in range(expected_prob_matrix.shape[1]):\n",
    "            prop_exp = expected_prob_matrix[d_i, n_i]\n",
    "            half_length = alpha_stat * (prop_exp * (1 - prop_exp) / data_cols_length[n_i]) ** .5 + (\n",
    "                        1 / (2 * data_cols_length[n_i]))\n",
    "            u_bound = prop_exp + half_length\n",
    "            l_bound = prop_exp - half_length\n",
    "            h_length_matrix[d_i, n_i] = half_length\n",
    "            u_bound_matrix[d_i, n_i] = u_bound\n",
    "            l_bound_matrix[d_i, n_i] = max(l_bound, 0)"
   ]
  },
  {
   "cell_type": "code",
   "execution_count": 10,
   "metadata": {},
   "outputs": [],
   "source": [
    "alpha_level = .999\n",
    "calc_confidence_interval(alpha_level)"
   ]
  },
  {
   "cell_type": "code",
   "execution_count": 11,
   "metadata": {},
   "outputs": [],
   "source": [
    "# Locate rules that have been violated, save them to a list\n",
    "list_of_rules_violated = []"
   ]
  },
  {
   "cell_type": "code",
   "execution_count": 12,
   "metadata": {},
   "outputs": [
    {
     "name": "stdout",
     "output_type": "stream",
     "text": [
      "Violation: Digit 2 in 1 place\n",
      "Violation: Digit 5 in 1 place\n",
      "Violation: Digit 5 in 2 place\n",
      "Violation: Digit 8 in 1 place\n"
     ]
    }
   ],
   "source": [
    "for d_i in range(observed_prob_matrix.shape[0]):\n",
    "    for n_i in range(observed_prob_matrix.shape[1]):\n",
    "        obs = observed_prob_matrix[d_i, n_i]\n",
    "        u_bound = u_bound_matrix[d_i, n_i]\n",
    "        l_bound = l_bound_matrix[d_i, n_i]\n",
    "        # if observation outside of bounds (violates Benford's Law) store as tuple (digit, place)\n",
    "        if (obs > u_bound) or (obs < l_bound):\n",
    "            print(\"Violation: Digit {} in {} place\".format(d_i, n_i + 1))\n",
    "            list_of_rules_violated.append((d_i, n_i))"
   ]
  },
  {
   "cell_type": "code",
   "execution_count": 13,
   "metadata": {},
   "outputs": [
    {
     "name": "stdout",
     "output_type": "stream",
     "text": [
      "Total violations: 599\n"
     ]
    }
   ],
   "source": [
    "# locate specific transactions that violated, save their index to a list\n",
    "data_that_violated = []\n",
    "\n",
    "for (d_i, n_i) in list_of_rules_violated:\n",
    "    rule_violated_data = data[data.iloc[:, n_i + 2] == d_i]['original'].index.to_list()\n",
    "    for number in rule_violated_data:\n",
    "        data_that_violated.append(number)\n",
    "\n",
    "violations_df = data.iloc[data_that_violated, [0, 2, 3]].drop_duplicates('original')\n",
    "print(\"Total violations: {}\".format(violations_df['original'].count()))"
   ]
  },
  {
   "cell_type": "code",
   "execution_count": 15,
   "metadata": {},
   "outputs": [
    {
     "data": {
      "image/png": "[encoded data removed]",
      "text/plain": [
       "<Figure size 432x288 with 1 Axes>"
      ]
     },
     "metadata": {
      "needs_background": "light"
     },
     "output_type": "display_data"
    },
    {
     "data": {
      "image/png": "[encoded data removed]",
      "text/plain": [
       "<Figure size 432x288 with 1 Axes>"
      ]
     },
     "metadata": {
      "needs_background": "light"
     },
     "output_type": "display_data"
    }
   ],
   "source": [
    "# plot charts and confidence intervals\n",
    "def plot_charts(digit_location):\n",
    "    # set X-axis\n",
    "    x = np.arange(10)\n",
    "    width = .35\n",
    "    fig, ax = plt.subplots()\n",
    "\n",
    "    # create series\n",
    "    ax.bar(x - width / 2, expected_prob_matrix[:, digit_location], width,\n",
    "           yerr=h_length_matrix[:, digit_location],\n",
    "           capsize=7,\n",
    "           label='Expected',\n",
    "           color='#d3d3d3',\n",
    "           figure=fig)\n",
    "    ax.bar(x + width / 2, observed_prob_matrix[:, digit_location], width,\n",
    "           label='Given Data',\n",
    "           color='blue',\n",
    "           figure=fig)\n",
    "    ax.legend()\n",
    "    ax.set_xticks(x)\n",
    "\n",
    "    if digit_location == 0:\n",
    "        title = 'First Digit Frequencies\\n (Confidence Interval: {}%)'.format(alpha_level * 100)\n",
    "    else:\n",
    "        title = 'Second Digit Frequencies\\n (Confidence Interval: {}%)'.format(alpha_level * 100)\n",
    "    plt.title(title, figure=fig)\n",
    "\n",
    "    plt.xlabel('Digit', figure=fig)\n",
    "    plt.ylabel('Frequency', figure=fig)\n",
    "\n",
    "    return fig\n",
    "\n",
    "plt_0 = plot_charts(0)\n",
    "plt_1 = plot_charts(1)\n",
    "# plt_0.show()\n",
    "# plt_1.show()"
   ]
  },
  {
   "cell_type": "code",
   "execution_count": 81,
   "metadata": {},
   "outputs": [],
   "source": [
    "%reload_ext autoreload"
   ]
  },
  {
   "cell_type": "code",
   "execution_count": 82,
   "metadata": {},
   "outputs": [],
   "source": [
    "# Import data and extract digits\n",
    "data = pd.read_csv('transactions_real.csv', header=None)\n",
    "data.columns = ['original']\n",
    "data['cleaned'] = data.original.str.replace(\"-\", \"\")\n",
    "data['cleaned'] = data.cleaned.str.replace(\",\", \"\")"
   ]
  },
  {
   "cell_type": "code",
   "execution_count": 83,
   "metadata": {},
   "outputs": [
    {
     "name": "stdout",
     "output_type": "stream",
     "text": [
      "Violation: Digit 2 in 1 place\n",
      "Violation: Digit 5 in 1 place\n",
      "Violation: Digit 5 in 2 place\n",
      "Violation: Digit 8 in 1 place\n",
      "Total violations: 594\n"
     ]
    },
    {
     "data": {
      "image/png": "[encoded data removed]",
      "text/plain": [
       "<Figure size 432x288 with 1 Axes>"
      ]
     },
     "metadata": {},
     "output_type": "display_data"
    },
    {
     "data": {
      "image/png": "[encoded data removed]",
      "text/plain": [
       "<Figure size 432x288 with 1 Axes>"
      ]
     },
     "metadata": {},
     "output_type": "display_data"
    }
   ],
   "source": [
    "statistic.benford_law(data,'cleaned',10,2,.999)"
   ]
  },
  {
   "cell_type": "code",
   "execution_count": null,
   "metadata": {},
   "outputs": [],
   "source": []
  },
  {
   "cell_type": "code",
   "execution_count": null,
   "metadata": {},
   "outputs": [],
   "source": []
  },
  {
   "cell_type": "code",
   "execution_count": null,
   "metadata": {},
   "outputs": [],
   "source": []
  }
 ],
 "metadata": {
  "kernelspec": {
   "display_name": "Python 3",
   "language": "python",
   "name": "python3"
  },
  "language_info": {
   "codemirror_mode": {
    "name": "ipython",
    "version": 3
   },
   "file_extension": ".py",
   "mimetype": "text/x-python",
   "name": "python",
   "nbconvert_exporter": "python",
   "pygments_lexer": "ipython3",
   "version": "3.7.7"
  }
 },
 "nbformat": 4,
 "nbformat_minor": 4
}
