{
 "cells": [
  {
   "cell_type": "markdown",
   "metadata": {},
   "source": [
    "# Autoencoder"
   ]
  },
  {
   "cell_type": "markdown",
   "metadata": {},
   "source": [
    "Autoencoders are neural networks that have the ability to discover low- dimensional representations of high-dimensional data and are able to reconstruct the input from the output."
   ]
  },
  {
   "cell_type": "markdown",
   "metadata": {},
   "source": [
    "Autoencoders are made up of two pieces of the neural network, an encoder and\n",
    "a decoder. The encoder reduces the dimensionality of a high dimensional dataset to a low dimensional one whereas a decoder essentially expands the low-dimensional data to high-dimensional data."
   ]
  },
  {
   "cell_type": "markdown",
   "metadata": {},
   "source": [
    "The goal of such a process is to try to reconstruct the original input. If the neural network is good, then there is a good chance of reconstructing the original input from the encoded data. This inherent principle is critical in building an anomaly detection module."
   ]
  },
  {
   "cell_type": "markdown",
   "metadata": {},
   "source": [
    "Note that autoencoders are not that great if you have training samples containing few dimensions/features at each input point. Autoencoders perform well for five or more dimensions. "
   ]
  },
  {
   "cell_type": "markdown",
   "metadata": {},
   "source": [
    "## autoencoder model"
   ]
  },
  {
   "cell_type": "markdown",
   "metadata": {},
   "source": [
    "an autoencoder neural network is actually a pair of two connected sub-networks, an encoder and a decoder. An encoder network takes in an input and converts it into a smaller, dense representation, also known as a latent representation of the input, which the decoder network can then use to convert it back to the original input as much as possible"
   ]
  },
  {
   "cell_type": "markdown",
   "metadata": {},
   "source": [
    "Autoencoders use data compression logic where the compression and decompression functions implemented by the neural networks are lossy and are mostly unsupervised without much intervention"
   ]
  },
  {
   "cell_type": "markdown",
   "metadata": {},
   "source": [
    "The entire network is usually trained as a whole. The loss function is usually either the mean-squared error or cross-entropy between the output and the input, known as the reconstruction loss, which penalizes the network for creating outputs different from the input. "
   ]
  },
  {
   "cell_type": "markdown",
   "metadata": {},
   "source": [
    "Since the encoding (which is simply the output of the hidden layer in\n",
    "the middle) has far less units than the input, the encoder must choose to discard information"
   ]
  },
  {
   "cell_type": "markdown",
   "metadata": {},
   "source": [
    "The encoder learns to preserve as much of the relevant information as\n",
    "possible in the limited encoding and intelligently discards the irrelevant parts. The decoder learns to take the encoding and properly reconstruct it back into the input."
   ]
  },
  {
   "cell_type": "markdown",
   "metadata": {},
   "source": [
    "Why do we even bother learning the presentation of the original input only to\n",
    "reconstruct the output as well as possible? The answer is that when we have input with many features, generating a compressed representation via the hidden layers of the neural network could help in compressing the input of the training sample. \n",
    "\n",
    "So when the neural network goes through all the training data and fine tunes the weights of all the hidden layer nodes, what will happen is that the weights will truly represent the kind of input that we typically see."
   ]
  },
  {
   "cell_type": "markdown",
   "metadata": {},
   "source": [
    "if we try to input some other type of data, such as having data with some noise, the autoencoder network will be able to detect the noise and remove at least some portion of the noise when generating the output"
   ]
  },
  {
   "cell_type": "markdown",
   "metadata": {},
   "source": [
    "The logic behind the denoising autoencoder that if we have trained our encoder\n",
    "on good, normal images and the noise when it comes as part of the input is not really a salient characteristic, it is possible to detect and remove such noise"
   ]
  },
  {
   "cell_type": "markdown",
   "metadata": {},
   "source": [
    "# Library"
   ]
  },
  {
   "cell_type": "code",
   "execution_count": 1,
   "metadata": {},
   "outputs": [],
   "source": [
    "from tensorflow.keras import optimizers\n",
    "from tensorflow.keras import losses\n",
    "from tensorflow.keras.models import Sequential, Model\n",
    "from tensorflow.keras.layers import Dense, Input, Dropout, Embedding, LSTM\n",
    "from tensorflow.keras.optimizers import RMSprop, Adam, Nadam\n",
    "from tensorflow.keras.preprocessing import sequence\n",
    "from tensorflow.keras.callbacks import TensorBoard\n",
    "from tensorflow.keras import regularizers"
   ]
  },
  {
   "cell_type": "code",
   "execution_count": 2,
   "metadata": {},
   "outputs": [],
   "source": [
    "from sklearn.preprocessing import StandardScaler\n",
    "from sklearn.model_selection import train_test_split\n",
    "from sklearn.metrics import confusion_matrix, roc_auc_score\n",
    "from sklearn.preprocessing import MinMaxScaler\n",
    "from sklearn.metrics import classification_report"
   ]
  },
  {
   "cell_type": "code",
   "execution_count": 8,
   "metadata": {},
   "outputs": [],
   "source": [
    "import seaborn as sns\n",
    "import pandas as pd\n",
    "import numpy as np\n",
    "import matplotlib.pyplot as plt\n",
    "import matplotlib.gridspec as gridspec"
   ]
  },
  {
   "cell_type": "code",
   "execution_count": 40,
   "metadata": {},
   "outputs": [
    {
     "name": "stdout",
     "output_type": "stream",
     "text": [
      "The autoreload extension is already loaded. To reload it, use:\n",
      "  %reload_ext autoreload\n"
     ]
    }
   ],
   "source": [
    "%load_ext autoreload\n",
    "%autoreload 2\n",
    "\n",
    "import sys\n",
    "sys.path.append(f'E:\\gitlab\\custom-script\\script')\n",
    "from ursar import describe,scoring,fe,anomaly_detection\n",
    "\n",
    "%reload_ext autoreload"
   ]
  },
  {
   "cell_type": "markdown",
   "metadata": {},
   "source": [
    "# Load data"
   ]
  },
  {
   "cell_type": "code",
   "execution_count": 5,
   "metadata": {},
   "outputs": [
    {
     "name": "stdout",
     "output_type": "stream",
     "text": [
      "284807\n"
     ]
    },
    {
     "data": {
      "text/html": [
       "<div>\n",
       "<style scoped>\n",
       "    .dataframe tbody tr th:only-of-type {\n",
       "        vertical-align: middle;\n",
       "    }\n",
       "\n",
       "    .dataframe tbody tr th {\n",
       "        vertical-align: top;\n",
       "    }\n",
       "\n",
       "    .dataframe thead th {\n",
       "        text-align: right;\n",
       "    }\n",
       "</style>\n",
       "<table border=\"1\" class=\"dataframe\">\n",
       "  <thead>\n",
       "    <tr style=\"text-align: right;\">\n",
       "      <th></th>\n",
       "      <th>Time</th>\n",
       "      <th>V1</th>\n",
       "      <th>V2</th>\n",
       "      <th>V3</th>\n",
       "      <th>V4</th>\n",
       "      <th>V5</th>\n",
       "      <th>V6</th>\n",
       "      <th>V7</th>\n",
       "      <th>V8</th>\n",
       "      <th>V9</th>\n",
       "      <th>...</th>\n",
       "      <th>V21</th>\n",
       "      <th>V22</th>\n",
       "      <th>V23</th>\n",
       "      <th>V24</th>\n",
       "      <th>V25</th>\n",
       "      <th>V26</th>\n",
       "      <th>V27</th>\n",
       "      <th>V28</th>\n",
       "      <th>Amount</th>\n",
       "      <th>Class</th>\n",
       "    </tr>\n",
       "  </thead>\n",
       "  <tbody>\n",
       "    <tr>\n",
       "      <th>0</th>\n",
       "      <td>0.0</td>\n",
       "      <td>-1.359807</td>\n",
       "      <td>-0.072781</td>\n",
       "      <td>2.536347</td>\n",
       "      <td>1.378155</td>\n",
       "      <td>-0.338321</td>\n",
       "      <td>0.462388</td>\n",
       "      <td>0.239599</td>\n",
       "      <td>0.098698</td>\n",
       "      <td>0.363787</td>\n",
       "      <td>...</td>\n",
       "      <td>-0.018307</td>\n",
       "      <td>0.277838</td>\n",
       "      <td>-0.110474</td>\n",
       "      <td>0.066928</td>\n",
       "      <td>0.128539</td>\n",
       "      <td>-0.189115</td>\n",
       "      <td>0.133558</td>\n",
       "      <td>-0.021053</td>\n",
       "      <td>149.62</td>\n",
       "      <td>0</td>\n",
       "    </tr>\n",
       "    <tr>\n",
       "      <th>1</th>\n",
       "      <td>0.0</td>\n",
       "      <td>1.191857</td>\n",
       "      <td>0.266151</td>\n",
       "      <td>0.166480</td>\n",
       "      <td>0.448154</td>\n",
       "      <td>0.060018</td>\n",
       "      <td>-0.082361</td>\n",
       "      <td>-0.078803</td>\n",
       "      <td>0.085102</td>\n",
       "      <td>-0.255425</td>\n",
       "      <td>...</td>\n",
       "      <td>-0.225775</td>\n",
       "      <td>-0.638672</td>\n",
       "      <td>0.101288</td>\n",
       "      <td>-0.339846</td>\n",
       "      <td>0.167170</td>\n",
       "      <td>0.125895</td>\n",
       "      <td>-0.008983</td>\n",
       "      <td>0.014724</td>\n",
       "      <td>2.69</td>\n",
       "      <td>0</td>\n",
       "    </tr>\n",
       "    <tr>\n",
       "      <th>2</th>\n",
       "      <td>1.0</td>\n",
       "      <td>-1.358354</td>\n",
       "      <td>-1.340163</td>\n",
       "      <td>1.773209</td>\n",
       "      <td>0.379780</td>\n",
       "      <td>-0.503198</td>\n",
       "      <td>1.800499</td>\n",
       "      <td>0.791461</td>\n",
       "      <td>0.247676</td>\n",
       "      <td>-1.514654</td>\n",
       "      <td>...</td>\n",
       "      <td>0.247998</td>\n",
       "      <td>0.771679</td>\n",
       "      <td>0.909412</td>\n",
       "      <td>-0.689281</td>\n",
       "      <td>-0.327642</td>\n",
       "      <td>-0.139097</td>\n",
       "      <td>-0.055353</td>\n",
       "      <td>-0.059752</td>\n",
       "      <td>378.66</td>\n",
       "      <td>0</td>\n",
       "    </tr>\n",
       "    <tr>\n",
       "      <th>3</th>\n",
       "      <td>1.0</td>\n",
       "      <td>-0.966272</td>\n",
       "      <td>-0.185226</td>\n",
       "      <td>1.792993</td>\n",
       "      <td>-0.863291</td>\n",
       "      <td>-0.010309</td>\n",
       "      <td>1.247203</td>\n",
       "      <td>0.237609</td>\n",
       "      <td>0.377436</td>\n",
       "      <td>-1.387024</td>\n",
       "      <td>...</td>\n",
       "      <td>-0.108300</td>\n",
       "      <td>0.005274</td>\n",
       "      <td>-0.190321</td>\n",
       "      <td>-1.175575</td>\n",
       "      <td>0.647376</td>\n",
       "      <td>-0.221929</td>\n",
       "      <td>0.062723</td>\n",
       "      <td>0.061458</td>\n",
       "      <td>123.50</td>\n",
       "      <td>0</td>\n",
       "    </tr>\n",
       "    <tr>\n",
       "      <th>4</th>\n",
       "      <td>2.0</td>\n",
       "      <td>-1.158233</td>\n",
       "      <td>0.877737</td>\n",
       "      <td>1.548718</td>\n",
       "      <td>0.403034</td>\n",
       "      <td>-0.407193</td>\n",
       "      <td>0.095921</td>\n",
       "      <td>0.592941</td>\n",
       "      <td>-0.270533</td>\n",
       "      <td>0.817739</td>\n",
       "      <td>...</td>\n",
       "      <td>-0.009431</td>\n",
       "      <td>0.798278</td>\n",
       "      <td>-0.137458</td>\n",
       "      <td>0.141267</td>\n",
       "      <td>-0.206010</td>\n",
       "      <td>0.502292</td>\n",
       "      <td>0.219422</td>\n",
       "      <td>0.215153</td>\n",
       "      <td>69.99</td>\n",
       "      <td>0</td>\n",
       "    </tr>\n",
       "  </tbody>\n",
       "</table>\n",
       "<p>5 rows × 31 columns</p>\n",
       "</div>"
      ],
      "text/plain": [
       "   Time        V1        V2        V3        V4        V5        V6        V7  \\\n",
       "0   0.0 -1.359807 -0.072781  2.536347  1.378155 -0.338321  0.462388  0.239599   \n",
       "1   0.0  1.191857  0.266151  0.166480  0.448154  0.060018 -0.082361 -0.078803   \n",
       "2   1.0 -1.358354 -1.340163  1.773209  0.379780 -0.503198  1.800499  0.791461   \n",
       "3   1.0 -0.966272 -0.185226  1.792993 -0.863291 -0.010309  1.247203  0.237609   \n",
       "4   2.0 -1.158233  0.877737  1.548718  0.403034 -0.407193  0.095921  0.592941   \n",
       "\n",
       "         V8        V9  ...       V21       V22       V23       V24       V25  \\\n",
       "0  0.098698  0.363787  ... -0.018307  0.277838 -0.110474  0.066928  0.128539   \n",
       "1  0.085102 -0.255425  ... -0.225775 -0.638672  0.101288 -0.339846  0.167170   \n",
       "2  0.247676 -1.514654  ...  0.247998  0.771679  0.909412 -0.689281 -0.327642   \n",
       "3  0.377436 -1.387024  ... -0.108300  0.005274 -0.190321 -1.175575  0.647376   \n",
       "4 -0.270533  0.817739  ... -0.009431  0.798278 -0.137458  0.141267 -0.206010   \n",
       "\n",
       "        V26       V27       V28  Amount  Class  \n",
       "0 -0.189115  0.133558 -0.021053  149.62      0  \n",
       "1  0.125895 -0.008983  0.014724    2.69      0  \n",
       "2 -0.139097 -0.055353 -0.059752  378.66      0  \n",
       "3 -0.221929  0.062723  0.061458  123.50      0  \n",
       "4  0.502292  0.219422  0.215153   69.99      0  \n",
       "\n",
       "[5 rows x 31 columns]"
      ]
     },
     "execution_count": 5,
     "metadata": {},
     "output_type": "execute_result"
    }
   ],
   "source": [
    "filePath = f'E:/gitlab/machine-learning/dataset/creditcard.csv'\n",
    "df = pd.read_csv(filepath_or_buffer=filePath, header=0, sep=',')\n",
    "print(df.shape[0])\n",
    "df.head()"
   ]
  },
  {
   "cell_type": "code",
   "execution_count": 6,
   "metadata": {},
   "outputs": [],
   "source": [
    "df['Amount'] = StandardScaler().fit_transform(df['Amount'].values.reshape(-1, 1))\n",
    "df0 = df.query('Class == 0').sample(20000)\n",
    "df1 = df.query('Class == 1').sample(400)\n",
    "df = pd.concat([df0, df1])"
   ]
  },
  {
   "cell_type": "code",
   "execution_count": 29,
   "metadata": {},
   "outputs": [
    {
     "data": {
      "text/plain": [
       "0    20000\n",
       "1      400\n",
       "Name: Class, dtype: int64"
      ]
     },
     "execution_count": 29,
     "metadata": {},
     "output_type": "execute_result"
    }
   ],
   "source": [
    "describe.vc(df,'Class')"
   ]
  },
  {
   "cell_type": "markdown",
   "metadata": {},
   "source": [
    "# split data"
   ]
  },
  {
   "cell_type": "code",
   "execution_count": 21,
   "metadata": {},
   "outputs": [
    {
     "name": "stdout",
     "output_type": "stream",
     "text": [
      "(13056, 29) train samples\n",
      "(3264, 29) validation samples\n",
      "(4080, 29) test samples\n"
     ]
    }
   ],
   "source": [
    "x_train1, x_test, y_train1, y_test = train_test_split(df.drop(labels=['Time', 'Class'], axis = 1), df['Class'], test_size=0.2, random_state=42)\n",
    "x_train, x_val, y_train, y_val = train_test_split(x_train1, y_train1, test_size=0.2, random_state=42)\n",
    "print(x_train.shape, 'train samples')\n",
    "print(x_val.shape, 'validation samples')\n",
    "print(x_test.shape, 'test samples')"
   ]
  },
  {
   "cell_type": "markdown",
   "metadata": {},
   "source": [
    "# model"
   ]
  },
  {
   "cell_type": "code",
   "execution_count": 44,
   "metadata": {},
   "outputs": [
    {
     "name": "stdout",
     "output_type": "stream",
     "text": [
      "Model: \"model_3\"\n",
      "_________________________________________________________________\n",
      "Layer (type)                 Output Shape              Param #   \n",
      "=================================================================\n",
      "input_5 (InputLayer)         [(None, 29)]              0         \n",
      "_________________________________________________________________\n",
      "dense_24 (Dense)             (None, 16)                480       \n",
      "_________________________________________________________________\n",
      "dense_25 (Dense)             (None, 8)                 136       \n",
      "_________________________________________________________________\n",
      "dense_26 (Dense)             (None, 4)                 36        \n",
      "_________________________________________________________________\n",
      "dense_27 (Dense)             (None, 8)                 40        \n",
      "_________________________________________________________________\n",
      "dense_28 (Dense)             (None, 16)                144       \n",
      "_________________________________________________________________\n",
      "dense_29 (Dense)             (None, 29)                493       \n",
      "=================================================================\n",
      "Total params: 1,329\n",
      "Trainable params: 1,329\n",
      "Non-trainable params: 0\n",
      "_________________________________________________________________\n"
     ]
    }
   ],
   "source": [
    "autoencoder = anomaly_detection.model_autoencoder(x_train,16)"
   ]
  },
  {
   "cell_type": "code",
   "execution_count": 45,
   "metadata": {},
   "outputs": [],
   "source": [
    "NAME = \"deepautoencoder\""
   ]
  },
  {
   "cell_type": "code",
   "execution_count": 46,
   "metadata": {},
   "outputs": [
    {
     "name": "stdout",
     "output_type": "stream",
     "text": [
      "Train on 13056 samples, validate on 3264 samples\n",
      "Epoch 1/20\n",
      "13056/13056 [==============================] - 3s 201us/sample - loss: 1.4819 - mae: 0.6792 - accuracy: 0.1839 - val_loss: 1.5391 - val_mae: 0.6721 - val_accuracy: 0.4056\n",
      "Epoch 2/20\n",
      "13056/13056 [==============================] - 2s 164us/sample - loss: 1.4309 - mae: 0.6585 - accuracy: 0.4428 - val_loss: 1.5251 - val_mae: 0.6658 - val_accuracy: 0.4415\n",
      "Epoch 3/20\n",
      "13056/13056 [==============================] - 2s 165us/sample - loss: 1.4235 - mae: 0.6556 - accuracy: 0.4724 - val_loss: 1.5213 - val_mae: 0.6644 - val_accuracy: 0.4657\n",
      "Epoch 4/20\n",
      "13056/13056 [==============================] - 2s 158us/sample - loss: 1.4210 - mae: 0.6547 - accuracy: 0.4850 - val_loss: 1.5199 - val_mae: 0.6639 - val_accuracy: 0.4733\n",
      "Epoch 5/20\n",
      "13056/13056 [==============================] - 2s 190us/sample - loss: 1.4199 - mae: 0.6544 - accuracy: 0.4940 - val_loss: 1.5196 - val_mae: 0.6638 - val_accuracy: 0.4740\n",
      "Epoch 6/20\n",
      "13056/13056 [==============================] - 2s 181us/sample - loss: 1.4186 - mae: 0.6544 - accuracy: 0.5008 - val_loss: 1.5176 - val_mae: 0.6642 - val_accuracy: 0.4994\n",
      "Epoch 7/20\n",
      "13056/13056 [==============================] - 2s 191us/sample - loss: 1.4167 - mae: 0.6543 - accuracy: 0.5221 - val_loss: 1.5163 - val_mae: 0.6636 - val_accuracy: 0.5080\n",
      "Epoch 8/20\n",
      "13056/13056 [==============================] - 2s 186us/sample - loss: 1.4157 - mae: 0.6541 - accuracy: 0.5303 - val_loss: 1.5158 - val_mae: 0.6636 - val_accuracy: 0.5141\n",
      "Epoch 9/20\n",
      "13056/13056 [==============================] - 3s 193us/sample - loss: 1.4141 - mae: 0.6541 - accuracy: 0.5450 - val_loss: 1.5136 - val_mae: 0.6635 - val_accuracy: 0.5337\n",
      "Epoch 10/20\n",
      "13056/13056 [==============================] - 2s 181us/sample - loss: 1.4124 - mae: 0.6538 - accuracy: 0.5564 - val_loss: 1.5126 - val_mae: 0.6633 - val_accuracy: 0.5331\n",
      "Epoch 11/20\n",
      "13056/13056 [==============================] - 3s 192us/sample - loss: 1.4113 - mae: 0.6535 - accuracy: 0.5643 - val_loss: 1.5120 - val_mae: 0.6629 - val_accuracy: 0.5453\n",
      "Epoch 12/20\n",
      "13056/13056 [==============================] - 2s 186us/sample - loss: 1.4106 - mae: 0.6532 - accuracy: 0.5671 - val_loss: 1.5109 - val_mae: 0.6627 - val_accuracy: 0.5460\n",
      "Epoch 13/20\n",
      "13056/13056 [==============================] - 3s 198us/sample - loss: 1.4090 - mae: 0.6530 - accuracy: 0.5725 - val_loss: 1.5095 - val_mae: 0.6624 - val_accuracy: 0.5542\n",
      "Epoch 14/20\n",
      "13056/13056 [==============================] - 2s 185us/sample - loss: 1.4081 - mae: 0.6529 - accuracy: 0.5755 - val_loss: 1.5091 - val_mae: 0.6623 - val_accuracy: 0.5567\n",
      "Epoch 15/20\n",
      "13056/13056 [==============================] - 3s 199us/sample - loss: 1.4076 - mae: 0.6528 - accuracy: 0.5784 - val_loss: 1.5089 - val_mae: 0.6622 - val_accuracy: 0.5502\n",
      "Epoch 16/20\n",
      "13056/13056 [==============================] - 2s 185us/sample - loss: 1.4071 - mae: 0.6526 - accuracy: 0.5781 - val_loss: 1.5087 - val_mae: 0.6620 - val_accuracy: 0.5460\n",
      "Epoch 17/20\n",
      "13056/13056 [==============================] - 3s 200us/sample - loss: 1.4069 - mae: 0.6525 - accuracy: 0.5822 - val_loss: 1.5078 - val_mae: 0.6619 - val_accuracy: 0.5567\n",
      "Epoch 18/20\n",
      "13056/13056 [==============================] - 2s 178us/sample - loss: 1.4067 - mae: 0.6525 - accuracy: 0.5810 - val_loss: 1.5079 - val_mae: 0.6619 - val_accuracy: 0.5607\n",
      "Epoch 19/20\n",
      "13056/13056 [==============================] - 2s 177us/sample - loss: 1.4066 - mae: 0.6524 - accuracy: 0.5817 - val_loss: 1.5077 - val_mae: 0.6618 - val_accuracy: 0.5591\n",
      "Epoch 20/20\n",
      "13056/13056 [==============================] - 2s 169us/sample - loss: 1.4065 - mae: 0.6524 - accuracy: 0.5826 - val_loss: 1.5072 - val_mae: 0.6618 - val_accuracy: 0.5570\n"
     ]
    }
   ],
   "source": [
    "batch_size = 32\n",
    "epochs = 20\n",
    "tensorboard = TensorBoard(log_dir=\"logs/{}\".format(NAME),profile_batch = 100000000)\n",
    "\n",
    "history = autoencoder.fit(x_train, x_train,\n",
    "                    batch_size=batch_size,\n",
    "                    epochs=epochs,\n",
    "                    verbose=1,\n",
    "                    shuffle=True,\n",
    "                    validation_data=(x_val, x_val),\n",
    "                    callbacks=[tensorboard])"
   ]
  },
  {
   "cell_type": "markdown",
   "metadata": {},
   "source": [
    "# evaluate"
   ]
  },
  {
   "cell_type": "code",
   "execution_count": 47,
   "metadata": {},
   "outputs": [
    {
     "name": "stdout",
     "output_type": "stream",
     "text": [
      "4080/4080 [==============================] - 0s 100us/sample - loss: 1.4101 - mae: 0.6599 - accuracy: 0.5647\n",
      "Test loss: 1.4101168066847558\n",
      "Test accuracy: 0.6598637\n"
     ]
    }
   ],
   "source": [
    "score = autoencoder.evaluate(x_test, x_test, verbose=1)\n",
    "print('Test loss:', score[0])\n",
    "print('Test accuracy:', score[1])"
   ]
  },
  {
   "cell_type": "markdown",
   "metadata": {},
   "source": [
    "# calculate error"
   ]
  },
  {
   "cell_type": "code",
   "execution_count": 50,
   "metadata": {},
   "outputs": [],
   "source": [
    "y_label,error = anomaly_detection.calculate_error(autoencoder,x_test,15.00)"
   ]
  },
  {
   "cell_type": "code",
   "execution_count": 51,
   "metadata": {},
   "outputs": [
    {
     "name": "stdout",
     "output_type": "stream",
     "text": [
      "              precision    recall  f1-score   support\n",
      "\n",
      "           0       0.99      0.99      0.99      3987\n",
      "           1       0.63      0.56      0.59        93\n",
      "\n",
      "    accuracy                           0.98      4080\n",
      "   macro avg       0.81      0.78      0.79      4080\n",
      "weighted avg       0.98      0.98      0.98      4080\n",
      "\n"
     ]
    }
   ],
   "source": [
    "print(classification_report(y_test,y_label))"
   ]
  },
  {
   "cell_type": "code",
   "execution_count": 52,
   "metadata": {},
   "outputs": [
    {
     "data": {
      "text/plain": [
       "0.7756822576599757"
      ]
     },
     "execution_count": 52,
     "metadata": {},
     "output_type": "execute_result"
    }
   ],
   "source": [
    "roc_auc_score(y_test, y_label)"
   ]
  },
  {
   "cell_type": "code",
   "execution_count": 53,
   "metadata": {},
   "outputs": [
    {
     "name": "stdout",
     "output_type": "stream",
     "text": [
      "comfusion matrix = \n",
      "[[3956   31]\n",
      " [  41   52]]\n",
      "\n",
      "accuracy_score =  0.9824\n",
      "balanced_accuracy_score =  0.7757\n",
      "\n",
      "precision score =  0.6265\n",
      "average precision score =  0.3604\n",
      "recall score =  0.5591\n",
      "\n",
      "F1 score =  0.5909\n",
      "F2 score =  0.6118\n",
      "F3 score =  0.619\n",
      "F_beta score =  0.619\n",
      "Matthews Correlation Coefficient score =  0.5829\n",
      "\n",
      "AUC of Precision-Recall Curve on Testing =  0.5978\n",
      "Best Threshold for Precision-Recall Curve = 1.000000\n",
      "F-Score = 0.591\n",
      "AUC of ROC =  0.7757\n",
      "\n",
      "Best Threshold for ROC = 1.000000\n",
      "G-Mean = 0.745\n",
      "Best Threshold with Youden’s J statistic = 1.000000\n",
      "\n",
      "Cohens kappa =  0.5819\n",
      "Gini =  0.1957\n",
      "\n",
      "Expected Approval Rate =  0.0203\n",
      "Expected Default Rate =  0.3735\n",
      "\n",
      "classification_report\n",
      "              precision    recall  f1-score   support\n",
      "\n",
      "           0       0.99      0.99      0.99      3987\n",
      "           1       0.63      0.56      0.59        93\n",
      "\n",
      "    accuracy                           0.98      4080\n",
      "   macro avg       0.81      0.78      0.79      4080\n",
      "weighted avg       0.98      0.98      0.98      4080\n",
      "\n",
      "\n"
     ]
    },
    {
     "data": {
      "image/png": "[encoded data removed]",
      "text/plain": [
       "<Figure size 432x288 with 2 Axes>"
      ]
     },
     "metadata": {},
     "output_type": "display_data"
    },
    {
     "data": {
      "image/png": "[encoded data removed]",
      "text/plain": [
       "<Figure size 432x288 with 1 Axes>"
      ]
     },
     "metadata": {},
     "output_type": "display_data"
    },
    {
     "data": {
      "image/png": "[encoded data removed]",
      "text/plain": [
       "<Figure size 432x288 with 1 Axes>"
      ]
     },
     "metadata": {},
     "output_type": "display_data"
    },
    {
     "name": "stdout",
     "output_type": "stream",
     "text": [
      "\n",
      "time span=  1\n"
     ]
    }
   ],
   "source": [
    "scoring.print_score(y_test,y_label,y_label,labels=[\"Normal\", \"Anomaly\"])"
   ]
  },
  {
   "cell_type": "code",
   "execution_count": 55,
   "metadata": {},
   "outputs": [
    {
     "data": {
      "image/png": "[encoded data removed]",
      "text/plain": [
       "<Figure size 1152x576 with 2 Axes>"
      ]
     },
     "metadata": {},
     "output_type": "display_data"
    }
   ],
   "source": [
    "anomaly_detection.draw_anomaly(y_test, error, threshold)"
   ]
  },
  {
   "cell_type": "code",
   "execution_count": null,
   "metadata": {},
   "outputs": [],
   "source": []
  }
 ],
 "metadata": {
  "kernelspec": {
   "display_name": "Python 3",
   "language": "python",
   "name": "python3"
  },
  "language_info": {
   "codemirror_mode": {
    "name": "ipython",
    "version": 3
   },
   "file_extension": ".py",
   "mimetype": "text/x-python",
   "name": "python",
   "nbconvert_exporter": "python",
   "pygments_lexer": "ipython3",
   "version": "3.7.7"
  }
 },
 "nbformat": 4,
 "nbformat_minor": 4
}
