{
 "cells": [
  {
   "cell_type": "markdown",
   "metadata": {},
   "source": [
    "Predictive Maintenance task with the adoption of a Deep Learning architecture to deal with a high-frequency sequence of data which we preprocessed with Spectrograms. This step enables us to adopt a particular neural network structure, note as Convolution Recurrent Neural Network (CRNN), which learns at the same time from the spatial and recurrent structure of our data."
   ]
  },
  {
   "cell_type": "markdown",
   "metadata": {},
   "source": [
    "# Library"
   ]
  },
  {
   "cell_type": "code",
   "execution_count": 2,
   "metadata": {},
   "outputs": [],
   "source": [
    "import pandas as pd\n",
    "import matplotlib.pyplot as plt\n",
    "import numpy as np\n",
    "import itertools\n",
    "import random\n",
    "import os\n",
    "\n",
    "from sklearn.preprocessing import StandardScaler\n",
    "from sklearn.metrics import accuracy_score, confusion_matrix, classification_report\n",
    "from sklearn.model_selection import train_test_split\n",
    "from sklearn.manifold import TSNE\n",
    "\n",
    "import tensorflow as tf\n",
    "from tensorflow.keras.models import *\n",
    "from tensorflow.keras.layers import *\n",
    "from tensorflow.keras.utils import *"
   ]
  },
  {
   "cell_type": "markdown",
   "metadata": {},
   "source": [
    "# THE DATASET"
   ]
  },
  {
   "cell_type": "markdown",
   "metadata": {},
   "source": [
    "We can image to have a hydraulic pipe system which cyclically receives impulse due to e.g. the transition of particular type of liquid in the pipeline. This phenomenon lasts 60 seconds and was measured by different sensors (Sensor Physical quantity Unit Sampling rate, PS1 Pressure bar, PS2 Pressure bar, PS3 Pressure bar, PS4 Pressure bar, PS5 Pressure bar, PS6 Pressure bar, EPS1 Motor power, FS1 Volume flow, FS2 Volume flow, TS1 Temperature, TS2 Temperature, TS3 Temperature, TS4 Temperature, VS1 Vibration, CE Cooling efficiency, CP Cooling power, SE Efficiency factor) with different Hz frequencies."
   ]
  },
  {
   "cell_type": "markdown",
   "metadata": {},
   "source": [
    "Our purpose is to predict the condition of four hydraulic components which compose the pipeline. These target condition values are annotated in the form of integer values (easy to encode) and say us if a particular component is close to fail for every cycle."
   ]
  },
  {
   "cell_type": "code",
   "execution_count": 2,
   "metadata": {},
   "outputs": [
    {
     "name": "stdout",
     "output_type": "stream",
     "text": [
      "(8820, 60)\n"
     ]
    },
    {
     "data": {
      "text/html": [
       "<div>\n",
       "<style scoped>\n",
       "    .dataframe tbody tr th:only-of-type {\n",
       "        vertical-align: middle;\n",
       "    }\n",
       "\n",
       "    .dataframe tbody tr th {\n",
       "        vertical-align: top;\n",
       "    }\n",
       "\n",
       "    .dataframe thead th {\n",
       "        text-align: right;\n",
       "    }\n",
       "</style>\n",
       "<table border=\"1\" class=\"dataframe\">\n",
       "  <thead>\n",
       "    <tr style=\"text-align: right;\">\n",
       "      <th></th>\n",
       "      <th>0</th>\n",
       "      <th>1</th>\n",
       "      <th>2</th>\n",
       "      <th>3</th>\n",
       "      <th>4</th>\n",
       "      <th>5</th>\n",
       "      <th>6</th>\n",
       "      <th>7</th>\n",
       "      <th>8</th>\n",
       "      <th>9</th>\n",
       "      <th>...</th>\n",
       "      <th>50</th>\n",
       "      <th>51</th>\n",
       "      <th>52</th>\n",
       "      <th>53</th>\n",
       "      <th>54</th>\n",
       "      <th>55</th>\n",
       "      <th>56</th>\n",
       "      <th>57</th>\n",
       "      <th>58</th>\n",
       "      <th>59</th>\n",
       "    </tr>\n",
       "  </thead>\n",
       "  <tbody>\n",
       "    <tr>\n",
       "      <th>0</th>\n",
       "      <td>35.570</td>\n",
       "      <td>35.492</td>\n",
       "      <td>35.469</td>\n",
       "      <td>35.422</td>\n",
       "      <td>35.414</td>\n",
       "      <td>35.320</td>\n",
       "      <td>35.227</td>\n",
       "      <td>35.242</td>\n",
       "      <td>35.160</td>\n",
       "      <td>35.176</td>\n",
       "      <td>...</td>\n",
       "      <td>36.008</td>\n",
       "      <td>35.984</td>\n",
       "      <td>35.996</td>\n",
       "      <td>36.039</td>\n",
       "      <td>36.008</td>\n",
       "      <td>36.008</td>\n",
       "      <td>36.094</td>\n",
       "      <td>36.102</td>\n",
       "      <td>36.090</td>\n",
       "      <td>36.152</td>\n",
       "    </tr>\n",
       "    <tr>\n",
       "      <th>1</th>\n",
       "      <td>36.156</td>\n",
       "      <td>36.094</td>\n",
       "      <td>35.992</td>\n",
       "      <td>36.008</td>\n",
       "      <td>35.992</td>\n",
       "      <td>35.902</td>\n",
       "      <td>35.824</td>\n",
       "      <td>35.820</td>\n",
       "      <td>35.727</td>\n",
       "      <td>35.727</td>\n",
       "      <td>...</td>\n",
       "      <td>37.328</td>\n",
       "      <td>37.324</td>\n",
       "      <td>37.340</td>\n",
       "      <td>37.332</td>\n",
       "      <td>37.316</td>\n",
       "      <td>37.410</td>\n",
       "      <td>37.418</td>\n",
       "      <td>37.422</td>\n",
       "      <td>37.488</td>\n",
       "      <td>37.477</td>\n",
       "    </tr>\n",
       "    <tr>\n",
       "      <th>2</th>\n",
       "      <td>37.488</td>\n",
       "      <td>37.391</td>\n",
       "      <td>37.340</td>\n",
       "      <td>37.312</td>\n",
       "      <td>37.223</td>\n",
       "      <td>37.145</td>\n",
       "      <td>37.059</td>\n",
       "      <td>36.973</td>\n",
       "      <td>36.898</td>\n",
       "      <td>36.879</td>\n",
       "      <td>...</td>\n",
       "      <td>38.457</td>\n",
       "      <td>38.461</td>\n",
       "      <td>38.457</td>\n",
       "      <td>38.469</td>\n",
       "      <td>38.469</td>\n",
       "      <td>38.555</td>\n",
       "      <td>38.527</td>\n",
       "      <td>38.543</td>\n",
       "      <td>38.527</td>\n",
       "      <td>38.621</td>\n",
       "    </tr>\n",
       "    <tr>\n",
       "      <th>3</th>\n",
       "      <td>38.633</td>\n",
       "      <td>38.535</td>\n",
       "      <td>38.469</td>\n",
       "      <td>38.379</td>\n",
       "      <td>38.297</td>\n",
       "      <td>38.223</td>\n",
       "      <td>38.125</td>\n",
       "      <td>38.062</td>\n",
       "      <td>37.977</td>\n",
       "      <td>37.969</td>\n",
       "      <td>...</td>\n",
       "      <td>39.441</td>\n",
       "      <td>39.363</td>\n",
       "      <td>39.367</td>\n",
       "      <td>39.457</td>\n",
       "      <td>39.461</td>\n",
       "      <td>39.461</td>\n",
       "      <td>39.473</td>\n",
       "      <td>39.441</td>\n",
       "      <td>39.453</td>\n",
       "      <td>39.461</td>\n",
       "    </tr>\n",
       "    <tr>\n",
       "      <th>4</th>\n",
       "      <td>39.461</td>\n",
       "      <td>39.461</td>\n",
       "      <td>39.375</td>\n",
       "      <td>39.281</td>\n",
       "      <td>39.203</td>\n",
       "      <td>39.113</td>\n",
       "      <td>39.043</td>\n",
       "      <td>38.969</td>\n",
       "      <td>38.875</td>\n",
       "      <td>38.883</td>\n",
       "      <td>...</td>\n",
       "      <td>40.324</td>\n",
       "      <td>40.320</td>\n",
       "      <td>40.312</td>\n",
       "      <td>40.340</td>\n",
       "      <td>40.320</td>\n",
       "      <td>40.387</td>\n",
       "      <td>40.391</td>\n",
       "      <td>40.391</td>\n",
       "      <td>40.387</td>\n",
       "      <td>40.391</td>\n",
       "    </tr>\n",
       "  </tbody>\n",
       "</table>\n",
       "<p>5 rows × 60 columns</p>\n",
       "</div>"
      ],
      "text/plain": [
       "       0       1       2       3       4       5       6       7       8   \\\n",
       "0  35.570  35.492  35.469  35.422  35.414  35.320  35.227  35.242  35.160   \n",
       "1  36.156  36.094  35.992  36.008  35.992  35.902  35.824  35.820  35.727   \n",
       "2  37.488  37.391  37.340  37.312  37.223  37.145  37.059  36.973  36.898   \n",
       "3  38.633  38.535  38.469  38.379  38.297  38.223  38.125  38.062  37.977   \n",
       "4  39.461  39.461  39.375  39.281  39.203  39.113  39.043  38.969  38.875   \n",
       "\n",
       "       9   ...      50      51      52      53      54      55      56  \\\n",
       "0  35.176  ...  36.008  35.984  35.996  36.039  36.008  36.008  36.094   \n",
       "1  35.727  ...  37.328  37.324  37.340  37.332  37.316  37.410  37.418   \n",
       "2  36.879  ...  38.457  38.461  38.457  38.469  38.469  38.555  38.527   \n",
       "3  37.969  ...  39.441  39.363  39.367  39.457  39.461  39.461  39.473   \n",
       "4  38.883  ...  40.324  40.320  40.312  40.340  40.320  40.387  40.391   \n",
       "\n",
       "       57      58      59  \n",
       "0  36.102  36.090  36.152  \n",
       "1  37.422  37.488  37.477  \n",
       "2  38.543  38.527  38.621  \n",
       "3  39.441  39.453  39.461  \n",
       "4  40.391  40.387  40.391  \n",
       "\n",
       "[5 rows x 60 columns]"
      ]
     },
     "execution_count": 2,
     "metadata": {},
     "output_type": "execute_result"
    }
   ],
   "source": [
    "label = pd.read_csv(f'E:\\gitlab\\machine-learning\\dataset\\profile.txt', sep='\\t', header=None)\n",
    "label.columns = ['Cooler','Valve','Pump','Accumulator','Flag']\n",
    "\n",
    "data = [f'E:\\gitlab\\machine-learning\\dataset\\TS1.txt',f'E:\\gitlab\\machine-learning\\dataset\\TS2.txt',f'E:\\gitlab\\machine-learning\\dataset\\TS3.txt',f'E:\\gitlab\\machine-learning\\dataset\\TS4.txt']\n",
    "# data = [f'E:\\gitlab\\machine-learning\\dataset\\TS1.txt']\n",
    "df = pd.DataFrame()\n",
    "\n",
    "for txt in data:\n",
    "    read_df = pd.read_csv(txt, sep='\\t', header=None)\n",
    "    df = df.append(read_df)    \n",
    "\n",
    "print(df.shape)\n",
    "df.head()"
   ]
  },
  {
   "cell_type": "markdown",
   "metadata": {},
   "source": [
    "# RESHAPE DATA AMONG SENSORS"
   ]
  },
  {
   "cell_type": "code",
   "execution_count": 3,
   "metadata": {},
   "outputs": [
    {
     "data": {
      "text/plain": [
       "(2205, 60, 4)"
      ]
     },
     "execution_count": 3,
     "metadata": {},
     "output_type": "execute_result"
    }
   ],
   "source": [
    "df = df.sort_index().values.reshape(-1,len(data),len(df.columns)).transpose(0,2,1)\n",
    "df.shape"
   ]
  },
  {
   "cell_type": "markdown",
   "metadata": {},
   "source": [
    "saperate to become 4 again"
   ]
  },
  {
   "cell_type": "markdown",
   "metadata": {},
   "source": [
    "# PLOT ORIGINAL PRESSURE DATA"
   ]
  },
  {
   "cell_type": "code",
   "execution_count": 4,
   "metadata": {},
   "outputs": [
    {
     "data": {
      "image/png": "[encoded data removed]",
      "text/plain": [
       "<Figure size 576x360 with 1 Axes>"
      ]
     },
     "metadata": {
      "needs_background": "light"
     },
     "output_type": "display_data"
    }
   ],
   "source": [
    "plt.figure(figsize=(8,5))\n",
    "plt.plot(df[2])\n",
    "plt.title('Original Pressure Signals')\n",
    "plt.ylabel('Pressure'); plt.xlabel('Time')\n",
    "np.set_printoptions(False)"
   ]
  },
  {
   "cell_type": "code",
   "execution_count": null,
   "metadata": {},
   "outputs": [],
   "source": []
  },
  {
   "cell_type": "code",
   "execution_count": null,
   "metadata": {},
   "outputs": [],
   "source": []
  },
  {
   "cell_type": "code",
   "execution_count": null,
   "metadata": {},
   "outputs": [],
   "source": []
  },
  {
   "cell_type": "code",
   "execution_count": null,
   "metadata": {},
   "outputs": [],
   "source": []
  },
  {
   "cell_type": "code",
   "execution_count": null,
   "metadata": {},
   "outputs": [],
   "source": []
  },
  {
   "cell_type": "code",
   "execution_count": null,
   "metadata": {},
   "outputs": [],
   "source": []
  }
 ],
 "metadata": {
  "kernelspec": {
   "display_name": "Python 3",
   "language": "python",
   "name": "python3"
  },
  "language_info": {
   "codemirror_mode": {
    "name": "ipython",
    "version": 3
   },
   "file_extension": ".py",
   "mimetype": "text/x-python",
   "name": "python",
   "nbconvert_exporter": "python",
   "pygments_lexer": "ipython3",
   "version": "3.7.7"
  }
 },
 "nbformat": 4,
 "nbformat_minor": 4
}
