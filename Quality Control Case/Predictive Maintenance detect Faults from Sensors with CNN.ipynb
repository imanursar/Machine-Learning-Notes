{
 "cells": [
  {
   "cell_type": "markdown",
   "metadata": {},
   "source": [
    "# Predictive Maintenance: detect Faults from Sensors with CNN"
   ]
  },
  {
   "cell_type": "markdown",
   "metadata": {},
   "source": [
    "# Library"
   ]
  },
  {
   "cell_type": "code",
   "execution_count": 2,
   "metadata": {},
   "outputs": [],
   "source": [
    "import pandas as pd\n",
    "import matplotlib.pyplot as plt\n",
    "import numpy as np\n",
    "import itertools\n",
    "import random\n",
    "import os\n",
    "\n",
    "from sklearn.preprocessing import StandardScaler\n",
    "from sklearn.metrics import accuracy_score, confusion_matrix, classification_report\n",
    "from sklearn.model_selection import train_test_split\n",
    "from sklearn.manifold import TSNE\n",
    "\n",
    "import tensorflow as tf\n",
    "from tensorflow.keras.models import *\n",
    "from tensorflow.keras.layers import *\n",
    "from tensorflow.keras.utils import *"
   ]
  },
  {
   "cell_type": "markdown",
   "metadata": {},
   "source": [
    "# THE DATASET"
   ]
  },
  {
   "cell_type": "markdown",
   "metadata": {},
   "source": [
    "We can image to have a hydraulic pipe system which cyclically receives impulse due to e.g. the transition of particular type of liquid in the pipeline. This phenomenon lasts 60 seconds and was measured by different sensors (Sensor Physical quantity Unit Sampling rate, PS1 Pressure bar, PS2 Pressure bar, PS3 Pressure bar, PS4 Pressure bar, PS5 Pressure bar, PS6 Pressure bar, EPS1 Motor power, FS1 Volume flow, FS2 Volume flow, TS1 Temperature, TS2 Temperature, TS3 Temperature, TS4 Temperature, VS1 Vibration, CE Cooling efficiency, CP Cooling power, SE Efficiency factor) with different Hz frequencies."
   ]
  },
  {
   "cell_type": "markdown",
   "metadata": {},
   "source": [
    "Our purpose is to predict the condition of four hydraulic components which compose the pipeline. These target condition values are annotated in the form of integer values (easy to encode) and say us if a particular component is close to fail for every cycle."
   ]
  },
  {
   "cell_type": "code",
   "execution_count": 3,
   "metadata": {},
   "outputs": [
    {
     "name": "stdout",
     "output_type": "stream",
     "text": [
      "(8820, 60)\n"
     ]
    },
    {
     "data": {
      "text/html": [
       "<div>\n",
       "<style scoped>\n",
       "    .dataframe tbody tr th:only-of-type {\n",
       "        vertical-align: middle;\n",
       "    }\n",
       "\n",
       "    .dataframe tbody tr th {\n",
       "        vertical-align: top;\n",
       "    }\n",
       "\n",
       "    .dataframe thead th {\n",
       "        text-align: right;\n",
       "    }\n",
       "</style>\n",
       "<table border=\"1\" class=\"dataframe\">\n",
       "  <thead>\n",
       "    <tr style=\"text-align: right;\">\n",
       "      <th></th>\n",
       "      <th>0</th>\n",
       "      <th>1</th>\n",
       "      <th>2</th>\n",
       "      <th>3</th>\n",
       "      <th>4</th>\n",
       "      <th>5</th>\n",
       "      <th>6</th>\n",
       "      <th>7</th>\n",
       "      <th>8</th>\n",
       "      <th>9</th>\n",
       "      <th>...</th>\n",
       "      <th>50</th>\n",
       "      <th>51</th>\n",
       "      <th>52</th>\n",
       "      <th>53</th>\n",
       "      <th>54</th>\n",
       "      <th>55</th>\n",
       "      <th>56</th>\n",
       "      <th>57</th>\n",
       "      <th>58</th>\n",
       "      <th>59</th>\n",
       "    </tr>\n",
       "  </thead>\n",
       "  <tbody>\n",
       "    <tr>\n",
       "      <th>0</th>\n",
       "      <td>35.570</td>\n",
       "      <td>35.492</td>\n",
       "      <td>35.469</td>\n",
       "      <td>35.422</td>\n",
       "      <td>35.414</td>\n",
       "      <td>35.320</td>\n",
       "      <td>35.227</td>\n",
       "      <td>35.242</td>\n",
       "      <td>35.160</td>\n",
       "      <td>35.176</td>\n",
       "      <td>...</td>\n",
       "      <td>36.008</td>\n",
       "      <td>35.984</td>\n",
       "      <td>35.996</td>\n",
       "      <td>36.039</td>\n",
       "      <td>36.008</td>\n",
       "      <td>36.008</td>\n",
       "      <td>36.094</td>\n",
       "      <td>36.102</td>\n",
       "      <td>36.090</td>\n",
       "      <td>36.152</td>\n",
       "    </tr>\n",
       "    <tr>\n",
       "      <th>1</th>\n",
       "      <td>36.156</td>\n",
       "      <td>36.094</td>\n",
       "      <td>35.992</td>\n",
       "      <td>36.008</td>\n",
       "      <td>35.992</td>\n",
       "      <td>35.902</td>\n",
       "      <td>35.824</td>\n",
       "      <td>35.820</td>\n",
       "      <td>35.727</td>\n",
       "      <td>35.727</td>\n",
       "      <td>...</td>\n",
       "      <td>37.328</td>\n",
       "      <td>37.324</td>\n",
       "      <td>37.340</td>\n",
       "      <td>37.332</td>\n",
       "      <td>37.316</td>\n",
       "      <td>37.410</td>\n",
       "      <td>37.418</td>\n",
       "      <td>37.422</td>\n",
       "      <td>37.488</td>\n",
       "      <td>37.477</td>\n",
       "    </tr>\n",
       "    <tr>\n",
       "      <th>2</th>\n",
       "      <td>37.488</td>\n",
       "      <td>37.391</td>\n",
       "      <td>37.340</td>\n",
       "      <td>37.312</td>\n",
       "      <td>37.223</td>\n",
       "      <td>37.145</td>\n",
       "      <td>37.059</td>\n",
       "      <td>36.973</td>\n",
       "      <td>36.898</td>\n",
       "      <td>36.879</td>\n",
       "      <td>...</td>\n",
       "      <td>38.457</td>\n",
       "      <td>38.461</td>\n",
       "      <td>38.457</td>\n",
       "      <td>38.469</td>\n",
       "      <td>38.469</td>\n",
       "      <td>38.555</td>\n",
       "      <td>38.527</td>\n",
       "      <td>38.543</td>\n",
       "      <td>38.527</td>\n",
       "      <td>38.621</td>\n",
       "    </tr>\n",
       "    <tr>\n",
       "      <th>3</th>\n",
       "      <td>38.633</td>\n",
       "      <td>38.535</td>\n",
       "      <td>38.469</td>\n",
       "      <td>38.379</td>\n",
       "      <td>38.297</td>\n",
       "      <td>38.223</td>\n",
       "      <td>38.125</td>\n",
       "      <td>38.062</td>\n",
       "      <td>37.977</td>\n",
       "      <td>37.969</td>\n",
       "      <td>...</td>\n",
       "      <td>39.441</td>\n",
       "      <td>39.363</td>\n",
       "      <td>39.367</td>\n",
       "      <td>39.457</td>\n",
       "      <td>39.461</td>\n",
       "      <td>39.461</td>\n",
       "      <td>39.473</td>\n",
       "      <td>39.441</td>\n",
       "      <td>39.453</td>\n",
       "      <td>39.461</td>\n",
       "    </tr>\n",
       "    <tr>\n",
       "      <th>4</th>\n",
       "      <td>39.461</td>\n",
       "      <td>39.461</td>\n",
       "      <td>39.375</td>\n",
       "      <td>39.281</td>\n",
       "      <td>39.203</td>\n",
       "      <td>39.113</td>\n",
       "      <td>39.043</td>\n",
       "      <td>38.969</td>\n",
       "      <td>38.875</td>\n",
       "      <td>38.883</td>\n",
       "      <td>...</td>\n",
       "      <td>40.324</td>\n",
       "      <td>40.320</td>\n",
       "      <td>40.312</td>\n",
       "      <td>40.340</td>\n",
       "      <td>40.320</td>\n",
       "      <td>40.387</td>\n",
       "      <td>40.391</td>\n",
       "      <td>40.391</td>\n",
       "      <td>40.387</td>\n",
       "      <td>40.391</td>\n",
       "    </tr>\n",
       "  </tbody>\n",
       "</table>\n",
       "<p>5 rows × 60 columns</p>\n",
       "</div>"
      ],
      "text/plain": [
       "       0       1       2       3       4       5       6       7       8   \\\n",
       "0  35.570  35.492  35.469  35.422  35.414  35.320  35.227  35.242  35.160   \n",
       "1  36.156  36.094  35.992  36.008  35.992  35.902  35.824  35.820  35.727   \n",
       "2  37.488  37.391  37.340  37.312  37.223  37.145  37.059  36.973  36.898   \n",
       "3  38.633  38.535  38.469  38.379  38.297  38.223  38.125  38.062  37.977   \n",
       "4  39.461  39.461  39.375  39.281  39.203  39.113  39.043  38.969  38.875   \n",
       "\n",
       "       9   ...      50      51      52      53      54      55      56  \\\n",
       "0  35.176  ...  36.008  35.984  35.996  36.039  36.008  36.008  36.094   \n",
       "1  35.727  ...  37.328  37.324  37.340  37.332  37.316  37.410  37.418   \n",
       "2  36.879  ...  38.457  38.461  38.457  38.469  38.469  38.555  38.527   \n",
       "3  37.969  ...  39.441  39.363  39.367  39.457  39.461  39.461  39.473   \n",
       "4  38.883  ...  40.324  40.320  40.312  40.340  40.320  40.387  40.391   \n",
       "\n",
       "       57      58      59  \n",
       "0  36.102  36.090  36.152  \n",
       "1  37.422  37.488  37.477  \n",
       "2  38.543  38.527  38.621  \n",
       "3  39.441  39.453  39.461  \n",
       "4  40.391  40.387  40.391  \n",
       "\n",
       "[5 rows x 60 columns]"
      ]
     },
     "execution_count": 3,
     "metadata": {},
     "output_type": "execute_result"
    }
   ],
   "source": [
    "label = pd.read_csv(f'E:\\gitlab\\machine-learning\\dataset\\profile.txt', sep='\\t', header=None)\n",
    "label.columns = ['Cooler','Valve','Pump','Accumulator','Flag']\n",
    "\n",
    "data = [f'E:\\gitlab\\machine-learning\\dataset\\TS1.txt',f'E:\\gitlab\\machine-learning\\dataset\\TS2.txt',f'E:\\gitlab\\machine-learning\\dataset\\TS3.txt',f'E:\\gitlab\\machine-learning\\dataset\\TS4.txt']\n",
    "# data = [f'E:\\gitlab\\machine-learning\\dataset\\TS1.txt']\n",
    "df = pd.DataFrame()\n",
    "\n",
    "for txt in data:\n",
    "    read_df = pd.read_csv(txt, sep='\\t', header=None)\n",
    "    df = df.append(read_df)    \n",
    "\n",
    "print(df.shape)\n",
    "df.head()"
   ]
  },
  {
   "cell_type": "markdown",
   "metadata": {},
   "source": [
    "# RESHAPE DATA AMONG SENSORS"
   ]
  },
  {
   "cell_type": "code",
   "execution_count": 4,
   "metadata": {},
   "outputs": [
    {
     "data": {
      "text/plain": [
       "(2205, 60, 4)"
      ]
     },
     "execution_count": 4,
     "metadata": {},
     "output_type": "execute_result"
    }
   ],
   "source": [
    "df = df.sort_index().values.reshape(-1,len(data),len(df.columns)).transpose(0,2,1)\n",
    "df.shape"
   ]
  },
  {
   "cell_type": "markdown",
   "metadata": {},
   "source": [
    "saperate to become 4 again"
   ]
  },
  {
   "cell_type": "markdown",
   "metadata": {},
   "source": [
    "# PLOT ORIGINAL TEMPERATURE DATA"
   ]
  },
  {
   "cell_type": "markdown",
   "metadata": {},
   "source": [
    "the first cycle we have these time series from the Temperature Sensors"
   ]
  },
  {
   "cell_type": "code",
   "execution_count": 5,
   "metadata": {},
   "outputs": [
    {
     "data": {
      "image/png": "[encoded data removed]",
      "text/plain": [
       "<Figure size 576x360 with 1 Axes>"
      ]
     },
     "metadata": {
      "needs_background": "light"
     },
     "output_type": "display_data"
    }
   ],
   "source": [
    "plt.figure(figsize=(8,5))\n",
    "plt.plot(df[0])\n",
    "plt.title('Original Temperature Data')\n",
    "plt.ylabel('Temperature'); plt.xlabel('Time')\n",
    "np.set_printoptions(False)"
   ]
  },
  {
   "cell_type": "markdown",
   "metadata": {},
   "source": [
    "# LABEL DISTRIBUTION"
   ]
  },
  {
   "cell_type": "code",
   "execution_count": 6,
   "metadata": {},
   "outputs": [
    {
     "data": {
      "text/plain": [
       "100    741\n",
       "20     732\n",
       "3      732\n",
       "Name: Cooler, dtype: int64"
      ]
     },
     "execution_count": 6,
     "metadata": {},
     "output_type": "execute_result"
    }
   ],
   "source": [
    "label = label.Cooler\n",
    "label.value_counts()"
   ]
  },
  {
   "cell_type": "markdown",
   "metadata": {},
   "source": [
    "# MAPPING LABEL"
   ]
  },
  {
   "cell_type": "markdown",
   "metadata": {},
   "source": [
    "from true label to numeric label, to array label"
   ]
  },
  {
   "cell_type": "code",
   "execution_count": 7,
   "metadata": {},
   "outputs": [
    {
     "name": "stdout",
     "output_type": "stream",
     "text": [
      "{3: 0, 20: 1, 100: 2}\n",
      "{0: 3, 1: 20, 2: 100}\n"
     ]
    }
   ],
   "source": [
    "diz_label, diz_reverse_label = {}, {}\n",
    "for i,lab in enumerate(label.unique()):\n",
    "    diz_label[lab] = i\n",
    "    diz_reverse_label[i] = lab\n",
    "\n",
    "print(diz_label)\n",
    "print(diz_reverse_label)\n",
    "label = label.map(diz_label)\n",
    "y = to_categorical(label)"
   ]
  },
  {
   "cell_type": "markdown",
   "metadata": {},
   "source": [
    "# TRAIN TEST SPLIT"
   ]
  },
  {
   "cell_type": "code",
   "execution_count": 8,
   "metadata": {},
   "outputs": [],
   "source": [
    "X_train, X_test, y_train, y_test = train_test_split(df, y, random_state = 42, test_size=0.2)"
   ]
  },
  {
   "cell_type": "markdown",
   "metadata": {},
   "source": [
    "# SCALE DATA"
   ]
  },
  {
   "cell_type": "code",
   "execution_count": 9,
   "metadata": {},
   "outputs": [],
   "source": [
    "scaler = StandardScaler()\n",
    "\n",
    "X_train = scaler.fit_transform(X_train.reshape(-1, X_train.shape[-1])).reshape(X_train.shape)\n",
    "X_test = scaler.transform(X_test.reshape(-1, X_test.shape[-1])).reshape(X_test.shape)"
   ]
  },
  {
   "cell_type": "markdown",
   "metadata": {},
   "source": [
    "# MODEL"
   ]
  },
  {
   "cell_type": "markdown",
   "metadata": {},
   "source": [
    "adopt a 1D CNN. This kind of model suits very well the analysis of time sequences of sensors and imposes to reshape the data in short fixed-length segments."
   ]
  },
  {
   "cell_type": "markdown",
   "metadata": {},
   "source": [
    "## parameter"
   ]
  },
  {
   "cell_type": "code",
   "execution_count": 10,
   "metadata": {},
   "outputs": [],
   "source": [
    "num_sensors = 4\n",
    "TIME_PERIODS = 60\n",
    "BATCH_SIZE = 16\n",
    "EPOCHS = 10"
   ]
  },
  {
   "cell_type": "code",
   "execution_count": 11,
   "metadata": {},
   "outputs": [
    {
     "name": "stdout",
     "output_type": "stream",
     "text": [
      "Model: \"sequential\"\n",
      "_________________________________________________________________\n",
      "Layer (type)                 Output Shape              Param #   \n",
      "=================================================================\n",
      "conv1d (Conv1D)              (None, 55, 100)           2500      \n",
      "_________________________________________________________________\n",
      "conv1d_1 (Conv1D)            (None, 50, 100)           60100     \n",
      "_________________________________________________________________\n",
      "max_pooling1d (MaxPooling1D) (None, 16, 100)           0         \n",
      "_________________________________________________________________\n",
      "conv1d_2 (Conv1D)            (None, 11, 160)           96160     \n",
      "_________________________________________________________________\n",
      "conv1d_3 (Conv1D)            (None, 6, 160)            153760    \n",
      "_________________________________________________________________\n",
      "G_A_P_1D (GlobalAveragePooli (None, 160)               0         \n",
      "_________________________________________________________________\n",
      "dropout (Dropout)            (None, 160)               0         \n",
      "_________________________________________________________________\n",
      "dense (Dense)                (None, 3)                 483       \n",
      "=================================================================\n",
      "Total params: 313,003\n",
      "Trainable params: 313,003\n",
      "Non-trainable params: 0\n",
      "_________________________________________________________________\n",
      "None\n"
     ]
    }
   ],
   "source": [
    "model_m = Sequential()\n",
    "model_m.add(Conv1D(100, 6, activation='relu', input_shape=(TIME_PERIODS, num_sensors)))\n",
    "model_m.add(Conv1D(100, 6, activation='relu'))\n",
    "model_m.add(MaxPooling1D(3))\n",
    "model_m.add(Conv1D(160, 6, activation='relu'))\n",
    "model_m.add(Conv1D(160, 6, activation='relu'))\n",
    "model_m.add(GlobalAveragePooling1D(name='G_A_P_1D'))\n",
    "model_m.add(Dropout(0.5))\n",
    "model_m.add(Dense(3, activation='softmax'))\n",
    "\n",
    "print(model_m.summary())\n",
    "model_m.compile(loss='categorical_crossentropy', \n",
    "                optimizer='adam', \n",
    "                metrics=['accuracy'])"
   ]
  },
  {
   "cell_type": "code",
   "execution_count": 12,
   "metadata": {},
   "outputs": [
    {
     "name": "stdout",
     "output_type": "stream",
     "text": [
      "Train on 1411 samples, validate on 353 samples\n",
      "Epoch 1/10\n",
      "1411/1411 - 12s - loss: 0.2395 - accuracy: 0.9334 - val_loss: 0.0639 - val_accuracy: 0.9773\n",
      "Epoch 2/10\n",
      "1411/1411 - 1s - loss: 0.1099 - accuracy: 0.9766 - val_loss: 0.0680 - val_accuracy: 0.9830\n",
      "Epoch 3/10\n",
      "1411/1411 - 1s - loss: 0.1242 - accuracy: 0.9731 - val_loss: 0.0676 - val_accuracy: 0.9802\n",
      "Epoch 4/10\n",
      "1411/1411 - 1s - loss: 0.1127 - accuracy: 0.9759 - val_loss: 0.0799 - val_accuracy: 0.9802\n",
      "Epoch 5/10\n",
      "1411/1411 - 1s - loss: 0.0964 - accuracy: 0.9738 - val_loss: 0.0766 - val_accuracy: 0.9858\n",
      "Epoch 6/10\n",
      "1411/1411 - 1s - loss: 0.1047 - accuracy: 0.9759 - val_loss: 0.0646 - val_accuracy: 0.9858\n",
      "Epoch 7/10\n",
      "1411/1411 - 1s - loss: 0.1052 - accuracy: 0.9759 - val_loss: 0.0846 - val_accuracy: 0.9830\n",
      "Epoch 8/10\n",
      "1411/1411 - 0s - loss: 0.1018 - accuracy: 0.9738 - val_loss: 0.0726 - val_accuracy: 0.9858\n",
      "Epoch 9/10\n",
      "1411/1411 - 1s - loss: 0.0935 - accuracy: 0.9766 - val_loss: 0.0596 - val_accuracy: 0.9858\n",
      "Epoch 10/10\n",
      "1411/1411 - 0s - loss: 0.0897 - accuracy: 0.9802 - val_loss: 0.0630 - val_accuracy: 0.9830\n"
     ]
    }
   ],
   "source": [
    "history = model_m.fit(X_train, y_train, \n",
    "                      batch_size=BATCH_SIZE, \n",
    "                      epochs=EPOCHS, \n",
    "                      validation_split=0.2, \n",
    "                      verbose=2)"
   ]
  },
  {
   "cell_type": "markdown",
   "metadata": {},
   "source": [
    "## evaluate"
   ]
  },
  {
   "cell_type": "code",
   "execution_count": 13,
   "metadata": {},
   "outputs": [
    {
     "name": "stdout",
     "output_type": "stream",
     "text": [
      "441/441 - 0s - loss: 0.1431 - accuracy: 0.9864\n"
     ]
    },
    {
     "data": {
      "text/plain": [
       "[0.1431181382877824, 0.9863946]"
      ]
     },
     "execution_count": 13,
     "metadata": {},
     "output_type": "execute_result"
    }
   ],
   "source": [
    "model_m.evaluate(X_test, y_test, verbose=2)"
   ]
  },
  {
   "cell_type": "markdown",
   "metadata": {},
   "source": [
    "# GET PREDICTED CLASS"
   ]
  },
  {
   "cell_type": "code",
   "execution_count": 23,
   "metadata": {},
   "outputs": [],
   "source": [
    "pred_test = np.argmax(model_m.predict(X_test), axis=1)"
   ]
  },
  {
   "cell_type": "code",
   "execution_count": 16,
   "metadata": {},
   "outputs": [
    {
     "name": "stdout",
     "output_type": "stream",
     "text": [
      "              precision    recall  f1-score   support\n",
      "\n",
      "           3       0.99      0.99      0.99       152\n",
      "          20       0.97      0.99      0.98       135\n",
      "         100       1.00      0.98      0.99       154\n",
      "\n",
      "    accuracy                           0.99       441\n",
      "   macro avg       0.99      0.99      0.99       441\n",
      "weighted avg       0.99      0.99      0.99       441\n",
      "\n"
     ]
    }
   ],
   "source": [
    "print(classification_report([diz_reverse_label[np.argmax(label)] for label in y_test], \n",
    "                            [diz_reverse_label[label] for label in pred_test]))"
   ]
  },
  {
   "cell_type": "code",
   "execution_count": 18,
   "metadata": {},
   "outputs": [],
   "source": [
    "def plot_confusion_matrix(cm, classes, title='Confusion matrix', cmap=plt.cm.Blues):\n",
    "\n",
    "    cm = cm.astype('float') / cm.sum(axis=1)[:, np.newaxis]\n",
    "\n",
    "    plt.imshow(cm, interpolation='nearest', cmap=cmap)\n",
    "    plt.title(title, fontsize=25)\n",
    "    #plt.colorbar()\n",
    "    tick_marks = np.arange(len(classes))\n",
    "    plt.xticks(tick_marks, classes, rotation=90, fontsize=15)\n",
    "    plt.yticks(tick_marks, classes, fontsize=15)\n",
    "\n",
    "    fmt = '.2f'\n",
    "    thresh = cm.max() / 2.\n",
    "    for i, j in itertools.product(range(cm.shape[0]), range(cm.shape[1])):\n",
    "        plt.text(j, i, format(cm[i, j], fmt),\n",
    "                 horizontalalignment=\"center\",\n",
    "                 color=\"white\" if cm[i, j] > thresh else \"black\", fontsize = 14)\n",
    "\n",
    "    plt.ylabel('True label', fontsize=20)\n",
    "    plt.xlabel('Predicted label', fontsize=20)"
   ]
  },
  {
   "cell_type": "code",
   "execution_count": 19,
   "metadata": {},
   "outputs": [
    {
     "data": {
      "image/png": "[encoded data removed]",
      "text/plain": [
       "<Figure size 504x504 with 1 Axes>"
      ]
     },
     "metadata": {
      "needs_background": "light"
     },
     "output_type": "display_data"
    }
   ],
   "source": [
    "cnf_matrix = confusion_matrix([diz_reverse_label[np.argmax(label)] for label in y_test], \n",
    "                              [diz_reverse_label[label] for label in pred_test])\n",
    "\n",
    "plt.figure(figsize=(7,7))\n",
    "plot_confusion_matrix(cnf_matrix, classes=list(diz_reverse_label.values()))\n",
    "plt.show()"
   ]
  },
  {
   "cell_type": "markdown",
   "metadata": {},
   "source": [
    "# VISUALIZE THE RESULTS"
   ]
  },
  {
   "cell_type": "markdown",
   "metadata": {},
   "source": [
    "# MAKE A MODEL FOR EMBEDDINGS "
   ]
  },
  {
   "cell_type": "markdown",
   "metadata": {},
   "source": [
    "The new model is a decoder which receives as input data in the same format of the NN we utilized for the classification task (t_periods x n_sensor for every single cycle) and return ‘prediction’ in form of embeddings coming from GlobalAveragePooling1D layer with relative dimension (a row of 160 embedding variables for every single cycle)."
   ]
  },
  {
   "cell_type": "markdown",
   "metadata": {},
   "source": [
    "create new model from previous model and add G_A_P_1D layer for prediction for visualization"
   ]
  },
  {
   "cell_type": "code",
   "execution_count": 27,
   "metadata": {},
   "outputs": [
    {
     "name": "stdout",
     "output_type": "stream",
     "text": [
      "Model: \"model\"\n",
      "_________________________________________________________________\n",
      "Layer (type)                 Output Shape              Param #   \n",
      "=================================================================\n",
      "conv1d_input (InputLayer)    [(None, 60, 4)]           0         \n",
      "_________________________________________________________________\n",
      "conv1d (Conv1D)              (None, 55, 100)           2500      \n",
      "_________________________________________________________________\n",
      "conv1d_1 (Conv1D)            (None, 50, 100)           60100     \n",
      "_________________________________________________________________\n",
      "max_pooling1d (MaxPooling1D) (None, 16, 100)           0         \n",
      "_________________________________________________________________\n",
      "conv1d_2 (Conv1D)            (None, 11, 160)           96160     \n",
      "_________________________________________________________________\n",
      "conv1d_3 (Conv1D)            (None, 6, 160)            153760    \n",
      "_________________________________________________________________\n",
      "G_A_P_1D (GlobalAveragePooli (None, 160)               0         \n",
      "=================================================================\n",
      "Total params: 312,520\n",
      "Trainable params: 312,520\n",
      "Non-trainable params: 0\n",
      "_________________________________________________________________\n"
     ]
    }
   ],
   "source": [
    "emb_model = Model(inputs=model_m.input, outputs=model_m.get_layer('G_A_P_1D').output)\n",
    "emb_model.summary()"
   ]
  },
  {
   "cell_type": "markdown",
   "metadata": {},
   "source": [
    "# EXTRACT EMBEDDINGS"
   ]
  },
  {
   "cell_type": "code",
   "execution_count": 28,
   "metadata": {},
   "outputs": [],
   "source": [
    "serie_features = emb_model.predict(X_test)"
   ]
  },
  {
   "cell_type": "markdown",
   "metadata": {},
   "source": [
    "# VISUALIZE EMBEDDINGS"
   ]
  },
  {
   "cell_type": "markdown",
   "metadata": {},
   "source": [
    "Computing the prediction with our encoder on the test data, adopting a technique to reduce dimensions (like PCA or T-SNE) and plotting the results "
   ]
  },
  {
   "cell_type": "code",
   "execution_count": 29,
   "metadata": {},
   "outputs": [],
   "source": [
    "tsne = TSNE(n_components=2, random_state=42, n_iter=300, perplexity=5)\n",
    "T = tsne.fit_transform(serie_features)"
   ]
  },
  {
   "cell_type": "code",
   "execution_count": 30,
   "metadata": {},
   "outputs": [
    {
     "data": {
      "image/png": "[encoded data removed]",
      "text/plain": [
       "<Figure size 1152x648 with 1 Axes>"
      ]
     },
     "metadata": {
      "needs_background": "light"
     },
     "output_type": "display_data"
    }
   ],
   "source": [
    "plt.figure(figsize=(16,9))\n",
    "colors = {0:'red', 1:'blue', 2:'yellow'}\n",
    "plt.scatter(T.T[0], T.T[1], c=[colors[i] for i in np.argmax(y_test, axis=1)]) \n",
    "plt.show()"
   ]
  },
  {
   "cell_type": "code",
   "execution_count": null,
   "metadata": {},
   "outputs": [],
   "source": []
  }
 ],
 "metadata": {
  "kernelspec": {
   "display_name": "Python 3",
   "language": "python",
   "name": "python3"
  },
  "language_info": {
   "codemirror_mode": {
    "name": "ipython",
    "version": 3
   },
   "file_extension": ".py",
   "mimetype": "text/x-python",
   "name": "python",
   "nbconvert_exporter": "python",
   "pygments_lexer": "ipython3",
   "version": "3.7.7"
  }
 },
 "nbformat": 4,
 "nbformat_minor": 4
}
