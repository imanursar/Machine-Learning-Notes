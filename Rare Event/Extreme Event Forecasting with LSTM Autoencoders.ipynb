{
 "cells": [
  {
   "cell_type": "markdown",
   "metadata": {},
   "source": [
    "# PROBLEM OVERVIEW"
   ]
  },
  {
   "cell_type": "markdown",
   "metadata": {},
   "source": [
    "At Uber accurate prediction for completed trips (particularly during special events) provides a series of important benefits: more efficient driver allocation resulting in a decreased wait time for the riders, budget planning and other related tasks."
   ]
  },
  {
   "cell_type": "markdown",
   "metadata": {},
   "source": [
    "In order to reach high accurate predictions of driver demand for ride-sharing, Uber Researchers developed a high-performance model for time series forecasting. They are able to fit (one-shot) a single model with a lot of heterogeneous time series, coming from different locations/cities. This process permits us to extract relevant time patterns. In the end, they were able to forecast demand, generalizing for different locations/cities, outperforming the classical forecasting methods.m"
   ]
  },
  {
   "cell_type": "markdown",
   "metadata": {},
   "source": [
    "# dataset"
   ]
  },
  {
   "cell_type": "markdown",
   "metadata": {},
   "source": [
    "Our choice was due to the need for a nested dataset with temporal dependency: we have time series for each US market, 54 in total, a number that grows to 108 if we consider one time series for each type (conventional and organic). This data structure is highlighted as important by Uber Researchers because it permits to our model to discover important invisible relations. Also, the correlation among series brings advantages for our LSTM Autoencoder during the process of feature extraction."
   ]
  },
  {
   "cell_type": "markdown",
   "metadata": {},
   "source": [
    "To build our model we utilized the time series of prices at our disposal up to the end of 2017. The first 2 months of 2018 are stored and used as test set. For our analysis, we will take into consideration also all the provided regressors. The observations are shown with a weakly frequency so our purpose is: given a fixed past window (4 weeks) of features, predict the upcoming weakly price."
   ]
  },
  {
   "cell_type": "markdown",
   "metadata": {},
   "source": [
    "Due to the absence of exponential growth and trending behavior, we don’t need to scale our price series.`"
   ]
  },
  {
   "cell_type": "markdown",
   "metadata": {},
   "source": [
    "# Library"
   ]
  },
  {
   "cell_type": "code",
   "execution_count": 7,
   "metadata": {},
   "outputs": [],
   "source": [
    "import matplotlib.pyplot as plt\n",
    "import numpy as np\n",
    "import pandas as pd\n",
    "import tqdm\n",
    "import random\n",
    "import os\n",
    "\n",
    "from sklearn.preprocessing import StandardScaler\n",
    "from sklearn.model_selection import train_test_split\n",
    "from sklearn.metrics import mean_absolute_error\n",
    "\n",
    "import tensorflow as tf\n",
    "from tensorflow.keras.models import *\n",
    "from tensorflow.keras.layers import *\n",
    "from tensorflow.keras import backend as K"
   ]
  },
  {
   "cell_type": "code",
   "execution_count": 8,
   "metadata": {},
   "outputs": [],
   "source": [
    "%load_ext autoreload\n",
    "%autoreload 2\n",
    "\n",
    "import sys\n",
    "sys.path.append(f'E:\\gitlab\\custom-script\\script')\n",
    "from ursar import visual\n",
    "\n",
    "%reload_ext autoreload"
   ]
  },
  {
   "cell_type": "markdown",
   "metadata": {},
   "source": [
    "# read dataset"
   ]
  },
  {
   "cell_type": "code",
   "execution_count": 2,
   "metadata": {},
   "outputs": [
    {
     "name": "stdout",
     "output_type": "stream",
     "text": [
      "(18249, 13)\n"
     ]
    },
    {
     "data": {
      "text/html": [
       "<div>\n",
       "<style scoped>\n",
       "    .dataframe tbody tr th:only-of-type {\n",
       "        vertical-align: middle;\n",
       "    }\n",
       "\n",
       "    .dataframe tbody tr th {\n",
       "        vertical-align: top;\n",
       "    }\n",
       "\n",
       "    .dataframe thead th {\n",
       "        text-align: right;\n",
       "    }\n",
       "</style>\n",
       "<table border=\"1\" class=\"dataframe\">\n",
       "  <thead>\n",
       "    <tr style=\"text-align: right;\">\n",
       "      <th></th>\n",
       "      <th>Date</th>\n",
       "      <th>AveragePrice</th>\n",
       "      <th>Total Volume</th>\n",
       "      <th>4046</th>\n",
       "      <th>4225</th>\n",
       "      <th>4770</th>\n",
       "      <th>Total Bags</th>\n",
       "      <th>Small Bags</th>\n",
       "      <th>Large Bags</th>\n",
       "      <th>XLarge Bags</th>\n",
       "      <th>type</th>\n",
       "      <th>year</th>\n",
       "      <th>region</th>\n",
       "    </tr>\n",
       "  </thead>\n",
       "  <tbody>\n",
       "    <tr>\n",
       "      <th>51</th>\n",
       "      <td>2015-01-04</td>\n",
       "      <td>1.75</td>\n",
       "      <td>27365.89</td>\n",
       "      <td>9307.34</td>\n",
       "      <td>3844.81</td>\n",
       "      <td>615.28</td>\n",
       "      <td>13598.46</td>\n",
       "      <td>13061.10</td>\n",
       "      <td>537.36</td>\n",
       "      <td>0.0</td>\n",
       "      <td>organic</td>\n",
       "      <td>2015</td>\n",
       "      <td>Southeast</td>\n",
       "    </tr>\n",
       "    <tr>\n",
       "      <th>51</th>\n",
       "      <td>2015-01-04</td>\n",
       "      <td>1.49</td>\n",
       "      <td>17723.17</td>\n",
       "      <td>1189.35</td>\n",
       "      <td>15628.27</td>\n",
       "      <td>0.00</td>\n",
       "      <td>905.55</td>\n",
       "      <td>905.55</td>\n",
       "      <td>0.00</td>\n",
       "      <td>0.0</td>\n",
       "      <td>organic</td>\n",
       "      <td>2015</td>\n",
       "      <td>Chicago</td>\n",
       "    </tr>\n",
       "    <tr>\n",
       "      <th>51</th>\n",
       "      <td>2015-01-04</td>\n",
       "      <td>1.68</td>\n",
       "      <td>2896.72</td>\n",
       "      <td>161.68</td>\n",
       "      <td>206.96</td>\n",
       "      <td>0.00</td>\n",
       "      <td>2528.08</td>\n",
       "      <td>2528.08</td>\n",
       "      <td>0.00</td>\n",
       "      <td>0.0</td>\n",
       "      <td>organic</td>\n",
       "      <td>2015</td>\n",
       "      <td>HarrisburgScranton</td>\n",
       "    </tr>\n",
       "    <tr>\n",
       "      <th>51</th>\n",
       "      <td>2015-01-04</td>\n",
       "      <td>1.52</td>\n",
       "      <td>54956.80</td>\n",
       "      <td>3013.04</td>\n",
       "      <td>35456.88</td>\n",
       "      <td>1561.70</td>\n",
       "      <td>14925.18</td>\n",
       "      <td>11264.80</td>\n",
       "      <td>3660.38</td>\n",
       "      <td>0.0</td>\n",
       "      <td>conventional</td>\n",
       "      <td>2015</td>\n",
       "      <td>Pittsburgh</td>\n",
       "    </tr>\n",
       "    <tr>\n",
       "      <th>51</th>\n",
       "      <td>2015-01-04</td>\n",
       "      <td>1.64</td>\n",
       "      <td>1505.12</td>\n",
       "      <td>1.27</td>\n",
       "      <td>1129.50</td>\n",
       "      <td>0.00</td>\n",
       "      <td>374.35</td>\n",
       "      <td>186.67</td>\n",
       "      <td>187.68</td>\n",
       "      <td>0.0</td>\n",
       "      <td>organic</td>\n",
       "      <td>2015</td>\n",
       "      <td>Boise</td>\n",
       "    </tr>\n",
       "  </tbody>\n",
       "</table>\n",
       "</div>"
      ],
      "text/plain": [
       "         Date  AveragePrice  Total Volume     4046      4225     4770  \\\n",
       "51 2015-01-04          1.75      27365.89  9307.34   3844.81   615.28   \n",
       "51 2015-01-04          1.49      17723.17  1189.35  15628.27     0.00   \n",
       "51 2015-01-04          1.68       2896.72   161.68    206.96     0.00   \n",
       "51 2015-01-04          1.52      54956.80  3013.04  35456.88  1561.70   \n",
       "51 2015-01-04          1.64       1505.12     1.27   1129.50     0.00   \n",
       "\n",
       "    Total Bags  Small Bags  Large Bags  XLarge Bags          type  year  \\\n",
       "51    13598.46    13061.10      537.36          0.0       organic  2015   \n",
       "51      905.55      905.55        0.00          0.0       organic  2015   \n",
       "51     2528.08     2528.08        0.00          0.0       organic  2015   \n",
       "51    14925.18    11264.80     3660.38          0.0  conventional  2015   \n",
       "51      374.35      186.67      187.68          0.0       organic  2015   \n",
       "\n",
       "                region  \n",
       "51           Southeast  \n",
       "51             Chicago  \n",
       "51  HarrisburgScranton  \n",
       "51          Pittsburgh  \n",
       "51               Boise  "
      ]
     },
     "execution_count": 2,
     "metadata": {},
     "output_type": "execute_result"
    }
   ],
   "source": [
    "df = pd.read_csv(r'E:\\gitlab\\machine-learning\\dataset/avocado.csv', index_col=0, parse_dates=['Date'])\n",
    "df.sort_values('Date', inplace=True)\n",
    "\n",
    "print(df.shape)\n",
    "df.head()"
   ]
  },
  {
   "cell_type": "markdown",
   "metadata": {},
   "source": [
    "# PLOT SERIES FOR SINGLE MARKET OF SELECTED AVOCADO TYPE"
   ]
  },
  {
   "cell_type": "code",
   "execution_count": 3,
   "metadata": {},
   "outputs": [],
   "source": [
    "def plot_seris(county, typ):\n",
    "    \n",
    "    plt.figure(figsize=(9,6))\n",
    "    reg_train = df[(df['type']==typ)&(df['year']!=2018)].groupby('region')\n",
    "    p_train = reg_train.get_group(county)[['Date', 'AveragePrice']].reset_index(drop=True)\n",
    "    plt.plot(range(0,len(p_train)), p_train.AveragePrice.values)\n",
    "    \n",
    "    reg_test = df[(df['type']==typ)&(df['year']==2018)].groupby('region')\n",
    "    p_test = reg_test.get_group(county)[['Date', 'AveragePrice']].reset_index(drop=True)\n",
    "    plt.plot(range(len(p_train),len(p_train)+len(p_test)),p_test.AveragePrice.values)\n",
    "    plt.title('AveragePrice'+' '+typ.upper()+' '+county)\n",
    "    plt.show()"
   ]
  },
  {
   "cell_type": "code",
   "execution_count": 4,
   "metadata": {},
   "outputs": [
    {
     "data": {
      "image/png": "[encoded data removed]",
      "text/plain": [
       "<Figure size 648x432 with 1 Axes>"
      ]
     },
     "metadata": {
      "needs_background": "light"
     },
     "output_type": "display_data"
    }
   ],
   "source": [
    "reg_train = plot_seris('NewYork','conventional')"
   ]
  },
  {
   "cell_type": "code",
   "execution_count": 14,
   "metadata": {},
   "outputs": [
    {
     "data": {
      "image/png": "[encoded data removed]",
      "text/plain": [
       "<Figure size 648x432 with 1 Axes>"
      ]
     },
     "metadata": {},
     "output_type": "display_data"
    }
   ],
   "source": [
    "visual.plot_series(df,'type','conventional','year',2018,'region','NewYork','Date', 'AveragePrice')"
   ]
  },
  {
   "cell_type": "markdown",
   "metadata": {},
   "source": [
    "# CREATE GENERATOR FOR LSTM WINDOWS AND LABELS"
   ]
  },
  {
   "cell_type": "code",
   "execution_count": 5,
   "metadata": {},
   "outputs": [],
   "source": [
    "sequence_length = 4\n",
    "\n",
    "def gen_sequence(id_df, seq_length, seq_cols):\n",
    "\n",
    "    data_matrix = id_df[seq_cols].values\n",
    "    num_elements = data_matrix.shape[0]\n",
    "\n",
    "    for start, stop in zip(range(0, num_elements-seq_length), range(seq_length, num_elements)):\n",
    "        yield data_matrix[start:stop, :]\n",
    "\n",
    "def gen_labels(id_df, seq_length, label):\n",
    "\n",
    "    data_matrix = id_df[label].values\n",
    "    num_elements = data_matrix.shape[0]\n",
    "\n",
    "    return data_matrix[seq_length:num_elements, :]"
   ]
  },
  {
   "cell_type": "markdown",
   "metadata": {},
   "source": [
    "# CREATE TRAIN/TEST PRICE DATA"
   ]
  },
  {
   "cell_type": "code",
   "execution_count": 15,
   "metadata": {},
   "outputs": [],
   "source": [
    "X_train_c, X_train_o = [], []\n",
    "X_test_c, X_test_o = [], []\n",
    "X_other_train_c, X_other_train_o = [], []\n",
    "X_other_test_c, X_other_test_o = [], []\n",
    "\n",
    "for county in df[\"region\"].unique():\n",
    "    \n",
    "    for sequence in gen_sequence(df[(df[\"region\"]==county)&(df[\"type\"]==\"conventional\")&(df[\"year\"]!=2018)],\n",
    "                                 sequence_length, ['AveragePrice']):\n",
    "        X_train_c.append(sequence) if county != 'Albany' else X_other_train_c.append(sequence)\n",
    "        \n",
    "    for sequence in gen_sequence(df[(df[\"region\"]==county)&(df[\"type\"]==\"organic\")&(df[\"year\"]!=2018)], \n",
    "                                 sequence_length, ['AveragePrice']):\n",
    "        X_train_o.append(sequence) if county != 'Albany' else X_other_train_o.append(sequence)\n",
    "        \n",
    "    for sequence in gen_sequence(df[(df[\"region\"]==county)&(df[\"type\"]==\"conventional\")&(df[\"year\"]==2018)], \n",
    "                                 sequence_length, ['AveragePrice']):\n",
    "        X_test_c.append(sequence) if county != 'Albany' else X_other_test_c.append(sequence)\n",
    "        \n",
    "    for sequence in gen_sequence(df[(df[\"region\"]==county)&(df[\"type\"]==\"organic\")&(df[\"year\"]==2018)], \n",
    "                                 sequence_length, ['AveragePrice']):\n",
    "        X_test_o.append(sequence) if county != 'Albany' else X_other_test_o.append(sequence)\n",
    "    \n",
    "X_train_c, X_train_o = np.asarray(X_train_c), np.asarray(X_train_o)\n",
    "X_test_c, X_test_o = np.asarray(X_test_c), np.asarray(X_test_o)\n",
    "X_other_train_c, X_other_train_o = np.asarray(X_other_train_c), np.asarray(X_other_train_o)\n",
    "X_other_test_c, X_other_test_o = np.asarray(X_other_test_c), np.asarray(X_other_test_o)"
   ]
  },
  {
   "cell_type": "markdown",
   "metadata": {},
   "source": [
    "# CREATE TRAIN/TEST LABEL"
   ]
  },
  {
   "cell_type": "code",
   "execution_count": 16,
   "metadata": {},
   "outputs": [],
   "source": [
    "y_train_c, y_train_o = [], []\n",
    "y_test_c, y_test_o = [], []\n",
    "y_other_train_c, y_other_train_o = [], []\n",
    "y_other_test_c, y_other_test_o = [], []\n",
    "\n",
    "for county in df[\"region\"].unique():\n",
    "    \n",
    "    for sequence in gen_labels(df[(df[\"region\"]==county)&(df[\"type\"]==\"conventional\")&(df[\"year\"]!=2018)], \n",
    "                               sequence_length, ['AveragePrice']):\n",
    "        y_train_c.append(sequence) if county != 'Albany' else y_other_train_c.append(sequence)\n",
    "        \n",
    "    for sequence in gen_labels(df[(df[\"region\"]==county)&(df[\"type\"]==\"organic\")&(df[\"year\"]!=2018)], \n",
    "                               sequence_length, ['AveragePrice']):\n",
    "        y_train_o.append(sequence) if county != 'Albany' else y_other_train_o.append(sequence)\n",
    "        \n",
    "    for sequence in gen_labels(df[(df[\"region\"]==county)&(df[\"type\"]==\"conventional\")&(df[\"year\"]==2018)],\n",
    "                               sequence_length, ['AveragePrice']):\n",
    "        y_test_c.append(sequence) if county != 'Albany' else y_other_test_c.append(sequence)\n",
    "        \n",
    "    for sequence in gen_labels(df[(df[\"region\"]==county)&(df[\"type\"]==\"organic\")&(df[\"year\"]==2018)],\n",
    "                               sequence_length, ['AveragePrice']):\n",
    "        y_test_o.append(sequence) if county != 'Albany' else y_other_test_o.append(sequence)\n",
    "\n",
    "y_train_c, y_train_o = np.asarray(y_train_c), np.asarray(y_train_o)\n",
    "y_test_c, y_test_o = np.asarray(y_test_c), np.asarray(y_test_o)\n",
    "y_other_train_c, y_other_train_o = np.asarray(y_other_train_c), np.asarray(y_other_train_o)\n",
    "y_other_test_c, y_other_test_o = np.asarray(y_other_test_c), np.asarray(y_other_test_o)"
   ]
  },
  {
   "cell_type": "markdown",
   "metadata": {},
   "source": [
    "# CONCATENATE TRAIN/TEST DATA AND LABEL"
   ]
  },
  {
   "cell_type": "code",
   "execution_count": 17,
   "metadata": {},
   "outputs": [
    {
     "name": "stdout",
     "output_type": "stream",
     "text": [
      "(17063, 4, 1) (17063, 1)\n"
     ]
    }
   ],
   "source": [
    "X = np.concatenate([X_train_c,X_train_o,X_test_c,X_test_o],axis=0)\n",
    "y = np.concatenate([y_train_c,y_train_o,y_test_c,y_test_o],axis=0)\n",
    "\n",
    "print(X.shape,y.shape)"
   ]
  },
  {
   "cell_type": "markdown",
   "metadata": {},
   "source": [
    "# CREATE TRAIN/TEST EXTERNAL FEATURES"
   ]
  },
  {
   "cell_type": "code",
   "execution_count": 18,
   "metadata": {},
   "outputs": [],
   "source": [
    "col = ['Total Volume','4046','4225','4770','Total Bags','Small Bags','Large Bags','XLarge Bags']\n",
    "\n",
    "f_train_c, f_train_o = [], []\n",
    "f_test_c, f_test_o = [], []\n",
    "f_other_train_c, f_other_train_o = [], []\n",
    "f_other_test_c, f_other_test_o = [], []\n",
    "\n",
    "for county in df[\"region\"].unique():\n",
    "    \n",
    "    for sequence in gen_sequence(df[(df[\"region\"]==county)&(df[\"type\"]==\"conventional\")&(df[\"year\"]!=2018)], \n",
    "                                 sequence_length, col):\n",
    "        f_train_c.append(sequence) if county != 'Albany' else f_other_train_c.append(sequence)\n",
    "        \n",
    "    for sequence in gen_sequence(df[(df[\"region\"]==county)&(df[\"type\"]==\"organic\")&(df[\"year\"]!=2018)], \n",
    "                                 sequence_length, col):\n",
    "        f_train_o.append(sequence) if county != 'Albany' else f_other_train_o.append(sequence)\n",
    "        \n",
    "    for sequence in gen_sequence(df[(df[\"region\"]==county)&(df[\"type\"]==\"conventional\")&(df[\"year\"]==2018)],\n",
    "                                 sequence_length, col):\n",
    "        f_test_c.append(sequence) if county != 'Albany' else f_other_test_c.append(sequence)\n",
    "        \n",
    "    for sequence in gen_sequence(df[(df[\"region\"]==county)&(df[\"type\"]==\"organic\")&(df[\"year\"]==2018)],\n",
    "                                 sequence_length, col):\n",
    "        f_test_o.append(sequence) if county != 'Albany' else f_other_test_o.append(sequence)\n",
    "    \n",
    "f_train_c, f_train_o = np.asarray(f_train_c), np.asarray(f_train_o)\n",
    "f_test_c, f_test_o = np.asarray(f_test_c), np.asarray(f_test_o)\n",
    "f_other_train_c, f_other_train_o = np.asarray(f_other_train_c), np.asarray(f_other_train_o)\n",
    "f_other_test_c, f_other_test_o = np.asarray(f_other_test_c), np.asarray(f_other_test_o)"
   ]
  },
  {
   "cell_type": "markdown",
   "metadata": {},
   "source": [
    "# CONCATENATE TRAIN/TEST EXTERNAL FEATURES"
   ]
  },
  {
   "cell_type": "code",
   "execution_count": 19,
   "metadata": {},
   "outputs": [
    {
     "name": "stdout",
     "output_type": "stream",
     "text": [
      "(17063, 4, 8)\n"
     ]
    }
   ],
   "source": [
    "F = np.concatenate([f_train_c,f_train_o,f_test_c,f_test_o],axis=0)\n",
    "\n",
    "print(F.shape)"
   ]
  },
  {
   "cell_type": "markdown",
   "metadata": {},
   "source": [
    "# FORECASTER + AUTOENCODER"
   ]
  },
  {
   "cell_type": "code",
   "execution_count": null,
   "metadata": {},
   "outputs": [],
   "source": [
    "autoencoder model + training + scaling data + forcasting + training"
   ]
  },
  {
   "cell_type": "markdown",
   "metadata": {},
   "source": [
    "single model for heterogeneous forecasting"
   ]
  },
  {
   "cell_type": "markdown",
   "metadata": {},
   "source": [
    "the model first primes the network by \n",
    "auto feature extraction, \n",
    "training an LSTM Autoencoder, which is critical to capture complex time-series dynamics at scale. \n",
    "Features vectors are then \n",
    "concatenated with the new input and \n",
    "fed to LSTM Forecaster for prediction."
   ]
  },
  {
   "cell_type": "markdown",
   "metadata": {},
   "source": [
    "1. auto feature extraction\n",
    "2. training an LSTM Autoencoder\n",
    "3. concatenated with the new input\n",
    "4. LSTM Forecaster for prediction"
   ]
  },
  {
   "cell_type": "markdown",
   "metadata": {},
   "source": [
    "we have our initial windows of weekly prices for different markets. We start to train our LSTM Autoencoder on them; next, we remove the encoder and utilize it as features creator. The second and final step required to train a prediction LSTM model for forecasting. Based on real/existing regressors and the previous artificial generated features, we are able to provide next week’s avocado price prediction."
   ]
  },
  {
   "cell_type": "markdown",
   "metadata": {},
   "source": [
    "# SET SEED"
   ]
  },
  {
   "cell_type": "code",
   "execution_count": 43,
   "metadata": {},
   "outputs": [],
   "source": [
    "tf.random.set_seed(33)\n",
    "os.environ['PYTHONHASHSEED'] = str(33)\n",
    "np.random.seed(33)\n",
    "random.seed(33)\n",
    "\n",
    "session_conf = tf.compat.v1.ConfigProto(\n",
    "    intra_op_parallelism_threads=1, \n",
    "    inter_op_parallelism_threads=1\n",
    ")\n",
    "sess = tf.compat.v1.Session(\n",
    "    graph=tf.compat.v1.get_default_graph(), \n",
    "    config=session_conf\n",
    ")\n",
    "tf.compat.v1.keras.backend.set_session(sess)"
   ]
  },
  {
   "cell_type": "markdown",
   "metadata": {},
   "source": [
    "# DEFINE LSTM AUTOENCODER"
   ]
  },
  {
   "cell_type": "markdown",
   "metadata": {},
   "source": [
    "LSTM Autoencoders are composed by a simple LSTM encoder layer, followed by another simple LSTM decoder. Don’t forget at the end of the TimeDistributed layer."
   ]
  },
  {
   "cell_type": "code",
   "execution_count": 23,
   "metadata": {},
   "outputs": [
    {
     "name": "stdout",
     "output_type": "stream",
     "text": [
      "Model: \"model_1\"\n",
      "_________________________________________________________________\n",
      "Layer (type)                 Output Shape              Param #   \n",
      "=================================================================\n",
      "input_2 (InputLayer)         [(None, 4, 1)]            0         \n",
      "_________________________________________________________________\n",
      "lstm_2 (LSTM)                (None, 4, 128)            66560     \n",
      "_________________________________________________________________\n",
      "lstm_3 (LSTM)                (None, 4, 32)             20608     \n",
      "_________________________________________________________________\n",
      "time_distributed_1 (TimeDist (None, 4, 1)              33        \n",
      "=================================================================\n",
      "Total params: 87,201\n",
      "Trainable params: 87,201\n",
      "Non-trainable params: 0\n",
      "_________________________________________________________________\n"
     ]
    }
   ],
   "source": [
    "inputs_ae = Input(shape=(sequence_length, 1))\n",
    "encoded_ae = LSTM(128, return_sequences=True, dropout=0.5)(inputs_ae, training=True)\n",
    "decoded_ae = LSTM(32, return_sequences=True, dropout=0.5)(encoded_ae, training=True)\n",
    "out_ae = TimeDistributed(Dense(1))(decoded_ae)\n",
    "\n",
    "sequence_autoencoder = Model(inputs_ae, out_ae)\n",
    "sequence_autoencoder.compile(optimizer='adam', loss='mse', metrics=['mse'])\n",
    "sequence_autoencoder.summary()"
   ]
  },
  {
   "cell_type": "markdown",
   "metadata": {},
   "source": [
    "# TRAIN AUTOENCODER"
   ]
  },
  {
   "cell_type": "code",
   "execution_count": 33,
   "metadata": {
    "scrolled": true
   },
   "outputs": [
    {
     "name": "stdout",
     "output_type": "stream",
     "text": [
      "Train on 16215 samples\n",
      "Epoch 1/100\n",
      "16215/16215 - 1s - loss: 0.0483 - mse: 0.0483\n",
      "Epoch 2/100\n",
      "16215/16215 - 1s - loss: 0.0496 - mse: 0.0496\n",
      "Epoch 3/100\n",
      "16215/16215 - 1s - loss: 0.0477 - mse: 0.0477\n",
      "Epoch 4/100\n",
      "16215/16215 - 1s - loss: 0.0487 - mse: 0.0487\n",
      "Epoch 5/100\n",
      "16215/16215 - 1s - loss: 0.0498 - mse: 0.0498\n",
      "Epoch 6/100\n",
      "16215/16215 - 1s - loss: 0.0489 - mse: 0.0489\n",
      "Epoch 7/100\n",
      "16215/16215 - 1s - loss: 0.0478 - mse: 0.0478\n",
      "Epoch 8/100\n",
      "16215/16215 - 1s - loss: 0.0488 - mse: 0.0488\n",
      "Epoch 9/100\n",
      "16215/16215 - 1s - loss: 0.0494 - mse: 0.0494\n",
      "Epoch 10/100\n",
      "16215/16215 - 1s - loss: 0.0489 - mse: 0.0489\n",
      "Epoch 11/100\n",
      "16215/16215 - 1s - loss: 0.0485 - mse: 0.0485\n",
      "Epoch 12/100\n",
      "16215/16215 - 1s - loss: 0.0481 - mse: 0.0481\n",
      "Epoch 13/100\n",
      "16215/16215 - 1s - loss: 0.0484 - mse: 0.0484\n",
      "Epoch 14/100\n",
      "16215/16215 - 1s - loss: 0.0495 - mse: 0.0495\n",
      "Epoch 15/100\n",
      "16215/16215 - 1s - loss: 0.0490 - mse: 0.0490\n",
      "Epoch 16/100\n",
      "16215/16215 - 1s - loss: 0.0490 - mse: 0.0490\n",
      "Epoch 17/100\n",
      "16215/16215 - 1s - loss: 0.0498 - mse: 0.0498\n",
      "Epoch 18/100\n",
      "16215/16215 - 1s - loss: 0.0483 - mse: 0.0483\n",
      "Epoch 19/100\n",
      "16215/16215 - 1s - loss: 0.0492 - mse: 0.0492\n",
      "Epoch 20/100\n",
      "16215/16215 - 1s - loss: 0.0490 - mse: 0.0490\n",
      "Epoch 21/100\n",
      "16215/16215 - 1s - loss: 0.0497 - mse: 0.0497\n",
      "Epoch 22/100\n",
      "16215/16215 - 1s - loss: 0.0491 - mse: 0.0491\n",
      "Epoch 23/100\n",
      "16215/16215 - 1s - loss: 0.0485 - mse: 0.0485\n",
      "Epoch 24/100\n",
      "16215/16215 - 1s - loss: 0.0484 - mse: 0.0484\n",
      "Epoch 25/100\n",
      "16215/16215 - 1s - loss: 0.0486 - mse: 0.0486\n",
      "Epoch 26/100\n",
      "16215/16215 - 1s - loss: 0.0490 - mse: 0.0490\n",
      "Epoch 27/100\n",
      "16215/16215 - 1s - loss: 0.0491 - mse: 0.0491\n",
      "Epoch 28/100\n",
      "16215/16215 - 1s - loss: 0.0494 - mse: 0.0494\n",
      "Epoch 29/100\n",
      "16215/16215 - 1s - loss: 0.0483 - mse: 0.0483\n",
      "Epoch 30/100\n",
      "16215/16215 - 1s - loss: 0.0482 - mse: 0.0482\n",
      "Epoch 31/100\n",
      "16215/16215 - 1s - loss: 0.0477 - mse: 0.0477\n",
      "Epoch 32/100\n",
      "16215/16215 - 1s - loss: 0.0485 - mse: 0.0485\n",
      "Epoch 33/100\n",
      "16215/16215 - 1s - loss: 0.0493 - mse: 0.0493\n",
      "Epoch 34/100\n",
      "16215/16215 - 1s - loss: 0.0491 - mse: 0.0491\n",
      "Epoch 35/100\n",
      "16215/16215 - 1s - loss: 0.0495 - mse: 0.0495\n",
      "Epoch 36/100\n",
      "16215/16215 - 1s - loss: 0.0491 - mse: 0.0491\n",
      "Epoch 37/100\n",
      "16215/16215 - 1s - loss: 0.0470 - mse: 0.0470\n",
      "Epoch 38/100\n",
      "16215/16215 - 1s - loss: 0.0488 - mse: 0.0488\n",
      "Epoch 39/100\n",
      "16215/16215 - 1s - loss: 0.0489 - mse: 0.0489\n",
      "Epoch 40/100\n",
      "16215/16215 - 1s - loss: 0.0477 - mse: 0.0477\n",
      "Epoch 41/100\n",
      "16215/16215 - 1s - loss: 0.0495 - mse: 0.0495\n",
      "Epoch 42/100\n",
      "16215/16215 - 1s - loss: 0.0493 - mse: 0.0493\n",
      "Epoch 43/100\n",
      "16215/16215 - 1s - loss: 0.0488 - mse: 0.0488\n",
      "Epoch 44/100\n",
      "16215/16215 - 1s - loss: 0.0484 - mse: 0.0484\n",
      "Epoch 45/100\n",
      "16215/16215 - 1s - loss: 0.0475 - mse: 0.0475\n",
      "Epoch 46/100\n",
      "16215/16215 - 1s - loss: 0.0489 - mse: 0.0489\n",
      "Epoch 47/100\n",
      "16215/16215 - 1s - loss: 0.0482 - mse: 0.0482\n",
      "Epoch 48/100\n",
      "16215/16215 - 1s - loss: 0.0483 - mse: 0.0483\n",
      "Epoch 49/100\n",
      "16215/16215 - 1s - loss: 0.0479 - mse: 0.0479\n",
      "Epoch 50/100\n",
      "16215/16215 - 1s - loss: 0.0494 - mse: 0.0494\n",
      "Epoch 51/100\n",
      "16215/16215 - 1s - loss: 0.0477 - mse: 0.0477\n",
      "Epoch 52/100\n",
      "16215/16215 - 1s - loss: 0.0497 - mse: 0.0497\n",
      "Epoch 53/100\n",
      "16215/16215 - 1s - loss: 0.0493 - mse: 0.0493\n",
      "Epoch 54/100\n",
      "16215/16215 - 1s - loss: 0.0484 - mse: 0.0484\n",
      "Epoch 55/100\n",
      "16215/16215 - 1s - loss: 0.0486 - mse: 0.0486\n",
      "Epoch 56/100\n",
      "16215/16215 - 1s - loss: 0.0494 - mse: 0.0494\n",
      "Epoch 57/100\n",
      "16215/16215 - 1s - loss: 0.0488 - mse: 0.0488\n",
      "Epoch 58/100\n",
      "16215/16215 - 1s - loss: 0.0480 - mse: 0.0480\n",
      "Epoch 59/100\n",
      "16215/16215 - 1s - loss: 0.0495 - mse: 0.0495\n",
      "Epoch 60/100\n",
      "16215/16215 - 1s - loss: 0.0482 - mse: 0.0482\n",
      "Epoch 61/100\n",
      "16215/16215 - 1s - loss: 0.0493 - mse: 0.0493\n",
      "Epoch 62/100\n",
      "16215/16215 - 1s - loss: 0.0487 - mse: 0.0487\n",
      "Epoch 63/100\n",
      "16215/16215 - 1s - loss: 0.0479 - mse: 0.0479\n",
      "Epoch 64/100\n",
      "16215/16215 - 1s - loss: 0.0476 - mse: 0.0476\n",
      "Epoch 65/100\n",
      "16215/16215 - 1s - loss: 0.0484 - mse: 0.0484\n",
      "Epoch 66/100\n",
      "16215/16215 - 1s - loss: 0.0493 - mse: 0.0493\n",
      "Epoch 67/100\n",
      "16215/16215 - 1s - loss: 0.0477 - mse: 0.0477\n",
      "Epoch 68/100\n",
      "16215/16215 - 1s - loss: 0.0491 - mse: 0.0491\n",
      "Epoch 69/100\n",
      "16215/16215 - 1s - loss: 0.0503 - mse: 0.0503\n",
      "Epoch 70/100\n",
      "16215/16215 - 1s - loss: 0.0486 - mse: 0.0486\n",
      "Epoch 71/100\n",
      "16215/16215 - 1s - loss: 0.0490 - mse: 0.0490\n",
      "Epoch 72/100\n",
      "16215/16215 - 1s - loss: 0.0486 - mse: 0.0486\n",
      "Epoch 73/100\n",
      "16215/16215 - 1s - loss: 0.0477 - mse: 0.0477\n",
      "Epoch 74/100\n",
      "16215/16215 - 1s - loss: 0.0481 - mse: 0.0481\n",
      "Epoch 75/100\n",
      "16215/16215 - 1s - loss: 0.0499 - mse: 0.0499\n",
      "Epoch 76/100\n",
      "16215/16215 - 1s - loss: 0.0485 - mse: 0.0485\n",
      "Epoch 77/100\n",
      "16215/16215 - 1s - loss: 0.0495 - mse: 0.0495\n",
      "Epoch 78/100\n",
      "16215/16215 - 1s - loss: 0.0483 - mse: 0.0483\n",
      "Epoch 79/100\n",
      "16215/16215 - 1s - loss: 0.0503 - mse: 0.0503\n",
      "Epoch 80/100\n",
      "16215/16215 - 1s - loss: 0.0476 - mse: 0.0476\n",
      "Epoch 81/100\n",
      "16215/16215 - 1s - loss: 0.0480 - mse: 0.0480\n",
      "Epoch 82/100\n",
      "16215/16215 - 1s - loss: 0.0500 - mse: 0.0500\n",
      "Epoch 83/100\n",
      "16215/16215 - 1s - loss: 0.0499 - mse: 0.0499\n",
      "Epoch 84/100\n",
      "16215/16215 - 1s - loss: 0.0493 - mse: 0.0493\n",
      "Epoch 85/100\n",
      "16215/16215 - 1s - loss: 0.0488 - mse: 0.0488\n",
      "Epoch 86/100\n",
      "16215/16215 - 1s - loss: 0.0481 - mse: 0.0481\n",
      "Epoch 87/100\n",
      "16215/16215 - 1s - loss: 0.0480 - mse: 0.0480\n",
      "Epoch 88/100\n",
      "16215/16215 - 1s - loss: 0.0484 - mse: 0.0484\n",
      "Epoch 89/100\n",
      "16215/16215 - 1s - loss: 0.0498 - mse: 0.0498\n",
      "Epoch 90/100\n",
      "16215/16215 - 1s - loss: 0.0493 - mse: 0.0493\n",
      "Epoch 91/100\n",
      "16215/16215 - 1s - loss: 0.0493 - mse: 0.0493\n",
      "Epoch 92/100\n",
      "16215/16215 - 1s - loss: 0.0482 - mse: 0.0482\n",
      "Epoch 93/100\n",
      "16215/16215 - 1s - loss: 0.0483 - mse: 0.0483\n",
      "Epoch 94/100\n",
      "16215/16215 - 1s - loss: 0.0483 - mse: 0.0483\n",
      "Epoch 95/100\n",
      "16215/16215 - 1s - loss: 0.0470 - mse: 0.0470\n",
      "Epoch 96/100\n",
      "16215/16215 - 1s - loss: 0.0483 - mse: 0.0483\n",
      "Epoch 97/100\n",
      "16215/16215 - 1s - loss: 0.0502 - mse: 0.0502\n",
      "Epoch 98/100\n",
      "16215/16215 - 1s - loss: 0.0484 - mse: 0.0484\n",
      "Epoch 99/100\n",
      "16215/16215 - 1s - loss: 0.0493 - mse: 0.0493\n",
      "Epoch 100/100\n",
      "16215/16215 - 1s - loss: 0.0487 - mse: 0.0487\n"
     ]
    }
   ],
   "source": [
    "history_0 = sequence_autoencoder.fit(X[:len(X_train_c)+len(X_train_o)], X[:len(X_train_c)+len(X_train_o)], \n",
    "                         batch_size=128, \n",
    "                         epochs=100, \n",
    "                         verbose=2, \n",
    "                         shuffle=True)"
   ]
  },
  {
   "cell_type": "markdown",
   "metadata": {},
   "source": [
    "# ENCODE PRICE AND CONCATENATE REGRESSORS"
   ]
  },
  {
   "cell_type": "markdown",
   "metadata": {},
   "source": [
    "We compute features extraction and concatenate the result with other variables. At this point I made a little deviation from the Uber solution: they suggest manipulating the feature vectors extracted by our encoder aggregating them via an ensemble technique (e.g., averaging). I decided to let them original and free. "
   ]
  },
  {
   "cell_type": "code",
   "execution_count": 34,
   "metadata": {},
   "outputs": [
    {
     "data": {
      "text/plain": [
       "(17063, 4, 136)"
      ]
     },
     "execution_count": 34,
     "metadata": {},
     "output_type": "execute_result"
    }
   ],
   "source": [
    "encoder = Model(inputs_ae, encoded_ae)\n",
    "XX = encoder.predict(X)\n",
    "XXF = np.concatenate([XX, F], axis=2)\n",
    "XXF.shape"
   ]
  },
  {
   "cell_type": "markdown",
   "metadata": {},
   "source": [
    "# SPLIT TRAIN TEST"
   ]
  },
  {
   "cell_type": "code",
   "execution_count": 35,
   "metadata": {},
   "outputs": [],
   "source": [
    "X_train1, X_test1 = XXF[:len(X_train_c)+len(X_train_o)], XXF[len(X_train_c)+len(X_train_o):]\n",
    "y_train1, y_test1 = y[:len(y_train_c)+len(y_train_o)], y[len(y_train_c)+len(y_train_o):]"
   ]
  },
  {
   "cell_type": "markdown",
   "metadata": {},
   "source": [
    "# SCALE DATA"
   ]
  },
  {
   "cell_type": "code",
   "execution_count": 36,
   "metadata": {},
   "outputs": [],
   "source": [
    "scaler1 = StandardScaler()\n",
    "X_train1 = scaler1.fit_transform(X_train1.reshape(-1,XXF.shape[-1])).reshape(-1,sequence_length,XXF.shape[-1])\n",
    "X_test1 = scaler1.transform(X_test1.reshape(-1,XXF.shape[-1])).reshape(-1,sequence_length,XXF.shape[-1])"
   ]
  },
  {
   "cell_type": "markdown",
   "metadata": {},
   "source": [
    "# DEFINE FORECASTER"
   ]
  },
  {
   "cell_type": "code",
   "execution_count": 37,
   "metadata": {},
   "outputs": [],
   "source": [
    "inputs1 = Input(shape=(X_train1.shape[1], X_train1.shape[2]))\n",
    "lstm1 = LSTM(128, return_sequences=True, dropout=0.5)(inputs1, training=True)\n",
    "lstm1 = LSTM(32, return_sequences=False, dropout=0.5)(lstm1, training=True)\n",
    "dense1 = Dense(50)(lstm1)\n",
    "out1 = Dense(1)(dense1)\n",
    "\n",
    "model1 = Model(inputs1, out1)\n",
    "model1.compile(loss='mse', optimizer='adam', metrics=['mse'])"
   ]
  },
  {
   "cell_type": "markdown",
   "metadata": {},
   "source": [
    "# FIT FORECASTER"
   ]
  },
  {
   "cell_type": "code",
   "execution_count": 38,
   "metadata": {},
   "outputs": [
    {
     "name": "stdout",
     "output_type": "stream",
     "text": [
      "Train on 16215 samples\n",
      "Epoch 1/30\n",
      "16215/16215 - 3s - loss: 0.1542 - mse: 0.1542\n",
      "Epoch 2/30\n",
      "16215/16215 - 1s - loss: 0.0502 - mse: 0.0502\n",
      "Epoch 3/30\n",
      "16215/16215 - 1s - loss: 0.0471 - mse: 0.0471\n",
      "Epoch 4/30\n",
      "16215/16215 - 1s - loss: 0.0462 - mse: 0.0462\n",
      "Epoch 5/30\n",
      "16215/16215 - 1s - loss: 0.0455 - mse: 0.0455\n",
      "Epoch 6/30\n",
      "16215/16215 - 1s - loss: 0.0457 - mse: 0.0457\n",
      "Epoch 7/30\n",
      "16215/16215 - 1s - loss: 0.0444 - mse: 0.0444\n",
      "Epoch 8/30\n",
      "16215/16215 - 1s - loss: 0.0440 - mse: 0.0440\n",
      "Epoch 9/30\n",
      "16215/16215 - 1s - loss: 0.0437 - mse: 0.0437\n",
      "Epoch 10/30\n",
      "16215/16215 - 1s - loss: 0.0430 - mse: 0.0430\n",
      "Epoch 11/30\n",
      "16215/16215 - 1s - loss: 0.0427 - mse: 0.0427\n",
      "Epoch 12/30\n",
      "16215/16215 - 1s - loss: 0.0427 - mse: 0.0427\n",
      "Epoch 13/30\n",
      "16215/16215 - 1s - loss: 0.0424 - mse: 0.0424\n",
      "Epoch 14/30\n",
      "16215/16215 - 1s - loss: 0.0429 - mse: 0.0429\n",
      "Epoch 15/30\n",
      "16215/16215 - 1s - loss: 0.0427 - mse: 0.0427\n",
      "Epoch 16/30\n",
      "16215/16215 - 1s - loss: 0.0420 - mse: 0.0420\n",
      "Epoch 17/30\n",
      "16215/16215 - 1s - loss: 0.0422 - mse: 0.0422\n",
      "Epoch 18/30\n",
      "16215/16215 - 1s - loss: 0.0419 - mse: 0.0419\n",
      "Epoch 19/30\n",
      "16215/16215 - 1s - loss: 0.0419 - mse: 0.0419\n",
      "Epoch 20/30\n",
      "16215/16215 - 1s - loss: 0.0418 - mse: 0.0418\n",
      "Epoch 21/30\n",
      "16215/16215 - 1s - loss: 0.0416 - mse: 0.0416\n",
      "Epoch 22/30\n",
      "16215/16215 - 1s - loss: 0.0412 - mse: 0.0412\n",
      "Epoch 23/30\n",
      "16215/16215 - 1s - loss: 0.0415 - mse: 0.0415\n",
      "Epoch 24/30\n",
      "16215/16215 - 1s - loss: 0.0411 - mse: 0.0411\n",
      "Epoch 25/30\n",
      "16215/16215 - 1s - loss: 0.0415 - mse: 0.0415\n",
      "Epoch 26/30\n",
      "16215/16215 - 1s - loss: 0.0408 - mse: 0.0408\n",
      "Epoch 27/30\n",
      "16215/16215 - 1s - loss: 0.0414 - mse: 0.0414\n",
      "Epoch 28/30\n",
      "16215/16215 - 1s - loss: 0.0409 - mse: 0.0409\n",
      "Epoch 29/30\n",
      "16215/16215 - 1s - loss: 0.0409 - mse: 0.0409\n",
      "Epoch 30/30\n",
      "16215/16215 - 1s - loss: 0.0409 - mse: 0.0409\n"
     ]
    }
   ],
   "source": [
    "history_1 = model1.fit(X_train1, y_train1, epochs=30, batch_size=128, verbose=2, shuffle=True)"
   ]
  },
  {
   "cell_type": "markdown",
   "metadata": {},
   "source": [
    "# FUNCTION FOR STOCHASTIC DROPOUT"
   ]
  },
  {
   "cell_type": "code",
   "execution_count": 48,
   "metadata": {},
   "outputs": [],
   "source": [
    "def stoc_drop1(enc, NN):\n",
    "    \n",
    "    enc_pred = enc.predict(X[len(X_train_c)+len(X_train_o):])\n",
    "    enc_pred = np.concatenate([enc_pred, F[len(X_train_c)+len(X_train_o):]], axis=2)\n",
    "    trans_pred = scaler1.transform(enc_pred.reshape(-1,enc_pred.shape[-1])).reshape(-1,sequence_length,enc_pred.shape[-1])\n",
    "    NN_pred = NN.predict(trans_pred)\n",
    "    \n",
    "    return NN_pred"
   ]
  },
  {
   "cell_type": "markdown",
   "metadata": {},
   "source": [
    "# COMPUTE STOCHASTIC DROPOUT"
   ]
  },
  {
   "cell_type": "code",
   "execution_count": 49,
   "metadata": {},
   "outputs": [
    {
     "name": "stderr",
     "output_type": "stream",
     "text": [
      "100%|████████████████████████████████████████████████████████████████████████████████| 100/100 [00:20<00:00,  4.79it/s]"
     ]
    },
    {
     "name": "stdout",
     "output_type": "stream",
     "text": [
      "0.12488265201272268 0.002835366824847975\n"
     ]
    },
    {
     "name": "stderr",
     "output_type": "stream",
     "text": [
      "\n"
     ]
    }
   ],
   "source": [
    "scores1 = []\n",
    "\n",
    "for i in tqdm.tqdm(range(0,100)):\n",
    "    scores1.append(mean_absolute_error(y_test1, stoc_drop1(encoder, model1)))\n",
    "\n",
    "print(np.mean(scores1), np.std(scores1))"
   ]
  },
  {
   "cell_type": "code",
   "execution_count": null,
   "metadata": {},
   "outputs": [],
   "source": []
  },
  {
   "cell_type": "code",
   "execution_count": null,
   "metadata": {},
   "outputs": [],
   "source": []
  },
  {
   "cell_type": "markdown",
   "metadata": {},
   "source": [
    "# SIMPLE FORECASTER"
   ]
  },
  {
   "cell_type": "markdown",
   "metadata": {},
   "source": [
    "# CONCATENATE REGRESSORS"
   ]
  },
  {
   "cell_type": "code",
   "execution_count": 40,
   "metadata": {},
   "outputs": [
    {
     "name": "stdout",
     "output_type": "stream",
     "text": [
      "(17063, 4, 9)\n"
     ]
    }
   ],
   "source": [
    "XF = np.concatenate([X, F], axis=2)\n",
    "print(XF.shape)"
   ]
  },
  {
   "cell_type": "markdown",
   "metadata": {},
   "source": [
    "# SPLIT TRAIN TEST"
   ]
  },
  {
   "cell_type": "code",
   "execution_count": 41,
   "metadata": {},
   "outputs": [],
   "source": [
    "X_train2, X_test2 = XF[:len(X_train_c)+len(X_train_o)], XF[len(X_train_c)+len(X_train_o):]\n",
    "y_train2, y_test2 = y[:len(y_train_c)+len(y_train_o)], y[len(y_train_c)+len(y_train_o):]"
   ]
  },
  {
   "cell_type": "markdown",
   "metadata": {},
   "source": [
    "# SCALE DATA"
   ]
  },
  {
   "cell_type": "code",
   "execution_count": 42,
   "metadata": {},
   "outputs": [],
   "source": [
    "scaler2 = StandardScaler()\n",
    "X_train2 = scaler2.fit_transform(X_train2.reshape(-1,X_train2.shape[-1])).reshape(-1,sequence_length,X_train2.shape[-1])\n",
    "X_test2 = scaler2.transform(X_test2.reshape(-1,X_train2.shape[-1])).reshape(-1,sequence_length,X_train2.shape[-1])"
   ]
  },
  {
   "cell_type": "markdown",
   "metadata": {},
   "source": [
    "# DEFINE LSTM FORECASTER"
   ]
  },
  {
   "cell_type": "code",
   "execution_count": 44,
   "metadata": {},
   "outputs": [],
   "source": [
    "inputs2 = Input(shape=(X_train2.shape[1], X_train2.shape[2]))\n",
    "lstm2 = LSTM(128, return_sequences=True, dropout=0.5)(inputs2, training=True)\n",
    "lstm2 = LSTM(32, return_sequences=False, dropout=0.5)(lstm2, training=True)\n",
    "dense2 = Dense(50)(lstm2)\n",
    "out2 = Dense(1)(dense2)\n",
    "\n",
    "model2 = Model(inputs2, out2)\n",
    "model2.compile(loss='mse', optimizer='adam', metrics=['mse'])"
   ]
  },
  {
   "cell_type": "markdown",
   "metadata": {},
   "source": [
    "# FIT FORECASTER"
   ]
  },
  {
   "cell_type": "code",
   "execution_count": 45,
   "metadata": {},
   "outputs": [
    {
     "name": "stdout",
     "output_type": "stream",
     "text": [
      "Train on 16215 samples\n",
      "Epoch 1/30\n",
      "16215/16215 - 3s - loss: 0.2890 - mse: 0.2890\n",
      "Epoch 2/30\n",
      "16215/16215 - 1s - loss: 0.0600 - mse: 0.0600\n",
      "Epoch 3/30\n",
      "16215/16215 - 1s - loss: 0.0567 - mse: 0.0567\n",
      "Epoch 4/30\n",
      "16215/16215 - 1s - loss: 0.0544 - mse: 0.0544\n",
      "Epoch 5/30\n",
      "16215/16215 - 1s - loss: 0.0531 - mse: 0.0531\n",
      "Epoch 6/30\n",
      "16215/16215 - 1s - loss: 0.0526 - mse: 0.0526\n",
      "Epoch 7/30\n",
      "16215/16215 - 1s - loss: 0.0506 - mse: 0.0506\n",
      "Epoch 8/30\n",
      "16215/16215 - 1s - loss: 0.0507 - mse: 0.0507\n",
      "Epoch 9/30\n",
      "16215/16215 - 1s - loss: 0.0508 - mse: 0.0508\n",
      "Epoch 10/30\n",
      "16215/16215 - 1s - loss: 0.0494 - mse: 0.0494\n",
      "Epoch 11/30\n",
      "16215/16215 - 1s - loss: 0.0478 - mse: 0.0478\n",
      "Epoch 12/30\n",
      "16215/16215 - 1s - loss: 0.0473 - mse: 0.0473\n",
      "Epoch 13/30\n",
      "16215/16215 - 1s - loss: 0.0470 - mse: 0.0470\n",
      "Epoch 14/30\n",
      "16215/16215 - 1s - loss: 0.0471 - mse: 0.0471\n",
      "Epoch 15/30\n",
      "16215/16215 - 1s - loss: 0.0463 - mse: 0.0463\n",
      "Epoch 16/30\n",
      "16215/16215 - 1s - loss: 0.0464 - mse: 0.0464\n",
      "Epoch 17/30\n",
      "16215/16215 - 1s - loss: 0.0459 - mse: 0.0459\n",
      "Epoch 18/30\n",
      "16215/16215 - 1s - loss: 0.0468 - mse: 0.0468\n",
      "Epoch 19/30\n",
      "16215/16215 - 1s - loss: 0.0457 - mse: 0.0457\n",
      "Epoch 20/30\n",
      "16215/16215 - 1s - loss: 0.0466 - mse: 0.0466\n",
      "Epoch 21/30\n",
      "16215/16215 - 1s - loss: 0.0458 - mse: 0.0458\n",
      "Epoch 22/30\n",
      "16215/16215 - 1s - loss: 0.0467 - mse: 0.0467\n",
      "Epoch 23/30\n",
      "16215/16215 - 1s - loss: 0.0446 - mse: 0.0446\n",
      "Epoch 24/30\n",
      "16215/16215 - 1s - loss: 0.0449 - mse: 0.0449\n",
      "Epoch 25/30\n",
      "16215/16215 - 1s - loss: 0.0454 - mse: 0.0454\n",
      "Epoch 26/30\n",
      "16215/16215 - 1s - loss: 0.0450 - mse: 0.0450\n",
      "Epoch 27/30\n",
      "16215/16215 - 1s - loss: 0.0446 - mse: 0.0446\n",
      "Epoch 28/30\n",
      "16215/16215 - 1s - loss: 0.0451 - mse: 0.0451\n",
      "Epoch 29/30\n",
      "16215/16215 - 1s - loss: 0.0445 - mse: 0.0445\n",
      "Epoch 30/30\n",
      "16215/16215 - 1s - loss: 0.0452 - mse: 0.0452\n"
     ]
    }
   ],
   "source": [
    "history_1 = model2.fit(X_train2, y_train2, epochs=30, batch_size=128, verbose=2, shuffle=True)"
   ]
  },
  {
   "cell_type": "markdown",
   "metadata": {},
   "source": [
    "# FUNCTION FOR STOCHASTIC DROPOUT"
   ]
  },
  {
   "cell_type": "code",
   "execution_count": 46,
   "metadata": {},
   "outputs": [],
   "source": [
    "def stoc_drop2(NN):\n",
    "    \n",
    "    trans_pred = scaler2.transform(XF[len(X_train_c)+len(X_train_o):].reshape(-1,XF.shape[-1])).reshape(-1,sequence_length,XF.shape[-1])\n",
    "    NN_pred = NN.predict(trans_pred)\n",
    "    \n",
    "    return NN_pred"
   ]
  },
  {
   "cell_type": "markdown",
   "metadata": {},
   "source": [
    "# COMPUTE STOCHASTIC DROPOUT"
   ]
  },
  {
   "cell_type": "code",
   "execution_count": 47,
   "metadata": {},
   "outputs": [
    {
     "name": "stderr",
     "output_type": "stream",
     "text": [
      "100%|████████████████████████████████████████████████████████████████████████████████| 100/100 [00:10<00:00,  9.28it/s]"
     ]
    },
    {
     "name": "stdout",
     "output_type": "stream",
     "text": [
      "0.12992186678442752 0.003053691586290646\n"
     ]
    },
    {
     "name": "stderr",
     "output_type": "stream",
     "text": [
      "\n"
     ]
    }
   ],
   "source": [
    "scores2 = []\n",
    "\n",
    "for i in tqdm.tqdm(range(0,100)):\n",
    "    scores2.append(mean_absolute_error(y_test2, stoc_drop2(model2)))\n",
    "\n",
    "print(np.mean(scores2), np.std(scores2))"
   ]
  },
  {
   "cell_type": "markdown",
   "metadata": {},
   "source": [
    "# EVALUATION"
   ]
  },
  {
   "cell_type": "markdown",
   "metadata": {},
   "source": [
    " the best way to evaluate two different procedures is to replicate them as much as possible, in order to mark attention only at the points of real interest. In this implementation, I want to show evidence of LSTM Autoencoder power as a tool for relevant features creation for time series forecasting. In this sense to evaluate the goodness of our methodology, I decided to develop a new model for price forecasting with the same structure as our previous forecasting NN."
   ]
  },
  {
   "cell_type": "markdown",
   "metadata": {},
   "source": [
    "The only difference between model1 and model2 is the features they received as input"
   ]
  },
  {
   "cell_type": "markdown",
   "metadata": {},
   "source": [
    "model1 receives the encoder output plus the external regressors.\n",
    "model2 receives past raw prices plus the external regressors."
   ]
  },
  {
   "cell_type": "markdown",
   "metadata": {},
   "source": [
    "# UNCERTAINTY ESTIMATION"
   ]
  },
  {
   "cell_type": "markdown",
   "metadata": {},
   "source": [
    "during the feedforward process, dropout is applied to all layers in both the encoder and the prediction network. As a result, the random dropout in the encoder perturbs the input intelligently in the embedding space, which accounts for potential model misspecification and gets further propagated through the prediction network."
   ]
  },
  {
   "cell_type": "markdown",
   "metadata": {},
   "source": [
    "add trainable dropout layers in our Neural Network and reactivate them during prediction (Keras used to cut dropout during prediction). Here the simplified function that I used, which compresses: the dropout activation, features concatenation and prediction all in one shoot."
   ]
  },
  {
   "cell_type": "markdown",
   "metadata": {},
   "source": [
    "# COMPARE RESULTS"
   ]
  },
  {
   "cell_type": "markdown",
   "metadata": {},
   "source": [
    "# FUNCTION TO GET TEST DATA FOR COUNTY"
   ]
  },
  {
   "cell_type": "code",
   "execution_count": 50,
   "metadata": {},
   "outputs": [],
   "source": [
    "def test_county(county):\n",
    "    \n",
    "    test_X_c, test_X_o = [], []\n",
    "    \n",
    "    for sequence in gen_sequence(df[(df[\"region\"]==county)&(df[\"type\"]==\"conventional\")&(df[\"year\"]==2018)], \n",
    "                                 sequence_length, ['AveragePrice']):\n",
    "        test_X_c.append(sequence)\n",
    "        \n",
    "    for sequence in gen_sequence(df[(df[\"region\"]==county)&(df[\"type\"]==\"organic\")&(df[\"year\"]==2018)], \n",
    "                                 sequence_length, ['AveragePrice']):\n",
    "        test_X_o.append(sequence)\n",
    "        \n",
    "    test_X_c, test_X_o = np.asarray(test_X_c), np.asarray(test_X_o)\n",
    "    \n",
    "    test_y_c, test_y_o = [], []\n",
    "    \n",
    "    for sequence in gen_labels(df[(df[\"region\"]==county)&(df[\"type\"]==\"conventional\")&(df[\"year\"]==2018)],\n",
    "                               sequence_length, ['AveragePrice']):\n",
    "        test_y_c.append(sequence)\n",
    "        \n",
    "    for sequence in gen_labels(df[(df[\"region\"]==county)&(df[\"type\"]==\"organic\")&(df[\"year\"]==2018)], \n",
    "                               sequence_length, ['AveragePrice']):\n",
    "        test_y_o.append(sequence)\n",
    "        \n",
    "    test_y_c, test_y_o = np.asarray(test_y_c), np.asarray(test_y_o)\n",
    "    \n",
    "    test_F_c, test_F_o = [], []\n",
    "    \n",
    "    for sequence in gen_sequence(df[(df[\"region\"]==county)&(df[\"type\"]==\"conventional\")&(df[\"year\"]==2018)], \n",
    "                                 sequence_length, col):\n",
    "        test_F_c.append(sequence)\n",
    "        \n",
    "    for sequence in gen_sequence(df[(df[\"region\"]==county)&(df[\"type\"]==\"organic\")&(df[\"year\"]==2018)],\n",
    "                                 sequence_length, col):\n",
    "        test_F_o.append(sequence)\n",
    "        \n",
    "    test_F_c, test_F_o = np.asarray(test_F_c), np.asarray(test_F_o)\n",
    "    \n",
    "    X = np.concatenate([test_X_c,test_X_o],axis=0)\n",
    "    y = np.concatenate([test_y_c,test_y_o],axis=0)\n",
    "    F = np.concatenate([test_F_c,test_F_o],axis=0)\n",
    "    \n",
    "    return X, y, F"
   ]
  },
  {
   "cell_type": "markdown",
   "metadata": {},
   "source": [
    "# FUNCTION FOR STOCHASTIC DROPOUT FOR SINGLE COUNTY"
   ]
  },
  {
   "cell_type": "code",
   "execution_count": 51,
   "metadata": {},
   "outputs": [],
   "source": [
    "def test_stoc_drop1(county, enc, NN):\n",
    "    \n",
    "    X, y, F = test_county(county)\n",
    "    \n",
    "    enc_pred = enc.predict(X)\n",
    "    enc_pred = np.concatenate([enc_pred, F], axis=2)\n",
    "    trans_pred = scaler1.transform(enc_pred.reshape(-1,enc_pred.shape[-1])).reshape(-1,sequence_length,enc_pred.shape[-1])\n",
    "    NN_pred = NN.predict(trans_pred)\n",
    "    \n",
    "    return NN_pred, y\n",
    "\n",
    "\n",
    "def test_stoc_drop2(county, NN):\n",
    "    \n",
    "    X, y, F = test_county(county)\n",
    "    \n",
    "    XF = np.concatenate([X, F], axis=2)\n",
    "    trans_pred = scaler2.transform(XF.reshape(-1,XF.shape[-1])).reshape(-1,sequence_length,XF.shape[-1])\n",
    "    NN_pred = NN.predict(trans_pred)\n",
    "    \n",
    "    return NN_pred, y"
   ]
  },
  {
   "cell_type": "code",
   "execution_count": 52,
   "metadata": {},
   "outputs": [],
   "source": [
    "pred1_test, y1_test = test_stoc_drop1('TotalUS', encoder, model1)"
   ]
  },
  {
   "cell_type": "markdown",
   "metadata": {},
   "source": [
    "# COMPUTE STOCHASTIC DROPOUT FOR SINGLE COUNTY"
   ]
  },
  {
   "cell_type": "code",
   "execution_count": 53,
   "metadata": {},
   "outputs": [
    {
     "name": "stderr",
     "output_type": "stream",
     "text": [
      "100%|████████████████████████████████████████████████████████████████████████████████| 100/100 [00:12<00:00,  8.22it/s]"
     ]
    },
    {
     "name": "stdout",
     "output_type": "stream",
     "text": [
      "0.08958533735126256 0.019393729811511287\n"
     ]
    },
    {
     "name": "stderr",
     "output_type": "stream",
     "text": [
      "\n"
     ]
    }
   ],
   "source": [
    "mae1_test = []\n",
    "\n",
    "for i in tqdm.tqdm(range(0,100)):\n",
    "    mae1_test.append(mean_absolute_error(y1_test, test_stoc_drop1('TotalUS', encoder, model1)[0]))\n",
    "\n",
    "print(np.mean(mae1_test), np.std(mae1_test))"
   ]
  },
  {
   "cell_type": "code",
   "execution_count": 54,
   "metadata": {},
   "outputs": [],
   "source": [
    "pred2_test, y2_test = test_stoc_drop2('TotalUS', model2)"
   ]
  },
  {
   "cell_type": "markdown",
   "metadata": {},
   "source": [
    "# COMPUTE STOCHASTIC DROPOUT FOR SINGLE COUNTY"
   ]
  },
  {
   "cell_type": "code",
   "execution_count": 55,
   "metadata": {},
   "outputs": [
    {
     "name": "stderr",
     "output_type": "stream",
     "text": [
      "100%|████████████████████████████████████████████████████████████████████████████████| 100/100 [00:06<00:00, 16.05it/s]"
     ]
    },
    {
     "name": "stdout",
     "output_type": "stream",
     "text": [
      "0.09567387599647045 0.01486331282957356\n"
     ]
    },
    {
     "name": "stderr",
     "output_type": "stream",
     "text": [
      "\n"
     ]
    }
   ],
   "source": [
    "mae2_test = []\n",
    "\n",
    "for i in tqdm.tqdm(range(0,100)):\n",
    "    mae2_test.append(mean_absolute_error(y2_test, test_stoc_drop2('TotalUS', model2)[0]))\n",
    "\n",
    "print(np.mean(mae2_test), np.std(mae2_test))"
   ]
  },
  {
   "cell_type": "markdown",
   "metadata": {},
   "source": [
    "# PLOT AVG AND UNCERTAINTY OF RESULTS"
   ]
  },
  {
   "cell_type": "code",
   "execution_count": 56,
   "metadata": {},
   "outputs": [
    {
     "data": {
      "text/plain": [
       "Text(0.5, 1.0, 'TotalUS')"
      ]
     },
     "execution_count": 56,
     "metadata": {},
     "output_type": "execute_result"
    },
    {
     "data": {
      "image/png": "[encoded data removed]",
      "text/plain": [
       "<Figure size 432x288 with 1 Axes>"
      ]
     },
     "metadata": {},
     "output_type": "display_data"
    }
   ],
   "source": [
    "bar = plt.bar([0,1], [np.mean(mae1_test), np.mean(mae2_test)], \n",
    "              yerr=[2.95*np.std(mae1_test), 2.95*np.std(mae2_test)])\n",
    "plt.xticks([0,1], ['model1','model2'], rotation=90)\n",
    "bar[0].set_color('cyan'), bar[1].set_color('magenta')\n",
    "plt.title('TotalUS')"
   ]
  },
  {
   "cell_type": "markdown",
   "metadata": {},
   "source": [
    "# UNSEEN DATA PREDICTION"
   ]
  },
  {
   "cell_type": "markdown",
   "metadata": {},
   "source": [
    "# FUNCTION FOR STOCHASTIC DROPOUT FOR UNSEEN COUNTY"
   ]
  },
  {
   "cell_type": "code",
   "execution_count": 57,
   "metadata": {},
   "outputs": [],
   "source": [
    "def test_other_drop1(typ, enc, NN):\n",
    "    \n",
    "    if typ == 'conventional':\n",
    "        X = np.concatenate([X_other_train_c, X_other_test_c],axis=0)\n",
    "        F = np.concatenate([f_other_train_c, f_other_test_c],axis=0)\n",
    "        y = np.concatenate([y_other_train_c, y_other_test_c],axis=0)\n",
    "    elif typ == 'organic':\n",
    "        X = np.concatenate([X_other_train_o, X_other_test_o],axis=0)\n",
    "        F = np.concatenate([f_other_train_o, f_other_test_o],axis=0)\n",
    "        y = np.concatenate([y_other_train_o, y_other_test_o],axis=0)\n",
    "    \n",
    "    enc_pred = enc.predict(X)\n",
    "    enc_pred = np.concatenate([enc_pred, F], axis=2)\n",
    "    trans_pred = scaler1.transform(enc_pred.reshape(-1,enc_pred.shape[-1])).reshape(-1,sequence_length,enc_pred.shape[-1])\n",
    "    NN_pred = NN.predict(trans_pred)\n",
    "    \n",
    "    return NN_pred, y\n",
    "\n",
    "\n",
    "def test_other_drop2(typ, NN):\n",
    "\n",
    "    if typ == 'conventional':\n",
    "        X = np.concatenate([X_other_train_c, X_other_test_c],axis=0)\n",
    "        F = np.concatenate([f_other_train_c, f_other_test_c],axis=0)\n",
    "        y = np.concatenate([y_other_train_c, y_other_test_c],axis=0)\n",
    "    elif typ == 'organic':\n",
    "        X = np.concatenate([X_other_train_o, X_other_test_o],axis=0)\n",
    "        F = np.concatenate([f_other_train_o, f_other_test_o],axis=0)\n",
    "        y = np.concatenate([y_other_train_o, y_other_test_o],axis=0)\n",
    "    \n",
    "    XF = np.concatenate([X,F], axis=2)\n",
    "    trans_pred = scaler2.transform(XF.reshape(-1,XF.shape[-1])).reshape(-1,sequence_length,XF.shape[-1])\n",
    "    NN_pred = NN.predict(trans_pred)\n",
    "    \n",
    "    return NN_pred, y"
   ]
  },
  {
   "cell_type": "code",
   "execution_count": null,
   "metadata": {},
   "outputs": [],
   "source": [
    "# COMPUTE STOCHASTIC DROPOUT FOR UNSEEN COUNTY"
   ]
  },
  {
   "cell_type": "code",
   "execution_count": null,
   "metadata": {},
   "outputs": [],
   "source": [
    "mae1_other, p1_other = [], []\n",
    "\n",
    "for i in tqdm.tqdm(range(0,100)):\n",
    "    pred1_other, true1_other = test_other_drop1('organic', encoder, model1)\n",
    "    mae1_other.append(mean_absolute_error(true1_other, pred1_other))\n",
    "    p1_other.append(pred1_other)\n",
    "\n",
    "print(np.mean(mae1_other), np.std(mae1_other))"
   ]
  },
  {
   "cell_type": "code",
   "execution_count": null,
   "metadata": {},
   "outputs": [],
   "source": [
    "# COMPUTE STOCHASTIC DROPOUT FOR UNSEEN COUNTY"
   ]
  },
  {
   "cell_type": "code",
   "execution_count": null,
   "metadata": {},
   "outputs": [],
   "source": [
    "mae2_other, p2_other = [], []\n",
    "\n",
    "for i in tqdm.tqdm(range(0,100)):\n",
    "    pred2_other, true2_other = test_other_drop2('organic', model2)\n",
    "    mae2_other.append(mean_absolute_error(true2_other, pred2_other))\n",
    "    p2_other.append(pred2_other)\n",
    "\n",
    "print(np.mean(mae2_other), np.std(mae2_other))"
   ]
  },
  {
   "cell_type": "code",
   "execution_count": null,
   "metadata": {},
   "outputs": [],
   "source": [
    "# PLOT AVG AND UNCERTAINTY OF RESULTS"
   ]
  },
  {
   "cell_type": "code",
   "execution_count": null,
   "metadata": {},
   "outputs": [],
   "source": [
    "bar = plt.bar([0,1], [np.mean(mae1_other), np.mean(mae2_other)], \n",
    "              yerr=[2.95*np.std(mae1_other), 2.95*np.std(mae2_other)])\n",
    "plt.xticks([0,1], ['model1','model2'], rotation=90)\n",
    "bar[0].set_color('cyan'), bar[1].set_color('magenta')\n",
    "plt.title('ORGANIC Albany')"
   ]
  }
 ],
 "metadata": {
  "kernelspec": {
   "display_name": "Python 3",
   "language": "python",
   "name": "python3"
  },
  "language_info": {
   "codemirror_mode": {
    "name": "ipython",
    "version": 3
   },
   "file_extension": ".py",
   "mimetype": "text/x-python",
   "name": "python",
   "nbconvert_exporter": "python",
   "pygments_lexer": "ipython3",
   "version": "3.7.7"
  }
 },
 "nbformat": 4,
 "nbformat_minor": 4
}
