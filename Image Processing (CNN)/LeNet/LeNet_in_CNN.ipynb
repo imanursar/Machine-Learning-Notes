{
 "cells": [
  {
   "cell_type": "markdown",
   "metadata": {},
   "source": [
    "The key intuition here is to have low-layers alternating convolution operations with max-pooling operations. "
   ]
  },
  {
   "cell_type": "markdown",
   "metadata": {},
   "source": [
    "The convolution operations are based on carefully chosen local receptive fields with shared weights for multiple feature maps. Then, higher levels are fully connected\n",
    "layers based on a traditional MLP with hidden layers and softmax as the output layer."
   ]
  },
  {
   "cell_type": "code",
   "execution_count": 11,
   "metadata": {},
   "outputs": [],
   "source": [
    "# import the necessary packages\n",
    "from keras import backend as K\n",
    "from tensorflow.keras.models import Sequential\n",
    "from tensorflow.keras.layers import Conv2D\n",
    "from tensorflow.keras.layers import MaxPooling2D\n",
    "from tensorflow.keras.layers import Activation\n",
    "from tensorflow.keras.layers import Flatten\n",
    "from tensorflow.keras.layers import Dense\n",
    "from tensorflow.keras.datasets import mnist\n",
    "from keras.utils import np_utils\n",
    "from tensorflow.keras.optimizers import SGD, RMSprop, Adam\n",
    "import numpy as np\n",
    "\n",
    "import matplotlib.pyplot as plt\n",
    "\n",
    "np.random.seed(1671)  # for reproducibility"
   ]
  },
  {
   "cell_type": "code",
   "execution_count": 24,
   "metadata": {},
   "outputs": [],
   "source": [
    "#define the convnet \n",
    "class LeNet:\n",
    "    @staticmethod\n",
    "    def build(input_shape, classes):\n",
    "        model = Sequential()\n",
    "        # CONV => RELU => POOL\n",
    "        model.add(Conv2D(20, kernel_size=5, padding=\"same\",input_shape=input_shape))\n",
    "        model.add(Activation(\"relu\"))\n",
    "        model.add(MaxPooling2D(pool_size=(2, 2), strides=(2, 2), padding='same'))\n",
    "        # CONV => RELU => POOL\n",
    "        model.add(Conv2D(50, kernel_size=5, padding=\"same\"))\n",
    "        model.add(Activation(\"relu\"))\n",
    "        model.add(MaxPooling2D(pool_size=(2, 2), strides=(2, 2), padding='same'))\n",
    "        # Flatten => RELU layers\n",
    "        model.add(Flatten())\n",
    "        model.add(Dense(500))\n",
    "        model.add(Activation(\"relu\"))\n",
    "\n",
    "        # a softmax classifier\n",
    "        model.add(Dense(classes))\n",
    "        model.add(Activation(\"softmax\"))\n",
    "\n",
    "        return model"
   ]
  },
  {
   "cell_type": "code",
   "execution_count": 25,
   "metadata": {},
   "outputs": [],
   "source": [
    "# network and training\n",
    "NB_EPOCH = 20\n",
    "BATCH_SIZE = 128\n",
    "VERBOSE = 1\n",
    "OPTIMIZER = Adam()\n",
    "VALIDATION_SPLIT=0.2"
   ]
  },
  {
   "cell_type": "code",
   "execution_count": 26,
   "metadata": {},
   "outputs": [],
   "source": [
    "IMG_ROWS, IMG_COLS = 28, 28 # input image dimensions\n",
    "NB_CLASSES = 10  # number of outputs = number of digits\n",
    "INPUT_SHAPE = (1, IMG_ROWS, IMG_COLS)"
   ]
  },
  {
   "cell_type": "code",
   "execution_count": 27,
   "metadata": {},
   "outputs": [],
   "source": [
    "# data: shuffled and split between train and test sets\n",
    "(X_train, y_train), (X_test, y_test) = mnist.load_data()\n",
    "K.common.set_image_dim_ordering(\"th\")"
   ]
  },
  {
   "cell_type": "code",
   "execution_count": 28,
   "metadata": {},
   "outputs": [],
   "source": [
    "# consider them as float and normalize\n",
    "X_train = X_train.astype('float32')\n",
    "X_test = X_test.astype('float32')\n",
    "X_train /= 255 \n",
    "X_test /= 255  "
   ]
  },
  {
   "cell_type": "code",
   "execution_count": 29,
   "metadata": {},
   "outputs": [],
   "source": [
    "# we need a 60K x [1 x 28 x 28] shape as input to the CONVNET\n",
    "X_train = X_train[:, np.newaxis, :, :]\n",
    "X_test = X_test[:, np.newaxis, :, :]"
   ]
  },
  {
   "cell_type": "code",
   "execution_count": 30,
   "metadata": {},
   "outputs": [
    {
     "name": "stdout",
     "output_type": "stream",
     "text": [
      "60000 train samples\n",
      "10000 test samples\n"
     ]
    }
   ],
   "source": [
    "print(X_train.shape[0], 'train samples')\n",
    "print(X_test.shape[0], 'test samples')"
   ]
  },
  {
   "cell_type": "code",
   "execution_count": 31,
   "metadata": {},
   "outputs": [],
   "source": [
    "# convert class vectors to binary class matrices\n",
    "y_train = np_utils.to_categorical(y_train, NB_CLASSES)\n",
    "y_test = np_utils.to_categorical(y_test, NB_CLASSES)"
   ]
  },
  {
   "cell_type": "code",
   "execution_count": 32,
   "metadata": {},
   "outputs": [],
   "source": [
    "# initialize the optimizer and model\n",
    "model = LeNet.build(input_shape=INPUT_SHAPE, classes=NB_CLASSES)\n",
    "model.compile(loss=\"categorical_crossentropy\", \n",
    "              optimizer=OPTIMIZER,\n",
    "              metrics=[\"accuracy\"])"
   ]
  },
  {
   "cell_type": "code",
   "execution_count": 33,
   "metadata": {},
   "outputs": [
    {
     "name": "stdout",
     "output_type": "stream",
     "text": [
      "Train on 48000 samples, validate on 12000 samples\n",
      "Epoch 1/20\n",
      "48000/48000 [==============================] - 31s 654us/sample - loss: 0.3623 - accuracy: 0.8935 - val_loss: 0.1334 - val_accuracy: 0.9602\n",
      "Epoch 2/20\n",
      "48000/48000 [==============================] - 2s 44us/sample - loss: 0.1087 - accuracy: 0.9661 - val_loss: 0.0845 - val_accuracy: 0.9752\n",
      "Epoch 3/20\n",
      "48000/48000 [==============================] - 2s 43us/sample - loss: 0.0762 - accuracy: 0.9763 - val_loss: 0.0708 - val_accuracy: 0.9783\n",
      "Epoch 4/20\n",
      "48000/48000 [==============================] - 2s 43us/sample - loss: 0.0600 - accuracy: 0.9817 - val_loss: 0.0748 - val_accuracy: 0.9778\n",
      "Epoch 5/20\n",
      "48000/48000 [==============================] - 2s 43us/sample - loss: 0.0496 - accuracy: 0.9839 - val_loss: 0.0681 - val_accuracy: 0.9793\n",
      "Epoch 6/20\n",
      "48000/48000 [==============================] - 2s 43us/sample - loss: 0.0425 - accuracy: 0.9861 - val_loss: 0.0548 - val_accuracy: 0.9835\n",
      "Epoch 7/20\n",
      "48000/48000 [==============================] - 2s 44us/sample - loss: 0.0356 - accuracy: 0.9889 - val_loss: 0.0603 - val_accuracy: 0.9829\n",
      "Epoch 8/20\n",
      "48000/48000 [==============================] - 2s 44us/sample - loss: 0.0303 - accuracy: 0.9899 - val_loss: 0.0552 - val_accuracy: 0.9847\n",
      "Epoch 9/20\n",
      "48000/48000 [==============================] - 2s 42us/sample - loss: 0.0262 - accuracy: 0.9917 - val_loss: 0.0551 - val_accuracy: 0.9839\n",
      "Epoch 10/20\n",
      "48000/48000 [==============================] - 2s 45us/sample - loss: 0.0228 - accuracy: 0.9925 - val_loss: 0.0508 - val_accuracy: 0.9847\n",
      "Epoch 11/20\n",
      "48000/48000 [==============================] - 2s 44us/sample - loss: 0.0198 - accuracy: 0.9938 - val_loss: 0.0518 - val_accuracy: 0.9858\n",
      "Epoch 12/20\n",
      "48000/48000 [==============================] - 2s 43us/sample - loss: 0.0171 - accuracy: 0.9945 - val_loss: 0.0698 - val_accuracy: 0.9813\n",
      "Epoch 13/20\n",
      "48000/48000 [==============================] - 2s 45us/sample - loss: 0.0172 - accuracy: 0.9940 - val_loss: 0.0581 - val_accuracy: 0.9858\n",
      "Epoch 14/20\n",
      "48000/48000 [==============================] - 2s 43us/sample - loss: 0.0139 - accuracy: 0.9950 - val_loss: 0.0575 - val_accuracy: 0.9854\n",
      "Epoch 15/20\n",
      "48000/48000 [==============================] - 2s 43us/sample - loss: 0.0138 - accuracy: 0.9953 - val_loss: 0.0657 - val_accuracy: 0.9847\n",
      "Epoch 16/20\n",
      "48000/48000 [==============================] - 2s 43us/sample - loss: 0.0092 - accuracy: 0.9969 - val_loss: 0.0612 - val_accuracy: 0.9849\n",
      "Epoch 17/20\n",
      "48000/48000 [==============================] - 2s 43us/sample - loss: 0.0095 - accuracy: 0.9967 - val_loss: 0.0657 - val_accuracy: 0.9848\n",
      "Epoch 18/20\n",
      "48000/48000 [==============================] - 2s 43us/sample - loss: 0.0101 - accuracy: 0.9962 - val_loss: 0.0746 - val_accuracy: 0.9828\n",
      "Epoch 19/20\n",
      "48000/48000 [==============================] - 2s 43us/sample - loss: 0.0085 - accuracy: 0.9970 - val_loss: 0.0605 - val_accuracy: 0.9864\n",
      "Epoch 20/20\n",
      "48000/48000 [==============================] - 2s 43us/sample - loss: 0.0077 - accuracy: 0.9970 - val_loss: 0.0702 - val_accuracy: 0.9848\n"
     ]
    }
   ],
   "source": [
    "history = model.fit(X_train, y_train, \n",
    "                    batch_size=BATCH_SIZE, \n",
    "                    epochs=NB_EPOCH, \n",
    "                    verbose=VERBOSE, \n",
    "                    validation_split=VALIDATION_SPLIT)"
   ]
  },
  {
   "cell_type": "code",
   "execution_count": 34,
   "metadata": {},
   "outputs": [
    {
     "name": "stdout",
     "output_type": "stream",
     "text": [
      "10000/10000 [==============================] - 1s 99us/sample - loss: 0.0613 - accuracy: 0.9852TA: 1s - l\n",
      "\n",
      "Test score: 0.06133965609444201\n",
      "Test accuracy: 0.9852\n"
     ]
    }
   ],
   "source": [
    "score = model.evaluate(X_test, y_test, verbose=VERBOSE)\n",
    "print(\"\\nTest score:\", score[0])\n",
    "print('Test accuracy:', score[1])"
   ]
  },
  {
   "cell_type": "code",
   "execution_count": 36,
   "metadata": {},
   "outputs": [
    {
     "name": "stdout",
     "output_type": "stream",
     "text": [
      "dict_keys(['loss', 'accuracy', 'val_loss', 'val_accuracy'])\n"
     ]
    },
    {
     "data": {
      "image/png": "[encoded data removed]",
      "text/plain": [
       "<Figure size 432x288 with 1 Axes>"
      ]
     },
     "metadata": {
      "needs_background": "light"
     },
     "output_type": "display_data"
    },
    {
     "data": {
      "image/png": "[encoded data removed]",
      "text/plain": [
       "<Figure size 432x288 with 1 Axes>"
      ]
     },
     "metadata": {
      "needs_background": "light"
     },
     "output_type": "display_data"
    }
   ],
   "source": [
    "# list all data in history\n",
    "print(history.history.keys())\n",
    "# summarize history for accuracy\n",
    "plt.plot(history.history['accuracy'])\n",
    "plt.plot(history.history['val_accuracy'])\n",
    "plt.title('model accuracy')\n",
    "plt.ylabel('accuracy')\n",
    "plt.xlabel('epoch')\n",
    "plt.legend(['train', 'test'], loc='upper left')\n",
    "plt.show()\n",
    "# summarize history for loss\n",
    "plt.plot(history.history['loss'])\n",
    "plt.plot(history.history['val_loss'])\n",
    "plt.title('model loss')\n",
    "plt.ylabel('loss')\n",
    "plt.xlabel('epoch')\n",
    "plt.legend(['train', 'test'], loc='upper left')\n",
    "plt.show()"
   ]
  },
  {
   "cell_type": "code",
   "execution_count": null,
   "metadata": {},
   "outputs": [],
   "source": []
  }
 ],
 "metadata": {
  "kernelspec": {
   "display_name": "Python 3",
   "language": "python",
   "name": "python3"
  },
  "language_info": {
   "codemirror_mode": {
    "name": "ipython",
    "version": 3
   },
   "file_extension": ".py",
   "mimetype": "text/x-python",
   "name": "python",
   "nbconvert_exporter": "python",
   "pygments_lexer": "ipython3",
   "version": "3.7.7"
  }
 },
 "nbformat": 4,
 "nbformat_minor": 4
}
