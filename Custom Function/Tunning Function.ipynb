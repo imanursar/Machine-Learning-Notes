{
 "cells": [
  {
   "cell_type": "markdown",
   "metadata": {},
   "source": [
    "# Library"
   ]
  },
  {
   "cell_type": "code",
   "execution_count": 1,
   "metadata": {},
   "outputs": [],
   "source": [
    "from sklearn.model_selection import train_test_split\n",
    "import matplotlib.pyplot as plt\n",
    "import numpy as np\n",
    "import pandas as pd\n",
    "import lightgbm\n",
    "from sklearn.svm import SVC"
   ]
  },
  {
   "cell_type": "code",
   "execution_count": 2,
   "metadata": {},
   "outputs": [],
   "source": [
    "%load_ext autoreload\n",
    "%autoreload 2\n",
    "import sys\n",
    "sys.path.append(f'E:\\gitlab\\custom-script\\script')\n",
    "from ursar import tunning, fe, describe\n",
    "%reload_ext autoreload"
   ]
  },
  {
   "cell_type": "markdown",
   "metadata": {},
   "source": [
    "# Load data"
   ]
  },
  {
   "cell_type": "code",
   "execution_count": 3,
   "metadata": {},
   "outputs": [
    {
     "data": {
      "text/html": [
       "<div>\n",
       "<style scoped>\n",
       "    .dataframe tbody tr th:only-of-type {\n",
       "        vertical-align: middle;\n",
       "    }\n",
       "\n",
       "    .dataframe tbody tr th {\n",
       "        vertical-align: top;\n",
       "    }\n",
       "\n",
       "    .dataframe thead th {\n",
       "        text-align: right;\n",
       "    }\n",
       "</style>\n",
       "<table border=\"1\" class=\"dataframe\">\n",
       "  <thead>\n",
       "    <tr style=\"text-align: right;\">\n",
       "      <th></th>\n",
       "      <th>age</th>\n",
       "      <th>anaemia</th>\n",
       "      <th>creatinine_phosphokinase</th>\n",
       "      <th>diabetes</th>\n",
       "      <th>ejection_fraction</th>\n",
       "      <th>high_blood_pressure</th>\n",
       "      <th>platelets</th>\n",
       "      <th>serum_creatinine</th>\n",
       "      <th>serum_sodium</th>\n",
       "      <th>sex</th>\n",
       "      <th>smoking</th>\n",
       "      <th>time</th>\n",
       "      <th>DEATH_EVENT</th>\n",
       "    </tr>\n",
       "  </thead>\n",
       "  <tbody>\n",
       "    <tr>\n",
       "      <th>0</th>\n",
       "      <td>75.0</td>\n",
       "      <td>0</td>\n",
       "      <td>582</td>\n",
       "      <td>0</td>\n",
       "      <td>20</td>\n",
       "      <td>1</td>\n",
       "      <td>265000.00</td>\n",
       "      <td>1.9</td>\n",
       "      <td>130</td>\n",
       "      <td>1</td>\n",
       "      <td>0</td>\n",
       "      <td>4</td>\n",
       "      <td>1</td>\n",
       "    </tr>\n",
       "    <tr>\n",
       "      <th>1</th>\n",
       "      <td>55.0</td>\n",
       "      <td>0</td>\n",
       "      <td>7861</td>\n",
       "      <td>0</td>\n",
       "      <td>38</td>\n",
       "      <td>0</td>\n",
       "      <td>263358.03</td>\n",
       "      <td>1.1</td>\n",
       "      <td>136</td>\n",
       "      <td>1</td>\n",
       "      <td>0</td>\n",
       "      <td>6</td>\n",
       "      <td>1</td>\n",
       "    </tr>\n",
       "    <tr>\n",
       "      <th>2</th>\n",
       "      <td>65.0</td>\n",
       "      <td>0</td>\n",
       "      <td>146</td>\n",
       "      <td>0</td>\n",
       "      <td>20</td>\n",
       "      <td>0</td>\n",
       "      <td>162000.00</td>\n",
       "      <td>1.3</td>\n",
       "      <td>129</td>\n",
       "      <td>1</td>\n",
       "      <td>1</td>\n",
       "      <td>7</td>\n",
       "      <td>1</td>\n",
       "    </tr>\n",
       "    <tr>\n",
       "      <th>3</th>\n",
       "      <td>50.0</td>\n",
       "      <td>1</td>\n",
       "      <td>111</td>\n",
       "      <td>0</td>\n",
       "      <td>20</td>\n",
       "      <td>0</td>\n",
       "      <td>210000.00</td>\n",
       "      <td>1.9</td>\n",
       "      <td>137</td>\n",
       "      <td>1</td>\n",
       "      <td>0</td>\n",
       "      <td>7</td>\n",
       "      <td>1</td>\n",
       "    </tr>\n",
       "    <tr>\n",
       "      <th>4</th>\n",
       "      <td>65.0</td>\n",
       "      <td>1</td>\n",
       "      <td>160</td>\n",
       "      <td>1</td>\n",
       "      <td>20</td>\n",
       "      <td>0</td>\n",
       "      <td>327000.00</td>\n",
       "      <td>2.7</td>\n",
       "      <td>116</td>\n",
       "      <td>0</td>\n",
       "      <td>0</td>\n",
       "      <td>8</td>\n",
       "      <td>1</td>\n",
       "    </tr>\n",
       "  </tbody>\n",
       "</table>\n",
       "</div>"
      ],
      "text/plain": [
       "    age  anaemia  creatinine_phosphokinase  diabetes  ejection_fraction  \\\n",
       "0  75.0        0                       582         0                 20   \n",
       "1  55.0        0                      7861         0                 38   \n",
       "2  65.0        0                       146         0                 20   \n",
       "3  50.0        1                       111         0                 20   \n",
       "4  65.0        1                       160         1                 20   \n",
       "\n",
       "   high_blood_pressure  platelets  serum_creatinine  serum_sodium  sex  \\\n",
       "0                    1  265000.00               1.9           130    1   \n",
       "1                    0  263358.03               1.1           136    1   \n",
       "2                    0  162000.00               1.3           129    1   \n",
       "3                    0  210000.00               1.9           137    1   \n",
       "4                    0  327000.00               2.7           116    0   \n",
       "\n",
       "   smoking  time  DEATH_EVENT  \n",
       "0        0     4            1  \n",
       "1        0     6            1  \n",
       "2        1     7            1  \n",
       "3        0     7            1  \n",
       "4        0     8            1  "
      ]
     },
     "execution_count": 3,
     "metadata": {},
     "output_type": "execute_result"
    }
   ],
   "source": [
    "df = pd.read_csv(f'E:\\gitlab\\machine-learning\\dataset\\heart_failure_clinical_records_dataset.csv')\n",
    "df.head()"
   ]
  },
  {
   "cell_type": "code",
   "execution_count": 4,
   "metadata": {},
   "outputs": [
    {
     "data": {
      "text/plain": [
       "'table size 299 x 13'"
      ]
     },
     "metadata": {},
     "output_type": "display_data"
    },
    {
     "data": {
      "application/vnd.jupyter.widget-view+json": {
       "model_id": "807dd8f7f11b43a1993c8d3cd6035fc4",
       "version_major": 2,
       "version_minor": 0
      },
      "text/plain": [
       "Pandas Apply:   0%|          | 0/13 [00:00<?, ?it/s]"
      ]
     },
     "metadata": {},
     "output_type": "display_data"
    },
    {
     "data": {
      "application/vnd.jupyter.widget-view+json": {
       "model_id": "e3fda5f81a85499996aa631c44c1f7b6",
       "version_major": 2,
       "version_minor": 0
      },
      "text/plain": [
       "Pandas Apply:   0%|          | 0/13 [00:00<?, ?it/s]"
      ]
     },
     "metadata": {},
     "output_type": "display_data"
    },
    {
     "data": {
      "application/vnd.jupyter.widget-view+json": {
       "model_id": "4715f995d4ea444eaf298c5396a27d9c",
       "version_major": 2,
       "version_minor": 0
      },
      "text/plain": [
       "Pandas Apply:   0%|          | 0/13 [00:00<?, ?it/s]"
      ]
     },
     "metadata": {},
     "output_type": "display_data"
    },
    {
     "name": "stdout",
     "output_type": "stream",
     "text": [
      "Dataframe has 13 columns.\n",
      "There are 0 columns that have missing values.\n"
     ]
    },
    {
     "data": {
      "text/html": [
       "<div>\n",
       "<style scoped>\n",
       "    .dataframe tbody tr th:only-of-type {\n",
       "        vertical-align: middle;\n",
       "    }\n",
       "\n",
       "    .dataframe tbody tr th {\n",
       "        vertical-align: top;\n",
       "    }\n",
       "\n",
       "    .dataframe thead th {\n",
       "        text-align: right;\n",
       "    }\n",
       "</style>\n",
       "<table border=\"1\" class=\"dataframe\">\n",
       "  <thead>\n",
       "    <tr style=\"text-align: right;\">\n",
       "      <th></th>\n",
       "      <th>column_names</th>\n",
       "      <th>Data Type</th>\n",
       "      <th>Missing Values</th>\n",
       "      <th>% missing</th>\n",
       "      <th>low Value</th>\n",
       "      <th>Hi Value</th>\n",
       "      <th>stddev Value</th>\n",
       "      <th>unique</th>\n",
       "    </tr>\n",
       "  </thead>\n",
       "  <tbody>\n",
       "    <tr>\n",
       "      <th>0</th>\n",
       "      <td>age</td>\n",
       "      <td>float64</td>\n",
       "      <td>0</td>\n",
       "      <td>0.0</td>\n",
       "      <td>40</td>\n",
       "      <td>95</td>\n",
       "      <td>12</td>\n",
       "      <td>47.0</td>\n",
       "    </tr>\n",
       "    <tr>\n",
       "      <th>1</th>\n",
       "      <td>anaemia</td>\n",
       "      <td>int64</td>\n",
       "      <td>0</td>\n",
       "      <td>0.0</td>\n",
       "      <td>0</td>\n",
       "      <td>1</td>\n",
       "      <td>0</td>\n",
       "      <td>2.0</td>\n",
       "    </tr>\n",
       "    <tr>\n",
       "      <th>2</th>\n",
       "      <td>creatinine_phosphokinase</td>\n",
       "      <td>int64</td>\n",
       "      <td>0</td>\n",
       "      <td>0.0</td>\n",
       "      <td>23</td>\n",
       "      <td>7861</td>\n",
       "      <td>970</td>\n",
       "      <td>208.0</td>\n",
       "    </tr>\n",
       "    <tr>\n",
       "      <th>3</th>\n",
       "      <td>diabetes</td>\n",
       "      <td>int64</td>\n",
       "      <td>0</td>\n",
       "      <td>0.0</td>\n",
       "      <td>0</td>\n",
       "      <td>1</td>\n",
       "      <td>0</td>\n",
       "      <td>2.0</td>\n",
       "    </tr>\n",
       "    <tr>\n",
       "      <th>4</th>\n",
       "      <td>ejection_fraction</td>\n",
       "      <td>int64</td>\n",
       "      <td>0</td>\n",
       "      <td>0.0</td>\n",
       "      <td>14</td>\n",
       "      <td>80</td>\n",
       "      <td>12</td>\n",
       "      <td>17.0</td>\n",
       "    </tr>\n",
       "    <tr>\n",
       "      <th>5</th>\n",
       "      <td>high_blood_pressure</td>\n",
       "      <td>int64</td>\n",
       "      <td>0</td>\n",
       "      <td>0.0</td>\n",
       "      <td>0</td>\n",
       "      <td>1</td>\n",
       "      <td>0</td>\n",
       "      <td>2.0</td>\n",
       "    </tr>\n",
       "    <tr>\n",
       "      <th>6</th>\n",
       "      <td>platelets</td>\n",
       "      <td>float64</td>\n",
       "      <td>0</td>\n",
       "      <td>0.0</td>\n",
       "      <td>25100</td>\n",
       "      <td>850000</td>\n",
       "      <td>97804</td>\n",
       "      <td>176.0</td>\n",
       "    </tr>\n",
       "    <tr>\n",
       "      <th>7</th>\n",
       "      <td>serum_creatinine</td>\n",
       "      <td>float64</td>\n",
       "      <td>0</td>\n",
       "      <td>0.0</td>\n",
       "      <td>0</td>\n",
       "      <td>9</td>\n",
       "      <td>1</td>\n",
       "      <td>40.0</td>\n",
       "    </tr>\n",
       "    <tr>\n",
       "      <th>8</th>\n",
       "      <td>serum_sodium</td>\n",
       "      <td>int64</td>\n",
       "      <td>0</td>\n",
       "      <td>0.0</td>\n",
       "      <td>113</td>\n",
       "      <td>148</td>\n",
       "      <td>4</td>\n",
       "      <td>27.0</td>\n",
       "    </tr>\n",
       "    <tr>\n",
       "      <th>9</th>\n",
       "      <td>sex</td>\n",
       "      <td>int64</td>\n",
       "      <td>0</td>\n",
       "      <td>0.0</td>\n",
       "      <td>0</td>\n",
       "      <td>1</td>\n",
       "      <td>0</td>\n",
       "      <td>2.0</td>\n",
       "    </tr>\n",
       "    <tr>\n",
       "      <th>10</th>\n",
       "      <td>smoking</td>\n",
       "      <td>int64</td>\n",
       "      <td>0</td>\n",
       "      <td>0.0</td>\n",
       "      <td>0</td>\n",
       "      <td>1</td>\n",
       "      <td>0</td>\n",
       "      <td>2.0</td>\n",
       "    </tr>\n",
       "    <tr>\n",
       "      <th>11</th>\n",
       "      <td>time</td>\n",
       "      <td>int64</td>\n",
       "      <td>0</td>\n",
       "      <td>0.0</td>\n",
       "      <td>4</td>\n",
       "      <td>285</td>\n",
       "      <td>78</td>\n",
       "      <td>148.0</td>\n",
       "    </tr>\n",
       "    <tr>\n",
       "      <th>12</th>\n",
       "      <td>DEATH_EVENT</td>\n",
       "      <td>int64</td>\n",
       "      <td>0</td>\n",
       "      <td>0.0</td>\n",
       "      <td>0</td>\n",
       "      <td>1</td>\n",
       "      <td>0</td>\n",
       "      <td>2.0</td>\n",
       "    </tr>\n",
       "  </tbody>\n",
       "</table>\n",
       "</div>"
      ],
      "text/plain": [
       "                column_names Data Type  Missing Values  % missing low Value  \\\n",
       "0                        age   float64               0        0.0        40   \n",
       "1                    anaemia     int64               0        0.0         0   \n",
       "2   creatinine_phosphokinase     int64               0        0.0        23   \n",
       "3                   diabetes     int64               0        0.0         0   \n",
       "4          ejection_fraction     int64               0        0.0        14   \n",
       "5        high_blood_pressure     int64               0        0.0         0   \n",
       "6                  platelets   float64               0        0.0     25100   \n",
       "7           serum_creatinine   float64               0        0.0         0   \n",
       "8               serum_sodium     int64               0        0.0       113   \n",
       "9                        sex     int64               0        0.0         0   \n",
       "10                   smoking     int64               0        0.0         0   \n",
       "11                      time     int64               0        0.0         4   \n",
       "12               DEATH_EVENT     int64               0        0.0         0   \n",
       "\n",
       "   Hi Value stddev Value  unique  \n",
       "0        95           12    47.0  \n",
       "1         1            0     2.0  \n",
       "2      7861          970   208.0  \n",
       "3         1            0     2.0  \n",
       "4        80           12    17.0  \n",
       "5         1            0     2.0  \n",
       "6    850000        97804   176.0  \n",
       "7         9            1    40.0  \n",
       "8       148            4    27.0  \n",
       "9         1            0     2.0  \n",
       "10        1            0     2.0  \n",
       "11      285           78   148.0  \n",
       "12        1            0     2.0  "
      ]
     },
     "execution_count": 4,
     "metadata": {},
     "output_type": "execute_result"
    }
   ],
   "source": [
    "describe.describe_data(df)"
   ]
  },
  {
   "cell_type": "code",
   "execution_count": 5,
   "metadata": {},
   "outputs": [
    {
     "name": "stdout",
     "output_type": "stream",
     "text": [
      "Original ratio\n",
      "DEATH_EVENT\n",
      "0              203\n",
      "1               96\n",
      "dtype: int64\n",
      "\n",
      "Number of neighbors to be considered for each sample 48\n",
      "\n",
      "SMOTE ratio\n",
      "DEATH_EVENT\n",
      "0              203\n",
      "1              203\n",
      "dtype: int64\n"
     ]
    }
   ],
   "source": [
    "X = df.drop([\"DEATH_EVENT\"], axis=1)\n",
    "y = df[\"DEATH_EVENT\"]\n",
    "X_s, y_s = fe.imba(X, y,'smote')\n",
    "X_train_s, X_test_s, y_train_s, y_test_s = train_test_split(X_s, y_s,\n",
    "                                                    test_size = 0.3, random_state=None)"
   ]
  },
  {
   "cell_type": "markdown",
   "metadata": {},
   "source": [
    "# Hypertunning Gradient search cross validation"
   ]
  },
  {
   "cell_type": "code",
   "execution_count": 24,
   "metadata": {},
   "outputs": [],
   "source": [
    "param_grid = [{\n",
    "    'max_depth':[6,8,10],\n",
    "    'n_estimators':[60,80,100],\n",
    "    'criterion': [\"gini\", \"entropy\"]\n",
    "},\n",
    "    {\n",
    "    'max_depth':[6,8,10],\n",
    "    'n_estimators':[60,80,100],\n",
    "    'learning_rate': [0.1,1,10]\n",
    "}\n",
    "]"
   ]
  },
  {
   "cell_type": "code",
   "execution_count": 25,
   "metadata": {},
   "outputs": [
    {
     "name": "stdout",
     "output_type": "stream",
     "text": [
      "Fitting 10 folds for each of 18 candidates, totalling 180 fits\n"
     ]
    },
    {
     "name": "stderr",
     "output_type": "stream",
     "text": [
      "[Parallel(n_jobs=-1)]: Using backend LokyBackend with 8 concurrent workers.\n",
      "[Parallel(n_jobs=-1)]: Done  25 tasks      | elapsed:   10.0s\n",
      "[Parallel(n_jobs=-1)]: Done 146 tasks      | elapsed:   14.0s\n",
      "[Parallel(n_jobs=-1)]: Done 180 out of 180 | elapsed:   15.2s finished\n",
      "[Parallel(n_jobs=-1)]: Using backend LokyBackend with 8 concurrent workers.\n"
     ]
    },
    {
     "name": "stdout",
     "output_type": "stream",
     "text": [
      "Best parameter for random_forest = \n",
      "criterion \t\t:\t gini\n",
      "max_depth \t\t:\t 10\n",
      "n_estimators \t\t:\t 100\n",
      "------------------------------------------------------------------------\n",
      "\n",
      "Fitting 10 folds for each of 27 candidates, totalling 270 fits\n"
     ]
    },
    {
     "name": "stderr",
     "output_type": "stream",
     "text": [
      "[Parallel(n_jobs=-1)]: Done  25 tasks      | elapsed:    1.2s\n",
      "[Parallel(n_jobs=-1)]: Done 146 tasks      | elapsed:    6.4s\n"
     ]
    },
    {
     "name": "stdout",
     "output_type": "stream",
     "text": [
      "Best parameter for gb = \n",
      "learning_rate \t\t:\t 1\n",
      "max_depth \t\t:\t 6\n",
      "n_estimators \t\t:\t 60\n",
      "------------------------------------------------------------------------\n",
      "\n"
     ]
    },
    {
     "name": "stderr",
     "output_type": "stream",
     "text": [
      "[Parallel(n_jobs=-1)]: Done 270 out of 270 | elapsed:   11.1s finished\n"
     ]
    }
   ],
   "source": [
    "res_gs = tunning.gridsearch(X_train_s, y_train_s,param_grid,[\"random_forest\",'gb'],\n",
    "                           scoring='recall',cv=10)"
   ]
  },
  {
   "cell_type": "markdown",
   "metadata": {},
   "source": [
    "# Hypertunning random search cross validation"
   ]
  },
  {
   "cell_type": "code",
   "execution_count": 10,
   "metadata": {},
   "outputs": [],
   "source": [
    "param_dist = [{\n",
    "    \"n_estimators\":np.arange(100,900),\n",
    "    \"max_depth\": [None,3,5,10,6,7],\n",
    "    \"min_samples_split\":np.arange(2,20),\n",
    "    \"min_samples_leaf\":np.arange(1,20),\n",
    "    \"max_features\":[\"auto\",\"sqrt\"]\n",
    "},\n",
    "    {\n",
    "    'max_depth':np.arange(5,10),\n",
    "    'n_estimators':[60,80,100],\n",
    "    'learning_rate': [0.1,1,10]\n",
    "}]"
   ]
  },
  {
   "cell_type": "code",
   "execution_count": 13,
   "metadata": {},
   "outputs": [
    {
     "name": "stdout",
     "output_type": "stream",
     "text": [
      "Fitting 10 folds for each of 10 candidates, totalling 100 fits\n"
     ]
    },
    {
     "name": "stderr",
     "output_type": "stream",
     "text": [
      "[Parallel(n_jobs=-1)]: Using backend LokyBackend with 8 concurrent workers.\n",
      "[Parallel(n_jobs=-1)]: Done  25 tasks      | elapsed:    6.4s\n",
      "[Parallel(n_jobs=-1)]: Done 100 out of 100 | elapsed:   24.7s finished\n"
     ]
    },
    {
     "name": "stdout",
     "output_type": "stream",
     "text": [
      "Best parameter for random_forest = \n",
      "n_estimators \t\t:\t 411\n",
      "min_samples_split \t\t:\t 10\n",
      "min_samples_leaf \t\t:\t 2\n",
      "max_features \t\t:\t auto\n",
      "max_depth \t\t:\t 10\n",
      "------------------------------------------------------------------------\n",
      "\n",
      "Fitting 10 folds for each of 10 candidates, totalling 100 fits\n"
     ]
    },
    {
     "name": "stderr",
     "output_type": "stream",
     "text": [
      "[Parallel(n_jobs=-1)]: Using backend LokyBackend with 8 concurrent workers.\n",
      "[Parallel(n_jobs=-1)]: Done  34 tasks      | elapsed:    1.8s\n"
     ]
    },
    {
     "name": "stdout",
     "output_type": "stream",
     "text": [
      "Best parameter for gb = \n",
      "n_estimators \t\t:\t 60\n",
      "max_depth \t\t:\t 5\n",
      "learning_rate \t\t:\t 1\n",
      "------------------------------------------------------------------------\n",
      "\n"
     ]
    },
    {
     "name": "stderr",
     "output_type": "stream",
     "text": [
      "[Parallel(n_jobs=-1)]: Done 100 out of 100 | elapsed:    5.0s finished\n"
     ]
    }
   ],
   "source": [
    "res_rs = tunning.randomsearch(X_train_s, y_train_s,param_grid,[\"random_forest\",'gb'],\n",
    "                           scoring='recall',cv=10)"
   ]
  },
  {
   "cell_type": "markdown",
   "metadata": {},
   "source": [
    "# Hypertunning nature inspired algorithms cross validation"
   ]
  },
  {
   "cell_type": "code",
   "execution_count": 32,
   "metadata": {},
   "outputs": [],
   "source": [
    "param_insp = [{\n",
    "   'n_estimators': range(10, 80, 20),\n",
    "   'max_depth': [2, 4, 6, 8, 10, 20],\n",
    "   'min_samples_split': range(2, 8, 2),\n",
    "   'max_features': [\"auto\", \"sqrt\", \"log2\"]\n",
    "},\n",
    "{\n",
    "    'max_depth':np.arange(5,10),\n",
    "    'n_estimators':[60,80,100],\n",
    "    'learning_rate': [0.1,1,10]   \n",
    "}]"
   ]
  },
  {
   "cell_type": "code",
   "execution_count": 58,
   "metadata": {
    "collapsed": true
   },
   "outputs": [
    {
     "name": "stdout",
     "output_type": "stream",
     "text": [
      "Fitting 10 folds for some of the 216 candidates, which might total in 2160 fits\n",
      "Run 1/3, Iteration 1/100 | Stagnation 0/20 | There were 46 candidates trained until now\n",
      "Run 1/3, Iteration 2/100 | Stagnation 1/20 | There were 57 candidates trained until now\n",
      "Run 1/3, Iteration 3/100 | Stagnation 0/20 | There were 67 candidates trained until now\n",
      "Run 1/3, Iteration 4/100 | Stagnation 1/20 | There were 74 candidates trained until now\n",
      "Run 1/3, Iteration 5/100 | Stagnation 2/20 | There were 77 candidates trained until now\n",
      "Run 1/3, Iteration 6/100 | Stagnation 3/20 | There were 78 candidates trained until now\n",
      "Run 1/3, Iteration 7/100 | Stagnation 4/20 | There were 79 candidates trained until now\n",
      "Run 1/3, Iteration 8/100 | Stagnation 5/20 | There were 79 candidates trained until now\n",
      "Run 1/3, Iteration 9/100 | Stagnation 6/20 | There were 79 candidates trained until now\n",
      "Run 1/3, Iteration 10/100 | Stagnation 7/20 | There were 79 candidates trained until now\n",
      "Run 1/3, Iteration 11/100 | Stagnation 8/20 | There were 79 candidates trained until now\n",
      "Run 1/3, Iteration 12/100 | Stagnation 9/20 | There were 79 candidates trained until now\n",
      "Run 1/3, Iteration 13/100 | Stagnation 10/20 | There were 79 candidates trained until now\n",
      "Run 1/3, Iteration 14/100 | Stagnation 11/20 | There were 79 candidates trained until now\n",
      "Run 1/3, Iteration 15/100 | Stagnation 12/20 | There were 79 candidates trained until now\n",
      "Run 1/3, Iteration 16/100 | Stagnation 13/20 | There were 79 candidates trained until now\n",
      "Run 1/3, Iteration 17/100 | Stagnation 14/20 | There were 80 candidates trained until now\n",
      "Run 1/3, Iteration 18/100 | Stagnation 15/20 | There were 82 candidates trained until now\n",
      "Run 1/3, Iteration 19/100 | Stagnation 16/20 | There were 82 candidates trained until now\n",
      "Run 1/3, Iteration 20/100 | Stagnation 17/20 | There were 82 candidates trained until now\n",
      "Run 1/3, Iteration 21/100 | Stagnation 18/20 | There were 85 candidates trained until now\n",
      "Run 1/3, Iteration 22/100 | Stagnation 19/20 | There were 85 candidates trained until now\n",
      "Run 1/3, Iteration 23/100 | Stagnation 20/20 | There were 86 candidates trained until now\n",
      "Run 1/3 finished\n",
      "Run 2/3, Iteration 1/100 | Stagnation 0/20 | There were 113 candidates trained until now\n",
      "Run 2/3, Iteration 2/100 | Stagnation 1/20 | There were 121 candidates trained until now\n",
      "Run 2/3, Iteration 3/100 | Stagnation 2/20 | There were 124 candidates trained until now\n",
      "Run 2/3, Iteration 4/100 | Stagnation 3/20 | There were 127 candidates trained until now\n",
      "Run 2/3, Iteration 5/100 | Stagnation 4/20 | There were 131 candidates trained until now\n",
      "Run 2/3, Iteration 6/100 | Stagnation 5/20 | There were 134 candidates trained until now\n",
      "Run 2/3, Iteration 7/100 | Stagnation 6/20 | There were 137 candidates trained until now\n",
      "Run 2/3, Iteration 8/100 | Stagnation 7/20 | There were 139 candidates trained until now\n",
      "Run 2/3, Iteration 9/100 | Stagnation 8/20 | There were 141 candidates trained until now\n",
      "Run 2/3, Iteration 10/100 | Stagnation 9/20 | There were 144 candidates trained until now\n",
      "Run 2/3, Iteration 11/100 | Stagnation 10/20 | There were 145 candidates trained until now\n",
      "Run 2/3, Iteration 12/100 | Stagnation 11/20 | There were 146 candidates trained until now\n",
      "Run 2/3, Iteration 13/100 | Stagnation 12/20 | There were 146 candidates trained until now\n",
      "Run 2/3, Iteration 14/100 | Stagnation 13/20 | There were 146 candidates trained until now\n",
      "Run 2/3, Iteration 15/100 | Stagnation 14/20 | There were 146 candidates trained until now\n",
      "Run 2/3, Iteration 16/100 | Stagnation 15/20 | There were 148 candidates trained until now\n",
      "Run 2/3, Iteration 17/100 | Stagnation 16/20 | There were 149 candidates trained until now\n",
      "Run 2/3, Iteration 18/100 | Stagnation 17/20 | There were 149 candidates trained until now\n",
      "Run 2/3, Iteration 19/100 | Stagnation 18/20 | There were 151 candidates trained until now\n",
      "Run 2/3, Iteration 20/100 | Stagnation 19/20 | There were 152 candidates trained until now\n",
      "Run 2/3, Iteration 21/100 | Stagnation 20/20 | There were 153 candidates trained until now\n",
      "Run 2/3 finished\n",
      "Run 3/3, Iteration 1/100 | Stagnation 0/20 | There were 171 candidates trained until now\n",
      "Run 3/3, Iteration 2/100 | Stagnation 1/20 | There were 172 candidates trained until now\n",
      "Run 3/3, Iteration 3/100 | Stagnation 2/20 | There were 174 candidates trained until now\n",
      "Run 3/3, Iteration 4/100 | Stagnation 3/20 | There were 177 candidates trained until now\n",
      "Run 3/3, Iteration 5/100 | Stagnation 4/20 | There were 177 candidates trained until now\n",
      "Run 3/3, Iteration 6/100 | Stagnation 5/20 | There were 177 candidates trained until now\n",
      "Run 3/3, Iteration 7/100 | Stagnation 6/20 | There were 177 candidates trained until now\n",
      "Run 3/3, Iteration 8/100 | Stagnation 7/20 | There were 178 candidates trained until now\n",
      "Run 3/3, Iteration 9/100 | Stagnation 8/20 | There were 178 candidates trained until now\n",
      "Run 3/3, Iteration 10/100 | Stagnation 9/20 | There were 179 candidates trained until now\n",
      "Run 3/3, Iteration 11/100 | Stagnation 10/20 | There were 179 candidates trained until now\n",
      "Run 3/3, Iteration 12/100 | Stagnation 11/20 | There were 180 candidates trained until now\n",
      "Run 3/3, Iteration 13/100 | Stagnation 12/20 | There were 180 candidates trained until now\n",
      "Run 3/3, Iteration 14/100 | Stagnation 13/20 | There were 180 candidates trained until now\n",
      "Run 3/3, Iteration 15/100 | Stagnation 14/20 | There were 180 candidates trained until now\n",
      "Run 3/3, Iteration 16/100 | Stagnation 15/20 | There were 180 candidates trained until now\n",
      "Run 3/3, Iteration 17/100 | Stagnation 16/20 | There were 180 candidates trained until now\n",
      "Run 3/3, Iteration 18/100 | Stagnation 17/20 | There were 180 candidates trained until now\n",
      "Run 3/3, Iteration 19/100 | Stagnation 18/20 | There were 180 candidates trained until now\n",
      "Run 3/3, Iteration 20/100 | Stagnation 19/20 | There were 181 candidates trained until now\n",
      "Run 3/3, Iteration 21/100 | Stagnation 20/20 | There were 182 candidates trained until now\n",
      "Run 3/3 finished\n",
      "Optimization finished, 182 candidates were fitted (totalling 1820 fits)\n",
      "Best parameter for random_forest = \n",
      "n_estimators \t:\t 30\n",
      "max_depth \t:\t 10\n",
      "min_samples_split \t:\t 6\n",
      "max_features \t:\t log2\n",
      "------------------------------------------------------------------------\n",
      "\n",
      "Fitting 10 folds for some of the 45 candidates, which might total in 450 fits\n",
      "Run 1/3, Iteration 1/100 | Stagnation 0/20 | There were 32 candidates trained until now\n",
      "Run 1/3, Iteration 2/100 | Stagnation 1/20 | There were 35 candidates trained until now\n",
      "Run 1/3, Iteration 3/100 | Stagnation 2/20 | There were 37 candidates trained until now\n",
      "Run 1/3, Iteration 4/100 | Stagnation 3/20 | There were 38 candidates trained until now\n",
      "Run 1/3, Iteration 5/100 | Stagnation 4/20 | There were 38 candidates trained until now\n",
      "Run 1/3, Iteration 6/100 | Stagnation 5/20 | There were 38 candidates trained until now\n",
      "Run 1/3, Iteration 7/100 | Stagnation 6/20 | There were 38 candidates trained until now\n",
      "Run 1/3, Iteration 8/100 | Stagnation 7/20 | There were 38 candidates trained until now\n",
      "Run 1/3, Iteration 9/100 | Stagnation 8/20 | There were 38 candidates trained until now\n",
      "Run 1/3, Iteration 10/100 | Stagnation 9/20 | There were 38 candidates trained until now\n",
      "Run 1/3, Iteration 11/100 | Stagnation 10/20 | There were 38 candidates trained until now\n",
      "Run 1/3, Iteration 12/100 | Stagnation 11/20 | There were 38 candidates trained until now\n",
      "Run 1/3, Iteration 13/100 | Stagnation 12/20 | There were 39 candidates trained until now\n",
      "Run 1/3, Iteration 14/100 | Stagnation 13/20 | There were 40 candidates trained until now\n",
      "Run 1/3, Iteration 15/100 | Stagnation 14/20 | There were 42 candidates trained until now\n",
      "Run 1/3, Iteration 16/100 | Stagnation 15/20 | There were 42 candidates trained until now\n",
      "Run 1/3, Iteration 17/100 | Stagnation 16/20 | There were 42 candidates trained until now\n",
      "Run 1/3, Iteration 18/100 | Stagnation 17/20 | There were 42 candidates trained until now\n",
      "Run 1/3, Iteration 19/100 | Stagnation 18/20 | There were 42 candidates trained until now\n",
      "Run 1/3, Iteration 20/100 | Stagnation 19/20 | There were 42 candidates trained until now\n",
      "Run 1/3, Iteration 21/100 | Stagnation 20/20 | There were 42 candidates trained until now\n",
      "Run 1/3 finished\n"
     ]
    },
    {
     "name": "stdout",
     "output_type": "stream",
     "text": [
      "Run 2/3, Iteration 1/100 | Stagnation 0/20 | There were 45 candidates trained until now\n",
      "Run 2/3, Iteration 2/100 | Stagnation 1/20 | There were 45 candidates trained until now\n",
      "Run 2/3, Iteration 3/100 | Stagnation 2/20 | There were 45 candidates trained until now\n",
      "Run 2/3, Iteration 4/100 | Stagnation 3/20 | There were 45 candidates trained until now\n",
      "Run 2/3, Iteration 5/100 | Stagnation 4/20 | There were 45 candidates trained until now\n",
      "Run 2/3, Iteration 6/100 | Stagnation 0/20 | There were 45 candidates trained until now\n",
      "Run 2/3, Iteration 7/100 | Stagnation 1/20 | There were 45 candidates trained until now\n",
      "Run 2/3, Iteration 8/100 | Stagnation 2/20 | There were 45 candidates trained until now\n",
      "Run 2/3, Iteration 9/100 | Stagnation 3/20 | There were 45 candidates trained until now\n",
      "Run 2/3, Iteration 10/100 | Stagnation 4/20 | There were 45 candidates trained until now\n",
      "Run 2/3, Iteration 11/100 | Stagnation 5/20 | There were 45 candidates trained until now\n",
      "Run 2/3, Iteration 12/100 | Stagnation 6/20 | There were 45 candidates trained until now\n",
      "Run 2/3, Iteration 13/100 | Stagnation 7/20 | There were 45 candidates trained until now\n",
      "Run 2/3, Iteration 14/100 | Stagnation 8/20 | There were 45 candidates trained until now\n",
      "Run 2/3, Iteration 15/100 | Stagnation 9/20 | There were 45 candidates trained until now\n",
      "Run 2/3, Iteration 16/100 | Stagnation 10/20 | There were 45 candidates trained until now\n",
      "Run 2/3, Iteration 17/100 | Stagnation 11/20 | There were 45 candidates trained until now\n",
      "Run 2/3, Iteration 18/100 | Stagnation 12/20 | There were 45 candidates trained until now\n",
      "Run 2/3, Iteration 19/100 | Stagnation 13/20 | There were 45 candidates trained until now\n",
      "Run 2/3, Iteration 20/100 | Stagnation 14/20 | There were 45 candidates trained until now\n",
      "Run 2/3, Iteration 21/100 | Stagnation 15/20 | There were 45 candidates trained until now\n",
      "Run 2/3, Iteration 22/100 | Stagnation 16/20 | There were 45 candidates trained until now\n",
      "Run 2/3, Iteration 23/100 | Stagnation 17/20 | There were 45 candidates trained until now\n",
      "Run 2/3, Iteration 24/100 | Stagnation 18/20 | There were 45 candidates trained until now\n",
      "Run 2/3, Iteration 25/100 | Stagnation 19/20 | There were 45 candidates trained until now\n",
      "Run 2/3, Iteration 26/100 | Stagnation 20/20 | There were 45 candidates trained until now\n",
      "Run 2/3 finished\n",
      "Run 3/3, Iteration 1/100 | Stagnation 0/20 | There were 45 candidates trained until now\n",
      "Run 3/3, Iteration 2/100 | Stagnation 1/20 | There were 45 candidates trained until now\n",
      "Run 3/3, Iteration 3/100 | Stagnation 2/20 | There were 45 candidates trained until now\n",
      "Run 3/3, Iteration 4/100 | Stagnation 3/20 | There were 45 candidates trained until now\n",
      "Run 3/3, Iteration 5/100 | Stagnation 4/20 | There were 45 candidates trained until now\n",
      "Run 3/3, Iteration 6/100 | Stagnation 5/20 | There were 45 candidates trained until now\n",
      "Run 3/3, Iteration 7/100 | Stagnation 6/20 | There were 45 candidates trained until now\n",
      "Run 3/3, Iteration 8/100 | Stagnation 7/20 | There were 45 candidates trained until now\n",
      "Run 3/3, Iteration 9/100 | Stagnation 8/20 | There were 45 candidates trained until now\n",
      "Run 3/3, Iteration 10/100 | Stagnation 9/20 | There were 45 candidates trained until now\n",
      "Run 3/3, Iteration 11/100 | Stagnation 10/20 | There were 45 candidates trained until now\n",
      "Run 3/3, Iteration 12/100 | Stagnation 11/20 | There were 45 candidates trained until now\n",
      "Run 3/3, Iteration 13/100 | Stagnation 12/20 | There were 45 candidates trained until now\n",
      "Run 3/3, Iteration 14/100 | Stagnation 13/20 | There were 45 candidates trained until now\n",
      "Run 3/3, Iteration 15/100 | Stagnation 14/20 | There were 45 candidates trained until now\n",
      "Run 3/3, Iteration 16/100 | Stagnation 15/20 | There were 45 candidates trained until now\n",
      "Run 3/3, Iteration 17/100 | Stagnation 16/20 | There were 45 candidates trained until now\n",
      "Run 3/3, Iteration 18/100 | Stagnation 17/20 | There were 45 candidates trained until now\n",
      "Run 3/3, Iteration 19/100 | Stagnation 18/20 | There were 45 candidates trained until now\n",
      "Run 3/3, Iteration 20/100 | Stagnation 19/20 | There were 45 candidates trained until now\n",
      "Run 3/3, Iteration 21/100 | Stagnation 20/20 | There were 45 candidates trained until now\n",
      "Run 3/3 finished\n",
      "Optimization finished, 45 candidates were fitted (totalling 450 fits)\n",
      "Best parameter for gb = \n",
      "max_depth \t:\t 6\n",
      "n_estimators \t:\t 60\n",
      "learning_rate \t:\t 1\n",
      "------------------------------------------------------------------------\n",
      "\n"
     ]
    }
   ],
   "source": [
    "res_ni = tunning.nature_inspired(X_train_s, y_train_s,param_insp,\n",
    "                                 [\"random_forest\",'gb'],algo='ba',\n",
    "                                 scoring='accuracy')"
   ]
  },
  {
   "cell_type": "code",
   "execution_count": 83,
   "metadata": {},
   "outputs": [
    {
     "data": {
      "image/png": "[encoded data removed]",
      "text/plain": [
       "<Figure size 864x864 with 4 Axes>"
      ]
     },
     "metadata": {},
     "output_type": "display_data"
    },
    {
     "data": {
      "image/png": "[encoded data removed]",
      "text/plain": [
       "<Figure size 864x864 with 3 Axes>"
      ]
     },
     "metadata": {},
     "output_type": "display_data"
    }
   ],
   "source": [
    "tunning.nature_inspired_plot(res_ni[0],run=3,footnote=None)"
   ]
  },
  {
   "cell_type": "markdown",
   "metadata": {},
   "source": [
    "# Hypertunning Bayesian Optimization"
   ]
  },
  {
   "cell_type": "code",
   "execution_count": 29,
   "metadata": {},
   "outputs": [],
   "source": [
    "categorical_features = [\"anaemia\",\"diabetes\",\"high_blood_pressure\",\"sex\",\"smoking\"]"
   ]
  },
  {
   "cell_type": "code",
   "execution_count": 92,
   "metadata": {},
   "outputs": [],
   "source": [
    "def lgb_eval(num_leaves,max_depth,lambda_l2,lambda_l1,min_child_samples, min_data_in_leaf):\n",
    "    params = {\n",
    "        \"objective\" : \"binary\",\n",
    "        \"metric\" : \"auc\", \n",
    "        'is_unbalance': True,\n",
    "        \"num_leaves\" : int(num_leaves),\n",
    "        \"max_depth\" : int(max_depth),\n",
    "        \"lambda_l2\" : lambda_l2,\n",
    "        \"lambda_l1\" : lambda_l1,\n",
    "        \"num_threads\" : 20,\n",
    "        \"min_child_samples\" : int(min_child_samples),\n",
    "        'min_data_in_leaf': int(min_data_in_leaf),\n",
    "        \"learning_rate\" : 0.03,\n",
    "        \"subsample_freq\" : 5,\n",
    "        \"bagging_seed\" : 42,\n",
    "        \"verbosity\" : -1\n",
    "    }\n",
    "    lgtrain = lightgbm.Dataset(X_train_s, np.array(y_train_s.reset_index(drop=True)).flatten(),categorical_feature=categorical_features)\n",
    "    cv_result = lightgbm.cv(params,\n",
    "                       lgtrain,\n",
    "                       1000,\n",
    "                       early_stopping_rounds=100,\n",
    "                       stratified=True,\n",
    "                       nfold=3)\n",
    "    return cv_result['auc-mean'][-1]"
   ]
  },
  {
   "cell_type": "code",
   "execution_count": 95,
   "metadata": {},
   "outputs": [],
   "source": [
    "param_bound={'num_leaves': (5, 40),\n",
    "            'max_depth': (5, 63),\n",
    "            'lambda_l2': (0.0, 0.05),\n",
    "            'lambda_l1': (0.0, 0.05),\n",
    "            'min_child_samples': (50, 100),\n",
    "            'min_data_in_leaf': (10, 20)}"
   ]
  },
  {
   "cell_type": "code",
   "execution_count": 129,
   "metadata": {},
   "outputs": [
    {
     "name": "stdout",
     "output_type": "stream",
     "text": [
      "|   iter    |  target   | lambda_l1 | lambda_l2 | max_depth | min_ch... | min_da... | num_le... |\n",
      "-------------------------------------------------------------------------------------------------\n",
      "| \u001b[0m 1       \u001b[0m | \u001b[0m 0.9318  \u001b[0m | \u001b[0m 0.01666 \u001b[0m | \u001b[0m 0.0148  \u001b[0m | \u001b[0m 43.37   \u001b[0m | \u001b[0m 60.93   \u001b[0m | \u001b[0m 18.76   \u001b[0m | \u001b[0m 12.43   \u001b[0m |\n",
      "| \u001b[95m 2       \u001b[0m | \u001b[95m 0.9337  \u001b[0m | \u001b[95m 0.002193\u001b[0m | \u001b[95m 0.0442  \u001b[0m | \u001b[95m 29.76   \u001b[0m | \u001b[95m 83.63   \u001b[0m | \u001b[95m 19.98   \u001b[0m | \u001b[95m 25.41   \u001b[0m |\n",
      "| \u001b[95m 3       \u001b[0m | \u001b[95m 0.9348  \u001b[0m | \u001b[95m 0.006815\u001b[0m | \u001b[95m 0.03544 \u001b[0m | \u001b[95m 28.33   \u001b[0m | \u001b[95m 82.45   \u001b[0m | \u001b[95m 19.24   \u001b[0m | \u001b[95m 25.89   \u001b[0m |\n",
      "| \u001b[0m 4       \u001b[0m | \u001b[0m 0.9319  \u001b[0m | \u001b[0m 0.04097 \u001b[0m | \u001b[0m 0.04448 \u001b[0m | \u001b[0m 26.72   \u001b[0m | \u001b[0m 82.34   \u001b[0m | \u001b[0m 17.22   \u001b[0m | \u001b[0m 24.31   \u001b[0m |\n",
      "| \u001b[0m 5       \u001b[0m | \u001b[0m 0.9342  \u001b[0m | \u001b[0m 0.03142 \u001b[0m | \u001b[0m 0.01207 \u001b[0m | \u001b[0m 29.81   \u001b[0m | \u001b[0m 82.35   \u001b[0m | \u001b[0m 19.51   \u001b[0m | \u001b[0m 25.32   \u001b[0m |\n",
      "| \u001b[0m 6       \u001b[0m | \u001b[0m 0.9343  \u001b[0m | \u001b[0m 0.04885 \u001b[0m | \u001b[0m 0.0389  \u001b[0m | \u001b[0m 29.03   \u001b[0m | \u001b[0m 78.48   \u001b[0m | \u001b[0m 19.18   \u001b[0m | \u001b[0m 28.43   \u001b[0m |\n",
      "| \u001b[0m 7       \u001b[0m | \u001b[0m 0.9345  \u001b[0m | \u001b[0m 0.04373 \u001b[0m | \u001b[0m 0.04216 \u001b[0m | \u001b[0m 29.31   \u001b[0m | \u001b[0m 79.95   \u001b[0m | \u001b[0m 19.88   \u001b[0m | \u001b[0m 26.96   \u001b[0m |\n",
      "| \u001b[0m 8       \u001b[0m | \u001b[0m 0.932   \u001b[0m | \u001b[0m 0.01904 \u001b[0m | \u001b[0m 0.01051 \u001b[0m | \u001b[0m 29.31   \u001b[0m | \u001b[0m 82.65   \u001b[0m | \u001b[0m 18.79   \u001b[0m | \u001b[0m 28.74   \u001b[0m |\n",
      "| \u001b[0m 9       \u001b[0m | \u001b[0m 0.9343  \u001b[0m | \u001b[0m 0.02141 \u001b[0m | \u001b[0m 0.006509\u001b[0m | \u001b[0m 27.6    \u001b[0m | \u001b[0m 77.85   \u001b[0m | \u001b[0m 19.51   \u001b[0m | \u001b[0m 27.34   \u001b[0m |\n",
      "| \u001b[0m 10      \u001b[0m | \u001b[0m 0.9326  \u001b[0m | \u001b[0m 0.03458 \u001b[0m | \u001b[0m 0.04036 \u001b[0m | \u001b[0m 28.76   \u001b[0m | \u001b[0m 75.52   \u001b[0m | \u001b[0m 18.72   \u001b[0m | \u001b[0m 27.24   \u001b[0m |\n",
      "| \u001b[0m 11      \u001b[0m | \u001b[0m 0.934   \u001b[0m | \u001b[0m 0.02926 \u001b[0m | \u001b[0m 0.001864\u001b[0m | \u001b[0m 27.19   \u001b[0m | \u001b[0m 80.87   \u001b[0m | \u001b[0m 19.42   \u001b[0m | \u001b[0m 26.36   \u001b[0m |\n",
      "| \u001b[0m 12      \u001b[0m | \u001b[0m 0.9348  \u001b[0m | \u001b[0m 0.01465 \u001b[0m | \u001b[0m 0.02907 \u001b[0m | \u001b[0m 27.52   \u001b[0m | \u001b[0m 78.52   \u001b[0m | \u001b[0m 19.37   \u001b[0m | \u001b[0m 24.68   \u001b[0m |\n",
      "=================================================================================================\n",
      "\n",
      "\n",
      "Best parameter from Bayesian Optimization\n",
      "target \t\t:\t 0.9347729725562751\n",
      "\n",
      "params\n",
      "lambda_l1 \t\t:\t 0.006814801407785987\n",
      "lambda_l2 \t\t:\t 0.03544092773245114\n",
      "max_depth \t\t:\t 28.325668620775414\n",
      "min_child_samples \t\t:\t 82.45128354772862\n",
      "min_data_in_leaf \t\t:\t 19.244789134283437\n",
      "num_leaves \t\t:\t 25.891506887911518\n"
     ]
    }
   ],
   "source": [
    "result = tunning.bayes_opt(lgb_eval,param_bound,n_iter=10,init_points=2)"
   ]
  },
  {
   "cell_type": "code",
   "execution_count": 131,
   "metadata": {},
   "outputs": [
    {
     "data": {
      "text/html": [
       "<div>\n",
       "<style scoped>\n",
       "    .dataframe tbody tr th:only-of-type {\n",
       "        vertical-align: middle;\n",
       "    }\n",
       "\n",
       "    .dataframe tbody tr th {\n",
       "        vertical-align: top;\n",
       "    }\n",
       "\n",
       "    .dataframe thead th {\n",
       "        text-align: right;\n",
       "    }\n",
       "</style>\n",
       "<table border=\"1\" class=\"dataframe\">\n",
       "  <thead>\n",
       "    <tr style=\"text-align: right;\">\n",
       "      <th></th>\n",
       "      <th>parameters</th>\n",
       "      <th>values</th>\n",
       "    </tr>\n",
       "  </thead>\n",
       "  <tbody>\n",
       "    <tr>\n",
       "      <th>0</th>\n",
       "      <td>lambda_l1</td>\n",
       "      <td>0.0068</td>\n",
       "    </tr>\n",
       "    <tr>\n",
       "      <th>1</th>\n",
       "      <td>lambda_l2</td>\n",
       "      <td>0.0354</td>\n",
       "    </tr>\n",
       "    <tr>\n",
       "      <th>2</th>\n",
       "      <td>max_depth</td>\n",
       "      <td>28.3257</td>\n",
       "    </tr>\n",
       "    <tr>\n",
       "      <th>3</th>\n",
       "      <td>min_child_samples</td>\n",
       "      <td>82.4513</td>\n",
       "    </tr>\n",
       "    <tr>\n",
       "      <th>4</th>\n",
       "      <td>min_data_in_leaf</td>\n",
       "      <td>19.2448</td>\n",
       "    </tr>\n",
       "    <tr>\n",
       "      <th>5</th>\n",
       "      <td>num_leaves</td>\n",
       "      <td>25.8915</td>\n",
       "    </tr>\n",
       "  </tbody>\n",
       "</table>\n",
       "</div>"
      ],
      "text/plain": [
       "          parameters   values\n",
       "0          lambda_l1   0.0068\n",
       "1          lambda_l2   0.0354\n",
       "2          max_depth  28.3257\n",
       "3  min_child_samples  82.4513\n",
       "4   min_data_in_leaf  19.2448\n",
       "5         num_leaves  25.8915"
      ]
     },
     "execution_count": 131,
     "metadata": {},
     "output_type": "execute_result"
    }
   ],
   "source": [
    "result"
   ]
  },
  {
   "cell_type": "markdown",
   "metadata": {},
   "source": [
    "# Hypertunning Bayesian Optimization version 2"
   ]
  },
  {
   "cell_type": "code",
   "execution_count": null,
   "metadata": {},
   "outputs": [],
   "source": [
    "params = {\n",
    "            # 'max_features': hp.choice('max_features', ['auto', 'sqrt']),\n",
    "            'bootstrap' : hp.choice('bootstrap', [True, False]),\n",
    "            'n_estimators': scope.int(hp.quniform('n_estimators', 5, 10, 1)),\n",
    "            'max_depth': scope.int(hp.quniform('max_depth', 5, 10, 1)),\n",
    "            # 'min_samples_split' : scope.int(hp.quniform('min_samples_split', 2, 10, 1)),\n",
    "            # 'min_samples_leaf' : scope.int(hp.quniform('min_samples_leaf', 1, 5, 1))\n",
    "            }"
   ]
  },
  {
   "cell_type": "code",
   "execution_count": 26,
   "metadata": {},
   "outputs": [
    {
     "name": "stdout",
     "output_type": "stream",
     "text": [
      "100%|███████████████████████████████████████████████| 10/10 [00:00<00:00, 10.20trial/s, best loss: 0.08771929824561397]\n",
      "\n",
      "\n",
      "Best parameter from Bayesian Optimization\n",
      "bootstrap \t:\t 0\n",
      "max_depth \t:\t 5.0\n",
      "n_estimators \t:\t 9.0\n"
     ]
    }
   ],
   "source": [
    "result = tunning.bayes_ho(X_train_s,y_train_s,params,10,'f1')"
   ]
  },
  {
   "cell_type": "code",
   "execution_count": 27,
   "metadata": {},
   "outputs": [
    {
     "data": {
      "text/html": [
       "<div>\n",
       "<style scoped>\n",
       "    .dataframe tbody tr th:only-of-type {\n",
       "        vertical-align: middle;\n",
       "    }\n",
       "\n",
       "    .dataframe tbody tr th {\n",
       "        vertical-align: top;\n",
       "    }\n",
       "\n",
       "    .dataframe thead th {\n",
       "        text-align: right;\n",
       "    }\n",
       "</style>\n",
       "<table border=\"1\" class=\"dataframe\">\n",
       "  <thead>\n",
       "    <tr style=\"text-align: right;\">\n",
       "      <th></th>\n",
       "      <th>parameters</th>\n",
       "      <th>values</th>\n",
       "    </tr>\n",
       "  </thead>\n",
       "  <tbody>\n",
       "    <tr>\n",
       "      <th>0</th>\n",
       "      <td>bootstrap</td>\n",
       "      <td>0.0</td>\n",
       "    </tr>\n",
       "    <tr>\n",
       "      <th>1</th>\n",
       "      <td>max_depth</td>\n",
       "      <td>5.0</td>\n",
       "    </tr>\n",
       "    <tr>\n",
       "      <th>2</th>\n",
       "      <td>n_estimators</td>\n",
       "      <td>9.0</td>\n",
       "    </tr>\n",
       "  </tbody>\n",
       "</table>\n",
       "</div>"
      ],
      "text/plain": [
       "     parameters  values\n",
       "0     bootstrap     0.0\n",
       "1     max_depth     5.0\n",
       "2  n_estimators     9.0"
      ]
     },
     "execution_count": 27,
     "metadata": {},
     "output_type": "execute_result"
    }
   ],
   "source": [
    "result"
   ]
  },
  {
   "cell_type": "markdown",
   "metadata": {},
   "source": [
    "# Hypertunning Bayesian Optimization version 3"
   ]
  },
  {
   "cell_type": "markdown",
   "metadata": {},
   "source": [
    "pip install scikit-learn==0.23.2"
   ]
  },
  {
   "cell_type": "code",
   "execution_count": 6,
   "metadata": {},
   "outputs": [],
   "source": [
    "from skopt.space import Real"
   ]
  },
  {
   "cell_type": "code",
   "execution_count": 7,
   "metadata": {},
   "outputs": [],
   "source": [
    "params = {\n",
    "              'C': Real(0.1, 1e+4),\n",
    "              'gamma': Real(1e-6, 1e+1, 'log-uniform'),}"
   ]
  },
  {
   "cell_type": "code",
   "execution_count": 8,
   "metadata": {},
   "outputs": [],
   "source": [
    "model = SVC()"
   ]
  },
  {
   "cell_type": "code",
   "execution_count": 29,
   "metadata": {},
   "outputs": [
    {
     "name": "stdout",
     "output_type": "stream",
     "text": [
      "Fitting 5 folds for each of 1 candidates, totalling 5 fits\n",
      "Fitting 5 folds for each of 1 candidates, totalling 5 fits\n",
      "Fitting 5 folds for each of 1 candidates, totalling 5 fits\n",
      "Fitting 5 folds for each of 1 candidates, totalling 5 fits\n",
      "Fitting 5 folds for each of 1 candidates, totalling 5 fits\n",
      "Fitting 5 folds for each of 1 candidates, totalling 5 fits\n",
      "Fitting 5 folds for each of 1 candidates, totalling 5 fits\n"
     ]
    },
    {
     "name": "stderr",
     "output_type": "stream",
     "text": [
      "[Parallel(n_jobs=-1)]: Using backend LokyBackend with 8 concurrent workers.\n",
      "[Parallel(n_jobs=-1)]: Done   2 out of   5 | elapsed:    0.0s remaining:    0.0s\n",
      "[Parallel(n_jobs=-1)]: Done   5 out of   5 | elapsed:    0.0s finished\n",
      "[Parallel(n_jobs=-1)]: Using backend LokyBackend with 8 concurrent workers.\n",
      "[Parallel(n_jobs=-1)]: Done   2 out of   5 | elapsed:    0.0s remaining:    0.0s\n",
      "[Parallel(n_jobs=-1)]: Done   5 out of   5 | elapsed:    0.0s finished\n",
      "[Parallel(n_jobs=-1)]: Using backend LokyBackend with 8 concurrent workers.\n",
      "[Parallel(n_jobs=-1)]: Done   2 out of   5 | elapsed:    0.0s remaining:    0.0s\n",
      "[Parallel(n_jobs=-1)]: Done   5 out of   5 | elapsed:    0.0s finished\n",
      "[Parallel(n_jobs=-1)]: Using backend LokyBackend with 8 concurrent workers.\n",
      "[Parallel(n_jobs=-1)]: Done   2 out of   5 | elapsed:    0.0s remaining:    0.0s\n",
      "[Parallel(n_jobs=-1)]: Done   5 out of   5 | elapsed:    0.0s finished\n",
      "[Parallel(n_jobs=-1)]: Using backend LokyBackend with 8 concurrent workers.\n",
      "[Parallel(n_jobs=-1)]: Done   2 out of   5 | elapsed:    0.0s remaining:    0.0s\n",
      "[Parallel(n_jobs=-1)]: Done   5 out of   5 | elapsed:    0.0s finished\n",
      "[Parallel(n_jobs=-1)]: Using backend LokyBackend with 8 concurrent workers.\n",
      "[Parallel(n_jobs=-1)]: Done   2 out of   5 | elapsed:    0.0s remaining:    0.0s\n",
      "[Parallel(n_jobs=-1)]: Done   5 out of   5 | elapsed:    0.0s finished\n",
      "[Parallel(n_jobs=-1)]: Using backend LokyBackend with 8 concurrent workers.\n",
      "[Parallel(n_jobs=-1)]: Done   2 out of   5 | elapsed:    0.0s remaining:    0.0s\n",
      "[Parallel(n_jobs=-1)]: Done   5 out of   5 | elapsed:    0.0s finished\n",
      "[Parallel(n_jobs=-1)]: Using backend LokyBackend with 8 concurrent workers.\n",
      "[Parallel(n_jobs=-1)]: Done   2 out of   5 | elapsed:    0.0s remaining:    0.0s\n",
      "[Parallel(n_jobs=-1)]: Done   5 out of   5 | elapsed:    0.0s finished\n",
      "[Parallel(n_jobs=-1)]: Using backend LokyBackend with 8 concurrent workers.\n",
      "[Parallel(n_jobs=-1)]: Done   2 out of   5 | elapsed:    0.0s remaining:    0.0s\n",
      "[Parallel(n_jobs=-1)]: Done   5 out of   5 | elapsed:    0.0s finished\n"
     ]
    },
    {
     "name": "stdout",
     "output_type": "stream",
     "text": [
      "Fitting 5 folds for each of 1 candidates, totalling 5 fits\n",
      "Fitting 5 folds for each of 1 candidates, totalling 5 fits\n",
      "Fitting 5 folds for each of 1 candidates, totalling 5 fits\n"
     ]
    },
    {
     "name": "stderr",
     "output_type": "stream",
     "text": [
      "[Parallel(n_jobs=-1)]: Using backend LokyBackend with 8 concurrent workers.\n",
      "[Parallel(n_jobs=-1)]: Done   2 out of   5 | elapsed:    0.0s remaining:    0.0s\n",
      "[Parallel(n_jobs=-1)]: Done   5 out of   5 | elapsed:    0.0s finished\n"
     ]
    },
    {
     "name": "stdout",
     "output_type": "stream",
     "text": [
      "Fitting 5 folds for each of 1 candidates, totalling 5 fits\n"
     ]
    },
    {
     "name": "stderr",
     "output_type": "stream",
     "text": [
      "[Parallel(n_jobs=-1)]: Using backend LokyBackend with 8 concurrent workers.\n",
      "[Parallel(n_jobs=-1)]: Done   2 out of   5 | elapsed:    0.0s remaining:    0.0s\n",
      "[Parallel(n_jobs=-1)]: Done   5 out of   5 | elapsed:    0.0s finished\n"
     ]
    },
    {
     "name": "stdout",
     "output_type": "stream",
     "text": [
      "Fitting 5 folds for each of 1 candidates, totalling 5 fits\n"
     ]
    },
    {
     "name": "stderr",
     "output_type": "stream",
     "text": [
      "[Parallel(n_jobs=-1)]: Using backend LokyBackend with 8 concurrent workers.\n",
      "[Parallel(n_jobs=-1)]: Done   2 out of   5 | elapsed:    0.0s remaining:    0.0s\n",
      "[Parallel(n_jobs=-1)]: Done   5 out of   5 | elapsed:    0.0s finished\n"
     ]
    },
    {
     "name": "stdout",
     "output_type": "stream",
     "text": [
      "Fitting 5 folds for each of 1 candidates, totalling 5 fits\n"
     ]
    },
    {
     "name": "stderr",
     "output_type": "stream",
     "text": [
      "[Parallel(n_jobs=-1)]: Using backend LokyBackend with 8 concurrent workers.\n",
      "[Parallel(n_jobs=-1)]: Done   2 out of   5 | elapsed:    0.0s remaining:    0.0s\n",
      "[Parallel(n_jobs=-1)]: Done   5 out of   5 | elapsed:    0.0s finished\n"
     ]
    },
    {
     "name": "stdout",
     "output_type": "stream",
     "text": [
      "Fitting 5 folds for each of 1 candidates, totalling 5 fits\n"
     ]
    },
    {
     "name": "stderr",
     "output_type": "stream",
     "text": [
      "[Parallel(n_jobs=-1)]: Using backend LokyBackend with 8 concurrent workers.\n",
      "[Parallel(n_jobs=-1)]: Done   2 out of   5 | elapsed:    0.0s remaining:    0.0s\n",
      "[Parallel(n_jobs=-1)]: Done   5 out of   5 | elapsed:    0.0s finished\n"
     ]
    },
    {
     "name": "stdout",
     "output_type": "stream",
     "text": [
      "Fitting 5 folds for each of 1 candidates, totalling 5 fits\n"
     ]
    },
    {
     "name": "stderr",
     "output_type": "stream",
     "text": [
      "[Parallel(n_jobs=-1)]: Using backend LokyBackend with 8 concurrent workers.\n",
      "[Parallel(n_jobs=-1)]: Done   2 out of   5 | elapsed:    0.0s remaining:    0.0s\n",
      "[Parallel(n_jobs=-1)]: Done   5 out of   5 | elapsed:    0.0s finished\n"
     ]
    },
    {
     "name": "stdout",
     "output_type": "stream",
     "text": [
      "Fitting 5 folds for each of 1 candidates, totalling 5 fits\n"
     ]
    },
    {
     "name": "stderr",
     "output_type": "stream",
     "text": [
      "[Parallel(n_jobs=-1)]: Using backend LokyBackend with 8 concurrent workers.\n",
      "[Parallel(n_jobs=-1)]: Done   2 out of   5 | elapsed:    0.0s remaining:    0.0s\n",
      "[Parallel(n_jobs=-1)]: Done   5 out of   5 | elapsed:    0.0s finished\n"
     ]
    },
    {
     "name": "stdout",
     "output_type": "stream",
     "text": [
      "Fitting 5 folds for each of 1 candidates, totalling 5 fits\n"
     ]
    },
    {
     "name": "stderr",
     "output_type": "stream",
     "text": [
      "[Parallel(n_jobs=-1)]: Using backend LokyBackend with 8 concurrent workers.\n",
      "[Parallel(n_jobs=-1)]: Done   2 out of   5 | elapsed:    0.0s remaining:    0.0s\n",
      "[Parallel(n_jobs=-1)]: Done   5 out of   5 | elapsed:    0.0s finished\n"
     ]
    },
    {
     "name": "stdout",
     "output_type": "stream",
     "text": [
      "Fitting 5 folds for each of 1 candidates, totalling 5 fits\n"
     ]
    },
    {
     "name": "stderr",
     "output_type": "stream",
     "text": [
      "[Parallel(n_jobs=-1)]: Using backend LokyBackend with 8 concurrent workers.\n",
      "[Parallel(n_jobs=-1)]: Done   2 out of   5 | elapsed:    0.0s remaining:    0.0s\n",
      "[Parallel(n_jobs=-1)]: Done   5 out of   5 | elapsed:    0.0s finished\n"
     ]
    },
    {
     "name": "stdout",
     "output_type": "stream",
     "text": [
      "Fitting 5 folds for each of 1 candidates, totalling 5 fits\n"
     ]
    },
    {
     "name": "stderr",
     "output_type": "stream",
     "text": [
      "[Parallel(n_jobs=-1)]: Using backend LokyBackend with 8 concurrent workers.\n",
      "[Parallel(n_jobs=-1)]: Done   2 out of   5 | elapsed:    0.0s remaining:    0.0s\n",
      "[Parallel(n_jobs=-1)]: Done   5 out of   5 | elapsed:    0.0s finished\n"
     ]
    },
    {
     "name": "stdout",
     "output_type": "stream",
     "text": [
      "Fitting 5 folds for each of 1 candidates, totalling 5 fits\n"
     ]
    },
    {
     "name": "stderr",
     "output_type": "stream",
     "text": [
      "[Parallel(n_jobs=-1)]: Using backend LokyBackend with 8 concurrent workers.\n",
      "[Parallel(n_jobs=-1)]: Done   2 out of   5 | elapsed:    0.0s remaining:    0.0s\n",
      "[Parallel(n_jobs=-1)]: Done   5 out of   5 | elapsed:    0.0s finished\n"
     ]
    }
   ],
   "source": [
    "cv,bp,be,best_model=tunning.bayes_os(X_train_s,y_train_s,model,params,n_iter=20,cv=5)"
   ]
  },
  {
   "cell_type": "code",
   "execution_count": 24,
   "metadata": {},
   "outputs": [
    {
     "data": {
      "text/html": [
       "<div>\n",
       "<style scoped>\n",
       "    .dataframe tbody tr th:only-of-type {\n",
       "        vertical-align: middle;\n",
       "    }\n",
       "\n",
       "    .dataframe tbody tr th {\n",
       "        vertical-align: top;\n",
       "    }\n",
       "\n",
       "    .dataframe thead th {\n",
       "        text-align: right;\n",
       "    }\n",
       "</style>\n",
       "<table border=\"1\" class=\"dataframe\">\n",
       "  <thead>\n",
       "    <tr style=\"text-align: right;\">\n",
       "      <th></th>\n",
       "      <th>params</th>\n",
       "      <th>values</th>\n",
       "    </tr>\n",
       "  </thead>\n",
       "  <tbody>\n",
       "    <tr>\n",
       "      <th>0</th>\n",
       "      <td>C</td>\n",
       "      <td>10000.000000</td>\n",
       "    </tr>\n",
       "    <tr>\n",
       "      <th>1</th>\n",
       "      <td>gamma</td>\n",
       "      <td>0.000269</td>\n",
       "    </tr>\n",
       "  </tbody>\n",
       "</table>\n",
       "</div>"
      ],
      "text/plain": [
       "  params        values\n",
       "0      C  10000.000000\n",
       "1  gamma      0.000269"
      ]
     },
     "execution_count": 24,
     "metadata": {},
     "output_type": "execute_result"
    }
   ],
   "source": [
    "bp"
   ]
  },
  {
   "cell_type": "code",
   "execution_count": 25,
   "metadata": {},
   "outputs": [
    {
     "data": {
      "text/plain": [
       "SVC(C=10000.0, gamma=0.0002688634700724339)"
      ]
     },
     "execution_count": 25,
     "metadata": {},
     "output_type": "execute_result"
    }
   ],
   "source": [
    "be"
   ]
  },
  {
   "cell_type": "code",
   "execution_count": 26,
   "metadata": {},
   "outputs": [
    {
     "data": {
      "text/plain": [
       "BayesSearchCV(cv=5, estimator=SVC(), n_iter=20,\n",
       "              search_spaces={'C': Real(low=0.1, high=10000.0, prior='uniform', transform='identity'),\n",
       "                             'gamma': Real(low=1e-06, high=10.0, prior='log-uniform', transform='identity')},\n",
       "              verbose=3)"
      ]
     },
     "execution_count": 26,
     "metadata": {},
     "output_type": "execute_result"
    }
   ],
   "source": [
    "best_model"
   ]
  },
  {
   "cell_type": "code",
   "execution_count": null,
   "metadata": {},
   "outputs": [],
   "source": []
  },
  {
   "cell_type": "markdown",
   "metadata": {},
   "source": [
    "# Optuna"
   ]
  },
  {
   "cell_type": "code",
   "execution_count": 44,
   "metadata": {},
   "outputs": [
    {
     "data": {
      "text/html": [
       "<div>\n",
       "<style scoped>\n",
       "    .dataframe tbody tr th:only-of-type {\n",
       "        vertical-align: middle;\n",
       "    }\n",
       "\n",
       "    .dataframe tbody tr th {\n",
       "        vertical-align: top;\n",
       "    }\n",
       "\n",
       "    .dataframe thead th {\n",
       "        text-align: right;\n",
       "    }\n",
       "</style>\n",
       "<table border=\"1\" class=\"dataframe\">\n",
       "  <thead>\n",
       "    <tr style=\"text-align: right;\">\n",
       "      <th></th>\n",
       "      <th>Time</th>\n",
       "      <th>V1</th>\n",
       "      <th>V2</th>\n",
       "      <th>V3</th>\n",
       "      <th>V4</th>\n",
       "      <th>V5</th>\n",
       "      <th>V6</th>\n",
       "      <th>V7</th>\n",
       "      <th>V8</th>\n",
       "      <th>V9</th>\n",
       "      <th>...</th>\n",
       "      <th>V21</th>\n",
       "      <th>V22</th>\n",
       "      <th>V23</th>\n",
       "      <th>V24</th>\n",
       "      <th>V25</th>\n",
       "      <th>V26</th>\n",
       "      <th>V27</th>\n",
       "      <th>V28</th>\n",
       "      <th>Amount</th>\n",
       "      <th>Class</th>\n",
       "    </tr>\n",
       "  </thead>\n",
       "  <tbody>\n",
       "    <tr>\n",
       "      <th>0</th>\n",
       "      <td>0.0</td>\n",
       "      <td>-1.359807</td>\n",
       "      <td>-0.072781</td>\n",
       "      <td>2.536347</td>\n",
       "      <td>1.378155</td>\n",
       "      <td>-0.338321</td>\n",
       "      <td>0.462388</td>\n",
       "      <td>0.239599</td>\n",
       "      <td>0.098698</td>\n",
       "      <td>0.363787</td>\n",
       "      <td>...</td>\n",
       "      <td>-0.018307</td>\n",
       "      <td>0.277838</td>\n",
       "      <td>-0.110474</td>\n",
       "      <td>0.066928</td>\n",
       "      <td>0.128539</td>\n",
       "      <td>-0.189115</td>\n",
       "      <td>0.133558</td>\n",
       "      <td>-0.021053</td>\n",
       "      <td>149.62</td>\n",
       "      <td>0</td>\n",
       "    </tr>\n",
       "    <tr>\n",
       "      <th>1</th>\n",
       "      <td>0.0</td>\n",
       "      <td>1.191857</td>\n",
       "      <td>0.266151</td>\n",
       "      <td>0.166480</td>\n",
       "      <td>0.448154</td>\n",
       "      <td>0.060018</td>\n",
       "      <td>-0.082361</td>\n",
       "      <td>-0.078803</td>\n",
       "      <td>0.085102</td>\n",
       "      <td>-0.255425</td>\n",
       "      <td>...</td>\n",
       "      <td>-0.225775</td>\n",
       "      <td>-0.638672</td>\n",
       "      <td>0.101288</td>\n",
       "      <td>-0.339846</td>\n",
       "      <td>0.167170</td>\n",
       "      <td>0.125895</td>\n",
       "      <td>-0.008983</td>\n",
       "      <td>0.014724</td>\n",
       "      <td>2.69</td>\n",
       "      <td>0</td>\n",
       "    </tr>\n",
       "    <tr>\n",
       "      <th>2</th>\n",
       "      <td>1.0</td>\n",
       "      <td>-1.358354</td>\n",
       "      <td>-1.340163</td>\n",
       "      <td>1.773209</td>\n",
       "      <td>0.379780</td>\n",
       "      <td>-0.503198</td>\n",
       "      <td>1.800499</td>\n",
       "      <td>0.791461</td>\n",
       "      <td>0.247676</td>\n",
       "      <td>-1.514654</td>\n",
       "      <td>...</td>\n",
       "      <td>0.247998</td>\n",
       "      <td>0.771679</td>\n",
       "      <td>0.909412</td>\n",
       "      <td>-0.689281</td>\n",
       "      <td>-0.327642</td>\n",
       "      <td>-0.139097</td>\n",
       "      <td>-0.055353</td>\n",
       "      <td>-0.059752</td>\n",
       "      <td>378.66</td>\n",
       "      <td>0</td>\n",
       "    </tr>\n",
       "    <tr>\n",
       "      <th>3</th>\n",
       "      <td>1.0</td>\n",
       "      <td>-0.966272</td>\n",
       "      <td>-0.185226</td>\n",
       "      <td>1.792993</td>\n",
       "      <td>-0.863291</td>\n",
       "      <td>-0.010309</td>\n",
       "      <td>1.247203</td>\n",
       "      <td>0.237609</td>\n",
       "      <td>0.377436</td>\n",
       "      <td>-1.387024</td>\n",
       "      <td>...</td>\n",
       "      <td>-0.108300</td>\n",
       "      <td>0.005274</td>\n",
       "      <td>-0.190321</td>\n",
       "      <td>-1.175575</td>\n",
       "      <td>0.647376</td>\n",
       "      <td>-0.221929</td>\n",
       "      <td>0.062723</td>\n",
       "      <td>0.061458</td>\n",
       "      <td>123.50</td>\n",
       "      <td>0</td>\n",
       "    </tr>\n",
       "    <tr>\n",
       "      <th>4</th>\n",
       "      <td>2.0</td>\n",
       "      <td>-1.158233</td>\n",
       "      <td>0.877737</td>\n",
       "      <td>1.548718</td>\n",
       "      <td>0.403034</td>\n",
       "      <td>-0.407193</td>\n",
       "      <td>0.095921</td>\n",
       "      <td>0.592941</td>\n",
       "      <td>-0.270533</td>\n",
       "      <td>0.817739</td>\n",
       "      <td>...</td>\n",
       "      <td>-0.009431</td>\n",
       "      <td>0.798278</td>\n",
       "      <td>-0.137458</td>\n",
       "      <td>0.141267</td>\n",
       "      <td>-0.206010</td>\n",
       "      <td>0.502292</td>\n",
       "      <td>0.219422</td>\n",
       "      <td>0.215153</td>\n",
       "      <td>69.99</td>\n",
       "      <td>0</td>\n",
       "    </tr>\n",
       "  </tbody>\n",
       "</table>\n",
       "<p>5 rows × 31 columns</p>\n",
       "</div>"
      ],
      "text/plain": [
       "   Time        V1        V2        V3        V4        V5        V6        V7  \\\n",
       "0   0.0 -1.359807 -0.072781  2.536347  1.378155 -0.338321  0.462388  0.239599   \n",
       "1   0.0  1.191857  0.266151  0.166480  0.448154  0.060018 -0.082361 -0.078803   \n",
       "2   1.0 -1.358354 -1.340163  1.773209  0.379780 -0.503198  1.800499  0.791461   \n",
       "3   1.0 -0.966272 -0.185226  1.792993 -0.863291 -0.010309  1.247203  0.237609   \n",
       "4   2.0 -1.158233  0.877737  1.548718  0.403034 -0.407193  0.095921  0.592941   \n",
       "\n",
       "         V8        V9  ...       V21       V22       V23       V24       V25  \\\n",
       "0  0.098698  0.363787  ... -0.018307  0.277838 -0.110474  0.066928  0.128539   \n",
       "1  0.085102 -0.255425  ... -0.225775 -0.638672  0.101288 -0.339846  0.167170   \n",
       "2  0.247676 -1.514654  ...  0.247998  0.771679  0.909412 -0.689281 -0.327642   \n",
       "3  0.377436 -1.387024  ... -0.108300  0.005274 -0.190321 -1.175575  0.647376   \n",
       "4 -0.270533  0.817739  ... -0.009431  0.798278 -0.137458  0.141267 -0.206010   \n",
       "\n",
       "        V26       V27       V28  Amount  Class  \n",
       "0 -0.189115  0.133558 -0.021053  149.62      0  \n",
       "1  0.125895 -0.008983  0.014724    2.69      0  \n",
       "2 -0.139097 -0.055353 -0.059752  378.66      0  \n",
       "3 -0.221929  0.062723  0.061458  123.50      0  \n",
       "4  0.502292  0.219422  0.215153   69.99      0  \n",
       "\n",
       "[5 rows x 31 columns]"
      ]
     },
     "execution_count": 44,
     "metadata": {},
     "output_type": "execute_result"
    }
   ],
   "source": [
    "df = pd.read_csv(f'E:\\gitlab\\machine-learning\\dataset\\credit card\\creditcard.csv')\n",
    "df.head()"
   ]
  },
  {
   "cell_type": "code",
   "execution_count": 61,
   "metadata": {
    "scrolled": false
   },
   "outputs": [
    {
     "name": "stdout",
     "output_type": "stream",
     "text": [
      "[22:04:29] WARNING: C:/Users/Administrator/workspace/xgboost-win64_release_1.5.1/src/learner.cc:1115: Starting in XGBoost 1.3.0, the default evaluation metric used with the objective 'binary:logistic' was changed from 'error' to 'logloss'. Explicitly set eval_metric if you'd like to restore the old behavior.\n",
      "[22:06:39] WARNING: C:/Users/Administrator/workspace/xgboost-win64_release_1.5.1/src/learner.cc:1115: Starting in XGBoost 1.3.0, the default evaluation metric used with the objective 'binary:logistic' was changed from 'error' to 'logloss'. Explicitly set eval_metric if you'd like to restore the old behavior.\n",
      "[22:08:24] WARNING: C:/Users/Administrator/workspace/xgboost-win64_release_1.5.1/src/learner.cc:1115: Starting in XGBoost 1.3.0, the default evaluation metric used with the objective 'binary:logistic' was changed from 'error' to 'logloss'. Explicitly set eval_metric if you'd like to restore the old behavior.\n"
     ]
    },
    {
     "name": "stderr",
     "output_type": "stream",
     "text": [
      "[I 2021-12-06 22:10:11,024] Trial 0 finished with value: 0.9894209404210986 and parameters: {'n_estimators': 615, 'max_depth': 6, 'reg_alpha': 0, 'reg_lambda': 2, 'min_child_weight': 5, 'gamma': 1, 'learning_rate': 0.07612739753782988, 'colsample_bytree': 0.9}. Best is trial 0 with value: 0.9894209404210986.\n"
     ]
    },
    {
     "name": "stdout",
     "output_type": "stream",
     "text": [
      "Best trial: score 0.9894209404210986,\n",
      "params {'n_estimators': 615, 'max_depth': 6, 'reg_alpha': 0, 'reg_lambda': 2, 'min_child_weight': 5, 'gamma': 1, 'learning_rate': 0.07612739753782988, 'colsample_bytree': 0.9}\n"
     ]
    },
    {
     "data": {
      "application/vnd.plotly.v1+json": {
       "config": {
        "plotlyServerURL": "https://plot.ly"
       },
       "data": [
        {
         "mode": "markers",
         "name": "Objective Value",
         "type": "scatter",
         "x": [
          0
         ],
         "y": [
          0.9894209404210986
         ]
        },
        {
         "name": "Best Value",
         "type": "scatter",
         "x": [
          0
         ],
         "y": [
          0.9894209404210986
         ]
        }
       ],
       "layout": {
        "template": {
         "data": {
          "bar": [
           {
            "error_x": {
             "color": "#2a3f5f"
            },
            "error_y": {
             "color": "#2a3f5f"
            },
            "marker": {
             "line": {
              "color": "#E5ECF6",
              "width": 0.5
             }
            },
            "type": "bar"
           }
          ],
          "barpolar": [
           {
            "marker": {
             "line": {
              "color": "#E5ECF6",
              "width": 0.5
             }
            },
            "type": "barpolar"
           }
          ],
          "carpet": [
           {
            "aaxis": {
             "endlinecolor": "#2a3f5f",
             "gridcolor": "white",
             "linecolor": "white",
             "minorgridcolor": "white",
             "startlinecolor": "#2a3f5f"
            },
            "baxis": {
             "endlinecolor": "#2a3f5f",
             "gridcolor": "white",
             "linecolor": "white",
             "minorgridcolor": "white",
             "startlinecolor": "#2a3f5f"
            },
            "type": "carpet"
           }
          ],
          "choropleth": [
           {
            "colorbar": {
             "outlinewidth": 0,
             "ticks": ""
            },
            "type": "choropleth"
           }
          ],
          "contour": [
           {
            "colorbar": {
             "outlinewidth": 0,
             "ticks": ""
            },
            "colorscale": [
             [
              0,
              "#0d0887"
             ],
             [
              0.1111111111111111,
              "#46039f"
             ],
             [
              0.2222222222222222,
              "#7201a8"
             ],
             [
              0.3333333333333333,
              "#9c179e"
             ],
             [
              0.4444444444444444,
              "#bd3786"
             ],
             [
              0.5555555555555556,
              "#d8576b"
             ],
             [
              0.6666666666666666,
              "#ed7953"
             ],
             [
              0.7777777777777778,
              "#fb9f3a"
             ],
             [
              0.8888888888888888,
              "#fdca26"
             ],
             [
              1,
              "#f0f921"
             ]
            ],
            "type": "contour"
           }
          ],
          "contourcarpet": [
           {
            "colorbar": {
             "outlinewidth": 0,
             "ticks": ""
            },
            "type": "contourcarpet"
           }
          ],
          "heatmap": [
           {
            "colorbar": {
             "outlinewidth": 0,
             "ticks": ""
            },
            "colorscale": [
             [
              0,
              "#0d0887"
             ],
             [
              0.1111111111111111,
              "#46039f"
             ],
             [
              0.2222222222222222,
              "#7201a8"
             ],
             [
              0.3333333333333333,
              "#9c179e"
             ],
             [
              0.4444444444444444,
              "#bd3786"
             ],
             [
              0.5555555555555556,
              "#d8576b"
             ],
             [
              0.6666666666666666,
              "#ed7953"
             ],
             [
              0.7777777777777778,
              "#fb9f3a"
             ],
             [
              0.8888888888888888,
              "#fdca26"
             ],
             [
              1,
              "#f0f921"
             ]
            ],
            "type": "heatmap"
           }
          ],
          "heatmapgl": [
           {
            "colorbar": {
             "outlinewidth": 0,
             "ticks": ""
            },
            "colorscale": [
             [
              0,
              "#0d0887"
             ],
             [
              0.1111111111111111,
              "#46039f"
             ],
             [
              0.2222222222222222,
              "#7201a8"
             ],
             [
              0.3333333333333333,
              "#9c179e"
             ],
             [
              0.4444444444444444,
              "#bd3786"
             ],
             [
              0.5555555555555556,
              "#d8576b"
             ],
             [
              0.6666666666666666,
              "#ed7953"
             ],
             [
              0.7777777777777778,
              "#fb9f3a"
             ],
             [
              0.8888888888888888,
              "#fdca26"
             ],
             [
              1,
              "#f0f921"
             ]
            ],
            "type": "heatmapgl"
           }
          ],
          "histogram": [
           {
            "marker": {
             "colorbar": {
              "outlinewidth": 0,
              "ticks": ""
             }
            },
            "type": "histogram"
           }
          ],
          "histogram2d": [
           {
            "colorbar": {
             "outlinewidth": 0,
             "ticks": ""
            },
            "colorscale": [
             [
              0,
              "#0d0887"
             ],
             [
              0.1111111111111111,
              "#46039f"
             ],
             [
              0.2222222222222222,
              "#7201a8"
             ],
             [
              0.3333333333333333,
              "#9c179e"
             ],
             [
              0.4444444444444444,
              "#bd3786"
             ],
             [
              0.5555555555555556,
              "#d8576b"
             ],
             [
              0.6666666666666666,
              "#ed7953"
             ],
             [
              0.7777777777777778,
              "#fb9f3a"
             ],
             [
              0.8888888888888888,
              "#fdca26"
             ],
             [
              1,
              "#f0f921"
             ]
            ],
            "type": "histogram2d"
           }
          ],
          "histogram2dcontour": [
           {
            "colorbar": {
             "outlinewidth": 0,
             "ticks": ""
            },
            "colorscale": [
             [
              0,
              "#0d0887"
             ],
             [
              0.1111111111111111,
              "#46039f"
             ],
             [
              0.2222222222222222,
              "#7201a8"
             ],
             [
              0.3333333333333333,
              "#9c179e"
             ],
             [
              0.4444444444444444,
              "#bd3786"
             ],
             [
              0.5555555555555556,
              "#d8576b"
             ],
             [
              0.6666666666666666,
              "#ed7953"
             ],
             [
              0.7777777777777778,
              "#fb9f3a"
             ],
             [
              0.8888888888888888,
              "#fdca26"
             ],
             [
              1,
              "#f0f921"
             ]
            ],
            "type": "histogram2dcontour"
           }
          ],
          "mesh3d": [
           {
            "colorbar": {
             "outlinewidth": 0,
             "ticks": ""
            },
            "type": "mesh3d"
           }
          ],
          "parcoords": [
           {
            "line": {
             "colorbar": {
              "outlinewidth": 0,
              "ticks": ""
             }
            },
            "type": "parcoords"
           }
          ],
          "pie": [
           {
            "automargin": true,
            "type": "pie"
           }
          ],
          "scatter": [
           {
            "marker": {
             "colorbar": {
              "outlinewidth": 0,
              "ticks": ""
             }
            },
            "type": "scatter"
           }
          ],
          "scatter3d": [
           {
            "line": {
             "colorbar": {
              "outlinewidth": 0,
              "ticks": ""
             }
            },
            "marker": {
             "colorbar": {
              "outlinewidth": 0,
              "ticks": ""
             }
            },
            "type": "scatter3d"
           }
          ],
          "scattercarpet": [
           {
            "marker": {
             "colorbar": {
              "outlinewidth": 0,
              "ticks": ""
             }
            },
            "type": "scattercarpet"
           }
          ],
          "scattergeo": [
           {
            "marker": {
             "colorbar": {
              "outlinewidth": 0,
              "ticks": ""
             }
            },
            "type": "scattergeo"
           }
          ],
          "scattergl": [
           {
            "marker": {
             "colorbar": {
              "outlinewidth": 0,
              "ticks": ""
             }
            },
            "type": "scattergl"
           }
          ],
          "scattermapbox": [
           {
            "marker": {
             "colorbar": {
              "outlinewidth": 0,
              "ticks": ""
             }
            },
            "type": "scattermapbox"
           }
          ],
          "scatterpolar": [
           {
            "marker": {
             "colorbar": {
              "outlinewidth": 0,
              "ticks": ""
             }
            },
            "type": "scatterpolar"
           }
          ],
          "scatterpolargl": [
           {
            "marker": {
             "colorbar": {
              "outlinewidth": 0,
              "ticks": ""
             }
            },
            "type": "scatterpolargl"
           }
          ],
          "scatterternary": [
           {
            "marker": {
             "colorbar": {
              "outlinewidth": 0,
              "ticks": ""
             }
            },
            "type": "scatterternary"
           }
          ],
          "surface": [
           {
            "colorbar": {
             "outlinewidth": 0,
             "ticks": ""
            },
            "colorscale": [
             [
              0,
              "#0d0887"
             ],
             [
              0.1111111111111111,
              "#46039f"
             ],
             [
              0.2222222222222222,
              "#7201a8"
             ],
             [
              0.3333333333333333,
              "#9c179e"
             ],
             [
              0.4444444444444444,
              "#bd3786"
             ],
             [
              0.5555555555555556,
              "#d8576b"
             ],
             [
              0.6666666666666666,
              "#ed7953"
             ],
             [
              0.7777777777777778,
              "#fb9f3a"
             ],
             [
              0.8888888888888888,
              "#fdca26"
             ],
             [
              1,
              "#f0f921"
             ]
            ],
            "type": "surface"
           }
          ],
          "table": [
           {
            "cells": {
             "fill": {
              "color": "#EBF0F8"
             },
             "line": {
              "color": "white"
             }
            },
            "header": {
             "fill": {
              "color": "#C8D4E3"
             },
             "line": {
              "color": "white"
             }
            },
            "type": "table"
           }
          ]
         },
         "layout": {
          "annotationdefaults": {
           "arrowcolor": "#2a3f5f",
           "arrowhead": 0,
           "arrowwidth": 1
          },
          "autotypenumbers": "strict",
          "coloraxis": {
           "colorbar": {
            "outlinewidth": 0,
            "ticks": ""
           }
          },
          "colorscale": {
           "diverging": [
            [
             0,
             "#8e0152"
            ],
            [
             0.1,
             "#c51b7d"
            ],
            [
             0.2,
             "#de77ae"
            ],
            [
             0.3,
             "#f1b6da"
            ],
            [
             0.4,
             "#fde0ef"
            ],
            [
             0.5,
             "#f7f7f7"
            ],
            [
             0.6,
             "#e6f5d0"
            ],
            [
             0.7,
             "#b8e186"
            ],
            [
             0.8,
             "#7fbc41"
            ],
            [
             0.9,
             "#4d9221"
            ],
            [
             1,
             "#276419"
            ]
           ],
           "sequential": [
            [
             0,
             "#0d0887"
            ],
            [
             0.1111111111111111,
             "#46039f"
            ],
            [
             0.2222222222222222,
             "#7201a8"
            ],
            [
             0.3333333333333333,
             "#9c179e"
            ],
            [
             0.4444444444444444,
             "#bd3786"
            ],
            [
             0.5555555555555556,
             "#d8576b"
            ],
            [
             0.6666666666666666,
             "#ed7953"
            ],
            [
             0.7777777777777778,
             "#fb9f3a"
            ],
            [
             0.8888888888888888,
             "#fdca26"
            ],
            [
             1,
             "#f0f921"
            ]
           ],
           "sequentialminus": [
            [
             0,
             "#0d0887"
            ],
            [
             0.1111111111111111,
             "#46039f"
            ],
            [
             0.2222222222222222,
             "#7201a8"
            ],
            [
             0.3333333333333333,
             "#9c179e"
            ],
            [
             0.4444444444444444,
             "#bd3786"
            ],
            [
             0.5555555555555556,
             "#d8576b"
            ],
            [
             0.6666666666666666,
             "#ed7953"
            ],
            [
             0.7777777777777778,
             "#fb9f3a"
            ],
            [
             0.8888888888888888,
             "#fdca26"
            ],
            [
             1,
             "#f0f921"
            ]
           ]
          },
          "colorway": [
           "#636efa",
           "#EF553B",
           "#00cc96",
           "#ab63fa",
           "#FFA15A",
           "#19d3f3",
           "#FF6692",
           "#B6E880",
           "#FF97FF",
           "#FECB52"
          ],
          "font": {
           "color": "#2a3f5f"
          },
          "geo": {
           "bgcolor": "white",
           "lakecolor": "white",
           "landcolor": "#E5ECF6",
           "showlakes": true,
           "showland": true,
           "subunitcolor": "white"
          },
          "hoverlabel": {
           "align": "left"
          },
          "hovermode": "closest",
          "mapbox": {
           "style": "light"
          },
          "paper_bgcolor": "white",
          "plot_bgcolor": "#E5ECF6",
          "polar": {
           "angularaxis": {
            "gridcolor": "white",
            "linecolor": "white",
            "ticks": ""
           },
           "bgcolor": "#E5ECF6",
           "radialaxis": {
            "gridcolor": "white",
            "linecolor": "white",
            "ticks": ""
           }
          },
          "scene": {
           "xaxis": {
            "backgroundcolor": "#E5ECF6",
            "gridcolor": "white",
            "gridwidth": 2,
            "linecolor": "white",
            "showbackground": true,
            "ticks": "",
            "zerolinecolor": "white"
           },
           "yaxis": {
            "backgroundcolor": "#E5ECF6",
            "gridcolor": "white",
            "gridwidth": 2,
            "linecolor": "white",
            "showbackground": true,
            "ticks": "",
            "zerolinecolor": "white"
           },
           "zaxis": {
            "backgroundcolor": "#E5ECF6",
            "gridcolor": "white",
            "gridwidth": 2,
            "linecolor": "white",
            "showbackground": true,
            "ticks": "",
            "zerolinecolor": "white"
           }
          },
          "shapedefaults": {
           "line": {
            "color": "#2a3f5f"
           }
          },
          "ternary": {
           "aaxis": {
            "gridcolor": "white",
            "linecolor": "white",
            "ticks": ""
           },
           "baxis": {
            "gridcolor": "white",
            "linecolor": "white",
            "ticks": ""
           },
           "bgcolor": "#E5ECF6",
           "caxis": {
            "gridcolor": "white",
            "linecolor": "white",
            "ticks": ""
           }
          },
          "title": {
           "x": 0.05
          },
          "xaxis": {
           "automargin": true,
           "gridcolor": "white",
           "linecolor": "white",
           "ticks": "",
           "title": {
            "standoff": 15
           },
           "zerolinecolor": "white",
           "zerolinewidth": 2
          },
          "yaxis": {
           "automargin": true,
           "gridcolor": "white",
           "linecolor": "white",
           "ticks": "",
           "title": {
            "standoff": 15
           },
           "zerolinecolor": "white",
           "zerolinewidth": 2
          }
         }
        },
        "title": {
         "text": "Optimization History Plot"
        },
        "xaxis": {
         "title": {
          "text": "#Trials"
         }
        },
        "yaxis": {
         "title": {
          "text": "Objective Value"
         }
        }
       }
      },
      "text/html": [
       "<div>                            <div id=\"41d482e9-3af9-495e-8a27-7497e9b0eb5d\" class=\"plotly-graph-div\" style=\"height:525px; width:100%;\"></div>            <script type=\"text/javascript\">                require([\"plotly\"], function(Plotly) {                    window.PLOTLYENV=window.PLOTLYENV || {};                                    if (document.getElementById(\"41d482e9-3af9-495e-8a27-7497e9b0eb5d\")) {                    Plotly.newPlot(                        \"41d482e9-3af9-495e-8a27-7497e9b0eb5d\",                        [{\"mode\": \"markers\", \"name\": \"Objective Value\", \"type\": \"scatter\", \"x\": [0], \"y\": [0.9894209404210986]}, {\"name\": \"Best Value\", \"type\": \"scatter\", \"x\": [0], \"y\": [0.9894209404210986]}],                        {\"template\": {\"data\": {\"bar\": [{\"error_x\": {\"color\": \"#2a3f5f\"}, \"error_y\": {\"color\": \"#2a3f5f\"}, \"marker\": {\"line\": {\"color\": \"#E5ECF6\", \"width\": 0.5}}, \"type\": \"bar\"}], \"barpolar\": [{\"marker\": {\"line\": {\"color\": \"#E5ECF6\", \"width\": 0.5}}, \"type\": \"barpolar\"}], \"carpet\": [{\"aaxis\": {\"endlinecolor\": \"#2a3f5f\", \"gridcolor\": \"white\", \"linecolor\": \"white\", \"minorgridcolor\": \"white\", \"startlinecolor\": \"#2a3f5f\"}, \"baxis\": {\"endlinecolor\": \"#2a3f5f\", \"gridcolor\": \"white\", \"linecolor\": \"white\", \"minorgridcolor\": \"white\", \"startlinecolor\": \"#2a3f5f\"}, \"type\": \"carpet\"}], \"choropleth\": [{\"colorbar\": {\"outlinewidth\": 0, \"ticks\": \"\"}, \"type\": \"choropleth\"}], \"contour\": [{\"colorbar\": {\"outlinewidth\": 0, \"ticks\": \"\"}, \"colorscale\": [[0.0, \"#0d0887\"], [0.1111111111111111, \"#46039f\"], [0.2222222222222222, \"#7201a8\"], [0.3333333333333333, \"#9c179e\"], [0.4444444444444444, \"#bd3786\"], [0.5555555555555556, \"#d8576b\"], [0.6666666666666666, \"#ed7953\"], [0.7777777777777778, \"#fb9f3a\"], [0.8888888888888888, \"#fdca26\"], [1.0, \"#f0f921\"]], \"type\": \"contour\"}], \"contourcarpet\": [{\"colorbar\": {\"outlinewidth\": 0, \"ticks\": \"\"}, \"type\": \"contourcarpet\"}], \"heatmap\": [{\"colorbar\": {\"outlinewidth\": 0, \"ticks\": \"\"}, \"colorscale\": [[0.0, \"#0d0887\"], [0.1111111111111111, \"#46039f\"], [0.2222222222222222, \"#7201a8\"], [0.3333333333333333, \"#9c179e\"], [0.4444444444444444, \"#bd3786\"], [0.5555555555555556, \"#d8576b\"], [0.6666666666666666, \"#ed7953\"], [0.7777777777777778, \"#fb9f3a\"], [0.8888888888888888, \"#fdca26\"], [1.0, \"#f0f921\"]], \"type\": \"heatmap\"}], \"heatmapgl\": [{\"colorbar\": {\"outlinewidth\": 0, \"ticks\": \"\"}, \"colorscale\": [[0.0, \"#0d0887\"], [0.1111111111111111, \"#46039f\"], [0.2222222222222222, \"#7201a8\"], [0.3333333333333333, \"#9c179e\"], [0.4444444444444444, \"#bd3786\"], [0.5555555555555556, \"#d8576b\"], [0.6666666666666666, \"#ed7953\"], [0.7777777777777778, \"#fb9f3a\"], [0.8888888888888888, \"#fdca26\"], [1.0, \"#f0f921\"]], \"type\": \"heatmapgl\"}], \"histogram\": [{\"marker\": {\"colorbar\": {\"outlinewidth\": 0, \"ticks\": \"\"}}, \"type\": \"histogram\"}], \"histogram2d\": [{\"colorbar\": {\"outlinewidth\": 0, \"ticks\": \"\"}, \"colorscale\": [[0.0, \"#0d0887\"], [0.1111111111111111, \"#46039f\"], [0.2222222222222222, \"#7201a8\"], [0.3333333333333333, \"#9c179e\"], [0.4444444444444444, \"#bd3786\"], [0.5555555555555556, \"#d8576b\"], [0.6666666666666666, \"#ed7953\"], [0.7777777777777778, \"#fb9f3a\"], [0.8888888888888888, \"#fdca26\"], [1.0, \"#f0f921\"]], \"type\": \"histogram2d\"}], \"histogram2dcontour\": [{\"colorbar\": {\"outlinewidth\": 0, \"ticks\": \"\"}, \"colorscale\": [[0.0, \"#0d0887\"], [0.1111111111111111, \"#46039f\"], [0.2222222222222222, \"#7201a8\"], [0.3333333333333333, \"#9c179e\"], [0.4444444444444444, \"#bd3786\"], [0.5555555555555556, \"#d8576b\"], [0.6666666666666666, \"#ed7953\"], [0.7777777777777778, \"#fb9f3a\"], [0.8888888888888888, \"#fdca26\"], [1.0, \"#f0f921\"]], \"type\": \"histogram2dcontour\"}], \"mesh3d\": [{\"colorbar\": {\"outlinewidth\": 0, \"ticks\": \"\"}, \"type\": \"mesh3d\"}], \"parcoords\": [{\"line\": {\"colorbar\": {\"outlinewidth\": 0, \"ticks\": \"\"}}, \"type\": \"parcoords\"}], \"pie\": [{\"automargin\": true, \"type\": \"pie\"}], \"scatter\": [{\"marker\": {\"colorbar\": {\"outlinewidth\": 0, \"ticks\": \"\"}}, \"type\": \"scatter\"}], \"scatter3d\": [{\"line\": {\"colorbar\": {\"outlinewidth\": 0, \"ticks\": \"\"}}, \"marker\": {\"colorbar\": {\"outlinewidth\": 0, \"ticks\": \"\"}}, \"type\": \"scatter3d\"}], \"scattercarpet\": [{\"marker\": {\"colorbar\": {\"outlinewidth\": 0, \"ticks\": \"\"}}, \"type\": \"scattercarpet\"}], \"scattergeo\": [{\"marker\": {\"colorbar\": {\"outlinewidth\": 0, \"ticks\": \"\"}}, \"type\": \"scattergeo\"}], \"scattergl\": [{\"marker\": {\"colorbar\": {\"outlinewidth\": 0, \"ticks\": \"\"}}, \"type\": \"scattergl\"}], \"scattermapbox\": [{\"marker\": {\"colorbar\": {\"outlinewidth\": 0, \"ticks\": \"\"}}, \"type\": \"scattermapbox\"}], \"scatterpolar\": [{\"marker\": {\"colorbar\": {\"outlinewidth\": 0, \"ticks\": \"\"}}, \"type\": \"scatterpolar\"}], \"scatterpolargl\": [{\"marker\": {\"colorbar\": {\"outlinewidth\": 0, \"ticks\": \"\"}}, \"type\": \"scatterpolargl\"}], \"scatterternary\": [{\"marker\": {\"colorbar\": {\"outlinewidth\": 0, \"ticks\": \"\"}}, \"type\": \"scatterternary\"}], \"surface\": [{\"colorbar\": {\"outlinewidth\": 0, \"ticks\": \"\"}, \"colorscale\": [[0.0, \"#0d0887\"], [0.1111111111111111, \"#46039f\"], [0.2222222222222222, \"#7201a8\"], [0.3333333333333333, \"#9c179e\"], [0.4444444444444444, \"#bd3786\"], [0.5555555555555556, \"#d8576b\"], [0.6666666666666666, \"#ed7953\"], [0.7777777777777778, \"#fb9f3a\"], [0.8888888888888888, \"#fdca26\"], [1.0, \"#f0f921\"]], \"type\": \"surface\"}], \"table\": [{\"cells\": {\"fill\": {\"color\": \"#EBF0F8\"}, \"line\": {\"color\": \"white\"}}, \"header\": {\"fill\": {\"color\": \"#C8D4E3\"}, \"line\": {\"color\": \"white\"}}, \"type\": \"table\"}]}, \"layout\": {\"annotationdefaults\": {\"arrowcolor\": \"#2a3f5f\", \"arrowhead\": 0, \"arrowwidth\": 1}, \"autotypenumbers\": \"strict\", \"coloraxis\": {\"colorbar\": {\"outlinewidth\": 0, \"ticks\": \"\"}}, \"colorscale\": {\"diverging\": [[0, \"#8e0152\"], [0.1, \"#c51b7d\"], [0.2, \"#de77ae\"], [0.3, \"#f1b6da\"], [0.4, \"#fde0ef\"], [0.5, \"#f7f7f7\"], [0.6, \"#e6f5d0\"], [0.7, \"#b8e186\"], [0.8, \"#7fbc41\"], [0.9, \"#4d9221\"], [1, \"#276419\"]], \"sequential\": [[0.0, \"#0d0887\"], [0.1111111111111111, \"#46039f\"], [0.2222222222222222, \"#7201a8\"], [0.3333333333333333, \"#9c179e\"], [0.4444444444444444, \"#bd3786\"], [0.5555555555555556, \"#d8576b\"], [0.6666666666666666, \"#ed7953\"], [0.7777777777777778, \"#fb9f3a\"], [0.8888888888888888, \"#fdca26\"], [1.0, \"#f0f921\"]], \"sequentialminus\": [[0.0, \"#0d0887\"], [0.1111111111111111, \"#46039f\"], [0.2222222222222222, \"#7201a8\"], [0.3333333333333333, \"#9c179e\"], [0.4444444444444444, \"#bd3786\"], [0.5555555555555556, \"#d8576b\"], [0.6666666666666666, \"#ed7953\"], [0.7777777777777778, \"#fb9f3a\"], [0.8888888888888888, \"#fdca26\"], [1.0, \"#f0f921\"]]}, \"colorway\": [\"#636efa\", \"#EF553B\", \"#00cc96\", \"#ab63fa\", \"#FFA15A\", \"#19d3f3\", \"#FF6692\", \"#B6E880\", \"#FF97FF\", \"#FECB52\"], \"font\": {\"color\": \"#2a3f5f\"}, \"geo\": {\"bgcolor\": \"white\", \"lakecolor\": \"white\", \"landcolor\": \"#E5ECF6\", \"showlakes\": true, \"showland\": true, \"subunitcolor\": \"white\"}, \"hoverlabel\": {\"align\": \"left\"}, \"hovermode\": \"closest\", \"mapbox\": {\"style\": \"light\"}, \"paper_bgcolor\": \"white\", \"plot_bgcolor\": \"#E5ECF6\", \"polar\": {\"angularaxis\": {\"gridcolor\": \"white\", \"linecolor\": \"white\", \"ticks\": \"\"}, \"bgcolor\": \"#E5ECF6\", \"radialaxis\": {\"gridcolor\": \"white\", \"linecolor\": \"white\", \"ticks\": \"\"}}, \"scene\": {\"xaxis\": {\"backgroundcolor\": \"#E5ECF6\", \"gridcolor\": \"white\", \"gridwidth\": 2, \"linecolor\": \"white\", \"showbackground\": true, \"ticks\": \"\", \"zerolinecolor\": \"white\"}, \"yaxis\": {\"backgroundcolor\": \"#E5ECF6\", \"gridcolor\": \"white\", \"gridwidth\": 2, \"linecolor\": \"white\", \"showbackground\": true, \"ticks\": \"\", \"zerolinecolor\": \"white\"}, \"zaxis\": {\"backgroundcolor\": \"#E5ECF6\", \"gridcolor\": \"white\", \"gridwidth\": 2, \"linecolor\": \"white\", \"showbackground\": true, \"ticks\": \"\", \"zerolinecolor\": \"white\"}}, \"shapedefaults\": {\"line\": {\"color\": \"#2a3f5f\"}}, \"ternary\": {\"aaxis\": {\"gridcolor\": \"white\", \"linecolor\": \"white\", \"ticks\": \"\"}, \"baxis\": {\"gridcolor\": \"white\", \"linecolor\": \"white\", \"ticks\": \"\"}, \"bgcolor\": \"#E5ECF6\", \"caxis\": {\"gridcolor\": \"white\", \"linecolor\": \"white\", \"ticks\": \"\"}}, \"title\": {\"x\": 0.05}, \"xaxis\": {\"automargin\": true, \"gridcolor\": \"white\", \"linecolor\": \"white\", \"ticks\": \"\", \"title\": {\"standoff\": 15}, \"zerolinecolor\": \"white\", \"zerolinewidth\": 2}, \"yaxis\": {\"automargin\": true, \"gridcolor\": \"white\", \"linecolor\": \"white\", \"ticks\": \"\", \"title\": {\"standoff\": 15}, \"zerolinecolor\": \"white\", \"zerolinewidth\": 2}}}, \"title\": {\"text\": \"Optimization History Plot\"}, \"xaxis\": {\"title\": {\"text\": \"#Trials\"}}, \"yaxis\": {\"title\": {\"text\": \"Objective Value\"}}},                        {\"responsive\": true}                    ).then(function(){\n",
       "                            \n",
       "var gd = document.getElementById('41d482e9-3af9-495e-8a27-7497e9b0eb5d');\n",
       "var x = new MutationObserver(function (mutations, observer) {{\n",
       "        var display = window.getComputedStyle(gd).display;\n",
       "        if (!display || display === 'none') {{\n",
       "            console.log([gd, 'removed!']);\n",
       "            Plotly.purge(gd);\n",
       "            observer.disconnect();\n",
       "        }}\n",
       "}});\n",
       "\n",
       "// Listen for the removal of the full notebook cells\n",
       "var notebookContainer = gd.closest('#notebook-container');\n",
       "if (notebookContainer) {{\n",
       "    x.observe(notebookContainer, {childList: true});\n",
       "}}\n",
       "\n",
       "// Listen for the clearing of the current output cell\n",
       "var outputEl = gd.closest('.output');\n",
       "if (outputEl) {{\n",
       "    x.observe(outputEl, {childList: true});\n",
       "}}\n",
       "\n",
       "                        })                };                });            </script>        </div>"
      ]
     },
     "metadata": {},
     "output_type": "display_data"
    },
    {
     "data": {
      "application/vnd.plotly.v1+json": {
       "config": {
        "plotlyServerURL": "https://plot.ly"
       },
       "data": [
        {
         "marker": {
          "color": [
           0
          ],
          "colorbar": {
           "title": {
            "text": "#Trials"
           },
           "x": 1,
           "xpad": 40
          },
          "colorscale": [
           [
            0,
            "rgb(247,251,255)"
           ],
           [
            0.125,
            "rgb(222,235,247)"
           ],
           [
            0.25,
            "rgb(198,219,239)"
           ],
           [
            0.375,
            "rgb(158,202,225)"
           ],
           [
            0.5,
            "rgb(107,174,214)"
           ],
           [
            0.625,
            "rgb(66,146,198)"
           ],
           [
            0.75,
            "rgb(33,113,181)"
           ],
           [
            0.875,
            "rgb(8,81,156)"
           ],
           [
            1,
            "rgb(8,48,107)"
           ]
          ],
          "line": {
           "color": "Grey",
           "width": 0.5
          },
          "showscale": true
         },
         "mode": "markers",
         "showlegend": false,
         "type": "scatter",
         "x": [
          0.9
         ],
         "xaxis": "x",
         "y": [
          0.9894209404210986
         ],
         "yaxis": "y"
        },
        {
         "marker": {
          "color": [
           0
          ],
          "colorbar": {
           "title": {
            "text": "#Trials"
           },
           "x": 1,
           "xpad": 40
          },
          "colorscale": [
           [
            0,
            "rgb(247,251,255)"
           ],
           [
            0.125,
            "rgb(222,235,247)"
           ],
           [
            0.25,
            "rgb(198,219,239)"
           ],
           [
            0.375,
            "rgb(158,202,225)"
           ],
           [
            0.5,
            "rgb(107,174,214)"
           ],
           [
            0.625,
            "rgb(66,146,198)"
           ],
           [
            0.75,
            "rgb(33,113,181)"
           ],
           [
            0.875,
            "rgb(8,81,156)"
           ],
           [
            1,
            "rgb(8,48,107)"
           ]
          ],
          "line": {
           "color": "Grey",
           "width": 0.5
          },
          "showscale": false
         },
         "mode": "markers",
         "showlegend": false,
         "type": "scatter",
         "x": [
          1
         ],
         "xaxis": "x2",
         "y": [
          0.9894209404210986
         ],
         "yaxis": "y2"
        },
        {
         "marker": {
          "color": [
           0
          ],
          "colorbar": {
           "title": {
            "text": "#Trials"
           },
           "x": 1,
           "xpad": 40
          },
          "colorscale": [
           [
            0,
            "rgb(247,251,255)"
           ],
           [
            0.125,
            "rgb(222,235,247)"
           ],
           [
            0.25,
            "rgb(198,219,239)"
           ],
           [
            0.375,
            "rgb(158,202,225)"
           ],
           [
            0.5,
            "rgb(107,174,214)"
           ],
           [
            0.625,
            "rgb(66,146,198)"
           ],
           [
            0.75,
            "rgb(33,113,181)"
           ],
           [
            0.875,
            "rgb(8,81,156)"
           ],
           [
            1,
            "rgb(8,48,107)"
           ]
          ],
          "line": {
           "color": "Grey",
           "width": 0.5
          },
          "showscale": false
         },
         "mode": "markers",
         "showlegend": false,
         "type": "scatter",
         "x": [
          0.07612739753782988
         ],
         "xaxis": "x3",
         "y": [
          0.9894209404210986
         ],
         "yaxis": "y3"
        },
        {
         "marker": {
          "color": [
           0
          ],
          "colorbar": {
           "title": {
            "text": "#Trials"
           },
           "x": 1,
           "xpad": 40
          },
          "colorscale": [
           [
            0,
            "rgb(247,251,255)"
           ],
           [
            0.125,
            "rgb(222,235,247)"
           ],
           [
            0.25,
            "rgb(198,219,239)"
           ],
           [
            0.375,
            "rgb(158,202,225)"
           ],
           [
            0.5,
            "rgb(107,174,214)"
           ],
           [
            0.625,
            "rgb(66,146,198)"
           ],
           [
            0.75,
            "rgb(33,113,181)"
           ],
           [
            0.875,
            "rgb(8,81,156)"
           ],
           [
            1,
            "rgb(8,48,107)"
           ]
          ],
          "line": {
           "color": "Grey",
           "width": 0.5
          },
          "showscale": false
         },
         "mode": "markers",
         "showlegend": false,
         "type": "scatter",
         "x": [
          6
         ],
         "xaxis": "x4",
         "y": [
          0.9894209404210986
         ],
         "yaxis": "y4"
        },
        {
         "marker": {
          "color": [
           0
          ],
          "colorbar": {
           "title": {
            "text": "#Trials"
           },
           "x": 1,
           "xpad": 40
          },
          "colorscale": [
           [
            0,
            "rgb(247,251,255)"
           ],
           [
            0.125,
            "rgb(222,235,247)"
           ],
           [
            0.25,
            "rgb(198,219,239)"
           ],
           [
            0.375,
            "rgb(158,202,225)"
           ],
           [
            0.5,
            "rgb(107,174,214)"
           ],
           [
            0.625,
            "rgb(66,146,198)"
           ],
           [
            0.75,
            "rgb(33,113,181)"
           ],
           [
            0.875,
            "rgb(8,81,156)"
           ],
           [
            1,
            "rgb(8,48,107)"
           ]
          ],
          "line": {
           "color": "Grey",
           "width": 0.5
          },
          "showscale": false
         },
         "mode": "markers",
         "showlegend": false,
         "type": "scatter",
         "x": [
          5
         ],
         "xaxis": "x5",
         "y": [
          0.9894209404210986
         ],
         "yaxis": "y5"
        },
        {
         "marker": {
          "color": [
           0
          ],
          "colorbar": {
           "title": {
            "text": "#Trials"
           },
           "x": 1,
           "xpad": 40
          },
          "colorscale": [
           [
            0,
            "rgb(247,251,255)"
           ],
           [
            0.125,
            "rgb(222,235,247)"
           ],
           [
            0.25,
            "rgb(198,219,239)"
           ],
           [
            0.375,
            "rgb(158,202,225)"
           ],
           [
            0.5,
            "rgb(107,174,214)"
           ],
           [
            0.625,
            "rgb(66,146,198)"
           ],
           [
            0.75,
            "rgb(33,113,181)"
           ],
           [
            0.875,
            "rgb(8,81,156)"
           ],
           [
            1,
            "rgb(8,48,107)"
           ]
          ],
          "line": {
           "color": "Grey",
           "width": 0.5
          },
          "showscale": false
         },
         "mode": "markers",
         "showlegend": false,
         "type": "scatter",
         "x": [
          615
         ],
         "xaxis": "x6",
         "y": [
          0.9894209404210986
         ],
         "yaxis": "y6"
        },
        {
         "marker": {
          "color": [
           0
          ],
          "colorbar": {
           "title": {
            "text": "#Trials"
           },
           "x": 1,
           "xpad": 40
          },
          "colorscale": [
           [
            0,
            "rgb(247,251,255)"
           ],
           [
            0.125,
            "rgb(222,235,247)"
           ],
           [
            0.25,
            "rgb(198,219,239)"
           ],
           [
            0.375,
            "rgb(158,202,225)"
           ],
           [
            0.5,
            "rgb(107,174,214)"
           ],
           [
            0.625,
            "rgb(66,146,198)"
           ],
           [
            0.75,
            "rgb(33,113,181)"
           ],
           [
            0.875,
            "rgb(8,81,156)"
           ],
           [
            1,
            "rgb(8,48,107)"
           ]
          ],
          "line": {
           "color": "Grey",
           "width": 0.5
          },
          "showscale": false
         },
         "mode": "markers",
         "showlegend": false,
         "type": "scatter",
         "x": [
          0
         ],
         "xaxis": "x7",
         "y": [
          0.9894209404210986
         ],
         "yaxis": "y7"
        },
        {
         "marker": {
          "color": [
           0
          ],
          "colorbar": {
           "title": {
            "text": "#Trials"
           },
           "x": 1,
           "xpad": 40
          },
          "colorscale": [
           [
            0,
            "rgb(247,251,255)"
           ],
           [
            0.125,
            "rgb(222,235,247)"
           ],
           [
            0.25,
            "rgb(198,219,239)"
           ],
           [
            0.375,
            "rgb(158,202,225)"
           ],
           [
            0.5,
            "rgb(107,174,214)"
           ],
           [
            0.625,
            "rgb(66,146,198)"
           ],
           [
            0.75,
            "rgb(33,113,181)"
           ],
           [
            0.875,
            "rgb(8,81,156)"
           ],
           [
            1,
            "rgb(8,48,107)"
           ]
          ],
          "line": {
           "color": "Grey",
           "width": 0.5
          },
          "showscale": false
         },
         "mode": "markers",
         "showlegend": false,
         "type": "scatter",
         "x": [
          2
         ],
         "xaxis": "x8",
         "y": [
          0.9894209404210986
         ],
         "yaxis": "y8"
        }
       ],
       "layout": {
        "template": {
         "data": {
          "bar": [
           {
            "error_x": {
             "color": "#2a3f5f"
            },
            "error_y": {
             "color": "#2a3f5f"
            },
            "marker": {
             "line": {
              "color": "#E5ECF6",
              "width": 0.5
             }
            },
            "type": "bar"
           }
          ],
          "barpolar": [
           {
            "marker": {
             "line": {
              "color": "#E5ECF6",
              "width": 0.5
             }
            },
            "type": "barpolar"
           }
          ],
          "carpet": [
           {
            "aaxis": {
             "endlinecolor": "#2a3f5f",
             "gridcolor": "white",
             "linecolor": "white",
             "minorgridcolor": "white",
             "startlinecolor": "#2a3f5f"
            },
            "baxis": {
             "endlinecolor": "#2a3f5f",
             "gridcolor": "white",
             "linecolor": "white",
             "minorgridcolor": "white",
             "startlinecolor": "#2a3f5f"
            },
            "type": "carpet"
           }
          ],
          "choropleth": [
           {
            "colorbar": {
             "outlinewidth": 0,
             "ticks": ""
            },
            "type": "choropleth"
           }
          ],
          "contour": [
           {
            "colorbar": {
             "outlinewidth": 0,
             "ticks": ""
            },
            "colorscale": [
             [
              0,
              "#0d0887"
             ],
             [
              0.1111111111111111,
              "#46039f"
             ],
             [
              0.2222222222222222,
              "#7201a8"
             ],
             [
              0.3333333333333333,
              "#9c179e"
             ],
             [
              0.4444444444444444,
              "#bd3786"
             ],
             [
              0.5555555555555556,
              "#d8576b"
             ],
             [
              0.6666666666666666,
              "#ed7953"
             ],
             [
              0.7777777777777778,
              "#fb9f3a"
             ],
             [
              0.8888888888888888,
              "#fdca26"
             ],
             [
              1,
              "#f0f921"
             ]
            ],
            "type": "contour"
           }
          ],
          "contourcarpet": [
           {
            "colorbar": {
             "outlinewidth": 0,
             "ticks": ""
            },
            "type": "contourcarpet"
           }
          ],
          "heatmap": [
           {
            "colorbar": {
             "outlinewidth": 0,
             "ticks": ""
            },
            "colorscale": [
             [
              0,
              "#0d0887"
             ],
             [
              0.1111111111111111,
              "#46039f"
             ],
             [
              0.2222222222222222,
              "#7201a8"
             ],
             [
              0.3333333333333333,
              "#9c179e"
             ],
             [
              0.4444444444444444,
              "#bd3786"
             ],
             [
              0.5555555555555556,
              "#d8576b"
             ],
             [
              0.6666666666666666,
              "#ed7953"
             ],
             [
              0.7777777777777778,
              "#fb9f3a"
             ],
             [
              0.8888888888888888,
              "#fdca26"
             ],
             [
              1,
              "#f0f921"
             ]
            ],
            "type": "heatmap"
           }
          ],
          "heatmapgl": [
           {
            "colorbar": {
             "outlinewidth": 0,
             "ticks": ""
            },
            "colorscale": [
             [
              0,
              "#0d0887"
             ],
             [
              0.1111111111111111,
              "#46039f"
             ],
             [
              0.2222222222222222,
              "#7201a8"
             ],
             [
              0.3333333333333333,
              "#9c179e"
             ],
             [
              0.4444444444444444,
              "#bd3786"
             ],
             [
              0.5555555555555556,
              "#d8576b"
             ],
             [
              0.6666666666666666,
              "#ed7953"
             ],
             [
              0.7777777777777778,
              "#fb9f3a"
             ],
             [
              0.8888888888888888,
              "#fdca26"
             ],
             [
              1,
              "#f0f921"
             ]
            ],
            "type": "heatmapgl"
           }
          ],
          "histogram": [
           {
            "marker": {
             "colorbar": {
              "outlinewidth": 0,
              "ticks": ""
             }
            },
            "type": "histogram"
           }
          ],
          "histogram2d": [
           {
            "colorbar": {
             "outlinewidth": 0,
             "ticks": ""
            },
            "colorscale": [
             [
              0,
              "#0d0887"
             ],
             [
              0.1111111111111111,
              "#46039f"
             ],
             [
              0.2222222222222222,
              "#7201a8"
             ],
             [
              0.3333333333333333,
              "#9c179e"
             ],
             [
              0.4444444444444444,
              "#bd3786"
             ],
             [
              0.5555555555555556,
              "#d8576b"
             ],
             [
              0.6666666666666666,
              "#ed7953"
             ],
             [
              0.7777777777777778,
              "#fb9f3a"
             ],
             [
              0.8888888888888888,
              "#fdca26"
             ],
             [
              1,
              "#f0f921"
             ]
            ],
            "type": "histogram2d"
           }
          ],
          "histogram2dcontour": [
           {
            "colorbar": {
             "outlinewidth": 0,
             "ticks": ""
            },
            "colorscale": [
             [
              0,
              "#0d0887"
             ],
             [
              0.1111111111111111,
              "#46039f"
             ],
             [
              0.2222222222222222,
              "#7201a8"
             ],
             [
              0.3333333333333333,
              "#9c179e"
             ],
             [
              0.4444444444444444,
              "#bd3786"
             ],
             [
              0.5555555555555556,
              "#d8576b"
             ],
             [
              0.6666666666666666,
              "#ed7953"
             ],
             [
              0.7777777777777778,
              "#fb9f3a"
             ],
             [
              0.8888888888888888,
              "#fdca26"
             ],
             [
              1,
              "#f0f921"
             ]
            ],
            "type": "histogram2dcontour"
           }
          ],
          "mesh3d": [
           {
            "colorbar": {
             "outlinewidth": 0,
             "ticks": ""
            },
            "type": "mesh3d"
           }
          ],
          "parcoords": [
           {
            "line": {
             "colorbar": {
              "outlinewidth": 0,
              "ticks": ""
             }
            },
            "type": "parcoords"
           }
          ],
          "pie": [
           {
            "automargin": true,
            "type": "pie"
           }
          ],
          "scatter": [
           {
            "marker": {
             "colorbar": {
              "outlinewidth": 0,
              "ticks": ""
             }
            },
            "type": "scatter"
           }
          ],
          "scatter3d": [
           {
            "line": {
             "colorbar": {
              "outlinewidth": 0,
              "ticks": ""
             }
            },
            "marker": {
             "colorbar": {
              "outlinewidth": 0,
              "ticks": ""
             }
            },
            "type": "scatter3d"
           }
          ],
          "scattercarpet": [
           {
            "marker": {
             "colorbar": {
              "outlinewidth": 0,
              "ticks": ""
             }
            },
            "type": "scattercarpet"
           }
          ],
          "scattergeo": [
           {
            "marker": {
             "colorbar": {
              "outlinewidth": 0,
              "ticks": ""
             }
            },
            "type": "scattergeo"
           }
          ],
          "scattergl": [
           {
            "marker": {
             "colorbar": {
              "outlinewidth": 0,
              "ticks": ""
             }
            },
            "type": "scattergl"
           }
          ],
          "scattermapbox": [
           {
            "marker": {
             "colorbar": {
              "outlinewidth": 0,
              "ticks": ""
             }
            },
            "type": "scattermapbox"
           }
          ],
          "scatterpolar": [
           {
            "marker": {
             "colorbar": {
              "outlinewidth": 0,
              "ticks": ""
             }
            },
            "type": "scatterpolar"
           }
          ],
          "scatterpolargl": [
           {
            "marker": {
             "colorbar": {
              "outlinewidth": 0,
              "ticks": ""
             }
            },
            "type": "scatterpolargl"
           }
          ],
          "scatterternary": [
           {
            "marker": {
             "colorbar": {
              "outlinewidth": 0,
              "ticks": ""
             }
            },
            "type": "scatterternary"
           }
          ],
          "surface": [
           {
            "colorbar": {
             "outlinewidth": 0,
             "ticks": ""
            },
            "colorscale": [
             [
              0,
              "#0d0887"
             ],
             [
              0.1111111111111111,
              "#46039f"
             ],
             [
              0.2222222222222222,
              "#7201a8"
             ],
             [
              0.3333333333333333,
              "#9c179e"
             ],
             [
              0.4444444444444444,
              "#bd3786"
             ],
             [
              0.5555555555555556,
              "#d8576b"
             ],
             [
              0.6666666666666666,
              "#ed7953"
             ],
             [
              0.7777777777777778,
              "#fb9f3a"
             ],
             [
              0.8888888888888888,
              "#fdca26"
             ],
             [
              1,
              "#f0f921"
             ]
            ],
            "type": "surface"
           }
          ],
          "table": [
           {
            "cells": {
             "fill": {
              "color": "#EBF0F8"
             },
             "line": {
              "color": "white"
             }
            },
            "header": {
             "fill": {
              "color": "#C8D4E3"
             },
             "line": {
              "color": "white"
             }
            },
            "type": "table"
           }
          ]
         },
         "layout": {
          "annotationdefaults": {
           "arrowcolor": "#2a3f5f",
           "arrowhead": 0,
           "arrowwidth": 1
          },
          "autotypenumbers": "strict",
          "coloraxis": {
           "colorbar": {
            "outlinewidth": 0,
            "ticks": ""
           }
          },
          "colorscale": {
           "diverging": [
            [
             0,
             "#8e0152"
            ],
            [
             0.1,
             "#c51b7d"
            ],
            [
             0.2,
             "#de77ae"
            ],
            [
             0.3,
             "#f1b6da"
            ],
            [
             0.4,
             "#fde0ef"
            ],
            [
             0.5,
             "#f7f7f7"
            ],
            [
             0.6,
             "#e6f5d0"
            ],
            [
             0.7,
             "#b8e186"
            ],
            [
             0.8,
             "#7fbc41"
            ],
            [
             0.9,
             "#4d9221"
            ],
            [
             1,
             "#276419"
            ]
           ],
           "sequential": [
            [
             0,
             "#0d0887"
            ],
            [
             0.1111111111111111,
             "#46039f"
            ],
            [
             0.2222222222222222,
             "#7201a8"
            ],
            [
             0.3333333333333333,
             "#9c179e"
            ],
            [
             0.4444444444444444,
             "#bd3786"
            ],
            [
             0.5555555555555556,
             "#d8576b"
            ],
            [
             0.6666666666666666,
             "#ed7953"
            ],
            [
             0.7777777777777778,
             "#fb9f3a"
            ],
            [
             0.8888888888888888,
             "#fdca26"
            ],
            [
             1,
             "#f0f921"
            ]
           ],
           "sequentialminus": [
            [
             0,
             "#0d0887"
            ],
            [
             0.1111111111111111,
             "#46039f"
            ],
            [
             0.2222222222222222,
             "#7201a8"
            ],
            [
             0.3333333333333333,
             "#9c179e"
            ],
            [
             0.4444444444444444,
             "#bd3786"
            ],
            [
             0.5555555555555556,
             "#d8576b"
            ],
            [
             0.6666666666666666,
             "#ed7953"
            ],
            [
             0.7777777777777778,
             "#fb9f3a"
            ],
            [
             0.8888888888888888,
             "#fdca26"
            ],
            [
             1,
             "#f0f921"
            ]
           ]
          },
          "colorway": [
           "#636efa",
           "#EF553B",
           "#00cc96",
           "#ab63fa",
           "#FFA15A",
           "#19d3f3",
           "#FF6692",
           "#B6E880",
           "#FF97FF",
           "#FECB52"
          ],
          "font": {
           "color": "#2a3f5f"
          },
          "geo": {
           "bgcolor": "white",
           "lakecolor": "white",
           "landcolor": "#E5ECF6",
           "showlakes": true,
           "showland": true,
           "subunitcolor": "white"
          },
          "hoverlabel": {
           "align": "left"
          },
          "hovermode": "closest",
          "mapbox": {
           "style": "light"
          },
          "paper_bgcolor": "white",
          "plot_bgcolor": "#E5ECF6",
          "polar": {
           "angularaxis": {
            "gridcolor": "white",
            "linecolor": "white",
            "ticks": ""
           },
           "bgcolor": "#E5ECF6",
           "radialaxis": {
            "gridcolor": "white",
            "linecolor": "white",
            "ticks": ""
           }
          },
          "scene": {
           "xaxis": {
            "backgroundcolor": "#E5ECF6",
            "gridcolor": "white",
            "gridwidth": 2,
            "linecolor": "white",
            "showbackground": true,
            "ticks": "",
            "zerolinecolor": "white"
           },
           "yaxis": {
            "backgroundcolor": "#E5ECF6",
            "gridcolor": "white",
            "gridwidth": 2,
            "linecolor": "white",
            "showbackground": true,
            "ticks": "",
            "zerolinecolor": "white"
           },
           "zaxis": {
            "backgroundcolor": "#E5ECF6",
            "gridcolor": "white",
            "gridwidth": 2,
            "linecolor": "white",
            "showbackground": true,
            "ticks": "",
            "zerolinecolor": "white"
           }
          },
          "shapedefaults": {
           "line": {
            "color": "#2a3f5f"
           }
          },
          "ternary": {
           "aaxis": {
            "gridcolor": "white",
            "linecolor": "white",
            "ticks": ""
           },
           "baxis": {
            "gridcolor": "white",
            "linecolor": "white",
            "ticks": ""
           },
           "bgcolor": "#E5ECF6",
           "caxis": {
            "gridcolor": "white",
            "linecolor": "white",
            "ticks": ""
           }
          },
          "title": {
           "x": 0.05
          },
          "xaxis": {
           "automargin": true,
           "gridcolor": "white",
           "linecolor": "white",
           "ticks": "",
           "title": {
            "standoff": 15
           },
           "zerolinecolor": "white",
           "zerolinewidth": 2
          },
          "yaxis": {
           "automargin": true,
           "gridcolor": "white",
           "linecolor": "white",
           "ticks": "",
           "title": {
            "standoff": 15
           },
           "zerolinecolor": "white",
           "zerolinewidth": 2
          }
         }
        },
        "title": {
         "text": "Slice Plot"
        },
        "width": 2400,
        "xaxis": {
         "anchor": "y",
         "domain": [
          0,
          0.103125
         ],
         "title": {
          "text": "colsample_bytree"
         }
        },
        "xaxis2": {
         "anchor": "y2",
         "domain": [
          0.128125,
          0.23124999999999998
         ],
         "title": {
          "text": "gamma"
         }
        },
        "xaxis3": {
         "anchor": "y3",
         "domain": [
          0.25625,
          0.359375
         ],
         "title": {
          "text": "learning_rate"
         },
         "type": "log"
        },
        "xaxis4": {
         "anchor": "y4",
         "domain": [
          0.38437499999999997,
          0.48749999999999993
         ],
         "title": {
          "text": "max_depth"
         }
        },
        "xaxis5": {
         "anchor": "y5",
         "domain": [
          0.5125,
          0.615625
         ],
         "title": {
          "text": "min_child_weight"
         }
        },
        "xaxis6": {
         "anchor": "y6",
         "domain": [
          0.640625,
          0.74375
         ],
         "title": {
          "text": "n_estimators"
         }
        },
        "xaxis7": {
         "anchor": "y7",
         "domain": [
          0.76875,
          0.8718750000000001
         ],
         "title": {
          "text": "reg_alpha"
         }
        },
        "xaxis8": {
         "anchor": "y8",
         "domain": [
          0.8968750000000001,
          1
         ],
         "title": {
          "text": "reg_lambda"
         }
        },
        "yaxis": {
         "anchor": "x",
         "domain": [
          0,
          1
         ],
         "title": {
          "text": "Objective Value"
         }
        },
        "yaxis2": {
         "anchor": "x2",
         "domain": [
          0,
          1
         ],
         "matches": "y",
         "showticklabels": false
        },
        "yaxis3": {
         "anchor": "x3",
         "domain": [
          0,
          1
         ],
         "matches": "y",
         "showticklabels": false
        },
        "yaxis4": {
         "anchor": "x4",
         "domain": [
          0,
          1
         ],
         "matches": "y",
         "showticklabels": false
        },
        "yaxis5": {
         "anchor": "x5",
         "domain": [
          0,
          1
         ],
         "matches": "y",
         "showticklabels": false
        },
        "yaxis6": {
         "anchor": "x6",
         "domain": [
          0,
          1
         ],
         "matches": "y",
         "showticklabels": false
        },
        "yaxis7": {
         "anchor": "x7",
         "domain": [
          0,
          1
         ],
         "matches": "y",
         "showticklabels": false
        },
        "yaxis8": {
         "anchor": "x8",
         "domain": [
          0,
          1
         ],
         "matches": "y",
         "showticklabels": false
        }
       }
      },
      "text/html": [
       "<div>                            <div id=\"d53edc31-3010-4f6c-be5d-a28a0f28eabd\" class=\"plotly-graph-div\" style=\"height:525px; width:2400px;\"></div>            <script type=\"text/javascript\">                require([\"plotly\"], function(Plotly) {                    window.PLOTLYENV=window.PLOTLYENV || {};                                    if (document.getElementById(\"d53edc31-3010-4f6c-be5d-a28a0f28eabd\")) {                    Plotly.newPlot(                        \"d53edc31-3010-4f6c-be5d-a28a0f28eabd\",                        [{\"marker\": {\"color\": [0], \"colorbar\": {\"title\": {\"text\": \"#Trials\"}, \"x\": 1.0, \"xpad\": 40}, \"colorscale\": [[0.0, \"rgb(247,251,255)\"], [0.125, \"rgb(222,235,247)\"], [0.25, \"rgb(198,219,239)\"], [0.375, \"rgb(158,202,225)\"], [0.5, \"rgb(107,174,214)\"], [0.625, \"rgb(66,146,198)\"], [0.75, \"rgb(33,113,181)\"], [0.875, \"rgb(8,81,156)\"], [1.0, \"rgb(8,48,107)\"]], \"line\": {\"color\": \"Grey\", \"width\": 0.5}, \"showscale\": true}, \"mode\": \"markers\", \"showlegend\": false, \"type\": \"scatter\", \"x\": [0.9], \"xaxis\": \"x\", \"y\": [0.9894209404210986], \"yaxis\": \"y\"}, {\"marker\": {\"color\": [0], \"colorbar\": {\"title\": {\"text\": \"#Trials\"}, \"x\": 1.0, \"xpad\": 40}, \"colorscale\": [[0.0, \"rgb(247,251,255)\"], [0.125, \"rgb(222,235,247)\"], [0.25, \"rgb(198,219,239)\"], [0.375, \"rgb(158,202,225)\"], [0.5, \"rgb(107,174,214)\"], [0.625, \"rgb(66,146,198)\"], [0.75, \"rgb(33,113,181)\"], [0.875, \"rgb(8,81,156)\"], [1.0, \"rgb(8,48,107)\"]], \"line\": {\"color\": \"Grey\", \"width\": 0.5}, \"showscale\": false}, \"mode\": \"markers\", \"showlegend\": false, \"type\": \"scatter\", \"x\": [1], \"xaxis\": \"x2\", \"y\": [0.9894209404210986], \"yaxis\": \"y2\"}, {\"marker\": {\"color\": [0], \"colorbar\": {\"title\": {\"text\": \"#Trials\"}, \"x\": 1.0, \"xpad\": 40}, \"colorscale\": [[0.0, \"rgb(247,251,255)\"], [0.125, \"rgb(222,235,247)\"], [0.25, \"rgb(198,219,239)\"], [0.375, \"rgb(158,202,225)\"], [0.5, \"rgb(107,174,214)\"], [0.625, \"rgb(66,146,198)\"], [0.75, \"rgb(33,113,181)\"], [0.875, \"rgb(8,81,156)\"], [1.0, \"rgb(8,48,107)\"]], \"line\": {\"color\": \"Grey\", \"width\": 0.5}, \"showscale\": false}, \"mode\": \"markers\", \"showlegend\": false, \"type\": \"scatter\", \"x\": [0.07612739753782988], \"xaxis\": \"x3\", \"y\": [0.9894209404210986], \"yaxis\": \"y3\"}, {\"marker\": {\"color\": [0], \"colorbar\": {\"title\": {\"text\": \"#Trials\"}, \"x\": 1.0, \"xpad\": 40}, \"colorscale\": [[0.0, \"rgb(247,251,255)\"], [0.125, \"rgb(222,235,247)\"], [0.25, \"rgb(198,219,239)\"], [0.375, \"rgb(158,202,225)\"], [0.5, \"rgb(107,174,214)\"], [0.625, \"rgb(66,146,198)\"], [0.75, \"rgb(33,113,181)\"], [0.875, \"rgb(8,81,156)\"], [1.0, \"rgb(8,48,107)\"]], \"line\": {\"color\": \"Grey\", \"width\": 0.5}, \"showscale\": false}, \"mode\": \"markers\", \"showlegend\": false, \"type\": \"scatter\", \"x\": [6], \"xaxis\": \"x4\", \"y\": [0.9894209404210986], \"yaxis\": \"y4\"}, {\"marker\": {\"color\": [0], \"colorbar\": {\"title\": {\"text\": \"#Trials\"}, \"x\": 1.0, \"xpad\": 40}, \"colorscale\": [[0.0, \"rgb(247,251,255)\"], [0.125, \"rgb(222,235,247)\"], [0.25, \"rgb(198,219,239)\"], [0.375, \"rgb(158,202,225)\"], [0.5, \"rgb(107,174,214)\"], [0.625, \"rgb(66,146,198)\"], [0.75, \"rgb(33,113,181)\"], [0.875, \"rgb(8,81,156)\"], [1.0, \"rgb(8,48,107)\"]], \"line\": {\"color\": \"Grey\", \"width\": 0.5}, \"showscale\": false}, \"mode\": \"markers\", \"showlegend\": false, \"type\": \"scatter\", \"x\": [5], \"xaxis\": \"x5\", \"y\": [0.9894209404210986], \"yaxis\": \"y5\"}, {\"marker\": {\"color\": [0], \"colorbar\": {\"title\": {\"text\": \"#Trials\"}, \"x\": 1.0, \"xpad\": 40}, \"colorscale\": [[0.0, \"rgb(247,251,255)\"], [0.125, \"rgb(222,235,247)\"], [0.25, \"rgb(198,219,239)\"], [0.375, \"rgb(158,202,225)\"], [0.5, \"rgb(107,174,214)\"], [0.625, \"rgb(66,146,198)\"], [0.75, \"rgb(33,113,181)\"], [0.875, \"rgb(8,81,156)\"], [1.0, \"rgb(8,48,107)\"]], \"line\": {\"color\": \"Grey\", \"width\": 0.5}, \"showscale\": false}, \"mode\": \"markers\", \"showlegend\": false, \"type\": \"scatter\", \"x\": [615], \"xaxis\": \"x6\", \"y\": [0.9894209404210986], \"yaxis\": \"y6\"}, {\"marker\": {\"color\": [0], \"colorbar\": {\"title\": {\"text\": \"#Trials\"}, \"x\": 1.0, \"xpad\": 40}, \"colorscale\": [[0.0, \"rgb(247,251,255)\"], [0.125, \"rgb(222,235,247)\"], [0.25, \"rgb(198,219,239)\"], [0.375, \"rgb(158,202,225)\"], [0.5, \"rgb(107,174,214)\"], [0.625, \"rgb(66,146,198)\"], [0.75, \"rgb(33,113,181)\"], [0.875, \"rgb(8,81,156)\"], [1.0, \"rgb(8,48,107)\"]], \"line\": {\"color\": \"Grey\", \"width\": 0.5}, \"showscale\": false}, \"mode\": \"markers\", \"showlegend\": false, \"type\": \"scatter\", \"x\": [0], \"xaxis\": \"x7\", \"y\": [0.9894209404210986], \"yaxis\": \"y7\"}, {\"marker\": {\"color\": [0], \"colorbar\": {\"title\": {\"text\": \"#Trials\"}, \"x\": 1.0, \"xpad\": 40}, \"colorscale\": [[0.0, \"rgb(247,251,255)\"], [0.125, \"rgb(222,235,247)\"], [0.25, \"rgb(198,219,239)\"], [0.375, \"rgb(158,202,225)\"], [0.5, \"rgb(107,174,214)\"], [0.625, \"rgb(66,146,198)\"], [0.75, \"rgb(33,113,181)\"], [0.875, \"rgb(8,81,156)\"], [1.0, \"rgb(8,48,107)\"]], \"line\": {\"color\": \"Grey\", \"width\": 0.5}, \"showscale\": false}, \"mode\": \"markers\", \"showlegend\": false, \"type\": \"scatter\", \"x\": [2], \"xaxis\": \"x8\", \"y\": [0.9894209404210986], \"yaxis\": \"y8\"}],                        {\"template\": {\"data\": {\"bar\": [{\"error_x\": {\"color\": \"#2a3f5f\"}, \"error_y\": {\"color\": \"#2a3f5f\"}, \"marker\": {\"line\": {\"color\": \"#E5ECF6\", \"width\": 0.5}}, \"type\": \"bar\"}], \"barpolar\": [{\"marker\": {\"line\": {\"color\": \"#E5ECF6\", \"width\": 0.5}}, \"type\": \"barpolar\"}], \"carpet\": [{\"aaxis\": {\"endlinecolor\": \"#2a3f5f\", \"gridcolor\": \"white\", \"linecolor\": \"white\", \"minorgridcolor\": \"white\", \"startlinecolor\": \"#2a3f5f\"}, \"baxis\": {\"endlinecolor\": \"#2a3f5f\", \"gridcolor\": \"white\", \"linecolor\": \"white\", \"minorgridcolor\": \"white\", \"startlinecolor\": \"#2a3f5f\"}, \"type\": \"carpet\"}], \"choropleth\": [{\"colorbar\": {\"outlinewidth\": 0, \"ticks\": \"\"}, \"type\": \"choropleth\"}], \"contour\": [{\"colorbar\": {\"outlinewidth\": 0, \"ticks\": \"\"}, \"colorscale\": [[0.0, \"#0d0887\"], [0.1111111111111111, \"#46039f\"], [0.2222222222222222, \"#7201a8\"], [0.3333333333333333, \"#9c179e\"], [0.4444444444444444, \"#bd3786\"], [0.5555555555555556, \"#d8576b\"], [0.6666666666666666, \"#ed7953\"], [0.7777777777777778, \"#fb9f3a\"], [0.8888888888888888, \"#fdca26\"], [1.0, \"#f0f921\"]], \"type\": \"contour\"}], \"contourcarpet\": [{\"colorbar\": {\"outlinewidth\": 0, \"ticks\": \"\"}, \"type\": \"contourcarpet\"}], \"heatmap\": [{\"colorbar\": {\"outlinewidth\": 0, \"ticks\": \"\"}, \"colorscale\": [[0.0, \"#0d0887\"], [0.1111111111111111, \"#46039f\"], [0.2222222222222222, \"#7201a8\"], [0.3333333333333333, \"#9c179e\"], [0.4444444444444444, \"#bd3786\"], [0.5555555555555556, \"#d8576b\"], [0.6666666666666666, \"#ed7953\"], [0.7777777777777778, \"#fb9f3a\"], [0.8888888888888888, \"#fdca26\"], [1.0, \"#f0f921\"]], \"type\": \"heatmap\"}], \"heatmapgl\": [{\"colorbar\": {\"outlinewidth\": 0, \"ticks\": \"\"}, \"colorscale\": [[0.0, \"#0d0887\"], [0.1111111111111111, \"#46039f\"], [0.2222222222222222, \"#7201a8\"], [0.3333333333333333, \"#9c179e\"], [0.4444444444444444, \"#bd3786\"], [0.5555555555555556, \"#d8576b\"], [0.6666666666666666, \"#ed7953\"], [0.7777777777777778, \"#fb9f3a\"], [0.8888888888888888, \"#fdca26\"], [1.0, \"#f0f921\"]], \"type\": \"heatmapgl\"}], \"histogram\": [{\"marker\": {\"colorbar\": {\"outlinewidth\": 0, \"ticks\": \"\"}}, \"type\": \"histogram\"}], \"histogram2d\": [{\"colorbar\": {\"outlinewidth\": 0, \"ticks\": \"\"}, \"colorscale\": [[0.0, \"#0d0887\"], [0.1111111111111111, \"#46039f\"], [0.2222222222222222, \"#7201a8\"], [0.3333333333333333, \"#9c179e\"], [0.4444444444444444, \"#bd3786\"], [0.5555555555555556, \"#d8576b\"], [0.6666666666666666, \"#ed7953\"], [0.7777777777777778, \"#fb9f3a\"], [0.8888888888888888, \"#fdca26\"], [1.0, \"#f0f921\"]], \"type\": \"histogram2d\"}], \"histogram2dcontour\": [{\"colorbar\": {\"outlinewidth\": 0, \"ticks\": \"\"}, \"colorscale\": [[0.0, \"#0d0887\"], [0.1111111111111111, \"#46039f\"], [0.2222222222222222, \"#7201a8\"], [0.3333333333333333, \"#9c179e\"], [0.4444444444444444, \"#bd3786\"], [0.5555555555555556, \"#d8576b\"], [0.6666666666666666, \"#ed7953\"], [0.7777777777777778, \"#fb9f3a\"], [0.8888888888888888, \"#fdca26\"], [1.0, \"#f0f921\"]], \"type\": \"histogram2dcontour\"}], \"mesh3d\": [{\"colorbar\": {\"outlinewidth\": 0, \"ticks\": \"\"}, \"type\": \"mesh3d\"}], \"parcoords\": [{\"line\": {\"colorbar\": {\"outlinewidth\": 0, \"ticks\": \"\"}}, \"type\": \"parcoords\"}], \"pie\": [{\"automargin\": true, \"type\": \"pie\"}], \"scatter\": [{\"marker\": {\"colorbar\": {\"outlinewidth\": 0, \"ticks\": \"\"}}, \"type\": \"scatter\"}], \"scatter3d\": [{\"line\": {\"colorbar\": {\"outlinewidth\": 0, \"ticks\": \"\"}}, \"marker\": {\"colorbar\": {\"outlinewidth\": 0, \"ticks\": \"\"}}, \"type\": \"scatter3d\"}], \"scattercarpet\": [{\"marker\": {\"colorbar\": {\"outlinewidth\": 0, \"ticks\": \"\"}}, \"type\": \"scattercarpet\"}], \"scattergeo\": [{\"marker\": {\"colorbar\": {\"outlinewidth\": 0, \"ticks\": \"\"}}, \"type\": \"scattergeo\"}], \"scattergl\": [{\"marker\": {\"colorbar\": {\"outlinewidth\": 0, \"ticks\": \"\"}}, \"type\": \"scattergl\"}], \"scattermapbox\": [{\"marker\": {\"colorbar\": {\"outlinewidth\": 0, \"ticks\": \"\"}}, \"type\": \"scattermapbox\"}], \"scatterpolar\": [{\"marker\": {\"colorbar\": {\"outlinewidth\": 0, \"ticks\": \"\"}}, \"type\": \"scatterpolar\"}], \"scatterpolargl\": [{\"marker\": {\"colorbar\": {\"outlinewidth\": 0, \"ticks\": \"\"}}, \"type\": \"scatterpolargl\"}], \"scatterternary\": [{\"marker\": {\"colorbar\": {\"outlinewidth\": 0, \"ticks\": \"\"}}, \"type\": \"scatterternary\"}], \"surface\": [{\"colorbar\": {\"outlinewidth\": 0, \"ticks\": \"\"}, \"colorscale\": [[0.0, \"#0d0887\"], [0.1111111111111111, \"#46039f\"], [0.2222222222222222, \"#7201a8\"], [0.3333333333333333, \"#9c179e\"], [0.4444444444444444, \"#bd3786\"], [0.5555555555555556, \"#d8576b\"], [0.6666666666666666, \"#ed7953\"], [0.7777777777777778, \"#fb9f3a\"], [0.8888888888888888, \"#fdca26\"], [1.0, \"#f0f921\"]], \"type\": \"surface\"}], \"table\": [{\"cells\": {\"fill\": {\"color\": \"#EBF0F8\"}, \"line\": {\"color\": \"white\"}}, \"header\": {\"fill\": {\"color\": \"#C8D4E3\"}, \"line\": {\"color\": \"white\"}}, \"type\": \"table\"}]}, \"layout\": {\"annotationdefaults\": {\"arrowcolor\": \"#2a3f5f\", \"arrowhead\": 0, \"arrowwidth\": 1}, \"autotypenumbers\": \"strict\", \"coloraxis\": {\"colorbar\": {\"outlinewidth\": 0, \"ticks\": \"\"}}, \"colorscale\": {\"diverging\": [[0, \"#8e0152\"], [0.1, \"#c51b7d\"], [0.2, \"#de77ae\"], [0.3, \"#f1b6da\"], [0.4, \"#fde0ef\"], [0.5, \"#f7f7f7\"], [0.6, \"#e6f5d0\"], [0.7, \"#b8e186\"], [0.8, \"#7fbc41\"], [0.9, \"#4d9221\"], [1, \"#276419\"]], \"sequential\": [[0.0, \"#0d0887\"], [0.1111111111111111, \"#46039f\"], [0.2222222222222222, \"#7201a8\"], [0.3333333333333333, \"#9c179e\"], [0.4444444444444444, \"#bd3786\"], [0.5555555555555556, \"#d8576b\"], [0.6666666666666666, \"#ed7953\"], [0.7777777777777778, \"#fb9f3a\"], [0.8888888888888888, \"#fdca26\"], [1.0, \"#f0f921\"]], \"sequentialminus\": [[0.0, \"#0d0887\"], [0.1111111111111111, \"#46039f\"], [0.2222222222222222, \"#7201a8\"], [0.3333333333333333, \"#9c179e\"], [0.4444444444444444, \"#bd3786\"], [0.5555555555555556, \"#d8576b\"], [0.6666666666666666, \"#ed7953\"], [0.7777777777777778, \"#fb9f3a\"], [0.8888888888888888, \"#fdca26\"], [1.0, \"#f0f921\"]]}, \"colorway\": [\"#636efa\", \"#EF553B\", \"#00cc96\", \"#ab63fa\", \"#FFA15A\", \"#19d3f3\", \"#FF6692\", \"#B6E880\", \"#FF97FF\", \"#FECB52\"], \"font\": {\"color\": \"#2a3f5f\"}, \"geo\": {\"bgcolor\": \"white\", \"lakecolor\": \"white\", \"landcolor\": \"#E5ECF6\", \"showlakes\": true, \"showland\": true, \"subunitcolor\": \"white\"}, \"hoverlabel\": {\"align\": \"left\"}, \"hovermode\": \"closest\", \"mapbox\": {\"style\": \"light\"}, \"paper_bgcolor\": \"white\", \"plot_bgcolor\": \"#E5ECF6\", \"polar\": {\"angularaxis\": {\"gridcolor\": \"white\", \"linecolor\": \"white\", \"ticks\": \"\"}, \"bgcolor\": \"#E5ECF6\", \"radialaxis\": {\"gridcolor\": \"white\", \"linecolor\": \"white\", \"ticks\": \"\"}}, \"scene\": {\"xaxis\": {\"backgroundcolor\": \"#E5ECF6\", \"gridcolor\": \"white\", \"gridwidth\": 2, \"linecolor\": \"white\", \"showbackground\": true, \"ticks\": \"\", \"zerolinecolor\": \"white\"}, \"yaxis\": {\"backgroundcolor\": \"#E5ECF6\", \"gridcolor\": \"white\", \"gridwidth\": 2, \"linecolor\": \"white\", \"showbackground\": true, \"ticks\": \"\", \"zerolinecolor\": \"white\"}, \"zaxis\": {\"backgroundcolor\": \"#E5ECF6\", \"gridcolor\": \"white\", \"gridwidth\": 2, \"linecolor\": \"white\", \"showbackground\": true, \"ticks\": \"\", \"zerolinecolor\": \"white\"}}, \"shapedefaults\": {\"line\": {\"color\": \"#2a3f5f\"}}, \"ternary\": {\"aaxis\": {\"gridcolor\": \"white\", \"linecolor\": \"white\", \"ticks\": \"\"}, \"baxis\": {\"gridcolor\": \"white\", \"linecolor\": \"white\", \"ticks\": \"\"}, \"bgcolor\": \"#E5ECF6\", \"caxis\": {\"gridcolor\": \"white\", \"linecolor\": \"white\", \"ticks\": \"\"}}, \"title\": {\"x\": 0.05}, \"xaxis\": {\"automargin\": true, \"gridcolor\": \"white\", \"linecolor\": \"white\", \"ticks\": \"\", \"title\": {\"standoff\": 15}, \"zerolinecolor\": \"white\", \"zerolinewidth\": 2}, \"yaxis\": {\"automargin\": true, \"gridcolor\": \"white\", \"linecolor\": \"white\", \"ticks\": \"\", \"title\": {\"standoff\": 15}, \"zerolinecolor\": \"white\", \"zerolinewidth\": 2}}}, \"title\": {\"text\": \"Slice Plot\"}, \"width\": 2400, \"xaxis\": {\"anchor\": \"y\", \"domain\": [0.0, 0.103125], \"title\": {\"text\": \"colsample_bytree\"}}, \"xaxis2\": {\"anchor\": \"y2\", \"domain\": [0.128125, 0.23124999999999998], \"title\": {\"text\": \"gamma\"}}, \"xaxis3\": {\"anchor\": \"y3\", \"domain\": [0.25625, 0.359375], \"title\": {\"text\": \"learning_rate\"}, \"type\": \"log\"}, \"xaxis4\": {\"anchor\": \"y4\", \"domain\": [0.38437499999999997, 0.48749999999999993], \"title\": {\"text\": \"max_depth\"}}, \"xaxis5\": {\"anchor\": \"y5\", \"domain\": [0.5125, 0.615625], \"title\": {\"text\": \"min_child_weight\"}}, \"xaxis6\": {\"anchor\": \"y6\", \"domain\": [0.640625, 0.74375], \"title\": {\"text\": \"n_estimators\"}}, \"xaxis7\": {\"anchor\": \"y7\", \"domain\": [0.76875, 0.8718750000000001], \"title\": {\"text\": \"reg_alpha\"}}, \"xaxis8\": {\"anchor\": \"y8\", \"domain\": [0.8968750000000001, 1.0], \"title\": {\"text\": \"reg_lambda\"}}, \"yaxis\": {\"anchor\": \"x\", \"domain\": [0.0, 1.0], \"title\": {\"text\": \"Objective Value\"}}, \"yaxis2\": {\"anchor\": \"x2\", \"domain\": [0.0, 1.0], \"matches\": \"y\", \"showticklabels\": false}, \"yaxis3\": {\"anchor\": \"x3\", \"domain\": [0.0, 1.0], \"matches\": \"y\", \"showticklabels\": false}, \"yaxis4\": {\"anchor\": \"x4\", \"domain\": [0.0, 1.0], \"matches\": \"y\", \"showticklabels\": false}, \"yaxis5\": {\"anchor\": \"x5\", \"domain\": [0.0, 1.0], \"matches\": \"y\", \"showticklabels\": false}, \"yaxis6\": {\"anchor\": \"x6\", \"domain\": [0.0, 1.0], \"matches\": \"y\", \"showticklabels\": false}, \"yaxis7\": {\"anchor\": \"x7\", \"domain\": [0.0, 1.0], \"matches\": \"y\", \"showticklabels\": false}, \"yaxis8\": {\"anchor\": \"x8\", \"domain\": [0.0, 1.0], \"matches\": \"y\", \"showticklabels\": false}},                        {\"responsive\": true}                    ).then(function(){\n",
       "                            \n",
       "var gd = document.getElementById('d53edc31-3010-4f6c-be5d-a28a0f28eabd');\n",
       "var x = new MutationObserver(function (mutations, observer) {{\n",
       "        var display = window.getComputedStyle(gd).display;\n",
       "        if (!display || display === 'none') {{\n",
       "            console.log([gd, 'removed!']);\n",
       "            Plotly.purge(gd);\n",
       "            observer.disconnect();\n",
       "        }}\n",
       "}});\n",
       "\n",
       "// Listen for the removal of the full notebook cells\n",
       "var notebookContainer = gd.closest('#notebook-container');\n",
       "if (notebookContainer) {{\n",
       "    x.observe(notebookContainer, {childList: true});\n",
       "}}\n",
       "\n",
       "// Listen for the clearing of the current output cell\n",
       "var outputEl = gd.closest('.output');\n",
       "if (outputEl) {{\n",
       "    x.observe(outputEl, {childList: true});\n",
       "}}\n",
       "\n",
       "                        })                };                });            </script>        </div>"
      ]
     },
     "metadata": {},
     "output_type": "display_data"
    },
    {
     "data": {
      "application/vnd.plotly.v1+json": {
       "config": {
        "plotlyServerURL": "https://plot.ly"
       },
       "data": [
        {
         "dimensions": [
          {
           "label": "Objective Value",
           "range": [
            0.9894209404210986,
            0.9894209404210986
           ],
           "values": [
            0.9894209404210986
           ]
          },
          {
           "label": "colsample_bytree",
           "range": [
            0.9,
            0.9
           ],
           "values": [
            0.9
           ]
          },
          {
           "label": "gamma",
           "range": [
            1,
            1
           ],
           "values": [
            1
           ]
          },
          {
           "label": "learning_rate",
           "range": [
            0.07612739753782988,
            0.07612739753782988
           ],
           "values": [
            0.07612739753782988
           ]
          },
          {
           "label": "max_depth",
           "range": [
            6,
            6
           ],
           "values": [
            6
           ]
          },
          {
           "label": "min_child_weight",
           "range": [
            5,
            5
           ],
           "values": [
            5
           ]
          },
          {
           "label": "n_estimators",
           "range": [
            615,
            615
           ],
           "values": [
            615
           ]
          },
          {
           "label": "reg_alpha",
           "range": [
            0,
            0
           ],
           "values": [
            0
           ]
          },
          {
           "label": "reg_lambda",
           "range": [
            2,
            2
           ],
           "values": [
            2
           ]
          }
         ],
         "labelangle": 30,
         "labelside": "bottom",
         "line": {
          "color": [
           0.9894209404210986
          ],
          "colorbar": {
           "title": {
            "text": "Objective Value"
           }
          },
          "colorscale": [
           [
            0,
            "rgb(247,251,255)"
           ],
           [
            0.125,
            "rgb(222,235,247)"
           ],
           [
            0.25,
            "rgb(198,219,239)"
           ],
           [
            0.375,
            "rgb(158,202,225)"
           ],
           [
            0.5,
            "rgb(107,174,214)"
           ],
           [
            0.625,
            "rgb(66,146,198)"
           ],
           [
            0.75,
            "rgb(33,113,181)"
           ],
           [
            0.875,
            "rgb(8,81,156)"
           ],
           [
            1,
            "rgb(8,48,107)"
           ]
          ],
          "reversescale": false,
          "showscale": true
         },
         "type": "parcoords"
        }
       ],
       "layout": {
        "template": {
         "data": {
          "bar": [
           {
            "error_x": {
             "color": "#2a3f5f"
            },
            "error_y": {
             "color": "#2a3f5f"
            },
            "marker": {
             "line": {
              "color": "#E5ECF6",
              "width": 0.5
             }
            },
            "type": "bar"
           }
          ],
          "barpolar": [
           {
            "marker": {
             "line": {
              "color": "#E5ECF6",
              "width": 0.5
             }
            },
            "type": "barpolar"
           }
          ],
          "carpet": [
           {
            "aaxis": {
             "endlinecolor": "#2a3f5f",
             "gridcolor": "white",
             "linecolor": "white",
             "minorgridcolor": "white",
             "startlinecolor": "#2a3f5f"
            },
            "baxis": {
             "endlinecolor": "#2a3f5f",
             "gridcolor": "white",
             "linecolor": "white",
             "minorgridcolor": "white",
             "startlinecolor": "#2a3f5f"
            },
            "type": "carpet"
           }
          ],
          "choropleth": [
           {
            "colorbar": {
             "outlinewidth": 0,
             "ticks": ""
            },
            "type": "choropleth"
           }
          ],
          "contour": [
           {
            "colorbar": {
             "outlinewidth": 0,
             "ticks": ""
            },
            "colorscale": [
             [
              0,
              "#0d0887"
             ],
             [
              0.1111111111111111,
              "#46039f"
             ],
             [
              0.2222222222222222,
              "#7201a8"
             ],
             [
              0.3333333333333333,
              "#9c179e"
             ],
             [
              0.4444444444444444,
              "#bd3786"
             ],
             [
              0.5555555555555556,
              "#d8576b"
             ],
             [
              0.6666666666666666,
              "#ed7953"
             ],
             [
              0.7777777777777778,
              "#fb9f3a"
             ],
             [
              0.8888888888888888,
              "#fdca26"
             ],
             [
              1,
              "#f0f921"
             ]
            ],
            "type": "contour"
           }
          ],
          "contourcarpet": [
           {
            "colorbar": {
             "outlinewidth": 0,
             "ticks": ""
            },
            "type": "contourcarpet"
           }
          ],
          "heatmap": [
           {
            "colorbar": {
             "outlinewidth": 0,
             "ticks": ""
            },
            "colorscale": [
             [
              0,
              "#0d0887"
             ],
             [
              0.1111111111111111,
              "#46039f"
             ],
             [
              0.2222222222222222,
              "#7201a8"
             ],
             [
              0.3333333333333333,
              "#9c179e"
             ],
             [
              0.4444444444444444,
              "#bd3786"
             ],
             [
              0.5555555555555556,
              "#d8576b"
             ],
             [
              0.6666666666666666,
              "#ed7953"
             ],
             [
              0.7777777777777778,
              "#fb9f3a"
             ],
             [
              0.8888888888888888,
              "#fdca26"
             ],
             [
              1,
              "#f0f921"
             ]
            ],
            "type": "heatmap"
           }
          ],
          "heatmapgl": [
           {
            "colorbar": {
             "outlinewidth": 0,
             "ticks": ""
            },
            "colorscale": [
             [
              0,
              "#0d0887"
             ],
             [
              0.1111111111111111,
              "#46039f"
             ],
             [
              0.2222222222222222,
              "#7201a8"
             ],
             [
              0.3333333333333333,
              "#9c179e"
             ],
             [
              0.4444444444444444,
              "#bd3786"
             ],
             [
              0.5555555555555556,
              "#d8576b"
             ],
             [
              0.6666666666666666,
              "#ed7953"
             ],
             [
              0.7777777777777778,
              "#fb9f3a"
             ],
             [
              0.8888888888888888,
              "#fdca26"
             ],
             [
              1,
              "#f0f921"
             ]
            ],
            "type": "heatmapgl"
           }
          ],
          "histogram": [
           {
            "marker": {
             "colorbar": {
              "outlinewidth": 0,
              "ticks": ""
             }
            },
            "type": "histogram"
           }
          ],
          "histogram2d": [
           {
            "colorbar": {
             "outlinewidth": 0,
             "ticks": ""
            },
            "colorscale": [
             [
              0,
              "#0d0887"
             ],
             [
              0.1111111111111111,
              "#46039f"
             ],
             [
              0.2222222222222222,
              "#7201a8"
             ],
             [
              0.3333333333333333,
              "#9c179e"
             ],
             [
              0.4444444444444444,
              "#bd3786"
             ],
             [
              0.5555555555555556,
              "#d8576b"
             ],
             [
              0.6666666666666666,
              "#ed7953"
             ],
             [
              0.7777777777777778,
              "#fb9f3a"
             ],
             [
              0.8888888888888888,
              "#fdca26"
             ],
             [
              1,
              "#f0f921"
             ]
            ],
            "type": "histogram2d"
           }
          ],
          "histogram2dcontour": [
           {
            "colorbar": {
             "outlinewidth": 0,
             "ticks": ""
            },
            "colorscale": [
             [
              0,
              "#0d0887"
             ],
             [
              0.1111111111111111,
              "#46039f"
             ],
             [
              0.2222222222222222,
              "#7201a8"
             ],
             [
              0.3333333333333333,
              "#9c179e"
             ],
             [
              0.4444444444444444,
              "#bd3786"
             ],
             [
              0.5555555555555556,
              "#d8576b"
             ],
             [
              0.6666666666666666,
              "#ed7953"
             ],
             [
              0.7777777777777778,
              "#fb9f3a"
             ],
             [
              0.8888888888888888,
              "#fdca26"
             ],
             [
              1,
              "#f0f921"
             ]
            ],
            "type": "histogram2dcontour"
           }
          ],
          "mesh3d": [
           {
            "colorbar": {
             "outlinewidth": 0,
             "ticks": ""
            },
            "type": "mesh3d"
           }
          ],
          "parcoords": [
           {
            "line": {
             "colorbar": {
              "outlinewidth": 0,
              "ticks": ""
             }
            },
            "type": "parcoords"
           }
          ],
          "pie": [
           {
            "automargin": true,
            "type": "pie"
           }
          ],
          "scatter": [
           {
            "marker": {
             "colorbar": {
              "outlinewidth": 0,
              "ticks": ""
             }
            },
            "type": "scatter"
           }
          ],
          "scatter3d": [
           {
            "line": {
             "colorbar": {
              "outlinewidth": 0,
              "ticks": ""
             }
            },
            "marker": {
             "colorbar": {
              "outlinewidth": 0,
              "ticks": ""
             }
            },
            "type": "scatter3d"
           }
          ],
          "scattercarpet": [
           {
            "marker": {
             "colorbar": {
              "outlinewidth": 0,
              "ticks": ""
             }
            },
            "type": "scattercarpet"
           }
          ],
          "scattergeo": [
           {
            "marker": {
             "colorbar": {
              "outlinewidth": 0,
              "ticks": ""
             }
            },
            "type": "scattergeo"
           }
          ],
          "scattergl": [
           {
            "marker": {
             "colorbar": {
              "outlinewidth": 0,
              "ticks": ""
             }
            },
            "type": "scattergl"
           }
          ],
          "scattermapbox": [
           {
            "marker": {
             "colorbar": {
              "outlinewidth": 0,
              "ticks": ""
             }
            },
            "type": "scattermapbox"
           }
          ],
          "scatterpolar": [
           {
            "marker": {
             "colorbar": {
              "outlinewidth": 0,
              "ticks": ""
             }
            },
            "type": "scatterpolar"
           }
          ],
          "scatterpolargl": [
           {
            "marker": {
             "colorbar": {
              "outlinewidth": 0,
              "ticks": ""
             }
            },
            "type": "scatterpolargl"
           }
          ],
          "scatterternary": [
           {
            "marker": {
             "colorbar": {
              "outlinewidth": 0,
              "ticks": ""
             }
            },
            "type": "scatterternary"
           }
          ],
          "surface": [
           {
            "colorbar": {
             "outlinewidth": 0,
             "ticks": ""
            },
            "colorscale": [
             [
              0,
              "#0d0887"
             ],
             [
              0.1111111111111111,
              "#46039f"
             ],
             [
              0.2222222222222222,
              "#7201a8"
             ],
             [
              0.3333333333333333,
              "#9c179e"
             ],
             [
              0.4444444444444444,
              "#bd3786"
             ],
             [
              0.5555555555555556,
              "#d8576b"
             ],
             [
              0.6666666666666666,
              "#ed7953"
             ],
             [
              0.7777777777777778,
              "#fb9f3a"
             ],
             [
              0.8888888888888888,
              "#fdca26"
             ],
             [
              1,
              "#f0f921"
             ]
            ],
            "type": "surface"
           }
          ],
          "table": [
           {
            "cells": {
             "fill": {
              "color": "#EBF0F8"
             },
             "line": {
              "color": "white"
             }
            },
            "header": {
             "fill": {
              "color": "#C8D4E3"
             },
             "line": {
              "color": "white"
             }
            },
            "type": "table"
           }
          ]
         },
         "layout": {
          "annotationdefaults": {
           "arrowcolor": "#2a3f5f",
           "arrowhead": 0,
           "arrowwidth": 1
          },
          "autotypenumbers": "strict",
          "coloraxis": {
           "colorbar": {
            "outlinewidth": 0,
            "ticks": ""
           }
          },
          "colorscale": {
           "diverging": [
            [
             0,
             "#8e0152"
            ],
            [
             0.1,
             "#c51b7d"
            ],
            [
             0.2,
             "#de77ae"
            ],
            [
             0.3,
             "#f1b6da"
            ],
            [
             0.4,
             "#fde0ef"
            ],
            [
             0.5,
             "#f7f7f7"
            ],
            [
             0.6,
             "#e6f5d0"
            ],
            [
             0.7,
             "#b8e186"
            ],
            [
             0.8,
             "#7fbc41"
            ],
            [
             0.9,
             "#4d9221"
            ],
            [
             1,
             "#276419"
            ]
           ],
           "sequential": [
            [
             0,
             "#0d0887"
            ],
            [
             0.1111111111111111,
             "#46039f"
            ],
            [
             0.2222222222222222,
             "#7201a8"
            ],
            [
             0.3333333333333333,
             "#9c179e"
            ],
            [
             0.4444444444444444,
             "#bd3786"
            ],
            [
             0.5555555555555556,
             "#d8576b"
            ],
            [
             0.6666666666666666,
             "#ed7953"
            ],
            [
             0.7777777777777778,
             "#fb9f3a"
            ],
            [
             0.8888888888888888,
             "#fdca26"
            ],
            [
             1,
             "#f0f921"
            ]
           ],
           "sequentialminus": [
            [
             0,
             "#0d0887"
            ],
            [
             0.1111111111111111,
             "#46039f"
            ],
            [
             0.2222222222222222,
             "#7201a8"
            ],
            [
             0.3333333333333333,
             "#9c179e"
            ],
            [
             0.4444444444444444,
             "#bd3786"
            ],
            [
             0.5555555555555556,
             "#d8576b"
            ],
            [
             0.6666666666666666,
             "#ed7953"
            ],
            [
             0.7777777777777778,
             "#fb9f3a"
            ],
            [
             0.8888888888888888,
             "#fdca26"
            ],
            [
             1,
             "#f0f921"
            ]
           ]
          },
          "colorway": [
           "#636efa",
           "#EF553B",
           "#00cc96",
           "#ab63fa",
           "#FFA15A",
           "#19d3f3",
           "#FF6692",
           "#B6E880",
           "#FF97FF",
           "#FECB52"
          ],
          "font": {
           "color": "#2a3f5f"
          },
          "geo": {
           "bgcolor": "white",
           "lakecolor": "white",
           "landcolor": "#E5ECF6",
           "showlakes": true,
           "showland": true,
           "subunitcolor": "white"
          },
          "hoverlabel": {
           "align": "left"
          },
          "hovermode": "closest",
          "mapbox": {
           "style": "light"
          },
          "paper_bgcolor": "white",
          "plot_bgcolor": "#E5ECF6",
          "polar": {
           "angularaxis": {
            "gridcolor": "white",
            "linecolor": "white",
            "ticks": ""
           },
           "bgcolor": "#E5ECF6",
           "radialaxis": {
            "gridcolor": "white",
            "linecolor": "white",
            "ticks": ""
           }
          },
          "scene": {
           "xaxis": {
            "backgroundcolor": "#E5ECF6",
            "gridcolor": "white",
            "gridwidth": 2,
            "linecolor": "white",
            "showbackground": true,
            "ticks": "",
            "zerolinecolor": "white"
           },
           "yaxis": {
            "backgroundcolor": "#E5ECF6",
            "gridcolor": "white",
            "gridwidth": 2,
            "linecolor": "white",
            "showbackground": true,
            "ticks": "",
            "zerolinecolor": "white"
           },
           "zaxis": {
            "backgroundcolor": "#E5ECF6",
            "gridcolor": "white",
            "gridwidth": 2,
            "linecolor": "white",
            "showbackground": true,
            "ticks": "",
            "zerolinecolor": "white"
           }
          },
          "shapedefaults": {
           "line": {
            "color": "#2a3f5f"
           }
          },
          "ternary": {
           "aaxis": {
            "gridcolor": "white",
            "linecolor": "white",
            "ticks": ""
           },
           "baxis": {
            "gridcolor": "white",
            "linecolor": "white",
            "ticks": ""
           },
           "bgcolor": "#E5ECF6",
           "caxis": {
            "gridcolor": "white",
            "linecolor": "white",
            "ticks": ""
           }
          },
          "title": {
           "x": 0.05
          },
          "xaxis": {
           "automargin": true,
           "gridcolor": "white",
           "linecolor": "white",
           "ticks": "",
           "title": {
            "standoff": 15
           },
           "zerolinecolor": "white",
           "zerolinewidth": 2
          },
          "yaxis": {
           "automargin": true,
           "gridcolor": "white",
           "linecolor": "white",
           "ticks": "",
           "title": {
            "standoff": 15
           },
           "zerolinecolor": "white",
           "zerolinewidth": 2
          }
         }
        },
        "title": {
         "text": "Parallel Coordinate Plot"
        }
       }
      },
      "text/html": [
       "<div>                            <div id=\"9fa82c44-77d9-461a-9a31-847cc0a1176f\" class=\"plotly-graph-div\" style=\"height:525px; width:100%;\"></div>            <script type=\"text/javascript\">                require([\"plotly\"], function(Plotly) {                    window.PLOTLYENV=window.PLOTLYENV || {};                                    if (document.getElementById(\"9fa82c44-77d9-461a-9a31-847cc0a1176f\")) {                    Plotly.newPlot(                        \"9fa82c44-77d9-461a-9a31-847cc0a1176f\",                        [{\"dimensions\": [{\"label\": \"Objective Value\", \"range\": [0.9894209404210986, 0.9894209404210986], \"values\": [0.9894209404210986]}, {\"label\": \"colsample_bytree\", \"range\": [0.9, 0.9], \"values\": [0.9]}, {\"label\": \"gamma\", \"range\": [1, 1], \"values\": [1]}, {\"label\": \"learning_rate\", \"range\": [0.07612739753782988, 0.07612739753782988], \"values\": [0.07612739753782988]}, {\"label\": \"max_depth\", \"range\": [6, 6], \"values\": [6]}, {\"label\": \"min_child_weight\", \"range\": [5, 5], \"values\": [5]}, {\"label\": \"n_estimators\", \"range\": [615, 615], \"values\": [615]}, {\"label\": \"reg_alpha\", \"range\": [0, 0], \"values\": [0]}, {\"label\": \"reg_lambda\", \"range\": [2, 2], \"values\": [2]}], \"labelangle\": 30, \"labelside\": \"bottom\", \"line\": {\"color\": [0.9894209404210986], \"colorbar\": {\"title\": {\"text\": \"Objective Value\"}}, \"colorscale\": [[0.0, \"rgb(247,251,255)\"], [0.125, \"rgb(222,235,247)\"], [0.25, \"rgb(198,219,239)\"], [0.375, \"rgb(158,202,225)\"], [0.5, \"rgb(107,174,214)\"], [0.625, \"rgb(66,146,198)\"], [0.75, \"rgb(33,113,181)\"], [0.875, \"rgb(8,81,156)\"], [1.0, \"rgb(8,48,107)\"]], \"reversescale\": false, \"showscale\": true}, \"type\": \"parcoords\"}],                        {\"template\": {\"data\": {\"bar\": [{\"error_x\": {\"color\": \"#2a3f5f\"}, \"error_y\": {\"color\": \"#2a3f5f\"}, \"marker\": {\"line\": {\"color\": \"#E5ECF6\", \"width\": 0.5}}, \"type\": \"bar\"}], \"barpolar\": [{\"marker\": {\"line\": {\"color\": \"#E5ECF6\", \"width\": 0.5}}, \"type\": \"barpolar\"}], \"carpet\": [{\"aaxis\": {\"endlinecolor\": \"#2a3f5f\", \"gridcolor\": \"white\", \"linecolor\": \"white\", \"minorgridcolor\": \"white\", \"startlinecolor\": \"#2a3f5f\"}, \"baxis\": {\"endlinecolor\": \"#2a3f5f\", \"gridcolor\": \"white\", \"linecolor\": \"white\", \"minorgridcolor\": \"white\", \"startlinecolor\": \"#2a3f5f\"}, \"type\": \"carpet\"}], \"choropleth\": [{\"colorbar\": {\"outlinewidth\": 0, \"ticks\": \"\"}, \"type\": \"choropleth\"}], \"contour\": [{\"colorbar\": {\"outlinewidth\": 0, \"ticks\": \"\"}, \"colorscale\": [[0.0, \"#0d0887\"], [0.1111111111111111, \"#46039f\"], [0.2222222222222222, \"#7201a8\"], [0.3333333333333333, \"#9c179e\"], [0.4444444444444444, \"#bd3786\"], [0.5555555555555556, \"#d8576b\"], [0.6666666666666666, \"#ed7953\"], [0.7777777777777778, \"#fb9f3a\"], [0.8888888888888888, \"#fdca26\"], [1.0, \"#f0f921\"]], \"type\": \"contour\"}], \"contourcarpet\": [{\"colorbar\": {\"outlinewidth\": 0, \"ticks\": \"\"}, \"type\": \"contourcarpet\"}], \"heatmap\": [{\"colorbar\": {\"outlinewidth\": 0, \"ticks\": \"\"}, \"colorscale\": [[0.0, \"#0d0887\"], [0.1111111111111111, \"#46039f\"], [0.2222222222222222, \"#7201a8\"], [0.3333333333333333, \"#9c179e\"], [0.4444444444444444, \"#bd3786\"], [0.5555555555555556, \"#d8576b\"], [0.6666666666666666, \"#ed7953\"], [0.7777777777777778, \"#fb9f3a\"], [0.8888888888888888, \"#fdca26\"], [1.0, \"#f0f921\"]], \"type\": \"heatmap\"}], \"heatmapgl\": [{\"colorbar\": {\"outlinewidth\": 0, \"ticks\": \"\"}, \"colorscale\": [[0.0, \"#0d0887\"], [0.1111111111111111, \"#46039f\"], [0.2222222222222222, \"#7201a8\"], [0.3333333333333333, \"#9c179e\"], [0.4444444444444444, \"#bd3786\"], [0.5555555555555556, \"#d8576b\"], [0.6666666666666666, \"#ed7953\"], [0.7777777777777778, \"#fb9f3a\"], [0.8888888888888888, \"#fdca26\"], [1.0, \"#f0f921\"]], \"type\": \"heatmapgl\"}], \"histogram\": [{\"marker\": {\"colorbar\": {\"outlinewidth\": 0, \"ticks\": \"\"}}, \"type\": \"histogram\"}], \"histogram2d\": [{\"colorbar\": {\"outlinewidth\": 0, \"ticks\": \"\"}, \"colorscale\": [[0.0, \"#0d0887\"], [0.1111111111111111, \"#46039f\"], [0.2222222222222222, \"#7201a8\"], [0.3333333333333333, \"#9c179e\"], [0.4444444444444444, \"#bd3786\"], [0.5555555555555556, \"#d8576b\"], [0.6666666666666666, \"#ed7953\"], [0.7777777777777778, \"#fb9f3a\"], [0.8888888888888888, \"#fdca26\"], [1.0, \"#f0f921\"]], \"type\": \"histogram2d\"}], \"histogram2dcontour\": [{\"colorbar\": {\"outlinewidth\": 0, \"ticks\": \"\"}, \"colorscale\": [[0.0, \"#0d0887\"], [0.1111111111111111, \"#46039f\"], [0.2222222222222222, \"#7201a8\"], [0.3333333333333333, \"#9c179e\"], [0.4444444444444444, \"#bd3786\"], [0.5555555555555556, \"#d8576b\"], [0.6666666666666666, \"#ed7953\"], [0.7777777777777778, \"#fb9f3a\"], [0.8888888888888888, \"#fdca26\"], [1.0, \"#f0f921\"]], \"type\": \"histogram2dcontour\"}], \"mesh3d\": [{\"colorbar\": {\"outlinewidth\": 0, \"ticks\": \"\"}, \"type\": \"mesh3d\"}], \"parcoords\": [{\"line\": {\"colorbar\": {\"outlinewidth\": 0, \"ticks\": \"\"}}, \"type\": \"parcoords\"}], \"pie\": [{\"automargin\": true, \"type\": \"pie\"}], \"scatter\": [{\"marker\": {\"colorbar\": {\"outlinewidth\": 0, \"ticks\": \"\"}}, \"type\": \"scatter\"}], \"scatter3d\": [{\"line\": {\"colorbar\": {\"outlinewidth\": 0, \"ticks\": \"\"}}, \"marker\": {\"colorbar\": {\"outlinewidth\": 0, \"ticks\": \"\"}}, \"type\": \"scatter3d\"}], \"scattercarpet\": [{\"marker\": {\"colorbar\": {\"outlinewidth\": 0, \"ticks\": \"\"}}, \"type\": \"scattercarpet\"}], \"scattergeo\": [{\"marker\": {\"colorbar\": {\"outlinewidth\": 0, \"ticks\": \"\"}}, \"type\": \"scattergeo\"}], \"scattergl\": [{\"marker\": {\"colorbar\": {\"outlinewidth\": 0, \"ticks\": \"\"}}, \"type\": \"scattergl\"}], \"scattermapbox\": [{\"marker\": {\"colorbar\": {\"outlinewidth\": 0, \"ticks\": \"\"}}, \"type\": \"scattermapbox\"}], \"scatterpolar\": [{\"marker\": {\"colorbar\": {\"outlinewidth\": 0, \"ticks\": \"\"}}, \"type\": \"scatterpolar\"}], \"scatterpolargl\": [{\"marker\": {\"colorbar\": {\"outlinewidth\": 0, \"ticks\": \"\"}}, \"type\": \"scatterpolargl\"}], \"scatterternary\": [{\"marker\": {\"colorbar\": {\"outlinewidth\": 0, \"ticks\": \"\"}}, \"type\": \"scatterternary\"}], \"surface\": [{\"colorbar\": {\"outlinewidth\": 0, \"ticks\": \"\"}, \"colorscale\": [[0.0, \"#0d0887\"], [0.1111111111111111, \"#46039f\"], [0.2222222222222222, \"#7201a8\"], [0.3333333333333333, \"#9c179e\"], [0.4444444444444444, \"#bd3786\"], [0.5555555555555556, \"#d8576b\"], [0.6666666666666666, \"#ed7953\"], [0.7777777777777778, \"#fb9f3a\"], [0.8888888888888888, \"#fdca26\"], [1.0, \"#f0f921\"]], \"type\": \"surface\"}], \"table\": [{\"cells\": {\"fill\": {\"color\": \"#EBF0F8\"}, \"line\": {\"color\": \"white\"}}, \"header\": {\"fill\": {\"color\": \"#C8D4E3\"}, \"line\": {\"color\": \"white\"}}, \"type\": \"table\"}]}, \"layout\": {\"annotationdefaults\": {\"arrowcolor\": \"#2a3f5f\", \"arrowhead\": 0, \"arrowwidth\": 1}, \"autotypenumbers\": \"strict\", \"coloraxis\": {\"colorbar\": {\"outlinewidth\": 0, \"ticks\": \"\"}}, \"colorscale\": {\"diverging\": [[0, \"#8e0152\"], [0.1, \"#c51b7d\"], [0.2, \"#de77ae\"], [0.3, \"#f1b6da\"], [0.4, \"#fde0ef\"], [0.5, \"#f7f7f7\"], [0.6, \"#e6f5d0\"], [0.7, \"#b8e186\"], [0.8, \"#7fbc41\"], [0.9, \"#4d9221\"], [1, \"#276419\"]], \"sequential\": [[0.0, \"#0d0887\"], [0.1111111111111111, \"#46039f\"], [0.2222222222222222, \"#7201a8\"], [0.3333333333333333, \"#9c179e\"], [0.4444444444444444, \"#bd3786\"], [0.5555555555555556, \"#d8576b\"], [0.6666666666666666, \"#ed7953\"], [0.7777777777777778, \"#fb9f3a\"], [0.8888888888888888, \"#fdca26\"], [1.0, \"#f0f921\"]], \"sequentialminus\": [[0.0, \"#0d0887\"], [0.1111111111111111, \"#46039f\"], [0.2222222222222222, \"#7201a8\"], [0.3333333333333333, \"#9c179e\"], [0.4444444444444444, \"#bd3786\"], [0.5555555555555556, \"#d8576b\"], [0.6666666666666666, \"#ed7953\"], [0.7777777777777778, \"#fb9f3a\"], [0.8888888888888888, \"#fdca26\"], [1.0, \"#f0f921\"]]}, \"colorway\": [\"#636efa\", \"#EF553B\", \"#00cc96\", \"#ab63fa\", \"#FFA15A\", \"#19d3f3\", \"#FF6692\", \"#B6E880\", \"#FF97FF\", \"#FECB52\"], \"font\": {\"color\": \"#2a3f5f\"}, \"geo\": {\"bgcolor\": \"white\", \"lakecolor\": \"white\", \"landcolor\": \"#E5ECF6\", \"showlakes\": true, \"showland\": true, \"subunitcolor\": \"white\"}, \"hoverlabel\": {\"align\": \"left\"}, \"hovermode\": \"closest\", \"mapbox\": {\"style\": \"light\"}, \"paper_bgcolor\": \"white\", \"plot_bgcolor\": \"#E5ECF6\", \"polar\": {\"angularaxis\": {\"gridcolor\": \"white\", \"linecolor\": \"white\", \"ticks\": \"\"}, \"bgcolor\": \"#E5ECF6\", \"radialaxis\": {\"gridcolor\": \"white\", \"linecolor\": \"white\", \"ticks\": \"\"}}, \"scene\": {\"xaxis\": {\"backgroundcolor\": \"#E5ECF6\", \"gridcolor\": \"white\", \"gridwidth\": 2, \"linecolor\": \"white\", \"showbackground\": true, \"ticks\": \"\", \"zerolinecolor\": \"white\"}, \"yaxis\": {\"backgroundcolor\": \"#E5ECF6\", \"gridcolor\": \"white\", \"gridwidth\": 2, \"linecolor\": \"white\", \"showbackground\": true, \"ticks\": \"\", \"zerolinecolor\": \"white\"}, \"zaxis\": {\"backgroundcolor\": \"#E5ECF6\", \"gridcolor\": \"white\", \"gridwidth\": 2, \"linecolor\": \"white\", \"showbackground\": true, \"ticks\": \"\", \"zerolinecolor\": \"white\"}}, \"shapedefaults\": {\"line\": {\"color\": \"#2a3f5f\"}}, \"ternary\": {\"aaxis\": {\"gridcolor\": \"white\", \"linecolor\": \"white\", \"ticks\": \"\"}, \"baxis\": {\"gridcolor\": \"white\", \"linecolor\": \"white\", \"ticks\": \"\"}, \"bgcolor\": \"#E5ECF6\", \"caxis\": {\"gridcolor\": \"white\", \"linecolor\": \"white\", \"ticks\": \"\"}}, \"title\": {\"x\": 0.05}, \"xaxis\": {\"automargin\": true, \"gridcolor\": \"white\", \"linecolor\": \"white\", \"ticks\": \"\", \"title\": {\"standoff\": 15}, \"zerolinecolor\": \"white\", \"zerolinewidth\": 2}, \"yaxis\": {\"automargin\": true, \"gridcolor\": \"white\", \"linecolor\": \"white\", \"ticks\": \"\", \"title\": {\"standoff\": 15}, \"zerolinecolor\": \"white\", \"zerolinewidth\": 2}}}, \"title\": {\"text\": \"Parallel Coordinate Plot\"}},                        {\"responsive\": true}                    ).then(function(){\n",
       "                            \n",
       "var gd = document.getElementById('9fa82c44-77d9-461a-9a31-847cc0a1176f');\n",
       "var x = new MutationObserver(function (mutations, observer) {{\n",
       "        var display = window.getComputedStyle(gd).display;\n",
       "        if (!display || display === 'none') {{\n",
       "            console.log([gd, 'removed!']);\n",
       "            Plotly.purge(gd);\n",
       "            observer.disconnect();\n",
       "        }}\n",
       "}});\n",
       "\n",
       "// Listen for the removal of the full notebook cells\n",
       "var notebookContainer = gd.closest('#notebook-container');\n",
       "if (notebookContainer) {{\n",
       "    x.observe(notebookContainer, {childList: true});\n",
       "}}\n",
       "\n",
       "// Listen for the clearing of the current output cell\n",
       "var outputEl = gd.closest('.output');\n",
       "if (outputEl) {{\n",
       "    x.observe(outputEl, {childList: true});\n",
       "}}\n",
       "\n",
       "                        })                };                });            </script>        </div>"
      ]
     },
     "metadata": {},
     "output_type": "display_data"
    },
    {
     "name": "stderr",
     "output_type": "stream",
     "text": [
      "[W 2021-12-06 22:10:12,133] Param colsample_bytree unique value length is less than 2.\n",
      "[W 2021-12-06 22:10:12,144] Param colsample_bytree unique value length is less than 2.\n",
      "[W 2021-12-06 22:10:12,156] Param colsample_bytree unique value length is less than 2.\n",
      "[W 2021-12-06 22:10:12,164] Param colsample_bytree unique value length is less than 2.\n",
      "[W 2021-12-06 22:10:12,174] Param colsample_bytree unique value length is less than 2.\n",
      "[W 2021-12-06 22:10:12,184] Param colsample_bytree unique value length is less than 2.\n",
      "[W 2021-12-06 22:10:12,194] Param colsample_bytree unique value length is less than 2.\n",
      "[W 2021-12-06 22:10:12,204] Param gamma unique value length is less than 2.\n",
      "[W 2021-12-06 22:10:12,217] Param gamma unique value length is less than 2.\n",
      "[W 2021-12-06 22:10:12,227] Param gamma unique value length is less than 2.\n",
      "[W 2021-12-06 22:10:12,227] Param gamma unique value length is less than 2.\n",
      "[W 2021-12-06 22:10:12,235] Param gamma unique value length is less than 2.\n",
      "[W 2021-12-06 22:10:12,247] Param gamma unique value length is less than 2.\n",
      "[W 2021-12-06 22:10:12,255] Param gamma unique value length is less than 2.\n",
      "[W 2021-12-06 22:10:12,257] Param learning_rate unique value length is less than 2.\n",
      "[W 2021-12-06 22:10:12,267] Param learning_rate unique value length is less than 2.\n",
      "[W 2021-12-06 22:10:12,287] Param learning_rate unique value length is less than 2.\n",
      "[W 2021-12-06 22:10:12,297] Param learning_rate unique value length is less than 2.\n",
      "[W 2021-12-06 22:10:12,307] Param learning_rate unique value length is less than 2.\n",
      "[W 2021-12-06 22:10:12,315] Param learning_rate unique value length is less than 2.\n",
      "[W 2021-12-06 22:10:12,328] Param learning_rate unique value length is less than 2.\n",
      "[W 2021-12-06 22:10:12,338] Param max_depth unique value length is less than 2.\n",
      "[W 2021-12-06 22:10:12,348] Param max_depth unique value length is less than 2.\n",
      "[W 2021-12-06 22:10:12,356] Param max_depth unique value length is less than 2.\n",
      "[W 2021-12-06 22:10:12,366] Param max_depth unique value length is less than 2.\n",
      "[W 2021-12-06 22:10:12,376] Param max_depth unique value length is less than 2.\n",
      "[W 2021-12-06 22:10:12,376] Param max_depth unique value length is less than 2.\n",
      "[W 2021-12-06 22:10:12,392] Param max_depth unique value length is less than 2.\n",
      "[W 2021-12-06 22:10:12,407] Param min_child_weight unique value length is less than 2.\n",
      "[W 2021-12-06 22:10:12,407] Param min_child_weight unique value length is less than 2.\n",
      "[W 2021-12-06 22:10:12,423] Param min_child_weight unique value length is less than 2.\n",
      "[W 2021-12-06 22:10:12,423] Param min_child_weight unique value length is less than 2.\n",
      "[W 2021-12-06 22:10:12,439] Param min_child_weight unique value length is less than 2.\n",
      "[W 2021-12-06 22:10:12,454] Param min_child_weight unique value length is less than 2.\n",
      "[W 2021-12-06 22:10:12,454] Param min_child_weight unique value length is less than 2.\n",
      "[W 2021-12-06 22:10:12,476] Param n_estimators unique value length is less than 2.\n",
      "[W 2021-12-06 22:10:12,476] Param n_estimators unique value length is less than 2.\n",
      "[W 2021-12-06 22:10:12,492] Param n_estimators unique value length is less than 2.\n",
      "[W 2021-12-06 22:10:12,508] Param n_estimators unique value length is less than 2.\n",
      "[W 2021-12-06 22:10:12,508] Param n_estimators unique value length is less than 2.\n",
      "[W 2021-12-06 22:10:12,523] Param n_estimators unique value length is less than 2.\n",
      "[W 2021-12-06 22:10:12,539] Param n_estimators unique value length is less than 2.\n",
      "[W 2021-12-06 22:10:12,539] Param reg_alpha unique value length is less than 2.\n",
      "[W 2021-12-06 22:10:12,554] Param reg_alpha unique value length is less than 2.\n",
      "[W 2021-12-06 22:10:12,570] Param reg_alpha unique value length is less than 2.\n",
      "[W 2021-12-06 22:10:12,577] Param reg_alpha unique value length is less than 2.\n",
      "[W 2021-12-06 22:10:12,577] Param reg_alpha unique value length is less than 2.\n",
      "[W 2021-12-06 22:10:12,592] Param reg_alpha unique value length is less than 2.\n",
      "[W 2021-12-06 22:10:12,608] Param reg_alpha unique value length is less than 2.\n",
      "[W 2021-12-06 22:10:12,624] Param reg_lambda unique value length is less than 2.\n",
      "[W 2021-12-06 22:10:12,624] Param reg_lambda unique value length is less than 2.\n",
      "[W 2021-12-06 22:10:12,639] Param reg_lambda unique value length is less than 2.\n",
      "[W 2021-12-06 22:10:12,655] Param reg_lambda unique value length is less than 2.\n",
      "[W 2021-12-06 22:10:12,655] Param reg_lambda unique value length is less than 2.\n",
      "[W 2021-12-06 22:10:12,670] Param reg_lambda unique value length is less than 2.\n",
      "[W 2021-12-06 22:10:12,677] Param reg_lambda unique value length is less than 2.\n"
     ]
    },
    {
     "data": {
      "application/vnd.plotly.v1+json": {
       "config": {
        "plotlyServerURL": "https://plot.ly"
       },
       "data": [
        {
         "type": "scatter",
         "xaxis": "x",
         "yaxis": "y"
        },
        {
         "showscale": true,
         "type": "contour",
         "xaxis": "x9",
         "yaxis": "y9"
        },
        {
         "type": "scatter",
         "xaxis": "x9",
         "yaxis": "y9"
        },
        {
         "showscale": false,
         "type": "contour",
         "xaxis": "x17",
         "yaxis": "y17"
        },
        {
         "type": "scatter",
         "xaxis": "x17",
         "yaxis": "y17"
        },
        {
         "showscale": false,
         "type": "contour",
         "xaxis": "x25",
         "yaxis": "y25"
        },
        {
         "type": "scatter",
         "xaxis": "x25",
         "yaxis": "y25"
        },
        {
         "showscale": false,
         "type": "contour",
         "xaxis": "x33",
         "yaxis": "y33"
        },
        {
         "type": "scatter",
         "xaxis": "x33",
         "yaxis": "y33"
        },
        {
         "showscale": false,
         "type": "contour",
         "xaxis": "x41",
         "yaxis": "y41"
        },
        {
         "type": "scatter",
         "xaxis": "x41",
         "yaxis": "y41"
        },
        {
         "showscale": false,
         "type": "contour",
         "xaxis": "x49",
         "yaxis": "y49"
        },
        {
         "type": "scatter",
         "xaxis": "x49",
         "yaxis": "y49"
        },
        {
         "showscale": false,
         "type": "contour",
         "xaxis": "x57",
         "yaxis": "y57"
        },
        {
         "type": "scatter",
         "xaxis": "x57",
         "yaxis": "y57"
        },
        {
         "showscale": false,
         "type": "contour",
         "xaxis": "x2",
         "yaxis": "y2"
        },
        {
         "type": "scatter",
         "xaxis": "x2",
         "yaxis": "y2"
        },
        {
         "type": "scatter",
         "xaxis": "x10",
         "yaxis": "y10"
        },
        {
         "showscale": false,
         "type": "contour",
         "xaxis": "x18",
         "yaxis": "y18"
        },
        {
         "type": "scatter",
         "xaxis": "x18",
         "yaxis": "y18"
        },
        {
         "showscale": false,
         "type": "contour",
         "xaxis": "x26",
         "yaxis": "y26"
        },
        {
         "type": "scatter",
         "xaxis": "x26",
         "yaxis": "y26"
        },
        {
         "showscale": false,
         "type": "contour",
         "xaxis": "x34",
         "yaxis": "y34"
        },
        {
         "type": "scatter",
         "xaxis": "x34",
         "yaxis": "y34"
        },
        {
         "showscale": false,
         "type": "contour",
         "xaxis": "x42",
         "yaxis": "y42"
        },
        {
         "type": "scatter",
         "xaxis": "x42",
         "yaxis": "y42"
        },
        {
         "showscale": false,
         "type": "contour",
         "xaxis": "x50",
         "yaxis": "y50"
        },
        {
         "type": "scatter",
         "xaxis": "x50",
         "yaxis": "y50"
        },
        {
         "showscale": false,
         "type": "contour",
         "xaxis": "x58",
         "yaxis": "y58"
        },
        {
         "type": "scatter",
         "xaxis": "x58",
         "yaxis": "y58"
        },
        {
         "showscale": false,
         "type": "contour",
         "xaxis": "x3",
         "yaxis": "y3"
        },
        {
         "type": "scatter",
         "xaxis": "x3",
         "yaxis": "y3"
        },
        {
         "showscale": false,
         "type": "contour",
         "xaxis": "x11",
         "yaxis": "y11"
        },
        {
         "type": "scatter",
         "xaxis": "x11",
         "yaxis": "y11"
        },
        {
         "type": "scatter",
         "xaxis": "x19",
         "yaxis": "y19"
        },
        {
         "showscale": false,
         "type": "contour",
         "xaxis": "x27",
         "yaxis": "y27"
        },
        {
         "type": "scatter",
         "xaxis": "x27",
         "yaxis": "y27"
        },
        {
         "showscale": false,
         "type": "contour",
         "xaxis": "x35",
         "yaxis": "y35"
        },
        {
         "type": "scatter",
         "xaxis": "x35",
         "yaxis": "y35"
        },
        {
         "showscale": false,
         "type": "contour",
         "xaxis": "x43",
         "yaxis": "y43"
        },
        {
         "type": "scatter",
         "xaxis": "x43",
         "yaxis": "y43"
        },
        {
         "showscale": false,
         "type": "contour",
         "xaxis": "x51",
         "yaxis": "y51"
        },
        {
         "type": "scatter",
         "xaxis": "x51",
         "yaxis": "y51"
        },
        {
         "showscale": false,
         "type": "contour",
         "xaxis": "x59",
         "yaxis": "y59"
        },
        {
         "type": "scatter",
         "xaxis": "x59",
         "yaxis": "y59"
        },
        {
         "showscale": false,
         "type": "contour",
         "xaxis": "x4",
         "yaxis": "y4"
        },
        {
         "type": "scatter",
         "xaxis": "x4",
         "yaxis": "y4"
        },
        {
         "showscale": false,
         "type": "contour",
         "xaxis": "x12",
         "yaxis": "y12"
        },
        {
         "type": "scatter",
         "xaxis": "x12",
         "yaxis": "y12"
        },
        {
         "showscale": false,
         "type": "contour",
         "xaxis": "x20",
         "yaxis": "y20"
        },
        {
         "type": "scatter",
         "xaxis": "x20",
         "yaxis": "y20"
        },
        {
         "type": "scatter",
         "xaxis": "x28",
         "yaxis": "y28"
        },
        {
         "showscale": false,
         "type": "contour",
         "xaxis": "x36",
         "yaxis": "y36"
        },
        {
         "type": "scatter",
         "xaxis": "x36",
         "yaxis": "y36"
        },
        {
         "showscale": false,
         "type": "contour",
         "xaxis": "x44",
         "yaxis": "y44"
        },
        {
         "type": "scatter",
         "xaxis": "x44",
         "yaxis": "y44"
        },
        {
         "showscale": false,
         "type": "contour",
         "xaxis": "x52",
         "yaxis": "y52"
        },
        {
         "type": "scatter",
         "xaxis": "x52",
         "yaxis": "y52"
        },
        {
         "showscale": false,
         "type": "contour",
         "xaxis": "x60",
         "yaxis": "y60"
        },
        {
         "type": "scatter",
         "xaxis": "x60",
         "yaxis": "y60"
        },
        {
         "showscale": false,
         "type": "contour",
         "xaxis": "x5",
         "yaxis": "y5"
        },
        {
         "type": "scatter",
         "xaxis": "x5",
         "yaxis": "y5"
        },
        {
         "showscale": false,
         "type": "contour",
         "xaxis": "x13",
         "yaxis": "y13"
        },
        {
         "type": "scatter",
         "xaxis": "x13",
         "yaxis": "y13"
        },
        {
         "showscale": false,
         "type": "contour",
         "xaxis": "x21",
         "yaxis": "y21"
        },
        {
         "type": "scatter",
         "xaxis": "x21",
         "yaxis": "y21"
        },
        {
         "showscale": false,
         "type": "contour",
         "xaxis": "x29",
         "yaxis": "y29"
        },
        {
         "type": "scatter",
         "xaxis": "x29",
         "yaxis": "y29"
        },
        {
         "type": "scatter",
         "xaxis": "x37",
         "yaxis": "y37"
        },
        {
         "showscale": false,
         "type": "contour",
         "xaxis": "x45",
         "yaxis": "y45"
        },
        {
         "type": "scatter",
         "xaxis": "x45",
         "yaxis": "y45"
        },
        {
         "showscale": false,
         "type": "contour",
         "xaxis": "x53",
         "yaxis": "y53"
        },
        {
         "type": "scatter",
         "xaxis": "x53",
         "yaxis": "y53"
        },
        {
         "showscale": false,
         "type": "contour",
         "xaxis": "x61",
         "yaxis": "y61"
        },
        {
         "type": "scatter",
         "xaxis": "x61",
         "yaxis": "y61"
        },
        {
         "showscale": false,
         "type": "contour",
         "xaxis": "x6",
         "yaxis": "y6"
        },
        {
         "type": "scatter",
         "xaxis": "x6",
         "yaxis": "y6"
        },
        {
         "showscale": false,
         "type": "contour",
         "xaxis": "x14",
         "yaxis": "y14"
        },
        {
         "type": "scatter",
         "xaxis": "x14",
         "yaxis": "y14"
        },
        {
         "showscale": false,
         "type": "contour",
         "xaxis": "x22",
         "yaxis": "y22"
        },
        {
         "type": "scatter",
         "xaxis": "x22",
         "yaxis": "y22"
        },
        {
         "showscale": false,
         "type": "contour",
         "xaxis": "x30",
         "yaxis": "y30"
        },
        {
         "type": "scatter",
         "xaxis": "x30",
         "yaxis": "y30"
        },
        {
         "showscale": false,
         "type": "contour",
         "xaxis": "x38",
         "yaxis": "y38"
        },
        {
         "type": "scatter",
         "xaxis": "x38",
         "yaxis": "y38"
        },
        {
         "type": "scatter",
         "xaxis": "x46",
         "yaxis": "y46"
        },
        {
         "showscale": false,
         "type": "contour",
         "xaxis": "x54",
         "yaxis": "y54"
        },
        {
         "type": "scatter",
         "xaxis": "x54",
         "yaxis": "y54"
        },
        {
         "showscale": false,
         "type": "contour",
         "xaxis": "x62",
         "yaxis": "y62"
        },
        {
         "type": "scatter",
         "xaxis": "x62",
         "yaxis": "y62"
        },
        {
         "showscale": false,
         "type": "contour",
         "xaxis": "x7",
         "yaxis": "y7"
        },
        {
         "type": "scatter",
         "xaxis": "x7",
         "yaxis": "y7"
        },
        {
         "showscale": false,
         "type": "contour",
         "xaxis": "x15",
         "yaxis": "y15"
        },
        {
         "type": "scatter",
         "xaxis": "x15",
         "yaxis": "y15"
        },
        {
         "showscale": false,
         "type": "contour",
         "xaxis": "x23",
         "yaxis": "y23"
        },
        {
         "type": "scatter",
         "xaxis": "x23",
         "yaxis": "y23"
        },
        {
         "showscale": false,
         "type": "contour",
         "xaxis": "x31",
         "yaxis": "y31"
        },
        {
         "type": "scatter",
         "xaxis": "x31",
         "yaxis": "y31"
        },
        {
         "showscale": false,
         "type": "contour",
         "xaxis": "x39",
         "yaxis": "y39"
        },
        {
         "type": "scatter",
         "xaxis": "x39",
         "yaxis": "y39"
        },
        {
         "showscale": false,
         "type": "contour",
         "xaxis": "x47",
         "yaxis": "y47"
        },
        {
         "type": "scatter",
         "xaxis": "x47",
         "yaxis": "y47"
        },
        {
         "type": "scatter",
         "xaxis": "x55",
         "yaxis": "y55"
        },
        {
         "showscale": false,
         "type": "contour",
         "xaxis": "x63",
         "yaxis": "y63"
        },
        {
         "type": "scatter",
         "xaxis": "x63",
         "yaxis": "y63"
        },
        {
         "showscale": false,
         "type": "contour",
         "xaxis": "x8",
         "yaxis": "y8"
        },
        {
         "type": "scatter",
         "xaxis": "x8",
         "yaxis": "y8"
        },
        {
         "showscale": false,
         "type": "contour",
         "xaxis": "x16",
         "yaxis": "y16"
        },
        {
         "type": "scatter",
         "xaxis": "x16",
         "yaxis": "y16"
        },
        {
         "showscale": false,
         "type": "contour",
         "xaxis": "x24",
         "yaxis": "y24"
        },
        {
         "type": "scatter",
         "xaxis": "x24",
         "yaxis": "y24"
        },
        {
         "showscale": false,
         "type": "contour",
         "xaxis": "x32",
         "yaxis": "y32"
        },
        {
         "type": "scatter",
         "xaxis": "x32",
         "yaxis": "y32"
        },
        {
         "showscale": false,
         "type": "contour",
         "xaxis": "x40",
         "yaxis": "y40"
        },
        {
         "type": "scatter",
         "xaxis": "x40",
         "yaxis": "y40"
        },
        {
         "showscale": false,
         "type": "contour",
         "xaxis": "x48",
         "yaxis": "y48"
        },
        {
         "type": "scatter",
         "xaxis": "x48",
         "yaxis": "y48"
        },
        {
         "showscale": false,
         "type": "contour",
         "xaxis": "x56",
         "yaxis": "y56"
        },
        {
         "type": "scatter",
         "xaxis": "x56",
         "yaxis": "y56"
        },
        {
         "type": "scatter",
         "xaxis": "x64",
         "yaxis": "y64"
        }
       ],
       "layout": {
        "template": {
         "data": {
          "bar": [
           {
            "error_x": {
             "color": "#2a3f5f"
            },
            "error_y": {
             "color": "#2a3f5f"
            },
            "marker": {
             "line": {
              "color": "#E5ECF6",
              "width": 0.5
             }
            },
            "type": "bar"
           }
          ],
          "barpolar": [
           {
            "marker": {
             "line": {
              "color": "#E5ECF6",
              "width": 0.5
             }
            },
            "type": "barpolar"
           }
          ],
          "carpet": [
           {
            "aaxis": {
             "endlinecolor": "#2a3f5f",
             "gridcolor": "white",
             "linecolor": "white",
             "minorgridcolor": "white",
             "startlinecolor": "#2a3f5f"
            },
            "baxis": {
             "endlinecolor": "#2a3f5f",
             "gridcolor": "white",
             "linecolor": "white",
             "minorgridcolor": "white",
             "startlinecolor": "#2a3f5f"
            },
            "type": "carpet"
           }
          ],
          "choropleth": [
           {
            "colorbar": {
             "outlinewidth": 0,
             "ticks": ""
            },
            "type": "choropleth"
           }
          ],
          "contour": [
           {
            "colorbar": {
             "outlinewidth": 0,
             "ticks": ""
            },
            "colorscale": [
             [
              0,
              "#0d0887"
             ],
             [
              0.1111111111111111,
              "#46039f"
             ],
             [
              0.2222222222222222,
              "#7201a8"
             ],
             [
              0.3333333333333333,
              "#9c179e"
             ],
             [
              0.4444444444444444,
              "#bd3786"
             ],
             [
              0.5555555555555556,
              "#d8576b"
             ],
             [
              0.6666666666666666,
              "#ed7953"
             ],
             [
              0.7777777777777778,
              "#fb9f3a"
             ],
             [
              0.8888888888888888,
              "#fdca26"
             ],
             [
              1,
              "#f0f921"
             ]
            ],
            "type": "contour"
           }
          ],
          "contourcarpet": [
           {
            "colorbar": {
             "outlinewidth": 0,
             "ticks": ""
            },
            "type": "contourcarpet"
           }
          ],
          "heatmap": [
           {
            "colorbar": {
             "outlinewidth": 0,
             "ticks": ""
            },
            "colorscale": [
             [
              0,
              "#0d0887"
             ],
             [
              0.1111111111111111,
              "#46039f"
             ],
             [
              0.2222222222222222,
              "#7201a8"
             ],
             [
              0.3333333333333333,
              "#9c179e"
             ],
             [
              0.4444444444444444,
              "#bd3786"
             ],
             [
              0.5555555555555556,
              "#d8576b"
             ],
             [
              0.6666666666666666,
              "#ed7953"
             ],
             [
              0.7777777777777778,
              "#fb9f3a"
             ],
             [
              0.8888888888888888,
              "#fdca26"
             ],
             [
              1,
              "#f0f921"
             ]
            ],
            "type": "heatmap"
           }
          ],
          "heatmapgl": [
           {
            "colorbar": {
             "outlinewidth": 0,
             "ticks": ""
            },
            "colorscale": [
             [
              0,
              "#0d0887"
             ],
             [
              0.1111111111111111,
              "#46039f"
             ],
             [
              0.2222222222222222,
              "#7201a8"
             ],
             [
              0.3333333333333333,
              "#9c179e"
             ],
             [
              0.4444444444444444,
              "#bd3786"
             ],
             [
              0.5555555555555556,
              "#d8576b"
             ],
             [
              0.6666666666666666,
              "#ed7953"
             ],
             [
              0.7777777777777778,
              "#fb9f3a"
             ],
             [
              0.8888888888888888,
              "#fdca26"
             ],
             [
              1,
              "#f0f921"
             ]
            ],
            "type": "heatmapgl"
           }
          ],
          "histogram": [
           {
            "marker": {
             "colorbar": {
              "outlinewidth": 0,
              "ticks": ""
             }
            },
            "type": "histogram"
           }
          ],
          "histogram2d": [
           {
            "colorbar": {
             "outlinewidth": 0,
             "ticks": ""
            },
            "colorscale": [
             [
              0,
              "#0d0887"
             ],
             [
              0.1111111111111111,
              "#46039f"
             ],
             [
              0.2222222222222222,
              "#7201a8"
             ],
             [
              0.3333333333333333,
              "#9c179e"
             ],
             [
              0.4444444444444444,
              "#bd3786"
             ],
             [
              0.5555555555555556,
              "#d8576b"
             ],
             [
              0.6666666666666666,
              "#ed7953"
             ],
             [
              0.7777777777777778,
              "#fb9f3a"
             ],
             [
              0.8888888888888888,
              "#fdca26"
             ],
             [
              1,
              "#f0f921"
             ]
            ],
            "type": "histogram2d"
           }
          ],
          "histogram2dcontour": [
           {
            "colorbar": {
             "outlinewidth": 0,
             "ticks": ""
            },
            "colorscale": [
             [
              0,
              "#0d0887"
             ],
             [
              0.1111111111111111,
              "#46039f"
             ],
             [
              0.2222222222222222,
              "#7201a8"
             ],
             [
              0.3333333333333333,
              "#9c179e"
             ],
             [
              0.4444444444444444,
              "#bd3786"
             ],
             [
              0.5555555555555556,
              "#d8576b"
             ],
             [
              0.6666666666666666,
              "#ed7953"
             ],
             [
              0.7777777777777778,
              "#fb9f3a"
             ],
             [
              0.8888888888888888,
              "#fdca26"
             ],
             [
              1,
              "#f0f921"
             ]
            ],
            "type": "histogram2dcontour"
           }
          ],
          "mesh3d": [
           {
            "colorbar": {
             "outlinewidth": 0,
             "ticks": ""
            },
            "type": "mesh3d"
           }
          ],
          "parcoords": [
           {
            "line": {
             "colorbar": {
              "outlinewidth": 0,
              "ticks": ""
             }
            },
            "type": "parcoords"
           }
          ],
          "pie": [
           {
            "automargin": true,
            "type": "pie"
           }
          ],
          "scatter": [
           {
            "marker": {
             "colorbar": {
              "outlinewidth": 0,
              "ticks": ""
             }
            },
            "type": "scatter"
           }
          ],
          "scatter3d": [
           {
            "line": {
             "colorbar": {
              "outlinewidth": 0,
              "ticks": ""
             }
            },
            "marker": {
             "colorbar": {
              "outlinewidth": 0,
              "ticks": ""
             }
            },
            "type": "scatter3d"
           }
          ],
          "scattercarpet": [
           {
            "marker": {
             "colorbar": {
              "outlinewidth": 0,
              "ticks": ""
             }
            },
            "type": "scattercarpet"
           }
          ],
          "scattergeo": [
           {
            "marker": {
             "colorbar": {
              "outlinewidth": 0,
              "ticks": ""
             }
            },
            "type": "scattergeo"
           }
          ],
          "scattergl": [
           {
            "marker": {
             "colorbar": {
              "outlinewidth": 0,
              "ticks": ""
             }
            },
            "type": "scattergl"
           }
          ],
          "scattermapbox": [
           {
            "marker": {
             "colorbar": {
              "outlinewidth": 0,
              "ticks": ""
             }
            },
            "type": "scattermapbox"
           }
          ],
          "scatterpolar": [
           {
            "marker": {
             "colorbar": {
              "outlinewidth": 0,
              "ticks": ""
             }
            },
            "type": "scatterpolar"
           }
          ],
          "scatterpolargl": [
           {
            "marker": {
             "colorbar": {
              "outlinewidth": 0,
              "ticks": ""
             }
            },
            "type": "scatterpolargl"
           }
          ],
          "scatterternary": [
           {
            "marker": {
             "colorbar": {
              "outlinewidth": 0,
              "ticks": ""
             }
            },
            "type": "scatterternary"
           }
          ],
          "surface": [
           {
            "colorbar": {
             "outlinewidth": 0,
             "ticks": ""
            },
            "colorscale": [
             [
              0,
              "#0d0887"
             ],
             [
              0.1111111111111111,
              "#46039f"
             ],
             [
              0.2222222222222222,
              "#7201a8"
             ],
             [
              0.3333333333333333,
              "#9c179e"
             ],
             [
              0.4444444444444444,
              "#bd3786"
             ],
             [
              0.5555555555555556,
              "#d8576b"
             ],
             [
              0.6666666666666666,
              "#ed7953"
             ],
             [
              0.7777777777777778,
              "#fb9f3a"
             ],
             [
              0.8888888888888888,
              "#fdca26"
             ],
             [
              1,
              "#f0f921"
             ]
            ],
            "type": "surface"
           }
          ],
          "table": [
           {
            "cells": {
             "fill": {
              "color": "#EBF0F8"
             },
             "line": {
              "color": "white"
             }
            },
            "header": {
             "fill": {
              "color": "#C8D4E3"
             },
             "line": {
              "color": "white"
             }
            },
            "type": "table"
           }
          ]
         },
         "layout": {
          "annotationdefaults": {
           "arrowcolor": "#2a3f5f",
           "arrowhead": 0,
           "arrowwidth": 1
          },
          "autotypenumbers": "strict",
          "coloraxis": {
           "colorbar": {
            "outlinewidth": 0,
            "ticks": ""
           }
          },
          "colorscale": {
           "diverging": [
            [
             0,
             "#8e0152"
            ],
            [
             0.1,
             "#c51b7d"
            ],
            [
             0.2,
             "#de77ae"
            ],
            [
             0.3,
             "#f1b6da"
            ],
            [
             0.4,
             "#fde0ef"
            ],
            [
             0.5,
             "#f7f7f7"
            ],
            [
             0.6,
             "#e6f5d0"
            ],
            [
             0.7,
             "#b8e186"
            ],
            [
             0.8,
             "#7fbc41"
            ],
            [
             0.9,
             "#4d9221"
            ],
            [
             1,
             "#276419"
            ]
           ],
           "sequential": [
            [
             0,
             "#0d0887"
            ],
            [
             0.1111111111111111,
             "#46039f"
            ],
            [
             0.2222222222222222,
             "#7201a8"
            ],
            [
             0.3333333333333333,
             "#9c179e"
            ],
            [
             0.4444444444444444,
             "#bd3786"
            ],
            [
             0.5555555555555556,
             "#d8576b"
            ],
            [
             0.6666666666666666,
             "#ed7953"
            ],
            [
             0.7777777777777778,
             "#fb9f3a"
            ],
            [
             0.8888888888888888,
             "#fdca26"
            ],
            [
             1,
             "#f0f921"
            ]
           ],
           "sequentialminus": [
            [
             0,
             "#0d0887"
            ],
            [
             0.1111111111111111,
             "#46039f"
            ],
            [
             0.2222222222222222,
             "#7201a8"
            ],
            [
             0.3333333333333333,
             "#9c179e"
            ],
            [
             0.4444444444444444,
             "#bd3786"
            ],
            [
             0.5555555555555556,
             "#d8576b"
            ],
            [
             0.6666666666666666,
             "#ed7953"
            ],
            [
             0.7777777777777778,
             "#fb9f3a"
            ],
            [
             0.8888888888888888,
             "#fdca26"
            ],
            [
             1,
             "#f0f921"
            ]
           ]
          },
          "colorway": [
           "#636efa",
           "#EF553B",
           "#00cc96",
           "#ab63fa",
           "#FFA15A",
           "#19d3f3",
           "#FF6692",
           "#B6E880",
           "#FF97FF",
           "#FECB52"
          ],
          "font": {
           "color": "#2a3f5f"
          },
          "geo": {
           "bgcolor": "white",
           "lakecolor": "white",
           "landcolor": "#E5ECF6",
           "showlakes": true,
           "showland": true,
           "subunitcolor": "white"
          },
          "hoverlabel": {
           "align": "left"
          },
          "hovermode": "closest",
          "mapbox": {
           "style": "light"
          },
          "paper_bgcolor": "white",
          "plot_bgcolor": "#E5ECF6",
          "polar": {
           "angularaxis": {
            "gridcolor": "white",
            "linecolor": "white",
            "ticks": ""
           },
           "bgcolor": "#E5ECF6",
           "radialaxis": {
            "gridcolor": "white",
            "linecolor": "white",
            "ticks": ""
           }
          },
          "scene": {
           "xaxis": {
            "backgroundcolor": "#E5ECF6",
            "gridcolor": "white",
            "gridwidth": 2,
            "linecolor": "white",
            "showbackground": true,
            "ticks": "",
            "zerolinecolor": "white"
           },
           "yaxis": {
            "backgroundcolor": "#E5ECF6",
            "gridcolor": "white",
            "gridwidth": 2,
            "linecolor": "white",
            "showbackground": true,
            "ticks": "",
            "zerolinecolor": "white"
           },
           "zaxis": {
            "backgroundcolor": "#E5ECF6",
            "gridcolor": "white",
            "gridwidth": 2,
            "linecolor": "white",
            "showbackground": true,
            "ticks": "",
            "zerolinecolor": "white"
           }
          },
          "shapedefaults": {
           "line": {
            "color": "#2a3f5f"
           }
          },
          "ternary": {
           "aaxis": {
            "gridcolor": "white",
            "linecolor": "white",
            "ticks": ""
           },
           "baxis": {
            "gridcolor": "white",
            "linecolor": "white",
            "ticks": ""
           },
           "bgcolor": "#E5ECF6",
           "caxis": {
            "gridcolor": "white",
            "linecolor": "white",
            "ticks": ""
           }
          },
          "title": {
           "x": 0.05
          },
          "xaxis": {
           "automargin": true,
           "gridcolor": "white",
           "linecolor": "white",
           "ticks": "",
           "title": {
            "standoff": 15
           },
           "zerolinecolor": "white",
           "zerolinewidth": 2
          },
          "yaxis": {
           "automargin": true,
           "gridcolor": "white",
           "linecolor": "white",
           "ticks": "",
           "title": {
            "standoff": 15
           },
           "zerolinecolor": "white",
           "zerolinewidth": 2
          }
         }
        },
        "title": {
         "text": "Contour Plot"
        },
        "xaxis": {
         "anchor": "y",
         "domain": [
          0,
          0.103125
         ],
         "matches": "x57",
         "range": [
          0.9,
          0.9
         ],
         "showticklabels": false
        },
        "xaxis10": {
         "anchor": "y10",
         "domain": [
          0.128125,
          0.23124999999999998
         ],
         "matches": "x58",
         "range": [
          1,
          1
         ],
         "showticklabels": false
        },
        "xaxis11": {
         "anchor": "y11",
         "domain": [
          0.25625,
          0.359375
         ],
         "matches": "x59",
         "range": [
          -1.1184590165784014,
          -1.1184590165784014
         ],
         "showticklabels": false,
         "type": "log"
        },
        "xaxis12": {
         "anchor": "y12",
         "domain": [
          0.38437499999999997,
          0.48749999999999993
         ],
         "matches": "x60",
         "range": [
          6,
          6
         ],
         "showticklabels": false
        },
        "xaxis13": {
         "anchor": "y13",
         "domain": [
          0.5125,
          0.615625
         ],
         "matches": "x61",
         "range": [
          5,
          5
         ],
         "showticklabels": false
        },
        "xaxis14": {
         "anchor": "y14",
         "domain": [
          0.640625,
          0.74375
         ],
         "matches": "x62",
         "range": [
          615,
          615
         ],
         "showticklabels": false
        },
        "xaxis15": {
         "anchor": "y15",
         "domain": [
          0.76875,
          0.8718750000000001
         ],
         "matches": "x63",
         "range": [
          0,
          0
         ],
         "showticklabels": false
        },
        "xaxis16": {
         "anchor": "y16",
         "domain": [
          0.8968750000000001,
          1
         ],
         "matches": "x64",
         "range": [
          2,
          2
         ],
         "showticklabels": false
        },
        "xaxis17": {
         "anchor": "y17",
         "domain": [
          0,
          0.103125
         ],
         "matches": "x57",
         "range": [
          0.9,
          0.9
         ],
         "showticklabels": false
        },
        "xaxis18": {
         "anchor": "y18",
         "domain": [
          0.128125,
          0.23124999999999998
         ],
         "matches": "x58",
         "range": [
          1,
          1
         ],
         "showticklabels": false
        },
        "xaxis19": {
         "anchor": "y19",
         "domain": [
          0.25625,
          0.359375
         ],
         "matches": "x59",
         "range": [
          -1.1184590165784014,
          -1.1184590165784014
         ],
         "showticklabels": false,
         "type": "log"
        },
        "xaxis2": {
         "anchor": "y2",
         "domain": [
          0.128125,
          0.23124999999999998
         ],
         "matches": "x58",
         "range": [
          1,
          1
         ],
         "showticklabels": false
        },
        "xaxis20": {
         "anchor": "y20",
         "domain": [
          0.38437499999999997,
          0.48749999999999993
         ],
         "matches": "x60",
         "range": [
          6,
          6
         ],
         "showticklabels": false
        },
        "xaxis21": {
         "anchor": "y21",
         "domain": [
          0.5125,
          0.615625
         ],
         "matches": "x61",
         "range": [
          5,
          5
         ],
         "showticklabels": false
        },
        "xaxis22": {
         "anchor": "y22",
         "domain": [
          0.640625,
          0.74375
         ],
         "matches": "x62",
         "range": [
          615,
          615
         ],
         "showticklabels": false
        },
        "xaxis23": {
         "anchor": "y23",
         "domain": [
          0.76875,
          0.8718750000000001
         ],
         "matches": "x63",
         "range": [
          0,
          0
         ],
         "showticklabels": false
        },
        "xaxis24": {
         "anchor": "y24",
         "domain": [
          0.8968750000000001,
          1
         ],
         "matches": "x64",
         "range": [
          2,
          2
         ],
         "showticklabels": false
        },
        "xaxis25": {
         "anchor": "y25",
         "domain": [
          0,
          0.103125
         ],
         "matches": "x57",
         "range": [
          0.9,
          0.9
         ],
         "showticklabels": false
        },
        "xaxis26": {
         "anchor": "y26",
         "domain": [
          0.128125,
          0.23124999999999998
         ],
         "matches": "x58",
         "range": [
          1,
          1
         ],
         "showticklabels": false
        },
        "xaxis27": {
         "anchor": "y27",
         "domain": [
          0.25625,
          0.359375
         ],
         "matches": "x59",
         "range": [
          -1.1184590165784014,
          -1.1184590165784014
         ],
         "showticklabels": false,
         "type": "log"
        },
        "xaxis28": {
         "anchor": "y28",
         "domain": [
          0.38437499999999997,
          0.48749999999999993
         ],
         "matches": "x60",
         "range": [
          6,
          6
         ],
         "showticklabels": false
        },
        "xaxis29": {
         "anchor": "y29",
         "domain": [
          0.5125,
          0.615625
         ],
         "matches": "x61",
         "range": [
          5,
          5
         ],
         "showticklabels": false
        },
        "xaxis3": {
         "anchor": "y3",
         "domain": [
          0.25625,
          0.359375
         ],
         "matches": "x59",
         "range": [
          -1.1184590165784014,
          -1.1184590165784014
         ],
         "showticklabels": false,
         "type": "log"
        },
        "xaxis30": {
         "anchor": "y30",
         "domain": [
          0.640625,
          0.74375
         ],
         "matches": "x62",
         "range": [
          615,
          615
         ],
         "showticklabels": false
        },
        "xaxis31": {
         "anchor": "y31",
         "domain": [
          0.76875,
          0.8718750000000001
         ],
         "matches": "x63",
         "range": [
          0,
          0
         ],
         "showticklabels": false
        },
        "xaxis32": {
         "anchor": "y32",
         "domain": [
          0.8968750000000001,
          1
         ],
         "matches": "x64",
         "range": [
          2,
          2
         ],
         "showticklabels": false
        },
        "xaxis33": {
         "anchor": "y33",
         "domain": [
          0,
          0.103125
         ],
         "matches": "x57",
         "range": [
          0.9,
          0.9
         ],
         "showticklabels": false
        },
        "xaxis34": {
         "anchor": "y34",
         "domain": [
          0.128125,
          0.23124999999999998
         ],
         "matches": "x58",
         "range": [
          1,
          1
         ],
         "showticklabels": false
        },
        "xaxis35": {
         "anchor": "y35",
         "domain": [
          0.25625,
          0.359375
         ],
         "matches": "x59",
         "range": [
          -1.1184590165784014,
          -1.1184590165784014
         ],
         "showticklabels": false,
         "type": "log"
        },
        "xaxis36": {
         "anchor": "y36",
         "domain": [
          0.38437499999999997,
          0.48749999999999993
         ],
         "matches": "x60",
         "range": [
          6,
          6
         ],
         "showticklabels": false
        },
        "xaxis37": {
         "anchor": "y37",
         "domain": [
          0.5125,
          0.615625
         ],
         "matches": "x61",
         "range": [
          5,
          5
         ],
         "showticklabels": false
        },
        "xaxis38": {
         "anchor": "y38",
         "domain": [
          0.640625,
          0.74375
         ],
         "matches": "x62",
         "range": [
          615,
          615
         ],
         "showticklabels": false
        },
        "xaxis39": {
         "anchor": "y39",
         "domain": [
          0.76875,
          0.8718750000000001
         ],
         "matches": "x63",
         "range": [
          0,
          0
         ],
         "showticklabels": false
        },
        "xaxis4": {
         "anchor": "y4",
         "domain": [
          0.38437499999999997,
          0.48749999999999993
         ],
         "matches": "x60",
         "range": [
          6,
          6
         ],
         "showticklabels": false
        },
        "xaxis40": {
         "anchor": "y40",
         "domain": [
          0.8968750000000001,
          1
         ],
         "matches": "x64",
         "range": [
          2,
          2
         ],
         "showticklabels": false
        },
        "xaxis41": {
         "anchor": "y41",
         "domain": [
          0,
          0.103125
         ],
         "matches": "x57",
         "range": [
          0.9,
          0.9
         ],
         "showticklabels": false
        },
        "xaxis42": {
         "anchor": "y42",
         "domain": [
          0.128125,
          0.23124999999999998
         ],
         "matches": "x58",
         "range": [
          1,
          1
         ],
         "showticklabels": false
        },
        "xaxis43": {
         "anchor": "y43",
         "domain": [
          0.25625,
          0.359375
         ],
         "matches": "x59",
         "range": [
          -1.1184590165784014,
          -1.1184590165784014
         ],
         "showticklabels": false,
         "type": "log"
        },
        "xaxis44": {
         "anchor": "y44",
         "domain": [
          0.38437499999999997,
          0.48749999999999993
         ],
         "matches": "x60",
         "range": [
          6,
          6
         ],
         "showticklabels": false
        },
        "xaxis45": {
         "anchor": "y45",
         "domain": [
          0.5125,
          0.615625
         ],
         "matches": "x61",
         "range": [
          5,
          5
         ],
         "showticklabels": false
        },
        "xaxis46": {
         "anchor": "y46",
         "domain": [
          0.640625,
          0.74375
         ],
         "matches": "x62",
         "range": [
          615,
          615
         ],
         "showticklabels": false
        },
        "xaxis47": {
         "anchor": "y47",
         "domain": [
          0.76875,
          0.8718750000000001
         ],
         "matches": "x63",
         "range": [
          0,
          0
         ],
         "showticklabels": false
        },
        "xaxis48": {
         "anchor": "y48",
         "domain": [
          0.8968750000000001,
          1
         ],
         "matches": "x64",
         "range": [
          2,
          2
         ],
         "showticklabels": false
        },
        "xaxis49": {
         "anchor": "y49",
         "domain": [
          0,
          0.103125
         ],
         "matches": "x57",
         "range": [
          0.9,
          0.9
         ],
         "showticklabels": false
        },
        "xaxis5": {
         "anchor": "y5",
         "domain": [
          0.5125,
          0.615625
         ],
         "matches": "x61",
         "range": [
          5,
          5
         ],
         "showticklabels": false
        },
        "xaxis50": {
         "anchor": "y50",
         "domain": [
          0.128125,
          0.23124999999999998
         ],
         "matches": "x58",
         "range": [
          1,
          1
         ],
         "showticklabels": false
        },
        "xaxis51": {
         "anchor": "y51",
         "domain": [
          0.25625,
          0.359375
         ],
         "matches": "x59",
         "range": [
          -1.1184590165784014,
          -1.1184590165784014
         ],
         "showticklabels": false,
         "type": "log"
        },
        "xaxis52": {
         "anchor": "y52",
         "domain": [
          0.38437499999999997,
          0.48749999999999993
         ],
         "matches": "x60",
         "range": [
          6,
          6
         ],
         "showticklabels": false
        },
        "xaxis53": {
         "anchor": "y53",
         "domain": [
          0.5125,
          0.615625
         ],
         "matches": "x61",
         "range": [
          5,
          5
         ],
         "showticklabels": false
        },
        "xaxis54": {
         "anchor": "y54",
         "domain": [
          0.640625,
          0.74375
         ],
         "matches": "x62",
         "range": [
          615,
          615
         ],
         "showticklabels": false
        },
        "xaxis55": {
         "anchor": "y55",
         "domain": [
          0.76875,
          0.8718750000000001
         ],
         "matches": "x63",
         "range": [
          0,
          0
         ],
         "showticklabels": false
        },
        "xaxis56": {
         "anchor": "y56",
         "domain": [
          0.8968750000000001,
          1
         ],
         "matches": "x64",
         "range": [
          2,
          2
         ],
         "showticklabels": false
        },
        "xaxis57": {
         "anchor": "y57",
         "domain": [
          0,
          0.103125
         ],
         "range": [
          0.9,
          0.9
         ],
         "title": {
          "text": "colsample_bytree"
         }
        },
        "xaxis58": {
         "anchor": "y58",
         "domain": [
          0.128125,
          0.23124999999999998
         ],
         "range": [
          1,
          1
         ],
         "title": {
          "text": "gamma"
         }
        },
        "xaxis59": {
         "anchor": "y59",
         "domain": [
          0.25625,
          0.359375
         ],
         "range": [
          -1.1184590165784014,
          -1.1184590165784014
         ],
         "title": {
          "text": "learning_rate"
         },
         "type": "log"
        },
        "xaxis6": {
         "anchor": "y6",
         "domain": [
          0.640625,
          0.74375
         ],
         "matches": "x62",
         "range": [
          615,
          615
         ],
         "showticklabels": false
        },
        "xaxis60": {
         "anchor": "y60",
         "domain": [
          0.38437499999999997,
          0.48749999999999993
         ],
         "range": [
          6,
          6
         ],
         "title": {
          "text": "max_depth"
         }
        },
        "xaxis61": {
         "anchor": "y61",
         "domain": [
          0.5125,
          0.615625
         ],
         "range": [
          5,
          5
         ],
         "title": {
          "text": "min_child_weight"
         }
        },
        "xaxis62": {
         "anchor": "y62",
         "domain": [
          0.640625,
          0.74375
         ],
         "range": [
          615,
          615
         ],
         "title": {
          "text": "n_estimators"
         }
        },
        "xaxis63": {
         "anchor": "y63",
         "domain": [
          0.76875,
          0.8718750000000001
         ],
         "range": [
          0,
          0
         ],
         "title": {
          "text": "reg_alpha"
         }
        },
        "xaxis64": {
         "anchor": "y64",
         "domain": [
          0.8968750000000001,
          1
         ],
         "range": [
          2,
          2
         ],
         "title": {
          "text": "reg_lambda"
         }
        },
        "xaxis7": {
         "anchor": "y7",
         "domain": [
          0.76875,
          0.8718750000000001
         ],
         "matches": "x63",
         "range": [
          0,
          0
         ],
         "showticklabels": false
        },
        "xaxis8": {
         "anchor": "y8",
         "domain": [
          0.8968750000000001,
          1
         ],
         "matches": "x64",
         "range": [
          2,
          2
         ],
         "showticklabels": false
        },
        "xaxis9": {
         "anchor": "y9",
         "domain": [
          0,
          0.103125
         ],
         "matches": "x57",
         "range": [
          0.9,
          0.9
         ],
         "showticklabels": false
        },
        "yaxis": {
         "anchor": "x",
         "domain": [
          0.9078124999999999,
          0.9999999999999999
         ],
         "range": [
          0.9,
          0.9
         ],
         "title": {
          "text": "colsample_bytree"
         }
        },
        "yaxis10": {
         "anchor": "x10",
         "domain": [
          0.778125,
          0.8703124999999999
         ],
         "matches": "y9",
         "range": [
          1,
          1
         ],
         "showticklabels": false
        },
        "yaxis11": {
         "anchor": "x11",
         "domain": [
          0.778125,
          0.8703124999999999
         ],
         "matches": "y9",
         "range": [
          1,
          1
         ],
         "showticklabels": false
        },
        "yaxis12": {
         "anchor": "x12",
         "domain": [
          0.778125,
          0.8703124999999999
         ],
         "matches": "y9",
         "range": [
          1,
          1
         ],
         "showticklabels": false
        },
        "yaxis13": {
         "anchor": "x13",
         "domain": [
          0.778125,
          0.8703124999999999
         ],
         "matches": "y9",
         "range": [
          1,
          1
         ],
         "showticklabels": false
        },
        "yaxis14": {
         "anchor": "x14",
         "domain": [
          0.778125,
          0.8703124999999999
         ],
         "matches": "y9",
         "range": [
          1,
          1
         ],
         "showticklabels": false
        },
        "yaxis15": {
         "anchor": "x15",
         "domain": [
          0.778125,
          0.8703124999999999
         ],
         "matches": "y9",
         "range": [
          1,
          1
         ],
         "showticklabels": false
        },
        "yaxis16": {
         "anchor": "x16",
         "domain": [
          0.778125,
          0.8703124999999999
         ],
         "matches": "y9",
         "range": [
          1,
          1
         ],
         "showticklabels": false
        },
        "yaxis17": {
         "anchor": "x17",
         "domain": [
          0.6484375,
          0.740625
         ],
         "range": [
          -1.1184590165784014,
          -1.1184590165784014
         ],
         "title": {
          "text": "learning_rate"
         },
         "type": "log"
        },
        "yaxis18": {
         "anchor": "x18",
         "domain": [
          0.6484375,
          0.740625
         ],
         "matches": "y17",
         "range": [
          -1.1184590165784014,
          -1.1184590165784014
         ],
         "showticklabels": false,
         "type": "log"
        },
        "yaxis19": {
         "anchor": "x19",
         "domain": [
          0.6484375,
          0.740625
         ],
         "matches": "y17",
         "range": [
          -1.1184590165784014,
          -1.1184590165784014
         ],
         "showticklabels": false,
         "type": "log"
        },
        "yaxis2": {
         "anchor": "x2",
         "domain": [
          0.9078124999999999,
          0.9999999999999999
         ],
         "matches": "y",
         "range": [
          0.9,
          0.9
         ],
         "showticklabels": false
        },
        "yaxis20": {
         "anchor": "x20",
         "domain": [
          0.6484375,
          0.740625
         ],
         "matches": "y17",
         "range": [
          -1.1184590165784014,
          -1.1184590165784014
         ],
         "showticklabels": false,
         "type": "log"
        },
        "yaxis21": {
         "anchor": "x21",
         "domain": [
          0.6484375,
          0.740625
         ],
         "matches": "y17",
         "range": [
          -1.1184590165784014,
          -1.1184590165784014
         ],
         "showticklabels": false,
         "type": "log"
        },
        "yaxis22": {
         "anchor": "x22",
         "domain": [
          0.6484375,
          0.740625
         ],
         "matches": "y17",
         "range": [
          -1.1184590165784014,
          -1.1184590165784014
         ],
         "showticklabels": false,
         "type": "log"
        },
        "yaxis23": {
         "anchor": "x23",
         "domain": [
          0.6484375,
          0.740625
         ],
         "matches": "y17",
         "range": [
          -1.1184590165784014,
          -1.1184590165784014
         ],
         "showticklabels": false,
         "type": "log"
        },
        "yaxis24": {
         "anchor": "x24",
         "domain": [
          0.6484375,
          0.740625
         ],
         "matches": "y17",
         "range": [
          -1.1184590165784014,
          -1.1184590165784014
         ],
         "showticklabels": false,
         "type": "log"
        },
        "yaxis25": {
         "anchor": "x25",
         "domain": [
          0.51875,
          0.6109375
         ],
         "range": [
          6,
          6
         ],
         "title": {
          "text": "max_depth"
         }
        },
        "yaxis26": {
         "anchor": "x26",
         "domain": [
          0.51875,
          0.6109375
         ],
         "matches": "y25",
         "range": [
          6,
          6
         ],
         "showticklabels": false
        },
        "yaxis27": {
         "anchor": "x27",
         "domain": [
          0.51875,
          0.6109375
         ],
         "matches": "y25",
         "range": [
          6,
          6
         ],
         "showticklabels": false
        },
        "yaxis28": {
         "anchor": "x28",
         "domain": [
          0.51875,
          0.6109375
         ],
         "matches": "y25",
         "range": [
          6,
          6
         ],
         "showticklabels": false
        },
        "yaxis29": {
         "anchor": "x29",
         "domain": [
          0.51875,
          0.6109375
         ],
         "matches": "y25",
         "range": [
          6,
          6
         ],
         "showticklabels": false
        },
        "yaxis3": {
         "anchor": "x3",
         "domain": [
          0.9078124999999999,
          0.9999999999999999
         ],
         "matches": "y",
         "range": [
          0.9,
          0.9
         ],
         "showticklabels": false
        },
        "yaxis30": {
         "anchor": "x30",
         "domain": [
          0.51875,
          0.6109375
         ],
         "matches": "y25",
         "range": [
          6,
          6
         ],
         "showticklabels": false
        },
        "yaxis31": {
         "anchor": "x31",
         "domain": [
          0.51875,
          0.6109375
         ],
         "matches": "y25",
         "range": [
          6,
          6
         ],
         "showticklabels": false
        },
        "yaxis32": {
         "anchor": "x32",
         "domain": [
          0.51875,
          0.6109375
         ],
         "matches": "y25",
         "range": [
          6,
          6
         ],
         "showticklabels": false
        },
        "yaxis33": {
         "anchor": "x33",
         "domain": [
          0.38906250000000003,
          0.48125000000000007
         ],
         "range": [
          5,
          5
         ],
         "title": {
          "text": "min_child_weight"
         }
        },
        "yaxis34": {
         "anchor": "x34",
         "domain": [
          0.38906250000000003,
          0.48125000000000007
         ],
         "matches": "y33",
         "range": [
          5,
          5
         ],
         "showticklabels": false
        },
        "yaxis35": {
         "anchor": "x35",
         "domain": [
          0.38906250000000003,
          0.48125000000000007
         ],
         "matches": "y33",
         "range": [
          5,
          5
         ],
         "showticklabels": false
        },
        "yaxis36": {
         "anchor": "x36",
         "domain": [
          0.38906250000000003,
          0.48125000000000007
         ],
         "matches": "y33",
         "range": [
          5,
          5
         ],
         "showticklabels": false
        },
        "yaxis37": {
         "anchor": "x37",
         "domain": [
          0.38906250000000003,
          0.48125000000000007
         ],
         "matches": "y33",
         "range": [
          5,
          5
         ],
         "showticklabels": false
        },
        "yaxis38": {
         "anchor": "x38",
         "domain": [
          0.38906250000000003,
          0.48125000000000007
         ],
         "matches": "y33",
         "range": [
          5,
          5
         ],
         "showticklabels": false
        },
        "yaxis39": {
         "anchor": "x39",
         "domain": [
          0.38906250000000003,
          0.48125000000000007
         ],
         "matches": "y33",
         "range": [
          5,
          5
         ],
         "showticklabels": false
        },
        "yaxis4": {
         "anchor": "x4",
         "domain": [
          0.9078124999999999,
          0.9999999999999999
         ],
         "matches": "y",
         "range": [
          0.9,
          0.9
         ],
         "showticklabels": false
        },
        "yaxis40": {
         "anchor": "x40",
         "domain": [
          0.38906250000000003,
          0.48125000000000007
         ],
         "matches": "y33",
         "range": [
          5,
          5
         ],
         "showticklabels": false
        },
        "yaxis41": {
         "anchor": "x41",
         "domain": [
          0.259375,
          0.3515625
         ],
         "range": [
          615,
          615
         ],
         "title": {
          "text": "n_estimators"
         }
        },
        "yaxis42": {
         "anchor": "x42",
         "domain": [
          0.259375,
          0.3515625
         ],
         "matches": "y41",
         "range": [
          615,
          615
         ],
         "showticklabels": false
        },
        "yaxis43": {
         "anchor": "x43",
         "domain": [
          0.259375,
          0.3515625
         ],
         "matches": "y41",
         "range": [
          615,
          615
         ],
         "showticklabels": false
        },
        "yaxis44": {
         "anchor": "x44",
         "domain": [
          0.259375,
          0.3515625
         ],
         "matches": "y41",
         "range": [
          615,
          615
         ],
         "showticklabels": false
        },
        "yaxis45": {
         "anchor": "x45",
         "domain": [
          0.259375,
          0.3515625
         ],
         "matches": "y41",
         "range": [
          615,
          615
         ],
         "showticklabels": false
        },
        "yaxis46": {
         "anchor": "x46",
         "domain": [
          0.259375,
          0.3515625
         ],
         "matches": "y41",
         "range": [
          615,
          615
         ],
         "showticklabels": false
        },
        "yaxis47": {
         "anchor": "x47",
         "domain": [
          0.259375,
          0.3515625
         ],
         "matches": "y41",
         "range": [
          615,
          615
         ],
         "showticklabels": false
        },
        "yaxis48": {
         "anchor": "x48",
         "domain": [
          0.259375,
          0.3515625
         ],
         "matches": "y41",
         "range": [
          615,
          615
         ],
         "showticklabels": false
        },
        "yaxis49": {
         "anchor": "x49",
         "domain": [
          0.1296875,
          0.22187500000000002
         ],
         "range": [
          0,
          0
         ],
         "title": {
          "text": "reg_alpha"
         }
        },
        "yaxis5": {
         "anchor": "x5",
         "domain": [
          0.9078124999999999,
          0.9999999999999999
         ],
         "matches": "y",
         "range": [
          0.9,
          0.9
         ],
         "showticklabels": false
        },
        "yaxis50": {
         "anchor": "x50",
         "domain": [
          0.1296875,
          0.22187500000000002
         ],
         "matches": "y49",
         "range": [
          0,
          0
         ],
         "showticklabels": false
        },
        "yaxis51": {
         "anchor": "x51",
         "domain": [
          0.1296875,
          0.22187500000000002
         ],
         "matches": "y49",
         "range": [
          0,
          0
         ],
         "showticklabels": false
        },
        "yaxis52": {
         "anchor": "x52",
         "domain": [
          0.1296875,
          0.22187500000000002
         ],
         "matches": "y49",
         "range": [
          0,
          0
         ],
         "showticklabels": false
        },
        "yaxis53": {
         "anchor": "x53",
         "domain": [
          0.1296875,
          0.22187500000000002
         ],
         "matches": "y49",
         "range": [
          0,
          0
         ],
         "showticklabels": false
        },
        "yaxis54": {
         "anchor": "x54",
         "domain": [
          0.1296875,
          0.22187500000000002
         ],
         "matches": "y49",
         "range": [
          0,
          0
         ],
         "showticklabels": false
        },
        "yaxis55": {
         "anchor": "x55",
         "domain": [
          0.1296875,
          0.22187500000000002
         ],
         "matches": "y49",
         "range": [
          0,
          0
         ],
         "showticklabels": false
        },
        "yaxis56": {
         "anchor": "x56",
         "domain": [
          0.1296875,
          0.22187500000000002
         ],
         "matches": "y49",
         "range": [
          0,
          0
         ],
         "showticklabels": false
        },
        "yaxis57": {
         "anchor": "x57",
         "domain": [
          0,
          0.0921875
         ],
         "range": [
          2,
          2
         ],
         "title": {
          "text": "reg_lambda"
         }
        },
        "yaxis58": {
         "anchor": "x58",
         "domain": [
          0,
          0.0921875
         ],
         "matches": "y57",
         "range": [
          2,
          2
         ],
         "showticklabels": false
        },
        "yaxis59": {
         "anchor": "x59",
         "domain": [
          0,
          0.0921875
         ],
         "matches": "y57",
         "range": [
          2,
          2
         ],
         "showticklabels": false
        },
        "yaxis6": {
         "anchor": "x6",
         "domain": [
          0.9078124999999999,
          0.9999999999999999
         ],
         "matches": "y",
         "range": [
          0.9,
          0.9
         ],
         "showticklabels": false
        },
        "yaxis60": {
         "anchor": "x60",
         "domain": [
          0,
          0.0921875
         ],
         "matches": "y57",
         "range": [
          2,
          2
         ],
         "showticklabels": false
        },
        "yaxis61": {
         "anchor": "x61",
         "domain": [
          0,
          0.0921875
         ],
         "matches": "y57",
         "range": [
          2,
          2
         ],
         "showticklabels": false
        },
        "yaxis62": {
         "anchor": "x62",
         "domain": [
          0,
          0.0921875
         ],
         "matches": "y57",
         "range": [
          2,
          2
         ],
         "showticklabels": false
        },
        "yaxis63": {
         "anchor": "x63",
         "domain": [
          0,
          0.0921875
         ],
         "matches": "y57",
         "range": [
          2,
          2
         ],
         "showticklabels": false
        },
        "yaxis64": {
         "anchor": "x64",
         "domain": [
          0,
          0.0921875
         ],
         "matches": "y57",
         "range": [
          2,
          2
         ],
         "showticklabels": false
        },
        "yaxis7": {
         "anchor": "x7",
         "domain": [
          0.9078124999999999,
          0.9999999999999999
         ],
         "matches": "y",
         "range": [
          0.9,
          0.9
         ],
         "showticklabels": false
        },
        "yaxis8": {
         "anchor": "x8",
         "domain": [
          0.9078124999999999,
          0.9999999999999999
         ],
         "matches": "y",
         "range": [
          0.9,
          0.9
         ],
         "showticklabels": false
        },
        "yaxis9": {
         "anchor": "x9",
         "domain": [
          0.778125,
          0.8703124999999999
         ],
         "range": [
          1,
          1
         ],
         "title": {
          "text": "gamma"
         }
        }
       }
      },
      "text/html": [
       "<div>                            <div id=\"a9009a99-dcac-48df-8b68-f8b6af6ad986\" class=\"plotly-graph-div\" style=\"height:525px; width:100%;\"></div>            <script type=\"text/javascript\">                require([\"plotly\"], function(Plotly) {                    window.PLOTLYENV=window.PLOTLYENV || {};                                    if (document.getElementById(\"a9009a99-dcac-48df-8b68-f8b6af6ad986\")) {                    Plotly.newPlot(                        \"a9009a99-dcac-48df-8b68-f8b6af6ad986\",                        [{\"type\": \"scatter\", \"xaxis\": \"x\", \"yaxis\": \"y\"}, {\"showscale\": true, \"type\": \"contour\", \"xaxis\": \"x9\", \"yaxis\": \"y9\"}, {\"type\": \"scatter\", \"xaxis\": \"x9\", \"yaxis\": \"y9\"}, {\"showscale\": false, \"type\": \"contour\", \"xaxis\": \"x17\", \"yaxis\": \"y17\"}, {\"type\": \"scatter\", \"xaxis\": \"x17\", \"yaxis\": \"y17\"}, {\"showscale\": false, \"type\": \"contour\", \"xaxis\": \"x25\", \"yaxis\": \"y25\"}, {\"type\": \"scatter\", \"xaxis\": \"x25\", \"yaxis\": \"y25\"}, {\"showscale\": false, \"type\": \"contour\", \"xaxis\": \"x33\", \"yaxis\": \"y33\"}, {\"type\": \"scatter\", \"xaxis\": \"x33\", \"yaxis\": \"y33\"}, {\"showscale\": false, \"type\": \"contour\", \"xaxis\": \"x41\", \"yaxis\": \"y41\"}, {\"type\": \"scatter\", \"xaxis\": \"x41\", \"yaxis\": \"y41\"}, {\"showscale\": false, \"type\": \"contour\", \"xaxis\": \"x49\", \"yaxis\": \"y49\"}, {\"type\": \"scatter\", \"xaxis\": \"x49\", \"yaxis\": \"y49\"}, {\"showscale\": false, \"type\": \"contour\", \"xaxis\": \"x57\", \"yaxis\": \"y57\"}, {\"type\": \"scatter\", \"xaxis\": \"x57\", \"yaxis\": \"y57\"}, {\"showscale\": false, \"type\": \"contour\", \"xaxis\": \"x2\", \"yaxis\": \"y2\"}, {\"type\": \"scatter\", \"xaxis\": \"x2\", \"yaxis\": \"y2\"}, {\"type\": \"scatter\", \"xaxis\": \"x10\", \"yaxis\": \"y10\"}, {\"showscale\": false, \"type\": \"contour\", \"xaxis\": \"x18\", \"yaxis\": \"y18\"}, {\"type\": \"scatter\", \"xaxis\": \"x18\", \"yaxis\": \"y18\"}, {\"showscale\": false, \"type\": \"contour\", \"xaxis\": \"x26\", \"yaxis\": \"y26\"}, {\"type\": \"scatter\", \"xaxis\": \"x26\", \"yaxis\": \"y26\"}, {\"showscale\": false, \"type\": \"contour\", \"xaxis\": \"x34\", \"yaxis\": \"y34\"}, {\"type\": \"scatter\", \"xaxis\": \"x34\", \"yaxis\": \"y34\"}, {\"showscale\": false, \"type\": \"contour\", \"xaxis\": \"x42\", \"yaxis\": \"y42\"}, {\"type\": \"scatter\", \"xaxis\": \"x42\", \"yaxis\": \"y42\"}, {\"showscale\": false, \"type\": \"contour\", \"xaxis\": \"x50\", \"yaxis\": \"y50\"}, {\"type\": \"scatter\", \"xaxis\": \"x50\", \"yaxis\": \"y50\"}, {\"showscale\": false, \"type\": \"contour\", \"xaxis\": \"x58\", \"yaxis\": \"y58\"}, {\"type\": \"scatter\", \"xaxis\": \"x58\", \"yaxis\": \"y58\"}, {\"showscale\": false, \"type\": \"contour\", \"xaxis\": \"x3\", \"yaxis\": \"y3\"}, {\"type\": \"scatter\", \"xaxis\": \"x3\", \"yaxis\": \"y3\"}, {\"showscale\": false, \"type\": \"contour\", \"xaxis\": \"x11\", \"yaxis\": \"y11\"}, {\"type\": \"scatter\", \"xaxis\": \"x11\", \"yaxis\": \"y11\"}, {\"type\": \"scatter\", \"xaxis\": \"x19\", \"yaxis\": \"y19\"}, {\"showscale\": false, \"type\": \"contour\", \"xaxis\": \"x27\", \"yaxis\": \"y27\"}, {\"type\": \"scatter\", \"xaxis\": \"x27\", \"yaxis\": \"y27\"}, {\"showscale\": false, \"type\": \"contour\", \"xaxis\": \"x35\", \"yaxis\": \"y35\"}, {\"type\": \"scatter\", \"xaxis\": \"x35\", \"yaxis\": \"y35\"}, {\"showscale\": false, \"type\": \"contour\", \"xaxis\": \"x43\", \"yaxis\": \"y43\"}, {\"type\": \"scatter\", \"xaxis\": \"x43\", \"yaxis\": \"y43\"}, {\"showscale\": false, \"type\": \"contour\", \"xaxis\": \"x51\", \"yaxis\": \"y51\"}, {\"type\": \"scatter\", \"xaxis\": \"x51\", \"yaxis\": \"y51\"}, {\"showscale\": false, \"type\": \"contour\", \"xaxis\": \"x59\", \"yaxis\": \"y59\"}, {\"type\": \"scatter\", \"xaxis\": \"x59\", \"yaxis\": \"y59\"}, {\"showscale\": false, \"type\": \"contour\", \"xaxis\": \"x4\", \"yaxis\": \"y4\"}, {\"type\": \"scatter\", \"xaxis\": \"x4\", \"yaxis\": \"y4\"}, {\"showscale\": false, \"type\": \"contour\", \"xaxis\": \"x12\", \"yaxis\": \"y12\"}, {\"type\": \"scatter\", \"xaxis\": \"x12\", \"yaxis\": \"y12\"}, {\"showscale\": false, \"type\": \"contour\", \"xaxis\": \"x20\", \"yaxis\": \"y20\"}, {\"type\": \"scatter\", \"xaxis\": \"x20\", \"yaxis\": \"y20\"}, {\"type\": \"scatter\", \"xaxis\": \"x28\", \"yaxis\": \"y28\"}, {\"showscale\": false, \"type\": \"contour\", \"xaxis\": \"x36\", \"yaxis\": \"y36\"}, {\"type\": \"scatter\", \"xaxis\": \"x36\", \"yaxis\": \"y36\"}, {\"showscale\": false, \"type\": \"contour\", \"xaxis\": \"x44\", \"yaxis\": \"y44\"}, {\"type\": \"scatter\", \"xaxis\": \"x44\", \"yaxis\": \"y44\"}, {\"showscale\": false, \"type\": \"contour\", \"xaxis\": \"x52\", \"yaxis\": \"y52\"}, {\"type\": \"scatter\", \"xaxis\": \"x52\", \"yaxis\": \"y52\"}, {\"showscale\": false, \"type\": \"contour\", \"xaxis\": \"x60\", \"yaxis\": \"y60\"}, {\"type\": \"scatter\", \"xaxis\": \"x60\", \"yaxis\": \"y60\"}, {\"showscale\": false, \"type\": \"contour\", \"xaxis\": \"x5\", \"yaxis\": \"y5\"}, {\"type\": \"scatter\", \"xaxis\": \"x5\", \"yaxis\": \"y5\"}, {\"showscale\": false, \"type\": \"contour\", \"xaxis\": \"x13\", \"yaxis\": \"y13\"}, {\"type\": \"scatter\", \"xaxis\": \"x13\", \"yaxis\": \"y13\"}, {\"showscale\": false, \"type\": \"contour\", \"xaxis\": \"x21\", \"yaxis\": \"y21\"}, {\"type\": \"scatter\", \"xaxis\": \"x21\", \"yaxis\": \"y21\"}, {\"showscale\": false, \"type\": \"contour\", \"xaxis\": \"x29\", \"yaxis\": \"y29\"}, {\"type\": \"scatter\", \"xaxis\": \"x29\", \"yaxis\": \"y29\"}, {\"type\": \"scatter\", \"xaxis\": \"x37\", \"yaxis\": \"y37\"}, {\"showscale\": false, \"type\": \"contour\", \"xaxis\": \"x45\", \"yaxis\": \"y45\"}, {\"type\": \"scatter\", \"xaxis\": \"x45\", \"yaxis\": \"y45\"}, {\"showscale\": false, \"type\": \"contour\", \"xaxis\": \"x53\", \"yaxis\": \"y53\"}, {\"type\": \"scatter\", \"xaxis\": \"x53\", \"yaxis\": \"y53\"}, {\"showscale\": false, \"type\": \"contour\", \"xaxis\": \"x61\", \"yaxis\": \"y61\"}, {\"type\": \"scatter\", \"xaxis\": \"x61\", \"yaxis\": \"y61\"}, {\"showscale\": false, \"type\": \"contour\", \"xaxis\": \"x6\", \"yaxis\": \"y6\"}, {\"type\": \"scatter\", \"xaxis\": \"x6\", \"yaxis\": \"y6\"}, {\"showscale\": false, \"type\": \"contour\", \"xaxis\": \"x14\", \"yaxis\": \"y14\"}, {\"type\": \"scatter\", \"xaxis\": \"x14\", \"yaxis\": \"y14\"}, {\"showscale\": false, \"type\": \"contour\", \"xaxis\": \"x22\", \"yaxis\": \"y22\"}, {\"type\": \"scatter\", \"xaxis\": \"x22\", \"yaxis\": \"y22\"}, {\"showscale\": false, \"type\": \"contour\", \"xaxis\": \"x30\", \"yaxis\": \"y30\"}, {\"type\": \"scatter\", \"xaxis\": \"x30\", \"yaxis\": \"y30\"}, {\"showscale\": false, \"type\": \"contour\", \"xaxis\": \"x38\", \"yaxis\": \"y38\"}, {\"type\": \"scatter\", \"xaxis\": \"x38\", \"yaxis\": \"y38\"}, {\"type\": \"scatter\", \"xaxis\": \"x46\", \"yaxis\": \"y46\"}, {\"showscale\": false, \"type\": \"contour\", \"xaxis\": \"x54\", \"yaxis\": \"y54\"}, {\"type\": \"scatter\", \"xaxis\": \"x54\", \"yaxis\": \"y54\"}, {\"showscale\": false, \"type\": \"contour\", \"xaxis\": \"x62\", \"yaxis\": \"y62\"}, {\"type\": \"scatter\", \"xaxis\": \"x62\", \"yaxis\": \"y62\"}, {\"showscale\": false, \"type\": \"contour\", \"xaxis\": \"x7\", \"yaxis\": \"y7\"}, {\"type\": \"scatter\", \"xaxis\": \"x7\", \"yaxis\": \"y7\"}, {\"showscale\": false, \"type\": \"contour\", \"xaxis\": \"x15\", \"yaxis\": \"y15\"}, {\"type\": \"scatter\", \"xaxis\": \"x15\", \"yaxis\": \"y15\"}, {\"showscale\": false, \"type\": \"contour\", \"xaxis\": \"x23\", \"yaxis\": \"y23\"}, {\"type\": \"scatter\", \"xaxis\": \"x23\", \"yaxis\": \"y23\"}, {\"showscale\": false, \"type\": \"contour\", \"xaxis\": \"x31\", \"yaxis\": \"y31\"}, {\"type\": \"scatter\", \"xaxis\": \"x31\", \"yaxis\": \"y31\"}, {\"showscale\": false, \"type\": \"contour\", \"xaxis\": \"x39\", \"yaxis\": \"y39\"}, {\"type\": \"scatter\", \"xaxis\": \"x39\", \"yaxis\": \"y39\"}, {\"showscale\": false, \"type\": \"contour\", \"xaxis\": \"x47\", \"yaxis\": \"y47\"}, {\"type\": \"scatter\", \"xaxis\": \"x47\", \"yaxis\": \"y47\"}, {\"type\": \"scatter\", \"xaxis\": \"x55\", \"yaxis\": \"y55\"}, {\"showscale\": false, \"type\": \"contour\", \"xaxis\": \"x63\", \"yaxis\": \"y63\"}, {\"type\": \"scatter\", \"xaxis\": \"x63\", \"yaxis\": \"y63\"}, {\"showscale\": false, \"type\": \"contour\", \"xaxis\": \"x8\", \"yaxis\": \"y8\"}, {\"type\": \"scatter\", \"xaxis\": \"x8\", \"yaxis\": \"y8\"}, {\"showscale\": false, \"type\": \"contour\", \"xaxis\": \"x16\", \"yaxis\": \"y16\"}, {\"type\": \"scatter\", \"xaxis\": \"x16\", \"yaxis\": \"y16\"}, {\"showscale\": false, \"type\": \"contour\", \"xaxis\": \"x24\", \"yaxis\": \"y24\"}, {\"type\": \"scatter\", \"xaxis\": \"x24\", \"yaxis\": \"y24\"}, {\"showscale\": false, \"type\": \"contour\", \"xaxis\": \"x32\", \"yaxis\": \"y32\"}, {\"type\": \"scatter\", \"xaxis\": \"x32\", \"yaxis\": \"y32\"}, {\"showscale\": false, \"type\": \"contour\", \"xaxis\": \"x40\", \"yaxis\": \"y40\"}, {\"type\": \"scatter\", \"xaxis\": \"x40\", \"yaxis\": \"y40\"}, {\"showscale\": false, \"type\": \"contour\", \"xaxis\": \"x48\", \"yaxis\": \"y48\"}, {\"type\": \"scatter\", \"xaxis\": \"x48\", \"yaxis\": \"y48\"}, {\"showscale\": false, \"type\": \"contour\", \"xaxis\": \"x56\", \"yaxis\": \"y56\"}, {\"type\": \"scatter\", \"xaxis\": \"x56\", \"yaxis\": \"y56\"}, {\"type\": \"scatter\", \"xaxis\": \"x64\", \"yaxis\": \"y64\"}],                        {\"template\": {\"data\": {\"bar\": [{\"error_x\": {\"color\": \"#2a3f5f\"}, \"error_y\": {\"color\": \"#2a3f5f\"}, \"marker\": {\"line\": {\"color\": \"#E5ECF6\", \"width\": 0.5}}, \"type\": \"bar\"}], \"barpolar\": [{\"marker\": {\"line\": {\"color\": \"#E5ECF6\", \"width\": 0.5}}, \"type\": \"barpolar\"}], \"carpet\": [{\"aaxis\": {\"endlinecolor\": \"#2a3f5f\", \"gridcolor\": \"white\", \"linecolor\": \"white\", \"minorgridcolor\": \"white\", \"startlinecolor\": \"#2a3f5f\"}, \"baxis\": {\"endlinecolor\": \"#2a3f5f\", \"gridcolor\": \"white\", \"linecolor\": \"white\", \"minorgridcolor\": \"white\", \"startlinecolor\": \"#2a3f5f\"}, \"type\": \"carpet\"}], \"choropleth\": [{\"colorbar\": {\"outlinewidth\": 0, \"ticks\": \"\"}, \"type\": \"choropleth\"}], \"contour\": [{\"colorbar\": {\"outlinewidth\": 0, \"ticks\": \"\"}, \"colorscale\": [[0.0, \"#0d0887\"], [0.1111111111111111, \"#46039f\"], [0.2222222222222222, \"#7201a8\"], [0.3333333333333333, \"#9c179e\"], [0.4444444444444444, \"#bd3786\"], [0.5555555555555556, \"#d8576b\"], [0.6666666666666666, \"#ed7953\"], [0.7777777777777778, \"#fb9f3a\"], [0.8888888888888888, \"#fdca26\"], [1.0, \"#f0f921\"]], \"type\": \"contour\"}], \"contourcarpet\": [{\"colorbar\": {\"outlinewidth\": 0, \"ticks\": \"\"}, \"type\": \"contourcarpet\"}], \"heatmap\": [{\"colorbar\": {\"outlinewidth\": 0, \"ticks\": \"\"}, \"colorscale\": [[0.0, \"#0d0887\"], [0.1111111111111111, \"#46039f\"], [0.2222222222222222, \"#7201a8\"], [0.3333333333333333, \"#9c179e\"], [0.4444444444444444, \"#bd3786\"], [0.5555555555555556, \"#d8576b\"], [0.6666666666666666, \"#ed7953\"], [0.7777777777777778, \"#fb9f3a\"], [0.8888888888888888, \"#fdca26\"], [1.0, \"#f0f921\"]], \"type\": \"heatmap\"}], \"heatmapgl\": [{\"colorbar\": {\"outlinewidth\": 0, \"ticks\": \"\"}, \"colorscale\": [[0.0, \"#0d0887\"], [0.1111111111111111, \"#46039f\"], [0.2222222222222222, \"#7201a8\"], [0.3333333333333333, \"#9c179e\"], [0.4444444444444444, \"#bd3786\"], [0.5555555555555556, \"#d8576b\"], [0.6666666666666666, \"#ed7953\"], [0.7777777777777778, \"#fb9f3a\"], [0.8888888888888888, \"#fdca26\"], [1.0, \"#f0f921\"]], \"type\": \"heatmapgl\"}], \"histogram\": [{\"marker\": {\"colorbar\": {\"outlinewidth\": 0, \"ticks\": \"\"}}, \"type\": \"histogram\"}], \"histogram2d\": [{\"colorbar\": {\"outlinewidth\": 0, \"ticks\": \"\"}, \"colorscale\": [[0.0, \"#0d0887\"], [0.1111111111111111, \"#46039f\"], [0.2222222222222222, \"#7201a8\"], [0.3333333333333333, \"#9c179e\"], [0.4444444444444444, \"#bd3786\"], [0.5555555555555556, \"#d8576b\"], [0.6666666666666666, \"#ed7953\"], [0.7777777777777778, \"#fb9f3a\"], [0.8888888888888888, \"#fdca26\"], [1.0, \"#f0f921\"]], \"type\": \"histogram2d\"}], \"histogram2dcontour\": [{\"colorbar\": {\"outlinewidth\": 0, \"ticks\": \"\"}, \"colorscale\": [[0.0, \"#0d0887\"], [0.1111111111111111, \"#46039f\"], [0.2222222222222222, \"#7201a8\"], [0.3333333333333333, \"#9c179e\"], [0.4444444444444444, \"#bd3786\"], [0.5555555555555556, \"#d8576b\"], [0.6666666666666666, \"#ed7953\"], [0.7777777777777778, \"#fb9f3a\"], [0.8888888888888888, \"#fdca26\"], [1.0, \"#f0f921\"]], \"type\": \"histogram2dcontour\"}], \"mesh3d\": [{\"colorbar\": {\"outlinewidth\": 0, \"ticks\": \"\"}, \"type\": \"mesh3d\"}], \"parcoords\": [{\"line\": {\"colorbar\": {\"outlinewidth\": 0, \"ticks\": \"\"}}, \"type\": \"parcoords\"}], \"pie\": [{\"automargin\": true, \"type\": \"pie\"}], \"scatter\": [{\"marker\": {\"colorbar\": {\"outlinewidth\": 0, \"ticks\": \"\"}}, \"type\": \"scatter\"}], \"scatter3d\": [{\"line\": {\"colorbar\": {\"outlinewidth\": 0, \"ticks\": \"\"}}, \"marker\": {\"colorbar\": {\"outlinewidth\": 0, \"ticks\": \"\"}}, \"type\": \"scatter3d\"}], \"scattercarpet\": [{\"marker\": {\"colorbar\": {\"outlinewidth\": 0, \"ticks\": \"\"}}, \"type\": \"scattercarpet\"}], \"scattergeo\": [{\"marker\": {\"colorbar\": {\"outlinewidth\": 0, \"ticks\": \"\"}}, \"type\": \"scattergeo\"}], \"scattergl\": [{\"marker\": {\"colorbar\": {\"outlinewidth\": 0, \"ticks\": \"\"}}, \"type\": \"scattergl\"}], \"scattermapbox\": [{\"marker\": {\"colorbar\": {\"outlinewidth\": 0, \"ticks\": \"\"}}, \"type\": \"scattermapbox\"}], \"scatterpolar\": [{\"marker\": {\"colorbar\": {\"outlinewidth\": 0, \"ticks\": \"\"}}, \"type\": \"scatterpolar\"}], \"scatterpolargl\": [{\"marker\": {\"colorbar\": {\"outlinewidth\": 0, \"ticks\": \"\"}}, \"type\": \"scatterpolargl\"}], \"scatterternary\": [{\"marker\": {\"colorbar\": {\"outlinewidth\": 0, \"ticks\": \"\"}}, \"type\": \"scatterternary\"}], \"surface\": [{\"colorbar\": {\"outlinewidth\": 0, \"ticks\": \"\"}, \"colorscale\": [[0.0, \"#0d0887\"], [0.1111111111111111, \"#46039f\"], [0.2222222222222222, \"#7201a8\"], [0.3333333333333333, \"#9c179e\"], [0.4444444444444444, \"#bd3786\"], [0.5555555555555556, \"#d8576b\"], [0.6666666666666666, \"#ed7953\"], [0.7777777777777778, \"#fb9f3a\"], [0.8888888888888888, \"#fdca26\"], [1.0, \"#f0f921\"]], \"type\": \"surface\"}], \"table\": [{\"cells\": {\"fill\": {\"color\": \"#EBF0F8\"}, \"line\": {\"color\": \"white\"}}, \"header\": {\"fill\": {\"color\": \"#C8D4E3\"}, \"line\": {\"color\": \"white\"}}, \"type\": \"table\"}]}, \"layout\": {\"annotationdefaults\": {\"arrowcolor\": \"#2a3f5f\", \"arrowhead\": 0, \"arrowwidth\": 1}, \"autotypenumbers\": \"strict\", \"coloraxis\": {\"colorbar\": {\"outlinewidth\": 0, \"ticks\": \"\"}}, \"colorscale\": {\"diverging\": [[0, \"#8e0152\"], [0.1, \"#c51b7d\"], [0.2, \"#de77ae\"], [0.3, \"#f1b6da\"], [0.4, \"#fde0ef\"], [0.5, \"#f7f7f7\"], [0.6, \"#e6f5d0\"], [0.7, \"#b8e186\"], [0.8, \"#7fbc41\"], [0.9, \"#4d9221\"], [1, \"#276419\"]], \"sequential\": [[0.0, \"#0d0887\"], [0.1111111111111111, \"#46039f\"], [0.2222222222222222, \"#7201a8\"], [0.3333333333333333, \"#9c179e\"], [0.4444444444444444, \"#bd3786\"], [0.5555555555555556, \"#d8576b\"], [0.6666666666666666, \"#ed7953\"], [0.7777777777777778, \"#fb9f3a\"], [0.8888888888888888, \"#fdca26\"], [1.0, \"#f0f921\"]], \"sequentialminus\": [[0.0, \"#0d0887\"], [0.1111111111111111, \"#46039f\"], [0.2222222222222222, \"#7201a8\"], [0.3333333333333333, \"#9c179e\"], [0.4444444444444444, \"#bd3786\"], [0.5555555555555556, \"#d8576b\"], [0.6666666666666666, \"#ed7953\"], [0.7777777777777778, \"#fb9f3a\"], [0.8888888888888888, \"#fdca26\"], [1.0, \"#f0f921\"]]}, \"colorway\": [\"#636efa\", \"#EF553B\", \"#00cc96\", \"#ab63fa\", \"#FFA15A\", \"#19d3f3\", \"#FF6692\", \"#B6E880\", \"#FF97FF\", \"#FECB52\"], \"font\": {\"color\": \"#2a3f5f\"}, \"geo\": {\"bgcolor\": \"white\", \"lakecolor\": \"white\", \"landcolor\": \"#E5ECF6\", \"showlakes\": true, \"showland\": true, \"subunitcolor\": \"white\"}, \"hoverlabel\": {\"align\": \"left\"}, \"hovermode\": \"closest\", \"mapbox\": {\"style\": \"light\"}, \"paper_bgcolor\": \"white\", \"plot_bgcolor\": \"#E5ECF6\", \"polar\": {\"angularaxis\": {\"gridcolor\": \"white\", \"linecolor\": \"white\", \"ticks\": \"\"}, \"bgcolor\": \"#E5ECF6\", \"radialaxis\": {\"gridcolor\": \"white\", \"linecolor\": \"white\", \"ticks\": \"\"}}, \"scene\": {\"xaxis\": {\"backgroundcolor\": \"#E5ECF6\", \"gridcolor\": \"white\", \"gridwidth\": 2, \"linecolor\": \"white\", \"showbackground\": true, \"ticks\": \"\", \"zerolinecolor\": \"white\"}, \"yaxis\": {\"backgroundcolor\": \"#E5ECF6\", \"gridcolor\": \"white\", \"gridwidth\": 2, \"linecolor\": \"white\", \"showbackground\": true, \"ticks\": \"\", \"zerolinecolor\": \"white\"}, \"zaxis\": {\"backgroundcolor\": \"#E5ECF6\", \"gridcolor\": \"white\", \"gridwidth\": 2, \"linecolor\": \"white\", \"showbackground\": true, \"ticks\": \"\", \"zerolinecolor\": \"white\"}}, \"shapedefaults\": {\"line\": {\"color\": \"#2a3f5f\"}}, \"ternary\": {\"aaxis\": {\"gridcolor\": \"white\", \"linecolor\": \"white\", \"ticks\": \"\"}, \"baxis\": {\"gridcolor\": \"white\", \"linecolor\": \"white\", \"ticks\": \"\"}, \"bgcolor\": \"#E5ECF6\", \"caxis\": {\"gridcolor\": \"white\", \"linecolor\": \"white\", \"ticks\": \"\"}}, \"title\": {\"x\": 0.05}, \"xaxis\": {\"automargin\": true, \"gridcolor\": \"white\", \"linecolor\": \"white\", \"ticks\": \"\", \"title\": {\"standoff\": 15}, \"zerolinecolor\": \"white\", \"zerolinewidth\": 2}, \"yaxis\": {\"automargin\": true, \"gridcolor\": \"white\", \"linecolor\": \"white\", \"ticks\": \"\", \"title\": {\"standoff\": 15}, \"zerolinecolor\": \"white\", \"zerolinewidth\": 2}}}, \"title\": {\"text\": \"Contour Plot\"}, \"xaxis\": {\"anchor\": \"y\", \"domain\": [0.0, 0.103125], \"matches\": \"x57\", \"range\": [0.9, 0.9], \"showticklabels\": false}, \"xaxis10\": {\"anchor\": \"y10\", \"domain\": [0.128125, 0.23124999999999998], \"matches\": \"x58\", \"range\": [1, 1], \"showticklabels\": false}, \"xaxis11\": {\"anchor\": \"y11\", \"domain\": [0.25625, 0.359375], \"matches\": \"x59\", \"range\": [-1.1184590165784014, -1.1184590165784014], \"showticklabels\": false, \"type\": \"log\"}, \"xaxis12\": {\"anchor\": \"y12\", \"domain\": [0.38437499999999997, 0.48749999999999993], \"matches\": \"x60\", \"range\": [6, 6], \"showticklabels\": false}, \"xaxis13\": {\"anchor\": \"y13\", \"domain\": [0.5125, 0.615625], \"matches\": \"x61\", \"range\": [5, 5], \"showticklabels\": false}, \"xaxis14\": {\"anchor\": \"y14\", \"domain\": [0.640625, 0.74375], \"matches\": \"x62\", \"range\": [615, 615], \"showticklabels\": false}, \"xaxis15\": {\"anchor\": \"y15\", \"domain\": [0.76875, 0.8718750000000001], \"matches\": \"x63\", \"range\": [0, 0], \"showticklabels\": false}, \"xaxis16\": {\"anchor\": \"y16\", \"domain\": [0.8968750000000001, 1.0], \"matches\": \"x64\", \"range\": [2, 2], \"showticklabels\": false}, \"xaxis17\": {\"anchor\": \"y17\", \"domain\": [0.0, 0.103125], \"matches\": \"x57\", \"range\": [0.9, 0.9], \"showticklabels\": false}, \"xaxis18\": {\"anchor\": \"y18\", \"domain\": [0.128125, 0.23124999999999998], \"matches\": \"x58\", \"range\": [1, 1], \"showticklabels\": false}, \"xaxis19\": {\"anchor\": \"y19\", \"domain\": [0.25625, 0.359375], \"matches\": \"x59\", \"range\": [-1.1184590165784014, -1.1184590165784014], \"showticklabels\": false, \"type\": \"log\"}, \"xaxis2\": {\"anchor\": \"y2\", \"domain\": [0.128125, 0.23124999999999998], \"matches\": \"x58\", \"range\": [1, 1], \"showticklabels\": false}, \"xaxis20\": {\"anchor\": \"y20\", \"domain\": [0.38437499999999997, 0.48749999999999993], \"matches\": \"x60\", \"range\": [6, 6], \"showticklabels\": false}, \"xaxis21\": {\"anchor\": \"y21\", \"domain\": [0.5125, 0.615625], \"matches\": \"x61\", \"range\": [5, 5], \"showticklabels\": false}, \"xaxis22\": {\"anchor\": \"y22\", \"domain\": [0.640625, 0.74375], \"matches\": \"x62\", \"range\": [615, 615], \"showticklabels\": false}, \"xaxis23\": {\"anchor\": \"y23\", \"domain\": [0.76875, 0.8718750000000001], \"matches\": \"x63\", \"range\": [0, 0], \"showticklabels\": false}, \"xaxis24\": {\"anchor\": \"y24\", \"domain\": [0.8968750000000001, 1.0], \"matches\": \"x64\", \"range\": [2, 2], \"showticklabels\": false}, \"xaxis25\": {\"anchor\": \"y25\", \"domain\": [0.0, 0.103125], \"matches\": \"x57\", \"range\": [0.9, 0.9], \"showticklabels\": false}, \"xaxis26\": {\"anchor\": \"y26\", \"domain\": [0.128125, 0.23124999999999998], \"matches\": \"x58\", \"range\": [1, 1], \"showticklabels\": false}, \"xaxis27\": {\"anchor\": \"y27\", \"domain\": [0.25625, 0.359375], \"matches\": \"x59\", \"range\": [-1.1184590165784014, -1.1184590165784014], \"showticklabels\": false, \"type\": \"log\"}, \"xaxis28\": {\"anchor\": \"y28\", \"domain\": [0.38437499999999997, 0.48749999999999993], \"matches\": \"x60\", \"range\": [6, 6], \"showticklabels\": false}, \"xaxis29\": {\"anchor\": \"y29\", \"domain\": [0.5125, 0.615625], \"matches\": \"x61\", \"range\": [5, 5], \"showticklabels\": false}, \"xaxis3\": {\"anchor\": \"y3\", \"domain\": [0.25625, 0.359375], \"matches\": \"x59\", \"range\": [-1.1184590165784014, -1.1184590165784014], \"showticklabels\": false, \"type\": \"log\"}, \"xaxis30\": {\"anchor\": \"y30\", \"domain\": [0.640625, 0.74375], \"matches\": \"x62\", \"range\": [615, 615], \"showticklabels\": false}, \"xaxis31\": {\"anchor\": \"y31\", \"domain\": [0.76875, 0.8718750000000001], \"matches\": \"x63\", \"range\": [0, 0], \"showticklabels\": false}, \"xaxis32\": {\"anchor\": \"y32\", \"domain\": [0.8968750000000001, 1.0], \"matches\": \"x64\", \"range\": [2, 2], \"showticklabels\": false}, \"xaxis33\": {\"anchor\": \"y33\", \"domain\": [0.0, 0.103125], \"matches\": \"x57\", \"range\": [0.9, 0.9], \"showticklabels\": false}, \"xaxis34\": {\"anchor\": \"y34\", \"domain\": [0.128125, 0.23124999999999998], \"matches\": \"x58\", \"range\": [1, 1], \"showticklabels\": false}, \"xaxis35\": {\"anchor\": \"y35\", \"domain\": [0.25625, 0.359375], \"matches\": \"x59\", \"range\": [-1.1184590165784014, -1.1184590165784014], \"showticklabels\": false, \"type\": \"log\"}, \"xaxis36\": {\"anchor\": \"y36\", \"domain\": [0.38437499999999997, 0.48749999999999993], \"matches\": \"x60\", \"range\": [6, 6], \"showticklabels\": false}, \"xaxis37\": {\"anchor\": \"y37\", \"domain\": [0.5125, 0.615625], \"matches\": \"x61\", \"range\": [5, 5], \"showticklabels\": false}, \"xaxis38\": {\"anchor\": \"y38\", \"domain\": [0.640625, 0.74375], \"matches\": \"x62\", \"range\": [615, 615], \"showticklabels\": false}, \"xaxis39\": {\"anchor\": \"y39\", \"domain\": [0.76875, 0.8718750000000001], \"matches\": \"x63\", \"range\": [0, 0], \"showticklabels\": false}, \"xaxis4\": {\"anchor\": \"y4\", \"domain\": [0.38437499999999997, 0.48749999999999993], \"matches\": \"x60\", \"range\": [6, 6], \"showticklabels\": false}, \"xaxis40\": {\"anchor\": \"y40\", \"domain\": [0.8968750000000001, 1.0], \"matches\": \"x64\", \"range\": [2, 2], \"showticklabels\": false}, \"xaxis41\": {\"anchor\": \"y41\", \"domain\": [0.0, 0.103125], \"matches\": \"x57\", \"range\": [0.9, 0.9], \"showticklabels\": false}, \"xaxis42\": {\"anchor\": \"y42\", \"domain\": [0.128125, 0.23124999999999998], \"matches\": \"x58\", \"range\": [1, 1], \"showticklabels\": false}, \"xaxis43\": {\"anchor\": \"y43\", \"domain\": [0.25625, 0.359375], \"matches\": \"x59\", \"range\": [-1.1184590165784014, -1.1184590165784014], \"showticklabels\": false, \"type\": \"log\"}, \"xaxis44\": {\"anchor\": \"y44\", \"domain\": [0.38437499999999997, 0.48749999999999993], \"matches\": \"x60\", \"range\": [6, 6], \"showticklabels\": false}, \"xaxis45\": {\"anchor\": \"y45\", \"domain\": [0.5125, 0.615625], \"matches\": \"x61\", \"range\": [5, 5], \"showticklabels\": false}, \"xaxis46\": {\"anchor\": \"y46\", \"domain\": [0.640625, 0.74375], \"matches\": \"x62\", \"range\": [615, 615], \"showticklabels\": false}, \"xaxis47\": {\"anchor\": \"y47\", \"domain\": [0.76875, 0.8718750000000001], \"matches\": \"x63\", \"range\": [0, 0], \"showticklabels\": false}, \"xaxis48\": {\"anchor\": \"y48\", \"domain\": [0.8968750000000001, 1.0], \"matches\": \"x64\", \"range\": [2, 2], \"showticklabels\": false}, \"xaxis49\": {\"anchor\": \"y49\", \"domain\": [0.0, 0.103125], \"matches\": \"x57\", \"range\": [0.9, 0.9], \"showticklabels\": false}, \"xaxis5\": {\"anchor\": \"y5\", \"domain\": [0.5125, 0.615625], \"matches\": \"x61\", \"range\": [5, 5], \"showticklabels\": false}, \"xaxis50\": {\"anchor\": \"y50\", \"domain\": [0.128125, 0.23124999999999998], \"matches\": \"x58\", \"range\": [1, 1], \"showticklabels\": false}, \"xaxis51\": {\"anchor\": \"y51\", \"domain\": [0.25625, 0.359375], \"matches\": \"x59\", \"range\": [-1.1184590165784014, -1.1184590165784014], \"showticklabels\": false, \"type\": \"log\"}, \"xaxis52\": {\"anchor\": \"y52\", \"domain\": [0.38437499999999997, 0.48749999999999993], \"matches\": \"x60\", \"range\": [6, 6], \"showticklabels\": false}, \"xaxis53\": {\"anchor\": \"y53\", \"domain\": [0.5125, 0.615625], \"matches\": \"x61\", \"range\": [5, 5], \"showticklabels\": false}, \"xaxis54\": {\"anchor\": \"y54\", \"domain\": [0.640625, 0.74375], \"matches\": \"x62\", \"range\": [615, 615], \"showticklabels\": false}, \"xaxis55\": {\"anchor\": \"y55\", \"domain\": [0.76875, 0.8718750000000001], \"matches\": \"x63\", \"range\": [0, 0], \"showticklabels\": false}, \"xaxis56\": {\"anchor\": \"y56\", \"domain\": [0.8968750000000001, 1.0], \"matches\": \"x64\", \"range\": [2, 2], \"showticklabels\": false}, \"xaxis57\": {\"anchor\": \"y57\", \"domain\": [0.0, 0.103125], \"range\": [0.9, 0.9], \"title\": {\"text\": \"colsample_bytree\"}}, \"xaxis58\": {\"anchor\": \"y58\", \"domain\": [0.128125, 0.23124999999999998], \"range\": [1, 1], \"title\": {\"text\": \"gamma\"}}, \"xaxis59\": {\"anchor\": \"y59\", \"domain\": [0.25625, 0.359375], \"range\": [-1.1184590165784014, -1.1184590165784014], \"title\": {\"text\": \"learning_rate\"}, \"type\": \"log\"}, \"xaxis6\": {\"anchor\": \"y6\", \"domain\": [0.640625, 0.74375], \"matches\": \"x62\", \"range\": [615, 615], \"showticklabels\": false}, \"xaxis60\": {\"anchor\": \"y60\", \"domain\": [0.38437499999999997, 0.48749999999999993], \"range\": [6, 6], \"title\": {\"text\": \"max_depth\"}}, \"xaxis61\": {\"anchor\": \"y61\", \"domain\": [0.5125, 0.615625], \"range\": [5, 5], \"title\": {\"text\": \"min_child_weight\"}}, \"xaxis62\": {\"anchor\": \"y62\", \"domain\": [0.640625, 0.74375], \"range\": [615, 615], \"title\": {\"text\": \"n_estimators\"}}, \"xaxis63\": {\"anchor\": \"y63\", \"domain\": [0.76875, 0.8718750000000001], \"range\": [0, 0], \"title\": {\"text\": \"reg_alpha\"}}, \"xaxis64\": {\"anchor\": \"y64\", \"domain\": [0.8968750000000001, 1.0], \"range\": [2, 2], \"title\": {\"text\": \"reg_lambda\"}}, \"xaxis7\": {\"anchor\": \"y7\", \"domain\": [0.76875, 0.8718750000000001], \"matches\": \"x63\", \"range\": [0, 0], \"showticklabels\": false}, \"xaxis8\": {\"anchor\": \"y8\", \"domain\": [0.8968750000000001, 1.0], \"matches\": \"x64\", \"range\": [2, 2], \"showticklabels\": false}, \"xaxis9\": {\"anchor\": \"y9\", \"domain\": [0.0, 0.103125], \"matches\": \"x57\", \"range\": [0.9, 0.9], \"showticklabels\": false}, \"yaxis\": {\"anchor\": \"x\", \"domain\": [0.9078124999999999, 0.9999999999999999], \"range\": [0.9, 0.9], \"title\": {\"text\": \"colsample_bytree\"}}, \"yaxis10\": {\"anchor\": \"x10\", \"domain\": [0.778125, 0.8703124999999999], \"matches\": \"y9\", \"range\": [1, 1], \"showticklabels\": false}, \"yaxis11\": {\"anchor\": \"x11\", \"domain\": [0.778125, 0.8703124999999999], \"matches\": \"y9\", \"range\": [1, 1], \"showticklabels\": false}, \"yaxis12\": {\"anchor\": \"x12\", \"domain\": [0.778125, 0.8703124999999999], \"matches\": \"y9\", \"range\": [1, 1], \"showticklabels\": false}, \"yaxis13\": {\"anchor\": \"x13\", \"domain\": [0.778125, 0.8703124999999999], \"matches\": \"y9\", \"range\": [1, 1], \"showticklabels\": false}, \"yaxis14\": {\"anchor\": \"x14\", \"domain\": [0.778125, 0.8703124999999999], \"matches\": \"y9\", \"range\": [1, 1], \"showticklabels\": false}, \"yaxis15\": {\"anchor\": \"x15\", \"domain\": [0.778125, 0.8703124999999999], \"matches\": \"y9\", \"range\": [1, 1], \"showticklabels\": false}, \"yaxis16\": {\"anchor\": \"x16\", \"domain\": [0.778125, 0.8703124999999999], \"matches\": \"y9\", \"range\": [1, 1], \"showticklabels\": false}, \"yaxis17\": {\"anchor\": \"x17\", \"domain\": [0.6484375, 0.740625], \"range\": [-1.1184590165784014, -1.1184590165784014], \"title\": {\"text\": \"learning_rate\"}, \"type\": \"log\"}, \"yaxis18\": {\"anchor\": \"x18\", \"domain\": [0.6484375, 0.740625], \"matches\": \"y17\", \"range\": [-1.1184590165784014, -1.1184590165784014], \"showticklabels\": false, \"type\": \"log\"}, \"yaxis19\": {\"anchor\": \"x19\", \"domain\": [0.6484375, 0.740625], \"matches\": \"y17\", \"range\": [-1.1184590165784014, -1.1184590165784014], \"showticklabels\": false, \"type\": \"log\"}, \"yaxis2\": {\"anchor\": \"x2\", \"domain\": [0.9078124999999999, 0.9999999999999999], \"matches\": \"y\", \"range\": [0.9, 0.9], \"showticklabels\": false}, \"yaxis20\": {\"anchor\": \"x20\", \"domain\": [0.6484375, 0.740625], \"matches\": \"y17\", \"range\": [-1.1184590165784014, -1.1184590165784014], \"showticklabels\": false, \"type\": \"log\"}, \"yaxis21\": {\"anchor\": \"x21\", \"domain\": [0.6484375, 0.740625], \"matches\": \"y17\", \"range\": [-1.1184590165784014, -1.1184590165784014], \"showticklabels\": false, \"type\": \"log\"}, \"yaxis22\": {\"anchor\": \"x22\", \"domain\": [0.6484375, 0.740625], \"matches\": \"y17\", \"range\": [-1.1184590165784014, -1.1184590165784014], \"showticklabels\": false, \"type\": \"log\"}, \"yaxis23\": {\"anchor\": \"x23\", \"domain\": [0.6484375, 0.740625], \"matches\": \"y17\", \"range\": [-1.1184590165784014, -1.1184590165784014], \"showticklabels\": false, \"type\": \"log\"}, \"yaxis24\": {\"anchor\": \"x24\", \"domain\": [0.6484375, 0.740625], \"matches\": \"y17\", \"range\": [-1.1184590165784014, -1.1184590165784014], \"showticklabels\": false, \"type\": \"log\"}, \"yaxis25\": {\"anchor\": \"x25\", \"domain\": [0.51875, 0.6109375], \"range\": [6, 6], \"title\": {\"text\": \"max_depth\"}}, \"yaxis26\": {\"anchor\": \"x26\", \"domain\": [0.51875, 0.6109375], \"matches\": \"y25\", \"range\": [6, 6], \"showticklabels\": false}, \"yaxis27\": {\"anchor\": \"x27\", \"domain\": [0.51875, 0.6109375], \"matches\": \"y25\", \"range\": [6, 6], \"showticklabels\": false}, \"yaxis28\": {\"anchor\": \"x28\", \"domain\": [0.51875, 0.6109375], \"matches\": \"y25\", \"range\": [6, 6], \"showticklabels\": false}, \"yaxis29\": {\"anchor\": \"x29\", \"domain\": [0.51875, 0.6109375], \"matches\": \"y25\", \"range\": [6, 6], \"showticklabels\": false}, \"yaxis3\": {\"anchor\": \"x3\", \"domain\": [0.9078124999999999, 0.9999999999999999], \"matches\": \"y\", \"range\": [0.9, 0.9], \"showticklabels\": false}, \"yaxis30\": {\"anchor\": \"x30\", \"domain\": [0.51875, 0.6109375], \"matches\": \"y25\", \"range\": [6, 6], \"showticklabels\": false}, \"yaxis31\": {\"anchor\": \"x31\", \"domain\": [0.51875, 0.6109375], \"matches\": \"y25\", \"range\": [6, 6], \"showticklabels\": false}, \"yaxis32\": {\"anchor\": \"x32\", \"domain\": [0.51875, 0.6109375], \"matches\": \"y25\", \"range\": [6, 6], \"showticklabels\": false}, \"yaxis33\": {\"anchor\": \"x33\", \"domain\": [0.38906250000000003, 0.48125000000000007], \"range\": [5, 5], \"title\": {\"text\": \"min_child_weight\"}}, \"yaxis34\": {\"anchor\": \"x34\", \"domain\": [0.38906250000000003, 0.48125000000000007], \"matches\": \"y33\", \"range\": [5, 5], \"showticklabels\": false}, \"yaxis35\": {\"anchor\": \"x35\", \"domain\": [0.38906250000000003, 0.48125000000000007], \"matches\": \"y33\", \"range\": [5, 5], \"showticklabels\": false}, \"yaxis36\": {\"anchor\": \"x36\", \"domain\": [0.38906250000000003, 0.48125000000000007], \"matches\": \"y33\", \"range\": [5, 5], \"showticklabels\": false}, \"yaxis37\": {\"anchor\": \"x37\", \"domain\": [0.38906250000000003, 0.48125000000000007], \"matches\": \"y33\", \"range\": [5, 5], \"showticklabels\": false}, \"yaxis38\": {\"anchor\": \"x38\", \"domain\": [0.38906250000000003, 0.48125000000000007], \"matches\": \"y33\", \"range\": [5, 5], \"showticklabels\": false}, \"yaxis39\": {\"anchor\": \"x39\", \"domain\": [0.38906250000000003, 0.48125000000000007], \"matches\": \"y33\", \"range\": [5, 5], \"showticklabels\": false}, \"yaxis4\": {\"anchor\": \"x4\", \"domain\": [0.9078124999999999, 0.9999999999999999], \"matches\": \"y\", \"range\": [0.9, 0.9], \"showticklabels\": false}, \"yaxis40\": {\"anchor\": \"x40\", \"domain\": [0.38906250000000003, 0.48125000000000007], \"matches\": \"y33\", \"range\": [5, 5], \"showticklabels\": false}, \"yaxis41\": {\"anchor\": \"x41\", \"domain\": [0.259375, 0.3515625], \"range\": [615, 615], \"title\": {\"text\": \"n_estimators\"}}, \"yaxis42\": {\"anchor\": \"x42\", \"domain\": [0.259375, 0.3515625], \"matches\": \"y41\", \"range\": [615, 615], \"showticklabels\": false}, \"yaxis43\": {\"anchor\": \"x43\", \"domain\": [0.259375, 0.3515625], \"matches\": \"y41\", \"range\": [615, 615], \"showticklabels\": false}, \"yaxis44\": {\"anchor\": \"x44\", \"domain\": [0.259375, 0.3515625], \"matches\": \"y41\", \"range\": [615, 615], \"showticklabels\": false}, \"yaxis45\": {\"anchor\": \"x45\", \"domain\": [0.259375, 0.3515625], \"matches\": \"y41\", \"range\": [615, 615], \"showticklabels\": false}, \"yaxis46\": {\"anchor\": \"x46\", \"domain\": [0.259375, 0.3515625], \"matches\": \"y41\", \"range\": [615, 615], \"showticklabels\": false}, \"yaxis47\": {\"anchor\": \"x47\", \"domain\": [0.259375, 0.3515625], \"matches\": \"y41\", \"range\": [615, 615], \"showticklabels\": false}, \"yaxis48\": {\"anchor\": \"x48\", \"domain\": [0.259375, 0.3515625], \"matches\": \"y41\", \"range\": [615, 615], \"showticklabels\": false}, \"yaxis49\": {\"anchor\": \"x49\", \"domain\": [0.1296875, 0.22187500000000002], \"range\": [0, 0], \"title\": {\"text\": \"reg_alpha\"}}, \"yaxis5\": {\"anchor\": \"x5\", \"domain\": [0.9078124999999999, 0.9999999999999999], \"matches\": \"y\", \"range\": [0.9, 0.9], \"showticklabels\": false}, \"yaxis50\": {\"anchor\": \"x50\", \"domain\": [0.1296875, 0.22187500000000002], \"matches\": \"y49\", \"range\": [0, 0], \"showticklabels\": false}, \"yaxis51\": {\"anchor\": \"x51\", \"domain\": [0.1296875, 0.22187500000000002], \"matches\": \"y49\", \"range\": [0, 0], \"showticklabels\": false}, \"yaxis52\": {\"anchor\": \"x52\", \"domain\": [0.1296875, 0.22187500000000002], \"matches\": \"y49\", \"range\": [0, 0], \"showticklabels\": false}, \"yaxis53\": {\"anchor\": \"x53\", \"domain\": [0.1296875, 0.22187500000000002], \"matches\": \"y49\", \"range\": [0, 0], \"showticklabels\": false}, \"yaxis54\": {\"anchor\": \"x54\", \"domain\": [0.1296875, 0.22187500000000002], \"matches\": \"y49\", \"range\": [0, 0], \"showticklabels\": false}, \"yaxis55\": {\"anchor\": \"x55\", \"domain\": [0.1296875, 0.22187500000000002], \"matches\": \"y49\", \"range\": [0, 0], \"showticklabels\": false}, \"yaxis56\": {\"anchor\": \"x56\", \"domain\": [0.1296875, 0.22187500000000002], \"matches\": \"y49\", \"range\": [0, 0], \"showticklabels\": false}, \"yaxis57\": {\"anchor\": \"x57\", \"domain\": [0.0, 0.0921875], \"range\": [2, 2], \"title\": {\"text\": \"reg_lambda\"}}, \"yaxis58\": {\"anchor\": \"x58\", \"domain\": [0.0, 0.0921875], \"matches\": \"y57\", \"range\": [2, 2], \"showticklabels\": false}, \"yaxis59\": {\"anchor\": \"x59\", \"domain\": [0.0, 0.0921875], \"matches\": \"y57\", \"range\": [2, 2], \"showticklabels\": false}, \"yaxis6\": {\"anchor\": \"x6\", \"domain\": [0.9078124999999999, 0.9999999999999999], \"matches\": \"y\", \"range\": [0.9, 0.9], \"showticklabels\": false}, \"yaxis60\": {\"anchor\": \"x60\", \"domain\": [0.0, 0.0921875], \"matches\": \"y57\", \"range\": [2, 2], \"showticklabels\": false}, \"yaxis61\": {\"anchor\": \"x61\", \"domain\": [0.0, 0.0921875], \"matches\": \"y57\", \"range\": [2, 2], \"showticklabels\": false}, \"yaxis62\": {\"anchor\": \"x62\", \"domain\": [0.0, 0.0921875], \"matches\": \"y57\", \"range\": [2, 2], \"showticklabels\": false}, \"yaxis63\": {\"anchor\": \"x63\", \"domain\": [0.0, 0.0921875], \"matches\": \"y57\", \"range\": [2, 2], \"showticklabels\": false}, \"yaxis64\": {\"anchor\": \"x64\", \"domain\": [0.0, 0.0921875], \"matches\": \"y57\", \"range\": [2, 2], \"showticklabels\": false}, \"yaxis7\": {\"anchor\": \"x7\", \"domain\": [0.9078124999999999, 0.9999999999999999], \"matches\": \"y\", \"range\": [0.9, 0.9], \"showticklabels\": false}, \"yaxis8\": {\"anchor\": \"x8\", \"domain\": [0.9078124999999999, 0.9999999999999999], \"matches\": \"y\", \"range\": [0.9, 0.9], \"showticklabels\": false}, \"yaxis9\": {\"anchor\": \"x9\", \"domain\": [0.778125, 0.8703124999999999], \"range\": [1, 1], \"title\": {\"text\": \"gamma\"}}},                        {\"responsive\": true}                    ).then(function(){\n",
       "                            \n",
       "var gd = document.getElementById('a9009a99-dcac-48df-8b68-f8b6af6ad986');\n",
       "var x = new MutationObserver(function (mutations, observer) {{\n",
       "        var display = window.getComputedStyle(gd).display;\n",
       "        if (!display || display === 'none') {{\n",
       "            console.log([gd, 'removed!']);\n",
       "            Plotly.purge(gd);\n",
       "            observer.disconnect();\n",
       "        }}\n",
       "}});\n",
       "\n",
       "// Listen for the removal of the full notebook cells\n",
       "var notebookContainer = gd.closest('#notebook-container');\n",
       "if (notebookContainer) {{\n",
       "    x.observe(notebookContainer, {childList: true});\n",
       "}}\n",
       "\n",
       "// Listen for the clearing of the current output cell\n",
       "var outputEl = gd.closest('.output');\n",
       "if (outputEl) {{\n",
       "    x.observe(outputEl, {childList: true});\n",
       "}}\n",
       "\n",
       "                        })                };                });            </script>        </div>"
      ]
     },
     "metadata": {},
     "output_type": "display_data"
    }
   ],
   "source": [
    "df,study = tunning.optuna_opt(df,'Class','xgb',cv=3,n_trials=1)"
   ]
  },
  {
   "cell_type": "code",
   "execution_count": null,
   "metadata": {},
   "outputs": [],
   "source": []
  },
  {
   "cell_type": "code",
   "execution_count": null,
   "metadata": {},
   "outputs": [],
   "source": []
  }
 ],
 "metadata": {
  "kernelspec": {
   "display_name": "Python 3",
   "language": "python",
   "name": "python3"
  },
  "language_info": {
   "codemirror_mode": {
    "name": "ipython",
    "version": 3
   },
   "file_extension": ".py",
   "mimetype": "text/x-python",
   "name": "python",
   "nbconvert_exporter": "python",
   "pygments_lexer": "ipython3",
   "version": "3.7.7"
  },
  "varInspector": {
   "cols": {
    "lenName": 16,
    "lenType": 16,
    "lenVar": 40
   },
   "kernels_config": {
    "python": {
     "delete_cmd_postfix": "",
     "delete_cmd_prefix": "del ",
     "library": "var_list.py",
     "varRefreshCmd": "print(var_dic_list())"
    },
    "r": {
     "delete_cmd_postfix": ") ",
     "delete_cmd_prefix": "rm(",
     "library": "var_list.r",
     "varRefreshCmd": "cat(var_dic_list()) "
    }
   },
   "types_to_exclude": [
    "module",
    "function",
    "builtin_function_or_method",
    "instance",
    "_Feature"
   ],
   "window_display": false
  }
 },
 "nbformat": 4,
 "nbformat_minor": 4
}
