{
 "cells": [
  {
   "cell_type": "code",
   "execution_count": 1,
   "metadata": {},
   "outputs": [],
   "source": [
    "import pandas as pd\n",
    "import pickle\n",
    "from tensorflow.keras.models import load_model\n",
    "# NLP library\n",
    "import nltk\n",
    "import re\n",
    "from Sastrawi.StopWordRemover.StopWordRemoverFactory import StopWordRemoverFactory\n",
    "from Sastrawi.Stemmer.StemmerFactory import StemmerFactory\n",
    "from tensorflow.keras.preprocessing.text import Tokenizer\n",
    "from tensorflow.keras.preprocessing.sequence import pad_sequences"
   ]
  },
  {
   "cell_type": "code",
   "execution_count": 9,
   "metadata": {},
   "outputs": [],
   "source": [
    "def preprocess_text(sentence):\n",
    "    id_stop = set(nltk.corpus.stopwords.words('indonesian'))\n",
    "    factory_Stemmer = StemmerFactory()\n",
    "    stemmer = factory_Stemmer.create_stemmer()\n",
    "    sentence = re.sub(r'\\W', ' ', str(sentence))\n",
    "    sentence = re.sub('[^a-zA-Z]', ' ', sentence)\n",
    "    sentence = re.sub(r\"\\s+[a-zA-Z]\\s+\", ' ', sentence)\n",
    "    sentence = re.sub(r'\\^[a-zA-Z]\\s+', ' ', sentence)\n",
    "    sentence = sentence.replace(\"\\n\",\" \")\n",
    "    sentence = re.sub(r'\\s+', ' ', sentence)\n",
    "    sentence = re.sub(r\"\\s+$\", \"\", sentence)\n",
    "    sentence = re.sub(r\"^\\s+\", \"\", sentence)\n",
    "    sentence = sentence.lower()\n",
    "    sentence = sentence.split()\n",
    "    sentence = [word for word in sentence if word not in id_stop]\n",
    "    sentence = [word for word in sentence if len(word) > 3]\n",
    "    sentence = ' '.join(sentence)\n",
    "    sentence = stemmer.stem(sentence)\n",
    "    return sentence\n",
    "\n",
    "def tokenize_embedding(corpus,padding_type,max_length):\n",
    "    #corpus, 5000, 'post', 120\n",
    "    # create the tokenizer\n",
    "    # load label train dataset file here\n",
    "    with open('model/tokenizer_embed', 'rb') as picklefile:\n",
    "        tokenizer = pickle.load(picklefile)\n",
    "    # encode training data set\n",
    "    sen = tokenizer.texts_to_sequences(corpus)\n",
    "    sen = pad_sequences(sen, padding=padding_type, maxlen=max_length)\n",
    "    return(sen)\n",
    "        \n",
    "def tokenize_matrix(corpus,mode):\n",
    "    #corpus, 5000, 'post', 120\n",
    "    # create the tokenizer\n",
    "    # load label train dataset file here\n",
    "    with open('model/tokenizer_ann', 'rb') as picklefile:\n",
    "        tokenizer = pickle.load(picklefile)\n",
    "    # encode training data set\n",
    "    sen = tokenizer.texts_to_matrix(corpus, mode=mode)\n",
    "    return(sen)\n"
   ]
  },
  {
   "cell_type": "code",
   "execution_count": 3,
   "metadata": {},
   "outputs": [],
   "source": [
    "# classify a review as negative (0) or positive (1)\n",
    "def predict_sentiment(review, model):\n",
    "    # apply preprocess_text function to out training dataset\n",
    "    reviews = []\n",
    "    print(review)\n",
    "    reviews.append(nlp.preprocess_text(review))\n",
    "    # encode\n",
    "    encoded = nlp.tokenize_embedding(reviews,'post', 120)\n",
    "    # prediction\n",
    "    yhat = model.predict(encoded, verbose=0)\n",
    "    if (yhat[0,0]>=0.5):\n",
    "        res = \"positive review\"\n",
    "    else:\n",
    "        res = \"negative review\"\n",
    "    return (res,yhat[0,0])"
   ]
  },
  {
   "cell_type": "code",
   "execution_count": 4,
   "metadata": {},
   "outputs": [],
   "source": [
    "# load model\n",
    "cnn_lstm_model = load_model('model/model_CNN_LSTM.h5')"
   ]
  },
  {
   "cell_type": "code",
   "execution_count": 10,
   "metadata": {},
   "outputs": [
    {
     "name": "stdout",
     "output_type": "stream",
     "text": [
      "('positive review', 0.94835097)\n"
     ]
    }
   ],
   "source": [
    "# test positive text\n",
    "text = 'Saya telah mencoba pasta dan pizza yang mereka hidangkan, rasanya…. Enak!'\n",
    "print(predict_sentiment(text, cnn_lstm_model,\"embedding\"))"
   ]
  },
  {
   "cell_type": "code",
   "execution_count": null,
   "metadata": {},
   "outputs": [],
   "source": []
  }
 ],
 "metadata": {
  "kernelspec": {
   "display_name": "Python 3",
   "language": "python",
   "name": "python3"
  },
  "language_info": {
   "codemirror_mode": {
    "name": "ipython",
    "version": 3
   },
   "file_extension": ".py",
   "mimetype": "text/x-python",
   "name": "python",
   "nbconvert_exporter": "python",
   "pygments_lexer": "ipython3",
   "version": "3.7.7"
  }
 },
 "nbformat": 4,
 "nbformat_minor": 4
}
